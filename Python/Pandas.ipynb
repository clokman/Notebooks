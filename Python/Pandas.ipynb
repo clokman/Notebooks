{
 "cells": [
  {
   "cell_type": "markdown",
   "metadata": {
    "colab_type": "text",
    "id": "NE4M9DrW4-zc"
   },
   "source": [
    "# PANDAS"
   ]
  },
  {
   "cell_type": "markdown",
   "metadata": {
    "colab_type": "text",
    "id": "gcsy21fm4-zg"
   },
   "source": [
    "Resources:"
   ]
  },
  {
   "cell_type": "markdown",
   "metadata": {
    "colab_type": "text",
    "id": "Ek0S2ELI4-zi"
   },
   "source": [
    "- [Essential Pandas functionality](https://pandas.pydata.org/pandas-docs/stable/basics.html#basics-apply)\n",
    "- [Pandas cookbook](http://pandas.pydata.org/pandas-docs/version/0.15.2/cookbook.html#cookbook)"
   ]
  },
  {
   "cell_type": "markdown",
   "metadata": {
    "colab_type": "text",
    "id": "aLAYGLDN4-zm"
   },
   "source": [
    "Prep:"
   ]
  },
  {
   "cell_type": "code",
   "execution_count": 0,
   "metadata": {
    "colab": {
     "autoexec": {
      "startup": false,
      "wait_interval": 0
     }
    },
    "colab_type": "code",
    "id": "lot7FDcx4-zq"
   },
   "outputs": [],
   "source": [
    "import os\n",
    "os.getcwd()"
   ]
  },
  {
   "cell_type": "code",
   "execution_count": 0,
   "metadata": {
    "colab": {
     "autoexec": {
      "startup": false,
      "wait_interval": 0
     }
    },
    "colab_type": "code",
    "id": "3dMYlaDZ4-zw",
    "outputId": "af9f4086-3506-42c8-f61e-fb198c7c8bd2"
   },
   "outputs": [
    {
     "data": {
      "text/plain": [
       "['',\n",
       " 'C:\\\\ProgramData\\\\Anaconda3\\\\python36.zip',\n",
       " 'C:\\\\ProgramData\\\\Anaconda3\\\\DLLs',\n",
       " 'C:\\\\ProgramData\\\\Anaconda3\\\\lib',\n",
       " 'C:\\\\ProgramData\\\\Anaconda3',\n",
       " 'C:\\\\ProgramData\\\\Anaconda3\\\\lib\\\\site-packages',\n",
       " 'C:\\\\ProgramData\\\\Anaconda3\\\\lib\\\\site-packages\\\\Sphinx-1.5.1-py3.6.egg',\n",
       " 'C:\\\\ProgramData\\\\Anaconda3\\\\lib\\\\site-packages\\\\win32',\n",
       " 'C:\\\\ProgramData\\\\Anaconda3\\\\lib\\\\site-packages\\\\win32\\\\lib',\n",
       " 'C:\\\\ProgramData\\\\Anaconda3\\\\lib\\\\site-packages\\\\Pythonwin',\n",
       " 'C:\\\\ProgramData\\\\Anaconda3\\\\lib\\\\site-packages\\\\setuptools-27.2.0-py3.6.egg',\n",
       " 'C:\\\\ProgramData\\\\Anaconda3\\\\lib\\\\site-packages\\\\IPython\\\\extensions',\n",
       " 'C:\\\\Users\\\\Clokman\\\\.ipython',\n",
       " 'C:\\\\Users\\\\Clokman\\\\Google Drive\\\\__Projects__\\\\Code\\\\KFIR']"
      ]
     },
     "execution_count": 179,
     "metadata": {
      "tags": []
     },
     "output_type": "execute_result"
    }
   ],
   "source": [
    "import sys, os, re\n",
    "\n",
    "working_directory = os.getcwd()\n",
    "if re.search('\\\\\\\\Notebooks\\\\\\\\Python$', working_directory):\n",
    "    kfir_directory = re.sub('\\\\\\\\Notebooks\\\\\\\\Python$', '\\\\KFIR', working_directory)\n",
    "    sys.path.append(kfir_directory)\n",
    "    \n",
    "sys.path"
   ]
  },
  {
   "cell_type": "markdown",
   "metadata": {
    "colab_type": "text",
    "id": "bnoaDKCt4-z6"
   },
   "source": [
    "# SERIES"
   ]
  },
  {
   "cell_type": "markdown",
   "metadata": {
    "colab_type": "text",
    "id": "mc1OYxoa4-z8"
   },
   "source": [
    "Prep:"
   ]
  },
  {
   "cell_type": "code",
   "execution_count": 0,
   "metadata": {
    "colab": {
     "autoexec": {
      "startup": false,
      "wait_interval": 0
     }
    },
    "colab_type": "code",
    "id": "x8CQvYvo4-z-"
   },
   "outputs": [],
   "source": [
    "import pandas\n",
    "import numpy"
   ]
  },
  {
   "cell_type": "markdown",
   "metadata": {
    "colab_type": "text",
    "id": "0f7YUtTc4-0E"
   },
   "source": [
    "## Creating a Series object"
   ]
  },
  {
   "cell_type": "code",
   "execution_count": 0,
   "metadata": {
    "colab": {
     "autoexec": {
      "startup": false,
      "wait_interval": 0
     }
    },
    "colab_type": "code",
    "id": "aKDu5N9b4-0G",
    "outputId": "b1499a7b-7f24-4b46-f3fb-f0896e298fbc"
   },
   "outputs": [
    {
     "data": {
      "text/plain": [
       "0       1\n",
       "1     two\n",
       "2    True\n",
       "3    None\n",
       "4     NaN\n",
       "dtype: object"
      ]
     },
     "execution_count": 16,
     "metadata": {
      "tags": []
     },
     "output_type": "execute_result"
    }
   ],
   "source": [
    "pandas.Series([1, 'two', 'True', None, numpy.nan])"
   ]
  },
  {
   "cell_type": "markdown",
   "metadata": {
    "colab_type": "text",
    "id": "s_aLpdQl4-0Q"
   },
   "source": [
    "## Accessing Data in Series"
   ]
  },
  {
   "cell_type": "code",
   "execution_count": 0,
   "metadata": {
    "colab": {
     "autoexec": {
      "startup": false,
      "wait_interval": 0
     }
    },
    "colab_type": "code",
    "id": "QgKsYz3o4-0Q"
   },
   "outputs": [],
   "source": [
    "my_series = pandas.Series([1, 'two'])"
   ]
  },
  {
   "cell_type": "code",
   "execution_count": 0,
   "metadata": {
    "colab": {
     "autoexec": {
      "startup": false,
      "wait_interval": 0
     }
    },
    "colab_type": "code",
    "id": "QR3Wm16g4-0W",
    "outputId": "9f0a9926-418c-4f1d-a613-2d70ff6922d4"
   },
   "outputs": [
    {
     "data": {
      "text/plain": [
       "array([1, 'two'], dtype=object)"
      ]
     },
     "execution_count": 33,
     "metadata": {
      "tags": []
     },
     "output_type": "execute_result"
    }
   ],
   "source": [
    "my_series.values"
   ]
  },
  {
   "cell_type": "code",
   "execution_count": 0,
   "metadata": {
    "colab": {
     "autoexec": {
      "startup": false,
      "wait_interval": 0
     }
    },
    "colab_type": "code",
    "id": "gGc7_dVP4-0e",
    "outputId": "974d2b8e-647e-4258-81cd-6dcd94eddca6"
   },
   "outputs": [
    {
     "data": {
      "text/plain": [
       "'two'"
      ]
     },
     "execution_count": 32,
     "metadata": {
      "tags": []
     },
     "output_type": "execute_result"
    }
   ],
   "source": [
    "my_series.values[1]"
   ]
  },
  {
   "cell_type": "code",
   "execution_count": 0,
   "metadata": {
    "colab": {
     "autoexec": {
      "startup": false,
      "wait_interval": 0
     }
    },
    "colab_type": "code",
    "id": "_HHd-n074-0o",
    "outputId": "63b0b914-dbc4-4fa7-c562-57ed70073b27"
   },
   "outputs": [
    {
     "data": {
      "text/plain": [
       "'two'"
      ]
     },
     "execution_count": 31,
     "metadata": {
      "tags": []
     },
     "output_type": "execute_result"
    }
   ],
   "source": [
    "my_series[1]"
   ]
  },
  {
   "cell_type": "code",
   "execution_count": 0,
   "metadata": {
    "colab": {
     "autoexec": {
      "startup": false,
      "wait_interval": 0
     }
    },
    "colab_type": "code",
    "id": "Sx8_Tev94-0w",
    "outputId": "b09c81d0-2fbd-4c1b-aec4-c75dfd36366e"
   },
   "outputs": [
    {
     "data": {
      "text/plain": [
       "'two'"
      ]
     },
     "execution_count": 30,
     "metadata": {
      "tags": []
     },
     "output_type": "execute_result"
    }
   ],
   "source": [
    "my_series.loc[1]"
   ]
  },
  {
   "cell_type": "markdown",
   "metadata": {
    "colab_type": "text",
    "id": "CPmrZijo4-04"
   },
   "source": [
    "## Series Methods"
   ]
  },
  {
   "cell_type": "markdown",
   "metadata": {
    "colab_type": "text",
    "id": "rsxNm-IE4-06"
   },
   "source": [
    "### Append"
   ]
  },
  {
   "cell_type": "markdown",
   "metadata": {
    "colab_type": "text",
    "id": "hsiNKpCY4-08"
   },
   "source": [
    "Append to empty series:"
   ]
  },
  {
   "cell_type": "code",
   "execution_count": 0,
   "metadata": {
    "colab": {
     "autoexec": {
      "startup": false,
      "wait_interval": 0
     }
    },
    "colab_type": "code",
    "id": "v-GT2rSK4-0-",
    "outputId": "0a141466-fc50-4ba1-e135-ed885a1362e0"
   },
   "outputs": [
    {
     "data": {
      "text/plain": [
       "0    e, f\n",
       "dtype: object"
      ]
     },
     "execution_count": 37,
     "metadata": {
      "tags": []
     },
     "output_type": "execute_result"
    }
   ],
   "source": [
    "letters = pandas.Series()\n",
    "additional_etters = pandas.Series(['e, f'])\n",
    "\n",
    "letters.append(additional_etters)"
   ]
  },
  {
   "cell_type": "markdown",
   "metadata": {
    "colab_type": "text",
    "id": "xWFNl5ai4-1E"
   },
   "source": [
    "Append to already populated series:"
   ]
  },
  {
   "cell_type": "code",
   "execution_count": 0,
   "metadata": {
    "colab": {
     "autoexec": {
      "startup": false,
      "wait_interval": 0
     }
    },
    "colab_type": "code",
    "id": "1OTYWuqm4-1G",
    "outputId": "85ad2297-5cc9-4444-b61f-ff3e94fb55ca"
   },
   "outputs": [
    {
     "data": {
      "text/plain": [
       "0    a, b\n",
       "1    c, d\n",
       "0    e, f\n",
       "dtype: object"
      ]
     },
     "execution_count": 11,
     "metadata": {
      "tags": []
     },
     "output_type": "execute_result"
    }
   ],
   "source": [
    "letters = pandas.Series(['a, b', 'c, d'])\n",
    "additional_etters = pandas.Series(['e, f'])\n",
    "\n",
    "letters.append(additional_etters)"
   ]
  },
  {
   "cell_type": "markdown",
   "metadata": {
    "colab_type": "text",
    "id": "CnDiFgBm4-1c"
   },
   "source": [
    "### Tokenize / Split"
   ]
  },
  {
   "cell_type": "markdown",
   "metadata": {
    "colab_type": "text",
    "id": "ppxKlNKP4-1e"
   },
   "source": [
    "Split each element in the Series:"
   ]
  },
  {
   "cell_type": "code",
   "execution_count": 0,
   "metadata": {
    "colab": {
     "autoexec": {
      "startup": false,
      "wait_interval": 0
     }
    },
    "colab_type": "code",
    "id": "1RdeCSFJ4-1g",
    "outputId": "36f5b915-de07-4aaa-cb9b-1f398034a5c3"
   },
   "outputs": [
    {
     "data": {
      "text/plain": [
       "0    [a,  b]\n",
       "1    [c,  d]\n",
       "2    [e,  f]\n",
       "dtype: object"
      ]
     },
     "execution_count": 12,
     "metadata": {
      "tags": []
     },
     "output_type": "execute_result"
    }
   ],
   "source": [
    "letters = pandas.Series(['a, b', 'c, d', 'e, f'])\n",
    "splitted_letters = letters.str.split(',')\n",
    "splitted_letters"
   ]
  },
  {
   "cell_type": "markdown",
   "metadata": {
    "colab_type": "text",
    "id": "WE29MvEM4-1u"
   },
   "source": [
    "Tokenize series:"
   ]
  },
  {
   "cell_type": "code",
   "execution_count": 0,
   "metadata": {
    "colab": {
     "autoexec": {
      "startup": false,
      "wait_interval": 0
     }
    },
    "colab_type": "code",
    "id": "GeYaliDv4-1w",
    "outputId": "5b3b78ee-660a-4fc8-9cb7-6d4a87066f44"
   },
   "outputs": [
    {
     "data": {
      "text/plain": [
       "0     a\n",
       "1     b\n",
       "2     c\n",
       "3     d\n",
       "4     e\n",
       "5     f\n",
       "dtype: object"
      ]
     },
     "execution_count": 25,
     "metadata": {
      "tags": []
     },
     "output_type": "execute_result"
    }
   ],
   "source": [
    "splitted_letters_as_list = []\n",
    "for each_letter_group in splitted_letters:\n",
    "    for each_letter in each_letter_group:\n",
    "        splitted_letters_as_list.append(each_letter)\n",
    "tokenized_series = pandas.Series(splitted_letters_as_list)\n",
    "tokenized_series"
   ]
  },
  {
   "cell_type": "markdown",
   "metadata": {
    "colab_type": "text",
    "id": "CMphrSWj4-16"
   },
   "source": [
    "### Simple String Methods\n",
    "***.str.upper() | ...***"
   ]
  },
  {
   "cell_type": "code",
   "execution_count": 0,
   "metadata": {
    "colab": {
     "autoexec": {
      "startup": false,
      "wait_interval": 0
     }
    },
    "colab_type": "code",
    "id": "-IyJ7PAU4-18",
    "outputId": "f46a9e74-1677-4db8-e479-c80ff7e820e4"
   },
   "outputs": [
    {
     "data": {
      "text/plain": [
       "0      ONE\n",
       "1      TWO\n",
       "2    THREE\n",
       "dtype: object"
      ]
     },
     "execution_count": 7,
     "metadata": {
      "tags": []
     },
     "output_type": "execute_result"
    }
   ],
   "source": [
    "my_series = pandas.Series(['one', 'two', 'three'])\n",
    "my_series.str.upper()"
   ]
  },
  {
   "cell_type": "markdown",
   "metadata": {
    "colab_type": "text",
    "id": "EplDr-314-2Y"
   },
   "source": [
    "# DATA FRAMES"
   ]
  },
  {
   "cell_type": "markdown",
   "metadata": {
    "colab_type": "text",
    "id": "EXgjNMBr4-2c"
   },
   "source": [
    "Prep:"
   ]
  },
  {
   "cell_type": "code",
   "execution_count": 1,
   "metadata": {
    "colab": {
     "autoexec": {
      "startup": false,
      "wait_interval": 0
     }
    },
    "colab_type": "code",
    "id": "aU2Q7rKr4-2e"
   },
   "outputs": [],
   "source": [
    "import pandas\n",
    "import numpy"
   ]
  },
  {
   "cell_type": "markdown",
   "metadata": {
    "colab_type": "text",
    "id": "DxSglXR14-2o"
   },
   "source": [
    "## Creating a DataFrame"
   ]
  },
  {
   "cell_type": "markdown",
   "metadata": {
    "colab_type": "text",
    "id": "dx5Acclr4-2s"
   },
   "source": [
    "Create empty dataframe:"
   ]
  },
  {
   "cell_type": "code",
   "execution_count": 2,
   "metadata": {
    "colab": {
     "autoexec": {
      "startup": false,
      "wait_interval": 0
     }
    },
    "colab_type": "code",
    "id": "R5u24MwP4-2u",
    "outputId": "96211dc1-105a-4246-de77-b2448271b2b9"
   },
   "outputs": [
    {
     "data": {
      "text/html": [
       "<div>\n",
       "<style scoped>\n",
       "    .dataframe tbody tr th:only-of-type {\n",
       "        vertical-align: middle;\n",
       "    }\n",
       "\n",
       "    .dataframe tbody tr th {\n",
       "        vertical-align: top;\n",
       "    }\n",
       "\n",
       "    .dataframe thead th {\n",
       "        text-align: right;\n",
       "    }\n",
       "</style>\n",
       "<table border=\"1\" class=\"dataframe\">\n",
       "  <thead>\n",
       "    <tr style=\"text-align: right;\">\n",
       "      <th></th>\n",
       "      <th>Column A</th>\n",
       "      <th>Column B</th>\n",
       "      <th>Column C</th>\n",
       "    </tr>\n",
       "  </thead>\n",
       "  <tbody>\n",
       "    <tr>\n",
       "      <th>Row 1</th>\n",
       "      <td>NaN</td>\n",
       "      <td>NaN</td>\n",
       "      <td>NaN</td>\n",
       "    </tr>\n",
       "    <tr>\n",
       "      <th>Row 2</th>\n",
       "      <td>NaN</td>\n",
       "      <td>NaN</td>\n",
       "      <td>NaN</td>\n",
       "    </tr>\n",
       "  </tbody>\n",
       "</table>\n",
       "</div>"
      ],
      "text/plain": [
       "      Column A Column B Column C\n",
       "Row 1      NaN      NaN      NaN\n",
       "Row 2      NaN      NaN      NaN"
      ]
     },
     "execution_count": 2,
     "metadata": {},
     "output_type": "execute_result"
    }
   ],
   "source": [
    "df1 = pandas.DataFrame(columns=['Column A', 'Column B', 'Column C'], index=['Row 1', 'Row 2'])\n",
    "df1"
   ]
  },
  {
   "cell_type": "markdown",
   "metadata": {
    "colab_type": "text",
    "id": "jstehjza4-2w"
   },
   "source": [
    "Create dataframe COLUMN by COLUMN with values:"
   ]
  },
  {
   "cell_type": "code",
   "execution_count": 3,
   "metadata": {
    "colab": {
     "autoexec": {
      "startup": false,
      "wait_interval": 0
     }
    },
    "colab_type": "code",
    "id": "KRC8PoBr4-2y",
    "outputId": "d49890b3-97b5-4915-cbac-76116bf58ec4"
   },
   "outputs": [
    {
     "data": {
      "text/html": [
       "<div>\n",
       "<style scoped>\n",
       "    .dataframe tbody tr th:only-of-type {\n",
       "        vertical-align: middle;\n",
       "    }\n",
       "\n",
       "    .dataframe tbody tr th {\n",
       "        vertical-align: top;\n",
       "    }\n",
       "\n",
       "    .dataframe thead th {\n",
       "        text-align: right;\n",
       "    }\n",
       "</style>\n",
       "<table border=\"1\" class=\"dataframe\">\n",
       "  <thead>\n",
       "    <tr style=\"text-align: right;\">\n",
       "      <th></th>\n",
       "      <th>Column A</th>\n",
       "      <th>Column B</th>\n",
       "      <th>Column C</th>\n",
       "      <th>Column D</th>\n",
       "    </tr>\n",
       "  </thead>\n",
       "  <tbody>\n",
       "    <tr>\n",
       "      <th>0</th>\n",
       "      <td>1</td>\n",
       "      <td>10</td>\n",
       "      <td>100</td>\n",
       "      <td>1000</td>\n",
       "    </tr>\n",
       "    <tr>\n",
       "      <th>1</th>\n",
       "      <td>2</td>\n",
       "      <td>20</td>\n",
       "      <td>200</td>\n",
       "      <td>2000</td>\n",
       "    </tr>\n",
       "    <tr>\n",
       "      <th>2</th>\n",
       "      <td>3</td>\n",
       "      <td>30</td>\n",
       "      <td>300</td>\n",
       "      <td>3000</td>\n",
       "    </tr>\n",
       "  </tbody>\n",
       "</table>\n",
       "</div>"
      ],
      "text/plain": [
       "   Column A  Column B  Column C  Column D\n",
       "0         1        10       100      1000\n",
       "1         2        20       200      2000\n",
       "2         3        30       300      3000"
      ]
     },
     "execution_count": 3,
     "metadata": {},
     "output_type": "execute_result"
    }
   ],
   "source": [
    "df3 = pandas.DataFrame(\n",
    "    { # dictionary\n",
    "        'Column A': (1, 2, 3),  # tuple\n",
    "        'Column B': [10, 20, 30],  # list\n",
    "        'Column C': pandas.Series([100, 200, 300]),  # pandas.Series\n",
    "        'Column D': numpy.array([1000, 2000, 3000])  # one-dimensional numpy array\n",
    "    }\n",
    ")\n",
    "df3"
   ]
  },
  {
   "cell_type": "markdown",
   "metadata": {
    "colab_type": "text",
    "id": "1HNVtytT4-26"
   },
   "source": [
    "Create dataframe COLUMN BY COLUMN with values (and row names):"
   ]
  },
  {
   "cell_type": "code",
   "execution_count": 4,
   "metadata": {
    "colab": {
     "autoexec": {
      "startup": false,
      "wait_interval": 0
     }
    },
    "colab_type": "code",
    "id": "bkxsM7lt4-28",
    "outputId": "0e4e432e-dbe9-43b4-ffc1-e439fdc174e3"
   },
   "outputs": [
    {
     "data": {
      "text/html": [
       "<div>\n",
       "<style scoped>\n",
       "    .dataframe tbody tr th:only-of-type {\n",
       "        vertical-align: middle;\n",
       "    }\n",
       "\n",
       "    .dataframe tbody tr th {\n",
       "        vertical-align: top;\n",
       "    }\n",
       "\n",
       "    .dataframe thead th {\n",
       "        text-align: right;\n",
       "    }\n",
       "</style>\n",
       "<table border=\"1\" class=\"dataframe\">\n",
       "  <thead>\n",
       "    <tr style=\"text-align: right;\">\n",
       "      <th></th>\n",
       "      <th>Column A</th>\n",
       "      <th>Column B</th>\n",
       "    </tr>\n",
       "  </thead>\n",
       "  <tbody>\n",
       "    <tr>\n",
       "      <th>Row one</th>\n",
       "      <td>1</td>\n",
       "      <td>10</td>\n",
       "    </tr>\n",
       "    <tr>\n",
       "      <th>Row two</th>\n",
       "      <td>2</td>\n",
       "      <td>20</td>\n",
       "    </tr>\n",
       "    <tr>\n",
       "      <th>Row three</th>\n",
       "      <td>3</td>\n",
       "      <td>30</td>\n",
       "    </tr>\n",
       "  </tbody>\n",
       "</table>\n",
       "</div>"
      ],
      "text/plain": [
       "           Column A  Column B\n",
       "Row one           1        10\n",
       "Row two           2        20\n",
       "Row three         3        30"
      ]
     },
     "execution_count": 4,
     "metadata": {},
     "output_type": "execute_result"
    }
   ],
   "source": [
    "df4 = pandas.DataFrame(\n",
    "    {\n",
    "        'Column A': (1, 2, 3),\n",
    "        'Column B': [10, 20, 30]\n",
    "    }, index=['Row one', 'Row two', 'Row three']  # row names\n",
    ")\n",
    "df4"
   ]
  },
  {
   "cell_type": "markdown",
   "metadata": {
    "colab_type": "text",
    "id": "Vw-KKG_W4-3O"
   },
   "source": [
    "Create dataframe ROW by ROW with specified values:"
   ]
  },
  {
   "cell_type": "code",
   "execution_count": 5,
   "metadata": {
    "colab": {
     "autoexec": {
      "startup": false,
      "wait_interval": 0
     }
    },
    "colab_type": "code",
    "id": "g6h9dI3l4-3O"
   },
   "outputs": [],
   "source": [
    "df5 = pandas.DataFrame()"
   ]
  },
  {
   "cell_type": "code",
   "execution_count": 6,
   "metadata": {
    "colab": {
     "autoexec": {
      "startup": false,
      "wait_interval": 0
     }
    },
    "colab_type": "code",
    "id": "LT8EZHsf4-3U",
    "outputId": "22d15a77-f371-4279-9de7-ea65c621b201"
   },
   "outputs": [
    {
     "data": {
      "text/html": [
       "<div>\n",
       "<style scoped>\n",
       "    .dataframe tbody tr th:only-of-type {\n",
       "        vertical-align: middle;\n",
       "    }\n",
       "\n",
       "    .dataframe tbody tr th {\n",
       "        vertical-align: top;\n",
       "    }\n",
       "\n",
       "    .dataframe thead th {\n",
       "        text-align: right;\n",
       "    }\n",
       "</style>\n",
       "<table border=\"1\" class=\"dataframe\">\n",
       "  <thead>\n",
       "    <tr style=\"text-align: right;\">\n",
       "      <th></th>\n",
       "      <th>Column A</th>\n",
       "      <th>Column B</th>\n",
       "      <th>Column C</th>\n",
       "    </tr>\n",
       "  </thead>\n",
       "  <tbody>\n",
       "    <tr>\n",
       "      <th>0</th>\n",
       "      <td>2</td>\n",
       "      <td>3</td>\n",
       "      <td>4</td>\n",
       "    </tr>\n",
       "  </tbody>\n",
       "</table>\n",
       "</div>"
      ],
      "text/plain": [
       "   Column A  Column B  Column C\n",
       "0         2         3         4"
      ]
     },
     "execution_count": 6,
     "metadata": {},
     "output_type": "execute_result"
    }
   ],
   "source": [
    "df5 = pandas.DataFrame(numpy.array([[2, 3, 4]]), columns=['Column A', 'Column B', 'Column C'])\n",
    "df5\n"
   ]
  },
  {
   "cell_type": "markdown",
   "metadata": {
    "colab_type": "text",
    "id": "sMtgOPJw4-3a"
   },
   "source": [
    "Create dataframe ROW by ROW with specified values (more elaborate example):"
   ]
  },
  {
   "cell_type": "code",
   "execution_count": 7,
   "metadata": {
    "colab": {
     "autoexec": {
      "startup": false,
      "wait_interval": 0
     }
    },
    "colab_type": "code",
    "id": "-uVuXRQA4-3e",
    "outputId": "3327627a-08f7-473d-ba49-3a7d897a9b7c"
   },
   "outputs": [
    {
     "data": {
      "text/html": [
       "<div>\n",
       "<style scoped>\n",
       "    .dataframe tbody tr th:only-of-type {\n",
       "        vertical-align: middle;\n",
       "    }\n",
       "\n",
       "    .dataframe tbody tr th {\n",
       "        vertical-align: top;\n",
       "    }\n",
       "\n",
       "    .dataframe thead th {\n",
       "        text-align: right;\n",
       "    }\n",
       "</style>\n",
       "<table border=\"1\" class=\"dataframe\">\n",
       "  <thead>\n",
       "    <tr style=\"text-align: right;\">\n",
       "      <th></th>\n",
       "      <th>Column A</th>\n",
       "      <th>Column B</th>\n",
       "      <th>Column C</th>\n",
       "    </tr>\n",
       "  </thead>\n",
       "  <tbody>\n",
       "    <tr>\n",
       "      <th>One</th>\n",
       "      <td>1</td>\n",
       "      <td>2</td>\n",
       "      <td>3</td>\n",
       "    </tr>\n",
       "    <tr>\n",
       "      <th>Two</th>\n",
       "      <td>10</td>\n",
       "      <td>20</td>\n",
       "      <td>30</td>\n",
       "    </tr>\n",
       "  </tbody>\n",
       "</table>\n",
       "</div>"
      ],
      "text/plain": [
       "     Column A  Column B  Column C\n",
       "One         1         2         3\n",
       "Two        10        20        30"
      ]
     },
     "execution_count": 7,
     "metadata": {},
     "output_type": "execute_result"
    }
   ],
   "source": [
    "df5 = pandas.DataFrame(numpy.array([[1, 2, 3], [10, 20, 30]]), columns=['Column A', 'Column B', 'Column C'], index=['One', 'Two'])\n",
    "df5\n"
   ]
  },
  {
   "cell_type": "markdown",
   "metadata": {
    "colab_type": "text",
    "id": "LjZHJ1xR4-3m"
   },
   "source": [
    "## Selecting and Modifying DataFrame Elements"
   ]
  },
  {
   "cell_type": "markdown",
   "metadata": {},
   "source": [
    "The syntax for selecting dataframes is `df.loc[row, column]`.\n",
    "\n",
    "This is similar with NumPy arrays (i.e., `my_ndarray[row, column]`)\n"
   ]
  },
  {
   "cell_type": "markdown",
   "metadata": {
    "colab_type": "text",
    "id": "tuZIl98i4-3o"
   },
   "source": [
    "Create empty dataframe:"
   ]
  },
  {
   "cell_type": "code",
   "execution_count": 20,
   "metadata": {
    "colab": {
     "autoexec": {
      "startup": false,
      "wait_interval": 0
     }
    },
    "colab_type": "code",
    "id": "xtsCwleq4-3q",
    "outputId": "595ccc45-6dd9-44a3-cc56-3f65e621906c"
   },
   "outputs": [
    {
     "data": {
      "text/html": [
       "<div>\n",
       "<style scoped>\n",
       "    .dataframe tbody tr th:only-of-type {\n",
       "        vertical-align: middle;\n",
       "    }\n",
       "\n",
       "    .dataframe tbody tr th {\n",
       "        vertical-align: top;\n",
       "    }\n",
       "\n",
       "    .dataframe thead th {\n",
       "        text-align: right;\n",
       "    }\n",
       "</style>\n",
       "<table border=\"1\" class=\"dataframe\">\n",
       "  <thead>\n",
       "    <tr style=\"text-align: right;\">\n",
       "      <th></th>\n",
       "      <th>Column A</th>\n",
       "      <th>Column B</th>\n",
       "      <th>Column C</th>\n",
       "    </tr>\n",
       "  </thead>\n",
       "  <tbody>\n",
       "    <tr>\n",
       "      <th>Row 1</th>\n",
       "      <td>NaN</td>\n",
       "      <td>NaN</td>\n",
       "      <td>NaN</td>\n",
       "    </tr>\n",
       "    <tr>\n",
       "      <th>Row 2</th>\n",
       "      <td>NaN</td>\n",
       "      <td>NaN</td>\n",
       "      <td>NaN</td>\n",
       "    </tr>\n",
       "  </tbody>\n",
       "</table>\n",
       "</div>"
      ],
      "text/plain": [
       "      Column A Column B Column C\n",
       "Row 1      NaN      NaN      NaN\n",
       "Row 2      NaN      NaN      NaN"
      ]
     },
     "execution_count": 20,
     "metadata": {},
     "output_type": "execute_result"
    }
   ],
   "source": [
    "df1 = pandas.DataFrame(columns=['Column A', 'Column B', 'Column C'], index=['Row 1', 'Row 2'])\n",
    "df1"
   ]
  },
  {
   "cell_type": "markdown",
   "metadata": {
    "colab_type": "text",
    "id": "y-3N79S34-3u"
   },
   "source": [
    "Select column:"
   ]
  },
  {
   "cell_type": "code",
   "execution_count": 21,
   "metadata": {
    "colab": {
     "autoexec": {
      "startup": false,
      "wait_interval": 0
     }
    },
    "colab_type": "code",
    "id": "stNkFvM24-3w",
    "outputId": "40434f3c-5b6d-4ab4-fd48-0fc8e7dd9d07"
   },
   "outputs": [
    {
     "data": {
      "text/html": [
       "<div>\n",
       "<style scoped>\n",
       "    .dataframe tbody tr th:only-of-type {\n",
       "        vertical-align: middle;\n",
       "    }\n",
       "\n",
       "    .dataframe tbody tr th {\n",
       "        vertical-align: top;\n",
       "    }\n",
       "\n",
       "    .dataframe thead th {\n",
       "        text-align: right;\n",
       "    }\n",
       "</style>\n",
       "<table border=\"1\" class=\"dataframe\">\n",
       "  <thead>\n",
       "    <tr style=\"text-align: right;\">\n",
       "      <th></th>\n",
       "      <th>Column A</th>\n",
       "      <th>Column B</th>\n",
       "      <th>Column C</th>\n",
       "    </tr>\n",
       "  </thead>\n",
       "  <tbody>\n",
       "    <tr>\n",
       "      <th>Row 1</th>\n",
       "      <td>NaN</td>\n",
       "      <td>NaN</td>\n",
       "      <td>X1</td>\n",
       "    </tr>\n",
       "    <tr>\n",
       "      <th>Row 2</th>\n",
       "      <td>NaN</td>\n",
       "      <td>NaN</td>\n",
       "      <td>X2</td>\n",
       "    </tr>\n",
       "  </tbody>\n",
       "</table>\n",
       "</div>"
      ],
      "text/plain": [
       "      Column A Column B Column C\n",
       "Row 1      NaN      NaN       X1\n",
       "Row 2      NaN      NaN       X2"
      ]
     },
     "execution_count": 21,
     "metadata": {},
     "output_type": "execute_result"
    }
   ],
   "source": [
    "df1.loc[:,'Column C'] = ('X1', 'X2')\n",
    "df1"
   ]
  },
  {
   "cell_type": "markdown",
   "metadata": {
    "colab_type": "text",
    "id": "Bq0n5C4u4-4I"
   },
   "source": [
    "Select row:"
   ]
  },
  {
   "cell_type": "code",
   "execution_count": 22,
   "metadata": {
    "colab": {
     "autoexec": {
      "startup": false,
      "wait_interval": 0
     }
    },
    "colab_type": "code",
    "id": "jBZ0bfQU4-4K",
    "outputId": "4a6d0c56-cfc6-4a11-dde9-1e36040fc2d8"
   },
   "outputs": [
    {
     "data": {
      "text/html": [
       "<div>\n",
       "<style scoped>\n",
       "    .dataframe tbody tr th:only-of-type {\n",
       "        vertical-align: middle;\n",
       "    }\n",
       "\n",
       "    .dataframe tbody tr th {\n",
       "        vertical-align: top;\n",
       "    }\n",
       "\n",
       "    .dataframe thead th {\n",
       "        text-align: right;\n",
       "    }\n",
       "</style>\n",
       "<table border=\"1\" class=\"dataframe\">\n",
       "  <thead>\n",
       "    <tr style=\"text-align: right;\">\n",
       "      <th></th>\n",
       "      <th>Column A</th>\n",
       "      <th>Column B</th>\n",
       "      <th>Column C</th>\n",
       "    </tr>\n",
       "  </thead>\n",
       "  <tbody>\n",
       "    <tr>\n",
       "      <th>Row 1</th>\n",
       "      <td>Y</td>\n",
       "      <td>Y</td>\n",
       "      <td>Y</td>\n",
       "    </tr>\n",
       "    <tr>\n",
       "      <th>Row 2</th>\n",
       "      <td>NaN</td>\n",
       "      <td>NaN</td>\n",
       "      <td>X2</td>\n",
       "    </tr>\n",
       "  </tbody>\n",
       "</table>\n",
       "</div>"
      ],
      "text/plain": [
       "      Column A Column B Column C\n",
       "Row 1        Y        Y        Y\n",
       "Row 2      NaN      NaN       X2"
      ]
     },
     "execution_count": 22,
     "metadata": {},
     "output_type": "execute_result"
    }
   ],
   "source": [
    "df1.loc['Row 1', :] = ('Y', 'Y', 'Y')\n",
    "df1"
   ]
  },
  {
   "cell_type": "markdown",
   "metadata": {
    "colab_type": "text",
    "id": "oSc8K8AX4-4O"
   },
   "source": [
    "Select cell (explicit method):"
   ]
  },
  {
   "cell_type": "code",
   "execution_count": 23,
   "metadata": {
    "colab": {
     "autoexec": {
      "startup": false,
      "wait_interval": 0
     }
    },
    "colab_type": "code",
    "id": "2wvUyA0g4-4O",
    "outputId": "ae6c99fa-178b-4ad0-b9f9-4b44ae9fb6dc"
   },
   "outputs": [
    {
     "data": {
      "text/html": [
       "<div>\n",
       "<style scoped>\n",
       "    .dataframe tbody tr th:only-of-type {\n",
       "        vertical-align: middle;\n",
       "    }\n",
       "\n",
       "    .dataframe tbody tr th {\n",
       "        vertical-align: top;\n",
       "    }\n",
       "\n",
       "    .dataframe thead th {\n",
       "        text-align: right;\n",
       "    }\n",
       "</style>\n",
       "<table border=\"1\" class=\"dataframe\">\n",
       "  <thead>\n",
       "    <tr style=\"text-align: right;\">\n",
       "      <th></th>\n",
       "      <th>Column A</th>\n",
       "      <th>Column B</th>\n",
       "      <th>Column C</th>\n",
       "    </tr>\n",
       "  </thead>\n",
       "  <tbody>\n",
       "    <tr>\n",
       "      <th>Row 1</th>\n",
       "      <td>Y</td>\n",
       "      <td>Z1</td>\n",
       "      <td>Y</td>\n",
       "    </tr>\n",
       "    <tr>\n",
       "      <th>Row 2</th>\n",
       "      <td>NaN</td>\n",
       "      <td>NaN</td>\n",
       "      <td>X2</td>\n",
       "    </tr>\n",
       "  </tbody>\n",
       "</table>\n",
       "</div>"
      ],
      "text/plain": [
       "      Column A Column B Column C\n",
       "Row 1        Y       Z1        Y\n",
       "Row 2      NaN      NaN       X2"
      ]
     },
     "execution_count": 23,
     "metadata": {},
     "output_type": "execute_result"
    }
   ],
   "source": [
    "df1.loc[:, 'Column B']['Row 1'] = 'Z1'\n",
    "df1"
   ]
  },
  {
   "cell_type": "markdown",
   "metadata": {},
   "source": [
    "Select cell (shorthand, specify column first):"
   ]
  },
  {
   "cell_type": "code",
   "execution_count": 24,
   "metadata": {},
   "outputs": [
    {
     "data": {
      "text/html": [
       "<div>\n",
       "<style scoped>\n",
       "    .dataframe tbody tr th:only-of-type {\n",
       "        vertical-align: middle;\n",
       "    }\n",
       "\n",
       "    .dataframe tbody tr th {\n",
       "        vertical-align: top;\n",
       "    }\n",
       "\n",
       "    .dataframe thead th {\n",
       "        text-align: right;\n",
       "    }\n",
       "</style>\n",
       "<table border=\"1\" class=\"dataframe\">\n",
       "  <thead>\n",
       "    <tr style=\"text-align: right;\">\n",
       "      <th></th>\n",
       "      <th>Column A</th>\n",
       "      <th>Column B</th>\n",
       "      <th>Column C</th>\n",
       "    </tr>\n",
       "  </thead>\n",
       "  <tbody>\n",
       "    <tr>\n",
       "      <th>Row 1</th>\n",
       "      <td>Y</td>\n",
       "      <td>Z2</td>\n",
       "      <td>Y</td>\n",
       "    </tr>\n",
       "    <tr>\n",
       "      <th>Row 2</th>\n",
       "      <td>NaN</td>\n",
       "      <td>NaN</td>\n",
       "      <td>X2</td>\n",
       "    </tr>\n",
       "  </tbody>\n",
       "</table>\n",
       "</div>"
      ],
      "text/plain": [
       "      Column A Column B Column C\n",
       "Row 1        Y       Z2        Y\n",
       "Row 2      NaN      NaN       X2"
      ]
     },
     "execution_count": 24,
     "metadata": {},
     "output_type": "execute_result"
    }
   ],
   "source": [
    "df1['Column B']['Row 1'] = 'Z2'\n",
    "df1"
   ]
  },
  {
   "cell_type": "markdown",
   "metadata": {
    "colab_type": "text",
    "id": "YbjIF59B4-4W"
   },
   "source": [
    "Select cell (shorthand, specify row first):"
   ]
  },
  {
   "cell_type": "code",
   "execution_count": 25,
   "metadata": {
    "colab": {
     "autoexec": {
      "startup": false,
      "wait_interval": 0
     }
    },
    "colab_type": "code",
    "id": "DrRzarpz4-4e",
    "outputId": "2fc0d6e2-69c9-4903-d4d4-4179c1a623eb"
   },
   "outputs": [
    {
     "data": {
      "text/html": [
       "<div>\n",
       "<style scoped>\n",
       "    .dataframe tbody tr th:only-of-type {\n",
       "        vertical-align: middle;\n",
       "    }\n",
       "\n",
       "    .dataframe tbody tr th {\n",
       "        vertical-align: top;\n",
       "    }\n",
       "\n",
       "    .dataframe thead th {\n",
       "        text-align: right;\n",
       "    }\n",
       "</style>\n",
       "<table border=\"1\" class=\"dataframe\">\n",
       "  <thead>\n",
       "    <tr style=\"text-align: right;\">\n",
       "      <th></th>\n",
       "      <th>Column A</th>\n",
       "      <th>Column B</th>\n",
       "      <th>Column C</th>\n",
       "    </tr>\n",
       "  </thead>\n",
       "  <tbody>\n",
       "    <tr>\n",
       "      <th>Row 1</th>\n",
       "      <td>Y</td>\n",
       "      <td>Z3</td>\n",
       "      <td>Y</td>\n",
       "    </tr>\n",
       "    <tr>\n",
       "      <th>Row 2</th>\n",
       "      <td>NaN</td>\n",
       "      <td>NaN</td>\n",
       "      <td>X2</td>\n",
       "    </tr>\n",
       "  </tbody>\n",
       "</table>\n",
       "</div>"
      ],
      "text/plain": [
       "      Column A Column B Column C\n",
       "Row 1        Y       Z3        Y\n",
       "Row 2      NaN      NaN       X2"
      ]
     },
     "execution_count": 25,
     "metadata": {},
     "output_type": "execute_result"
    }
   ],
   "source": [
    "df1.loc['Row 1']['Column B'] = 'Z3'\n",
    "df1"
   ]
  },
  {
   "cell_type": "markdown",
   "metadata": {
    "colab_type": "text",
    "id": "dBl8jqRJ4-4m"
   },
   "source": [
    "## Appending to a Dataframe\n",
    "***.loc[] | .append() | join()***"
   ]
  },
  {
   "cell_type": "markdown",
   "metadata": {
    "colab_type": "text",
    "id": "xzIjZ4pD4-4m"
   },
   "source": [
    "Prep:"
   ]
  },
  {
   "cell_type": "code",
   "execution_count": 33,
   "metadata": {
    "colab": {
     "autoexec": {
      "startup": false,
      "wait_interval": 0
     }
    },
    "colab_type": "code",
    "id": "c62FJAxK4-4o"
   },
   "outputs": [],
   "source": [
    "df = pandas.DataFrame(numpy.array([[1, 2]]), columns=['Column A', 'Column B'])"
   ]
  },
  {
   "cell_type": "markdown",
   "metadata": {
    "colab_type": "text",
    "id": "UVsdKJyc4-4s"
   },
   "source": [
    "Append row at the end:"
   ]
  },
  {
   "cell_type": "code",
   "execution_count": 34,
   "metadata": {
    "colab": {
     "autoexec": {
      "startup": false,
      "wait_interval": 0
     }
    },
    "colab_type": "code",
    "id": "mqjs0Jv74-4u",
    "outputId": "4e9cb210-17c3-4ac7-efd4-2c55512a9d86"
   },
   "outputs": [
    {
     "data": {
      "text/html": [
       "<div>\n",
       "<style scoped>\n",
       "    .dataframe tbody tr th:only-of-type {\n",
       "        vertical-align: middle;\n",
       "    }\n",
       "\n",
       "    .dataframe tbody tr th {\n",
       "        vertical-align: top;\n",
       "    }\n",
       "\n",
       "    .dataframe thead th {\n",
       "        text-align: right;\n",
       "    }\n",
       "</style>\n",
       "<table border=\"1\" class=\"dataframe\">\n",
       "  <thead>\n",
       "    <tr style=\"text-align: right;\">\n",
       "      <th></th>\n",
       "      <th>Column A</th>\n",
       "      <th>Column B</th>\n",
       "    </tr>\n",
       "  </thead>\n",
       "  <tbody>\n",
       "    <tr>\n",
       "      <th>0</th>\n",
       "      <td>1.0</td>\n",
       "      <td>2.0</td>\n",
       "    </tr>\n",
       "    <tr>\n",
       "      <th>1</th>\n",
       "      <td>3.0</td>\n",
       "      <td>3.0</td>\n",
       "    </tr>\n",
       "  </tbody>\n",
       "</table>\n",
       "</div>"
      ],
      "text/plain": [
       "   Column A  Column B\n",
       "0       1.0       2.0\n",
       "1       3.0       3.0"
      ]
     },
     "execution_count": 34,
     "metadata": {},
     "output_type": "execute_result"
    }
   ],
   "source": [
    "df.loc[len(df), :] = (3, 3)\n",
    "df"
   ]
  },
  {
   "cell_type": "markdown",
   "metadata": {
    "colab_type": "text",
    "id": "WQQNFwzS4-48"
   },
   "source": [
    "Append cell at the end:"
   ]
  },
  {
   "cell_type": "code",
   "execution_count": 0,
   "metadata": {
    "colab": {
     "autoexec": {
      "startup": false,
      "wait_interval": 0
     }
    },
    "colab_type": "code",
    "id": "hfB8zTqf4-4-",
    "outputId": "192bec78-ed2a-4e2f-e3c6-7466c5bc3fe0"
   },
   "outputs": [
    {
     "data": {
      "text/html": [
       "<div>\n",
       "<table border=\"1\" class=\"dataframe\">\n",
       "  <thead>\n",
       "    <tr style=\"text-align: right;\">\n",
       "      <th></th>\n",
       "      <th>Column A</th>\n",
       "      <th>Column B</th>\n",
       "    </tr>\n",
       "  </thead>\n",
       "  <tbody>\n",
       "    <tr>\n",
       "      <th>0</th>\n",
       "      <td>1.0</td>\n",
       "      <td>2.0</td>\n",
       "    </tr>\n",
       "    <tr>\n",
       "      <th>1</th>\n",
       "      <td>3.0</td>\n",
       "      <td>3.0</td>\n",
       "    </tr>\n",
       "    <tr>\n",
       "      <th>2</th>\n",
       "      <td>4.0</td>\n",
       "      <td>NaN</td>\n",
       "    </tr>\n",
       "  </tbody>\n",
       "</table>\n",
       "</div>"
      ],
      "text/plain": [
       "   Column A  Column B\n",
       "0       1.0       2.0\n",
       "1       3.0       3.0\n",
       "2       4.0       NaN"
      ]
     },
     "execution_count": 267,
     "metadata": {
      "tags": []
     },
     "output_type": "execute_result"
    }
   ],
   "source": [
    "df.loc[len(df), 'Column A'] = 4\n",
    "df"
   ]
  },
  {
   "cell_type": "markdown",
   "metadata": {
    "colab_type": "text",
    "id": "qr2AiVn14-5A"
   },
   "source": [
    "Add new rows (append dataframe to dataframe):"
   ]
  },
  {
   "cell_type": "code",
   "execution_count": 0,
   "metadata": {
    "colab": {
     "autoexec": {
      "startup": false,
      "wait_interval": 0
     }
    },
    "colab_type": "code",
    "id": "dvhaYv384-5A",
    "outputId": "8e10ac84-a9cc-4e19-cf63-20cef24efbbc"
   },
   "outputs": [
    {
     "data": {
      "text/html": [
       "<div>\n",
       "<table border=\"1\" class=\"dataframe\">\n",
       "  <thead>\n",
       "    <tr style=\"text-align: right;\">\n",
       "      <th></th>\n",
       "      <th>Column A</th>\n",
       "      <th>Column B</th>\n",
       "    </tr>\n",
       "  </thead>\n",
       "  <tbody>\n",
       "    <tr>\n",
       "      <th>0</th>\n",
       "      <td>1</td>\n",
       "      <td>2</td>\n",
       "    </tr>\n",
       "    <tr>\n",
       "      <th>1</th>\n",
       "      <td>10</td>\n",
       "      <td>20</td>\n",
       "    </tr>\n",
       "  </tbody>\n",
       "</table>\n",
       "</div>"
      ],
      "text/plain": [
       "   Column A  Column B\n",
       "0         1         2\n",
       "1        10        20"
      ]
     },
     "execution_count": 268,
     "metadata": {
      "tags": []
     },
     "output_type": "execute_result"
    }
   ],
   "source": [
    "dfa = pandas.DataFrame(numpy.array([[1, 2]]), columns=['Column A', 'Column B'])\n",
    "dfb = pandas.DataFrame(numpy.array([[10, 20]]), columns=['Column A', 'Column B'])\n",
    "dfa.append(dfb, ignore_index=True)"
   ]
  },
  {
   "cell_type": "markdown",
   "metadata": {
    "colab_type": "text",
    "id": "VK3lPORV4-5E"
   },
   "source": [
    "Add a new column (append dataframe to dataframe):"
   ]
  },
  {
   "cell_type": "code",
   "execution_count": 0,
   "metadata": {
    "colab": {
     "autoexec": {
      "startup": false,
      "wait_interval": 0
     }
    },
    "colab_type": "code",
    "id": "XPqbqgQ04-5E",
    "outputId": "d1012559-673b-40d1-e1db-02aef347561f"
   },
   "outputs": [
    {
     "data": {
      "text/html": [
       "<div>\n",
       "<table border=\"1\" class=\"dataframe\">\n",
       "  <thead>\n",
       "    <tr style=\"text-align: right;\">\n",
       "      <th></th>\n",
       "      <th>Column A</th>\n",
       "      <th>Column C</th>\n",
       "    </tr>\n",
       "  </thead>\n",
       "  <tbody>\n",
       "    <tr>\n",
       "      <th>0</th>\n",
       "      <td>1</td>\n",
       "      <td>10</td>\n",
       "    </tr>\n",
       "    <tr>\n",
       "      <th>1</th>\n",
       "      <td>2</td>\n",
       "      <td>20</td>\n",
       "    </tr>\n",
       "    <tr>\n",
       "      <th>2</th>\n",
       "      <td>3</td>\n",
       "      <td>30</td>\n",
       "    </tr>\n",
       "  </tbody>\n",
       "</table>\n",
       "</div>"
      ],
      "text/plain": [
       "   Column A  Column C\n",
       "0         1        10\n",
       "1         2        20\n",
       "2         3        30"
      ]
     },
     "execution_count": 303,
     "metadata": {
      "tags": []
     },
     "output_type": "execute_result"
    }
   ],
   "source": [
    "dfc = pandas.DataFrame({'Column A': (1, 2, 3)})\n",
    "dfd = pandas.DataFrame({'Column C': (10, 20, 30)})\n",
    "dfc.join(dfd)"
   ]
  },
  {
   "cell_type": "markdown",
   "metadata": {
    "colab_type": "text",
    "id": "y83Ju8S94-5I"
   },
   "source": [
    "Extend column (append a column to another column):"
   ]
  },
  {
   "cell_type": "code",
   "execution_count": 0,
   "metadata": {
    "colab": {
     "autoexec": {
      "startup": false,
      "wait_interval": 0
     }
    },
    "colab_type": "code",
    "id": "07nTn66D4-5I",
    "outputId": "a3c49d0d-afd4-4e4e-d17c-69d9f553aca2"
   },
   "outputs": [
    {
     "data": {
      "text/html": [
       "<div>\n",
       "<table border=\"1\" class=\"dataframe\">\n",
       "  <thead>\n",
       "    <tr style=\"text-align: right;\">\n",
       "      <th></th>\n",
       "      <th>Column A</th>\n",
       "    </tr>\n",
       "  </thead>\n",
       "  <tbody>\n",
       "    <tr>\n",
       "      <th>0</th>\n",
       "      <td>1</td>\n",
       "    </tr>\n",
       "    <tr>\n",
       "      <th>1</th>\n",
       "      <td>2</td>\n",
       "    </tr>\n",
       "    <tr>\n",
       "      <th>2</th>\n",
       "      <td>10</td>\n",
       "    </tr>\n",
       "    <tr>\n",
       "      <th>3</th>\n",
       "      <td>20</td>\n",
       "    </tr>\n",
       "  </tbody>\n",
       "</table>\n",
       "</div>"
      ],
      "text/plain": [
       "   Column A\n",
       "0         1\n",
       "1         2\n",
       "2        10\n",
       "3        20"
      ]
     },
     "execution_count": 304,
     "metadata": {
      "tags": []
     },
     "output_type": "execute_result"
    }
   ],
   "source": [
    "dfa = pandas.DataFrame({'Column A': [1, 2]})\n",
    "dfb = pandas.DataFrame({'Column A': [10, 20]})\n",
    "dfa.append(dfb, ignore_index=True)\n"
   ]
  },
  {
   "cell_type": "markdown",
   "metadata": {
    "colab_type": "text",
    "id": "F-JhWU9e4-5M"
   },
   "source": [
    "## Iterating over a Dataframe"
   ]
  },
  {
   "cell_type": "markdown",
   "metadata": {
    "colab_type": "text",
    "id": "z0kPhqHT4-5O"
   },
   "source": [
    "Iteration in Pandas should not be preferred if there is an alternative way to achieve the same results (e.g., *.apply* method).\n",
    "\n",
    "From [Pandas documentation](https://pandas.pydata.org/pandas-docs/stable/basics.html#iteration):\n",
    "\n",
    "> Warning\n",
    ">\n",
    "> Iterating through pandas objects is generally slow. In many cases, iterating manually over the rows is not needed and can be avoided with one of the following approaches:\n",
    ">\n",
    "> - When you have a function that cannot work on the full DataFrame/Series at once, it is better to use ***apply()*** instead of iterating over the values. See the docs on function application.\n",
    "> - Look for a vectorized solution: many operations can be performed using built-in methods or ***NumPy functions***, (boolean) indexing, …\n",
    "> - If you need to do iterative manipulations on the values but performance is important, consider writing the inner loop with cython or numba. See the enhancing performance section for some examples of this approach.\n"
   ]
  },
  {
   "cell_type": "code",
   "execution_count": 0,
   "metadata": {
    "colab": {
     "autoexec": {
      "startup": false,
      "wait_interval": 0
     }
    },
    "colab_type": "code",
    "id": "zjGELFjF4-5O"
   },
   "outputs": [],
   "source": [
    "import pandas"
   ]
  },
  {
   "cell_type": "markdown",
   "metadata": {
    "colab_type": "text",
    "id": "tLOhNBiE4-5Q"
   },
   "source": [
    "Initialize dataframe:"
   ]
  },
  {
   "cell_type": "code",
   "execution_count": 0,
   "metadata": {
    "colab": {
     "autoexec": {
      "startup": false,
      "wait_interval": 0
     }
    },
    "colab_type": "code",
    "id": "M8ehvamE4-5S",
    "outputId": "3ee44c65-11fe-445f-d082-0d94eade5cd7"
   },
   "outputs": [
    {
     "data": {
      "text/html": [
       "<div>\n",
       "<table border=\"1\" class=\"dataframe\">\n",
       "  <thead>\n",
       "    <tr style=\"text-align: right;\">\n",
       "      <th></th>\n",
       "      <th>Column A</th>\n",
       "      <th>Column B</th>\n",
       "    </tr>\n",
       "  </thead>\n",
       "  <tbody>\n",
       "    <tr>\n",
       "      <th>0</th>\n",
       "      <td>1</td>\n",
       "      <td>10</td>\n",
       "    </tr>\n",
       "    <tr>\n",
       "      <th>1</th>\n",
       "      <td>2</td>\n",
       "      <td>20</td>\n",
       "    </tr>\n",
       "    <tr>\n",
       "      <th>2</th>\n",
       "      <td>3</td>\n",
       "      <td>30</td>\n",
       "    </tr>\n",
       "  </tbody>\n",
       "</table>\n",
       "</div>"
      ],
      "text/plain": [
       "   Column A  Column B\n",
       "0         1        10\n",
       "1         2        20\n",
       "2         3        30"
      ]
     },
     "execution_count": 11,
     "metadata": {
      "tags": []
     },
     "output_type": "execute_result"
    }
   ],
   "source": [
    "df = pandas.DataFrame(\n",
    "    { # dictionary\n",
    "        'Column A': [1, 2, 3],\n",
    "        'Column B': [10, 20, 30]\n",
    "    }\n",
    ")\n",
    "df"
   ]
  },
  {
   "cell_type": "markdown",
   "metadata": {
    "colab_type": "text",
    "id": "TlfIGHrt4-5W"
   },
   "source": [
    "### Iterate over Rows"
   ]
  },
  {
   "cell_type": "markdown",
   "metadata": {
    "colab_type": "text",
    "id": "lXzmsYRs4-5a"
   },
   "source": [
    "Simply iterate over rows:"
   ]
  },
  {
   "cell_type": "code",
   "execution_count": 0,
   "metadata": {
    "colab": {
     "autoexec": {
      "startup": false,
      "wait_interval": 0
     }
    },
    "colab_type": "code",
    "id": "HFV7tTjX4-5a",
    "outputId": "b9a99b78-4ec8-4fb1-aab2-42eff2a882aa"
   },
   "outputs": [
    {
     "name": "stdout",
     "output_type": "stream",
     "text": [
      "0: Column A     1\n",
      "Column B    10\n",
      "Name: 0, dtype: int64\n",
      "\n",
      "1: Column A     2\n",
      "Column B    20\n",
      "Name: 1, dtype: int64\n",
      "\n",
      "2: Column A     3\n",
      "Column B    30\n",
      "Name: 2, dtype: int64\n",
      "\n"
     ]
    }
   ],
   "source": [
    "for index, each_row in df.iterrows():\n",
    "    print('{index}: {value}\\n'.format(index=index, value=each_row))"
   ]
  },
  {
   "cell_type": "markdown",
   "metadata": {
    "colab_type": "text",
    "id": "9_S3jHGr4-5i"
   },
   "source": [
    "Recommended way (for speed):"
   ]
  },
  {
   "cell_type": "code",
   "execution_count": 0,
   "metadata": {
    "colab": {
     "autoexec": {
      "startup": false,
      "wait_interval": 0
     }
    },
    "colab_type": "code",
    "id": "d9-nIKeU4-5m",
    "outputId": "725e35ae-b210-4893-9c81-c2dd579ef46e"
   },
   "outputs": [
    {
     "name": "stdout",
     "output_type": "stream",
     "text": [
      "0    1\n",
      "1    2\n",
      "2    3\n",
      "Name: Column A, dtype: int64\n",
      "0    10\n",
      "1    20\n",
      "2    30\n",
      "Name: Column B, dtype: int64\n"
     ]
    },
    {
     "data": {
      "text/plain": [
       "Column A    None\n",
       "Column B    None\n",
       "dtype: object"
      ]
     },
     "execution_count": 6,
     "metadata": {
      "tags": []
     },
     "output_type": "execute_result"
    }
   ],
   "source": [
    "df.apply(print)"
   ]
  },
  {
   "cell_type": "markdown",
   "metadata": {
    "colab_type": "text",
    "id": "85lSKLVD4-54"
   },
   "source": [
    "Iterate over rows and access variables being iterated:"
   ]
  },
  {
   "cell_type": "code",
   "execution_count": 0,
   "metadata": {
    "colab": {
     "autoexec": {
      "startup": false,
      "wait_interval": 0
     }
    },
    "colab_type": "code",
    "id": "TshyZqov4-54",
    "outputId": "658e82f4-e08c-45da-81a3-70a3c9876e6f"
   },
   "outputs": [
    {
     "name": "stdout",
     "output_type": "stream",
     "text": [
      "0 ['Column A' 'Column B'] [ 1 10] 0\n",
      "1 ['Column A' 'Column B'] [ 2 20] 1\n",
      "2 ['Column A' 'Column B'] [ 3 30] 2\n"
     ]
    }
   ],
   "source": [
    "for index, each_row in df.iterrows():\n",
    "     print(index, each_row.index.values, each_row.values, each_row.name)"
   ]
  },
  {
   "cell_type": "markdown",
   "metadata": {
    "colab_type": "text",
    "id": "1Fd6wmWB4-58"
   },
   "source": [
    "Iterate over rows and their elements with a double loop:"
   ]
  },
  {
   "cell_type": "code",
   "execution_count": 0,
   "metadata": {
    "colab": {
     "autoexec": {
      "startup": false,
      "wait_interval": 0
     }
    },
    "colab_type": "code",
    "id": "b2W2nhTB4-58",
    "outputId": "388e4fc2-c0f9-4d87-8547-65f569ac65f4"
   },
   "outputs": [
    {
     "name": "stdout",
     "output_type": "stream",
     "text": [
      "\n",
      "row 0:\n",
      "Column A 1\n",
      "Column B 10\n",
      "\n",
      "row 1:\n",
      "Column A 2\n",
      "Column B 20\n",
      "\n",
      "row 2:\n",
      "Column A 3\n",
      "Column B 30\n"
     ]
    }
   ],
   "source": [
    "for index, each_row in df.iterrows():\n",
    "    print ('\\nrow %s:' % str(index))\n",
    "    for each_column_name, each_cell in each_row.iteritems():\n",
    "        print(each_column_name, each_cell)"
   ]
  },
  {
   "cell_type": "markdown",
   "metadata": {
    "colab_type": "text",
    "id": "K6MHXKxq4-6G"
   },
   "source": [
    "### Keywords (by Authors) -- V2"
   ]
  },
  {
   "cell_type": "markdown",
   "metadata": {
    "colab_type": "text",
    "id": "2cj-8xxG4-6G"
   },
   "source": [
    "'Keywords' has no other properties attached to it:"
   ]
  },
  {
   "cell_type": "code",
   "execution_count": 0,
   "metadata": {
    "colab": {
     "autoexec": {
      "startup": false,
      "wait_interval": 0
     }
    },
    "colab_type": "code",
    "id": "OI8KizM44-6I",
    "outputId": "8a43bb80-45b2-48f8-dc4b-ee4ce0befb8a"
   },
   "outputs": [
    {
     "data": {
      "text/html": [
       "<div>\n",
       "<table border=\"1\" class=\"dataframe\">\n",
       "  <thead>\n",
       "    <tr style=\"text-align: right;\">\n",
       "      <th></th>\n",
       "      <th>p</th>\n",
       "    </tr>\n",
       "  </thead>\n",
       "  <tbody>\n",
       "  </tbody>\n",
       "</table>\n",
       "</div>"
      ],
      "text/plain": [
       "Empty DataFrame\n",
       "Columns: [p]\n",
       "Index: []"
      ]
     },
     "execution_count": 14,
     "metadata": {
      "tags": []
     },
     "output_type": "execute_result"
    }
   ],
   "source": [
    "retrieve_all_sub_attributes('wos:DE')"
   ]
  },
  {
   "cell_type": "markdown",
   "metadata": {
    "colab_type": "text",
    "id": "U4NkSv184-6Y"
   },
   "source": [
    "#### Building the Keyword Processing Pipeline and Testing it on Part of the WoS Graph"
   ]
  },
  {
   "cell_type": "code",
   "execution_count": 0,
   "metadata": {
    "colab": {
     "autoexec": {
      "startup": false,
      "wait_interval": 0
     }
    },
    "colab_type": "code",
    "id": "2g-S9A6i4-6a"
   },
   "outputs": [],
   "source": [
    "from retriever.sparql_tools import WebOfScienceQuery\n",
    "from preprocessor.dataframe_tools import Data_Frame"
   ]
  },
  {
   "cell_type": "code",
   "execution_count": 0,
   "metadata": {
    "colab": {
     "autoexec": {
      "startup": false,
      "wait_interval": 0
     }
    },
    "colab_type": "code",
    "id": "uAIxee8A4-6c"
   },
   "outputs": [],
   "source": [
    "wos_query = WebOfScienceQuery(eculture_query)"
   ]
  },
  {
   "cell_type": "markdown",
   "metadata": {
    "colab_type": "text",
    "id": "zPZQ5--o4-6g"
   },
   "source": [
    "(1) Retrieve a test dataset (using LIMIT ...) containing article ids and associated keywords:"
   ]
  },
  {
   "cell_type": "code",
   "execution_count": 0,
   "metadata": {
    "colab": {
     "autoexec": {
      "startup": false,
      "wait_interval": 0
     }
    },
    "colab_type": "code",
    "id": "c56XLPJl4-6g",
    "outputId": "da039ced-b9a7-4dfa-ed4e-fc4ff0385312"
   },
   "outputs": [
    {
     "data": {
      "text/html": [
       "<div>\n",
       "<table border=\"1\" class=\"dataframe\">\n",
       "  <thead>\n",
       "    <tr style=\"text-align: right;\">\n",
       "      <th></th>\n",
       "      <th>wosArticleUri</th>\n",
       "      <th>authorKeywords</th>\n",
       "    </tr>\n",
       "  </thead>\n",
       "  <tbody>\n",
       "    <tr>\n",
       "      <th>0</th>\n",
       "      <td>wosres:WOS_000070970500011</td>\n",
       "      <td>Elymus athericus; growth; photosynthesis; ozone; UV-B radiation</td>\n",
       "    </tr>\n",
       "    <tr>\n",
       "      <th>1</th>\n",
       "      <td>wosres:WOS_000070998100010</td>\n",
       "      <td>pain, postoperative; analgesics, prescribing</td>\n",
       "    </tr>\n",
       "    <tr>\n",
       "      <th>2</th>\n",
       "      <td>wosres:WOS_000070998900007</td>\n",
       "      <td>DIC; Nomarski; interference; microscopy; CCD; image processing;</td>\n",
       "    </tr>\n",
       "    <tr>\n",
       "      <th>3</th>\n",
       "      <td>wosres:WOS_000070998900007</td>\n",
       "      <td>analysis; reconstruction; optical pathlength; phase; transparent; living</td>\n",
       "    </tr>\n",
       "    <tr>\n",
       "      <th>4</th>\n",
       "      <td>wosres:WOS_000071006900008</td>\n",
       "      <td>atherosclerosis; homocysteine; metformin; vitamin B-12</td>\n",
       "    </tr>\n",
       "    <tr>\n",
       "      <th>5</th>\n",
       "      <td>wosres:WOS_000071013000007</td>\n",
       "      <td>policy; household economics</td>\n",
       "    </tr>\n",
       "    <tr>\n",
       "      <th>6</th>\n",
       "      <td>wosres:WOS_000071013000007</td>\n",
       "      <td>sub-Saharan Africa; Swaziland; labor migration; food security; labor</td>\n",
       "    </tr>\n",
       "    <tr>\n",
       "      <th>7</th>\n",
       "      <td>wosres:WOS_000071021600006</td>\n",
       "      <td>nitric oxide radical; NO scavenging; thiol; S-nitrosothiol</td>\n",
       "    </tr>\n",
       "    <tr>\n",
       "      <th>8</th>\n",
       "      <td>wosres:WOS_000071021600006</td>\n",
       "      <td>(electrochemical); NO sensing</td>\n",
       "    </tr>\n",
       "    <tr>\n",
       "      <th>9</th>\n",
       "      <td>wosres:WOS_000071040300005</td>\n",
       "      <td>lumbar spine; vertebra; trabecular bone; Wolff's Law; intervertebral</td>\n",
       "    </tr>\n",
       "  </tbody>\n",
       "</table>\n",
       "</div>"
      ],
      "text/plain": [
       "                wosArticleUri                                                            authorKeywords\n",
       "0  wosres:WOS_000070970500011           Elymus athericus; growth; photosynthesis; ozone; UV-B radiation\n",
       "1  wosres:WOS_000070998100010                              pain, postoperative; analgesics, prescribing\n",
       "2  wosres:WOS_000070998900007           DIC; Nomarski; interference; microscopy; CCD; image processing;\n",
       "3  wosres:WOS_000070998900007  analysis; reconstruction; optical pathlength; phase; transparent; living\n",
       "4  wosres:WOS_000071006900008                    atherosclerosis; homocysteine; metformin; vitamin B-12\n",
       "5  wosres:WOS_000071013000007                                               policy; household economics\n",
       "6  wosres:WOS_000071013000007      sub-Saharan Africa; Swaziland; labor migration; food security; labor\n",
       "7  wosres:WOS_000071021600006                nitric oxide radical; NO scavenging; thiol; S-nitrosothiol\n",
       "8  wosres:WOS_000071021600006                                             (electrochemical); NO sensing\n",
       "9  wosres:WOS_000071040300005      lumbar spine; vertebra; trabecular bone; Wolff's Law; intervertebral"
      ]
     },
     "execution_count": 17,
     "metadata": {
      "tags": []
     },
     "output_type": "execute_result"
    }
   ],
   "source": [
    "ids_vs_keywords = wos_query.retrieve_relationships_of_property('wos:DE',\n",
    "                                                               desired_column_name_for_literal='authorKeywords',\n",
    "                                                               limit=10)\n",
    "ids_vs_keywords"
   ]
  },
  {
   "cell_type": "markdown",
   "metadata": {
    "colab_type": "text",
    "id": "f1D4NLAC4-6k"
   },
   "source": [
    "(2) Because the keywords are in a semicolon-separated list, they need to be tokenized:"
   ]
  },
  {
   "cell_type": "code",
   "execution_count": 0,
   "metadata": {
    "colab": {
     "autoexec": {
      "startup": false,
      "wait_interval": 0
     }
    },
    "colab_type": "code",
    "id": "tqHmzSn44-6k",
    "outputId": "b3d15fb4-d2d1-4803-e251-33cd01efc54d"
   },
   "outputs": [
    {
     "data": {
      "text/html": [
       "<div>\n",
       "<table border=\"1\" class=\"dataframe\">\n",
       "  <thead>\n",
       "    <tr style=\"text-align: right;\">\n",
       "      <th></th>\n",
       "      <th>wosArticleUri</th>\n",
       "      <th>authorKeywords</th>\n",
       "    </tr>\n",
       "  </thead>\n",
       "  <tbody>\n",
       "    <tr>\n",
       "      <th>0</th>\n",
       "      <td>wosres:WOS_000070970500011</td>\n",
       "      <td>Elymus athericus</td>\n",
       "    </tr>\n",
       "    <tr>\n",
       "      <th>1</th>\n",
       "      <td>wosres:WOS_000070970500011</td>\n",
       "      <td>growth</td>\n",
       "    </tr>\n",
       "    <tr>\n",
       "      <th>2</th>\n",
       "      <td>wosres:WOS_000070970500011</td>\n",
       "      <td>photosynthesis</td>\n",
       "    </tr>\n",
       "    <tr>\n",
       "      <th>3</th>\n",
       "      <td>wosres:WOS_000070970500011</td>\n",
       "      <td>ozone</td>\n",
       "    </tr>\n",
       "    <tr>\n",
       "      <th>4</th>\n",
       "      <td>wosres:WOS_000070970500011</td>\n",
       "      <td>UV-B radiation</td>\n",
       "    </tr>\n",
       "    <tr>\n",
       "      <th>5</th>\n",
       "      <td>wosres:WOS_000070998100010</td>\n",
       "      <td>pain, postoperative</td>\n",
       "    </tr>\n",
       "    <tr>\n",
       "      <th>6</th>\n",
       "      <td>wosres:WOS_000070998100010</td>\n",
       "      <td>analgesics, prescribing</td>\n",
       "    </tr>\n",
       "    <tr>\n",
       "      <th>7</th>\n",
       "      <td>wosres:WOS_000070998900007</td>\n",
       "      <td>DIC</td>\n",
       "    </tr>\n",
       "    <tr>\n",
       "      <th>8</th>\n",
       "      <td>wosres:WOS_000070998900007</td>\n",
       "      <td>Nomarski</td>\n",
       "    </tr>\n",
       "    <tr>\n",
       "      <th>9</th>\n",
       "      <td>wosres:WOS_000070998900007</td>\n",
       "      <td>interference</td>\n",
       "    </tr>\n",
       "    <tr>\n",
       "      <th>10</th>\n",
       "      <td>wosres:WOS_000070998900007</td>\n",
       "      <td>microscopy</td>\n",
       "    </tr>\n",
       "    <tr>\n",
       "      <th>11</th>\n",
       "      <td>wosres:WOS_000070998900007</td>\n",
       "      <td>CCD</td>\n",
       "    </tr>\n",
       "    <tr>\n",
       "      <th>12</th>\n",
       "      <td>wosres:WOS_000070998900007</td>\n",
       "      <td>image processing;</td>\n",
       "    </tr>\n",
       "    <tr>\n",
       "      <th>13</th>\n",
       "      <td>wosres:WOS_000070998900007</td>\n",
       "      <td>analysis</td>\n",
       "    </tr>\n",
       "    <tr>\n",
       "      <th>14</th>\n",
       "      <td>wosres:WOS_000070998900007</td>\n",
       "      <td>reconstruction</td>\n",
       "    </tr>\n",
       "    <tr>\n",
       "      <th>15</th>\n",
       "      <td>wosres:WOS_000070998900007</td>\n",
       "      <td>optical pathlength</td>\n",
       "    </tr>\n",
       "    <tr>\n",
       "      <th>16</th>\n",
       "      <td>wosres:WOS_000070998900007</td>\n",
       "      <td>phase</td>\n",
       "    </tr>\n",
       "    <tr>\n",
       "      <th>17</th>\n",
       "      <td>wosres:WOS_000070998900007</td>\n",
       "      <td>transparent</td>\n",
       "    </tr>\n",
       "    <tr>\n",
       "      <th>18</th>\n",
       "      <td>wosres:WOS_000070998900007</td>\n",
       "      <td>living</td>\n",
       "    </tr>\n",
       "    <tr>\n",
       "      <th>19</th>\n",
       "      <td>wosres:WOS_000071006900008</td>\n",
       "      <td>atherosclerosis</td>\n",
       "    </tr>\n",
       "    <tr>\n",
       "      <th>20</th>\n",
       "      <td>wosres:WOS_000071006900008</td>\n",
       "      <td>homocysteine</td>\n",
       "    </tr>\n",
       "    <tr>\n",
       "      <th>21</th>\n",
       "      <td>wosres:WOS_000071006900008</td>\n",
       "      <td>metformin</td>\n",
       "    </tr>\n",
       "    <tr>\n",
       "      <th>22</th>\n",
       "      <td>wosres:WOS_000071006900008</td>\n",
       "      <td>vitamin B-12</td>\n",
       "    </tr>\n",
       "    <tr>\n",
       "      <th>23</th>\n",
       "      <td>wosres:WOS_000071013000007</td>\n",
       "      <td>policy</td>\n",
       "    </tr>\n",
       "    <tr>\n",
       "      <th>24</th>\n",
       "      <td>wosres:WOS_000071013000007</td>\n",
       "      <td>household economics</td>\n",
       "    </tr>\n",
       "    <tr>\n",
       "      <th>25</th>\n",
       "      <td>wosres:WOS_000071013000007</td>\n",
       "      <td>sub-Saharan Africa</td>\n",
       "    </tr>\n",
       "    <tr>\n",
       "      <th>26</th>\n",
       "      <td>wosres:WOS_000071013000007</td>\n",
       "      <td>Swaziland</td>\n",
       "    </tr>\n",
       "    <tr>\n",
       "      <th>27</th>\n",
       "      <td>wosres:WOS_000071013000007</td>\n",
       "      <td>labor migration</td>\n",
       "    </tr>\n",
       "    <tr>\n",
       "      <th>28</th>\n",
       "      <td>wosres:WOS_000071013000007</td>\n",
       "      <td>food security</td>\n",
       "    </tr>\n",
       "    <tr>\n",
       "      <th>29</th>\n",
       "      <td>wosres:WOS_000071013000007</td>\n",
       "      <td>labor</td>\n",
       "    </tr>\n",
       "    <tr>\n",
       "      <th>30</th>\n",
       "      <td>wosres:WOS_000071021600006</td>\n",
       "      <td>nitric oxide radical</td>\n",
       "    </tr>\n",
       "    <tr>\n",
       "      <th>31</th>\n",
       "      <td>wosres:WOS_000071021600006</td>\n",
       "      <td>NO scavenging</td>\n",
       "    </tr>\n",
       "    <tr>\n",
       "      <th>32</th>\n",
       "      <td>wosres:WOS_000071021600006</td>\n",
       "      <td>thiol</td>\n",
       "    </tr>\n",
       "    <tr>\n",
       "      <th>33</th>\n",
       "      <td>wosres:WOS_000071021600006</td>\n",
       "      <td>S-nitrosothiol</td>\n",
       "    </tr>\n",
       "    <tr>\n",
       "      <th>34</th>\n",
       "      <td>wosres:WOS_000071021600006</td>\n",
       "      <td>(electrochemical)</td>\n",
       "    </tr>\n",
       "    <tr>\n",
       "      <th>35</th>\n",
       "      <td>wosres:WOS_000071021600006</td>\n",
       "      <td>NO sensing</td>\n",
       "    </tr>\n",
       "    <tr>\n",
       "      <th>36</th>\n",
       "      <td>wosres:WOS_000071040300005</td>\n",
       "      <td>lumbar spine</td>\n",
       "    </tr>\n",
       "    <tr>\n",
       "      <th>37</th>\n",
       "      <td>wosres:WOS_000071040300005</td>\n",
       "      <td>vertebra</td>\n",
       "    </tr>\n",
       "    <tr>\n",
       "      <th>38</th>\n",
       "      <td>wosres:WOS_000071040300005</td>\n",
       "      <td>trabecular bone</td>\n",
       "    </tr>\n",
       "    <tr>\n",
       "      <th>39</th>\n",
       "      <td>wosres:WOS_000071040300005</td>\n",
       "      <td>Wolff's Law</td>\n",
       "    </tr>\n",
       "    <tr>\n",
       "      <th>40</th>\n",
       "      <td>wosres:WOS_000071040300005</td>\n",
       "      <td>intervertebral</td>\n",
       "    </tr>\n",
       "  </tbody>\n",
       "</table>\n",
       "</div>"
      ],
      "text/plain": [
       "                 wosArticleUri           authorKeywords\n",
       "0   wosres:WOS_000070970500011         Elymus athericus\n",
       "1   wosres:WOS_000070970500011                   growth\n",
       "2   wosres:WOS_000070970500011           photosynthesis\n",
       "3   wosres:WOS_000070970500011                    ozone\n",
       "4   wosres:WOS_000070970500011           UV-B radiation\n",
       "5   wosres:WOS_000070998100010      pain, postoperative\n",
       "6   wosres:WOS_000070998100010  analgesics, prescribing\n",
       "7   wosres:WOS_000070998900007                      DIC\n",
       "8   wosres:WOS_000070998900007                 Nomarski\n",
       "9   wosres:WOS_000070998900007             interference\n",
       "10  wosres:WOS_000070998900007               microscopy\n",
       "11  wosres:WOS_000070998900007                      CCD\n",
       "12  wosres:WOS_000070998900007        image processing;\n",
       "13  wosres:WOS_000070998900007                 analysis\n",
       "14  wosres:WOS_000070998900007           reconstruction\n",
       "15  wosres:WOS_000070998900007       optical pathlength\n",
       "16  wosres:WOS_000070998900007                    phase\n",
       "17  wosres:WOS_000070998900007              transparent\n",
       "18  wosres:WOS_000070998900007                   living\n",
       "19  wosres:WOS_000071006900008          atherosclerosis\n",
       "20  wosres:WOS_000071006900008             homocysteine\n",
       "21  wosres:WOS_000071006900008                metformin\n",
       "22  wosres:WOS_000071006900008             vitamin B-12\n",
       "23  wosres:WOS_000071013000007                   policy\n",
       "24  wosres:WOS_000071013000007      household economics\n",
       "25  wosres:WOS_000071013000007       sub-Saharan Africa\n",
       "26  wosres:WOS_000071013000007                Swaziland\n",
       "27  wosres:WOS_000071013000007          labor migration\n",
       "28  wosres:WOS_000071013000007            food security\n",
       "29  wosres:WOS_000071013000007                    labor\n",
       "30  wosres:WOS_000071021600006     nitric oxide radical\n",
       "31  wosres:WOS_000071021600006            NO scavenging\n",
       "32  wosres:WOS_000071021600006                    thiol\n",
       "33  wosres:WOS_000071021600006           S-nitrosothiol\n",
       "34  wosres:WOS_000071021600006        (electrochemical)\n",
       "35  wosres:WOS_000071021600006               NO sensing\n",
       "36  wosres:WOS_000071040300005             lumbar spine\n",
       "37  wosres:WOS_000071040300005                 vertebra\n",
       "38  wosres:WOS_000071040300005          trabecular bone\n",
       "39  wosres:WOS_000071040300005              Wolff's Law\n",
       "40  wosres:WOS_000071040300005           intervertebral"
      ]
     },
     "execution_count": 18,
     "metadata": {
      "tags": []
     },
     "output_type": "execute_result"
    }
   ],
   "source": [
    "ids_vs_keywords = Data_Frame(ids_vs_keywords)\n",
    "ids_vs_keywords.tokenize_string_column(string_column_name='authorKeywords', \n",
    "                                       id_column_name='wosArticleUri', \n",
    "                                       delimiter_pattern_in_literal_cells='; ')\n",
    "ids_vs_keywords.dataframe"
   ]
  },
  {
   "cell_type": "markdown",
   "metadata": {
    "colab_type": "text",
    "id": "KANB3H-P4-6o"
   },
   "source": [
    "(3) Tokenized keywords contain items such as \"Wolff's Law\" and \"(electrochemical)\". They need to be cleaned from special characters:"
   ]
  },
  {
   "cell_type": "code",
   "execution_count": 0,
   "metadata": {
    "colab": {
     "autoexec": {
      "startup": false,
      "wait_interval": 0
     }
    },
    "colab_type": "code",
    "id": "G5bNkuYS4-6q",
    "outputId": "a9af680d-d372-4c0a-8c6c-7946ad778764"
   },
   "outputs": [
    {
     "data": {
      "text/html": [
       "<div>\n",
       "<table border=\"1\" class=\"dataframe\">\n",
       "  <thead>\n",
       "    <tr style=\"text-align: right;\">\n",
       "      <th></th>\n",
       "      <th>wosArticleUri</th>\n",
       "      <th>authorKeywords</th>\n",
       "    </tr>\n",
       "  </thead>\n",
       "  <tbody>\n",
       "    <tr>\n",
       "      <th>0</th>\n",
       "      <td>wosres:WOS_000070970500011</td>\n",
       "      <td>Elymus athericus</td>\n",
       "    </tr>\n",
       "    <tr>\n",
       "      <th>1</th>\n",
       "      <td>wosres:WOS_000070970500011</td>\n",
       "      <td>growth</td>\n",
       "    </tr>\n",
       "    <tr>\n",
       "      <th>2</th>\n",
       "      <td>wosres:WOS_000070970500011</td>\n",
       "      <td>photosynthesis</td>\n",
       "    </tr>\n",
       "    <tr>\n",
       "      <th>3</th>\n",
       "      <td>wosres:WOS_000070970500011</td>\n",
       "      <td>ozone</td>\n",
       "    </tr>\n",
       "    <tr>\n",
       "      <th>4</th>\n",
       "      <td>wosres:WOS_000070970500011</td>\n",
       "      <td>UV-B radiation</td>\n",
       "    </tr>\n",
       "    <tr>\n",
       "      <th>5</th>\n",
       "      <td>wosres:WOS_000070998100010</td>\n",
       "      <td>pain, postoperative</td>\n",
       "    </tr>\n",
       "    <tr>\n",
       "      <th>6</th>\n",
       "      <td>wosres:WOS_000070998100010</td>\n",
       "      <td>analgesics, prescribing</td>\n",
       "    </tr>\n",
       "    <tr>\n",
       "      <th>7</th>\n",
       "      <td>wosres:WOS_000070998900007</td>\n",
       "      <td>DIC</td>\n",
       "    </tr>\n",
       "    <tr>\n",
       "      <th>8</th>\n",
       "      <td>wosres:WOS_000070998900007</td>\n",
       "      <td>Nomarski</td>\n",
       "    </tr>\n",
       "    <tr>\n",
       "      <th>9</th>\n",
       "      <td>wosres:WOS_000070998900007</td>\n",
       "      <td>interference</td>\n",
       "    </tr>\n",
       "    <tr>\n",
       "      <th>10</th>\n",
       "      <td>wosres:WOS_000070998900007</td>\n",
       "      <td>microscopy</td>\n",
       "    </tr>\n",
       "    <tr>\n",
       "      <th>11</th>\n",
       "      <td>wosres:WOS_000070998900007</td>\n",
       "      <td>CCD</td>\n",
       "    </tr>\n",
       "    <tr>\n",
       "      <th>12</th>\n",
       "      <td>wosres:WOS_000070998900007</td>\n",
       "      <td>image processing;</td>\n",
       "    </tr>\n",
       "    <tr>\n",
       "      <th>13</th>\n",
       "      <td>wosres:WOS_000070998900007</td>\n",
       "      <td>analysis</td>\n",
       "    </tr>\n",
       "    <tr>\n",
       "      <th>14</th>\n",
       "      <td>wosres:WOS_000070998900007</td>\n",
       "      <td>reconstruction</td>\n",
       "    </tr>\n",
       "    <tr>\n",
       "      <th>15</th>\n",
       "      <td>wosres:WOS_000070998900007</td>\n",
       "      <td>optical pathlength</td>\n",
       "    </tr>\n",
       "    <tr>\n",
       "      <th>16</th>\n",
       "      <td>wosres:WOS_000070998900007</td>\n",
       "      <td>phase</td>\n",
       "    </tr>\n",
       "    <tr>\n",
       "      <th>17</th>\n",
       "      <td>wosres:WOS_000070998900007</td>\n",
       "      <td>transparent</td>\n",
       "    </tr>\n",
       "    <tr>\n",
       "      <th>18</th>\n",
       "      <td>wosres:WOS_000070998900007</td>\n",
       "      <td>living</td>\n",
       "    </tr>\n",
       "    <tr>\n",
       "      <th>19</th>\n",
       "      <td>wosres:WOS_000071006900008</td>\n",
       "      <td>atherosclerosis</td>\n",
       "    </tr>\n",
       "    <tr>\n",
       "      <th>20</th>\n",
       "      <td>wosres:WOS_000071006900008</td>\n",
       "      <td>homocysteine</td>\n",
       "    </tr>\n",
       "    <tr>\n",
       "      <th>21</th>\n",
       "      <td>wosres:WOS_000071006900008</td>\n",
       "      <td>metformin</td>\n",
       "    </tr>\n",
       "    <tr>\n",
       "      <th>22</th>\n",
       "      <td>wosres:WOS_000071006900008</td>\n",
       "      <td>vitamin B-12</td>\n",
       "    </tr>\n",
       "    <tr>\n",
       "      <th>23</th>\n",
       "      <td>wosres:WOS_000071013000007</td>\n",
       "      <td>policy</td>\n",
       "    </tr>\n",
       "    <tr>\n",
       "      <th>24</th>\n",
       "      <td>wosres:WOS_000071013000007</td>\n",
       "      <td>household economics</td>\n",
       "    </tr>\n",
       "    <tr>\n",
       "      <th>25</th>\n",
       "      <td>wosres:WOS_000071013000007</td>\n",
       "      <td>sub-Saharan Africa</td>\n",
       "    </tr>\n",
       "    <tr>\n",
       "      <th>26</th>\n",
       "      <td>wosres:WOS_000071013000007</td>\n",
       "      <td>Swaziland</td>\n",
       "    </tr>\n",
       "    <tr>\n",
       "      <th>27</th>\n",
       "      <td>wosres:WOS_000071013000007</td>\n",
       "      <td>labor migration</td>\n",
       "    </tr>\n",
       "    <tr>\n",
       "      <th>28</th>\n",
       "      <td>wosres:WOS_000071013000007</td>\n",
       "      <td>food security</td>\n",
       "    </tr>\n",
       "    <tr>\n",
       "      <th>29</th>\n",
       "      <td>wosres:WOS_000071013000007</td>\n",
       "      <td>labor</td>\n",
       "    </tr>\n",
       "    <tr>\n",
       "      <th>30</th>\n",
       "      <td>wosres:WOS_000071021600006</td>\n",
       "      <td>nitric oxide radical</td>\n",
       "    </tr>\n",
       "    <tr>\n",
       "      <th>31</th>\n",
       "      <td>wosres:WOS_000071021600006</td>\n",
       "      <td>NO scavenging</td>\n",
       "    </tr>\n",
       "    <tr>\n",
       "      <th>32</th>\n",
       "      <td>wosres:WOS_000071021600006</td>\n",
       "      <td>thiol</td>\n",
       "    </tr>\n",
       "    <tr>\n",
       "      <th>33</th>\n",
       "      <td>wosres:WOS_000071021600006</td>\n",
       "      <td>S-nitrosothiol</td>\n",
       "    </tr>\n",
       "    <tr>\n",
       "      <th>34</th>\n",
       "      <td>wosres:WOS_000071021600006</td>\n",
       "      <td>electrochemical</td>\n",
       "    </tr>\n",
       "    <tr>\n",
       "      <th>35</th>\n",
       "      <td>wosres:WOS_000071021600006</td>\n",
       "      <td>NO sensing</td>\n",
       "    </tr>\n",
       "    <tr>\n",
       "      <th>36</th>\n",
       "      <td>wosres:WOS_000071040300005</td>\n",
       "      <td>lumbar spine</td>\n",
       "    </tr>\n",
       "    <tr>\n",
       "      <th>37</th>\n",
       "      <td>wosres:WOS_000071040300005</td>\n",
       "      <td>vertebra</td>\n",
       "    </tr>\n",
       "    <tr>\n",
       "      <th>38</th>\n",
       "      <td>wosres:WOS_000071040300005</td>\n",
       "      <td>trabecular bone</td>\n",
       "    </tr>\n",
       "    <tr>\n",
       "      <th>39</th>\n",
       "      <td>wosres:WOS_000071040300005</td>\n",
       "      <td>Wolffs Law</td>\n",
       "    </tr>\n",
       "    <tr>\n",
       "      <th>40</th>\n",
       "      <td>wosres:WOS_000071040300005</td>\n",
       "      <td>intervertebral</td>\n",
       "    </tr>\n",
       "  </tbody>\n",
       "</table>\n",
       "</div>"
      ],
      "text/plain": [
       "                 wosArticleUri           authorKeywords\n",
       "0   wosres:WOS_000070970500011         Elymus athericus\n",
       "1   wosres:WOS_000070970500011                   growth\n",
       "2   wosres:WOS_000070970500011           photosynthesis\n",
       "3   wosres:WOS_000070970500011                    ozone\n",
       "4   wosres:WOS_000070970500011           UV-B radiation\n",
       "5   wosres:WOS_000070998100010      pain, postoperative\n",
       "6   wosres:WOS_000070998100010  analgesics, prescribing\n",
       "7   wosres:WOS_000070998900007                      DIC\n",
       "8   wosres:WOS_000070998900007                 Nomarski\n",
       "9   wosres:WOS_000070998900007             interference\n",
       "10  wosres:WOS_000070998900007               microscopy\n",
       "11  wosres:WOS_000070998900007                      CCD\n",
       "12  wosres:WOS_000070998900007        image processing;\n",
       "13  wosres:WOS_000070998900007                 analysis\n",
       "14  wosres:WOS_000070998900007           reconstruction\n",
       "15  wosres:WOS_000070998900007       optical pathlength\n",
       "16  wosres:WOS_000070998900007                    phase\n",
       "17  wosres:WOS_000070998900007              transparent\n",
       "18  wosres:WOS_000070998900007                   living\n",
       "19  wosres:WOS_000071006900008          atherosclerosis\n",
       "20  wosres:WOS_000071006900008             homocysteine\n",
       "21  wosres:WOS_000071006900008                metformin\n",
       "22  wosres:WOS_000071006900008             vitamin B-12\n",
       "23  wosres:WOS_000071013000007                   policy\n",
       "24  wosres:WOS_000071013000007      household economics\n",
       "25  wosres:WOS_000071013000007       sub-Saharan Africa\n",
       "26  wosres:WOS_000071013000007                Swaziland\n",
       "27  wosres:WOS_000071013000007          labor migration\n",
       "28  wosres:WOS_000071013000007            food security\n",
       "29  wosres:WOS_000071013000007                    labor\n",
       "30  wosres:WOS_000071021600006     nitric oxide radical\n",
       "31  wosres:WOS_000071021600006            NO scavenging\n",
       "32  wosres:WOS_000071021600006                    thiol\n",
       "33  wosres:WOS_000071021600006           S-nitrosothiol\n",
       "34  wosres:WOS_000071021600006          electrochemical\n",
       "35  wosres:WOS_000071021600006               NO sensing\n",
       "36  wosres:WOS_000071040300005             lumbar spine\n",
       "37  wosres:WOS_000071040300005                 vertebra\n",
       "38  wosres:WOS_000071040300005          trabecular bone\n",
       "39  wosres:WOS_000071040300005               Wolffs Law\n",
       "40  wosres:WOS_000071040300005           intervertebral"
      ]
     },
     "execution_count": 19,
     "metadata": {
      "tags": []
     },
     "output_type": "execute_result"
    }
   ],
   "source": [
    "ids_vs_keywords.purify_column(target_column_name='authorKeywords')\n",
    "ids_vs_keywords.dataframe"
   ]
  },
  {
   "cell_type": "markdown",
   "metadata": {
    "colab_type": "text",
    "id": "_R9LelU24-6u"
   },
   "source": [
    "(4) Collapse "
   ]
  },
  {
   "cell_type": "code",
   "execution_count": 0,
   "metadata": {
    "colab": {
     "autoexec": {
      "startup": false,
      "wait_interval": 0
     }
    },
    "colab_type": "code",
    "id": "8X7Lvs6e4-6u",
    "outputId": "997d00e9-d007-488f-cbfe-8ef096bbd950"
   },
   "outputs": [
    {
     "data": {
      "text/html": [
       "<div>\n",
       "<table border=\"1\" class=\"dataframe\">\n",
       "  <thead>\n",
       "    <tr style=\"text-align: right;\">\n",
       "      <th></th>\n",
       "      <th>wosArticleUri</th>\n",
       "      <th>authorKeywords</th>\n",
       "    </tr>\n",
       "  </thead>\n",
       "  <tbody>\n",
       "    <tr>\n",
       "      <th>0</th>\n",
       "      <td>wosres:WOS_000070970500011</td>\n",
       "      <td>[Elymus athericus, growth, photosynthesis, ozone, UV-B radiation]</td>\n",
       "    </tr>\n",
       "    <tr>\n",
       "      <th>1</th>\n",
       "      <td>wosres:WOS_000070998100010</td>\n",
       "      <td>[pain, postoperative, analgesics, prescribing]</td>\n",
       "    </tr>\n",
       "    <tr>\n",
       "      <th>2</th>\n",
       "      <td>wosres:WOS_000070998900007</td>\n",
       "      <td>[DIC, Nomarski, interference, microscopy, CCD, image processing;, analysis, reconstruction, opti...</td>\n",
       "    </tr>\n",
       "    <tr>\n",
       "      <th>3</th>\n",
       "      <td>wosres:WOS_000071006900008</td>\n",
       "      <td>[atherosclerosis, homocysteine, metformin, vitamin B-12]</td>\n",
       "    </tr>\n",
       "    <tr>\n",
       "      <th>4</th>\n",
       "      <td>wosres:WOS_000071013000007</td>\n",
       "      <td>[policy, household economics, sub-Saharan Africa, Swaziland, labor migration, food security, labor]</td>\n",
       "    </tr>\n",
       "    <tr>\n",
       "      <th>5</th>\n",
       "      <td>wosres:WOS_000071021600006</td>\n",
       "      <td>[nitric oxide radical, NO scavenging, thiol, S-nitrosothiol, electrochemical, NO sensing]</td>\n",
       "    </tr>\n",
       "    <tr>\n",
       "      <th>6</th>\n",
       "      <td>wosres:WOS_000071040300005</td>\n",
       "      <td>[lumbar spine, vertebra, trabecular bone, Wolffs Law, intervertebral]</td>\n",
       "    </tr>\n",
       "  </tbody>\n",
       "</table>\n",
       "</div>"
      ],
      "text/plain": [
       "                wosArticleUri  \\\n",
       "0  wosres:WOS_000070970500011   \n",
       "1  wosres:WOS_000070998100010   \n",
       "2  wosres:WOS_000070998900007   \n",
       "3  wosres:WOS_000071006900008   \n",
       "4  wosres:WOS_000071013000007   \n",
       "5  wosres:WOS_000071021600006   \n",
       "6  wosres:WOS_000071040300005   \n",
       "\n",
       "                                                                                        authorKeywords  \n",
       "0                                    [Elymus athericus, growth, photosynthesis, ozone, UV-B radiation]  \n",
       "1                                                       [pain, postoperative, analgesics, prescribing]  \n",
       "2  [DIC, Nomarski, interference, microscopy, CCD, image processing;, analysis, reconstruction, opti...  \n",
       "3                                             [atherosclerosis, homocysteine, metformin, vitamin B-12]  \n",
       "4  [policy, household economics, sub-Saharan Africa, Swaziland, labor migration, food security, labor]  \n",
       "5            [nitric oxide radical, NO scavenging, thiol, S-nitrosothiol, electrochemical, NO sensing]  \n",
       "6                                [lumbar spine, vertebra, trabecular bone, Wolffs Law, intervertebral]  "
      ]
     },
     "execution_count": 20,
     "metadata": {
      "tags": []
     },
     "output_type": "execute_result"
    }
   ],
   "source": [
    "ids_vs_keywords = ids_vs_keywords.collapse_dataframe_on_column(values_column_name='authorKeywords', identifier_column_name='wosArticleUri')\n",
    "ids_vs_keywords.dataframe"
   ]
  },
  {
   "cell_type": "markdown",
   "metadata": {
    "colab_type": "text",
    "id": "RtmPYEng4-6y"
   },
   "source": [
    "(5) Prepare strings to be later passed on to VALUES keyword in Gastrodon_Query:<br>\n",
    "(This alleviates the need to send one SPARQL query per keyword, and instead, will be used to group keywords per article ID using the VALUES keyword)"
   ]
  },
  {
   "cell_type": "code",
   "execution_count": 0,
   "metadata": {
    "colab": {
     "autoexec": {
      "startup": false,
      "wait_interval": 0
     }
    },
    "colab_type": "code",
    "id": "PXYJdBwV4-6y"
   },
   "outputs": [],
   "source": [
    "from retriever.sparql_tools import Sparql_Parameter"
   ]
  },
  {
   "cell_type": "code",
   "execution_count": 0,
   "metadata": {
    "colab": {
     "autoexec": {
      "startup": false,
      "wait_interval": 0
     }
    },
    "colab_type": "code",
    "id": "u5mzA-QW4-60",
    "outputId": "0fbdbe3f-2cae-45e1-da2f-201179c439d7"
   },
   "outputs": [
    {
     "data": {
      "text/html": [
       "<div>\n",
       "<table border=\"1\" class=\"dataframe\">\n",
       "  <thead>\n",
       "    <tr style=\"text-align: right;\">\n",
       "      <th></th>\n",
       "      <th>wosArticleUri</th>\n",
       "      <th>authorKeywords</th>\n",
       "    </tr>\n",
       "  </thead>\n",
       "  <tbody>\n",
       "    <tr>\n",
       "      <th>0</th>\n",
       "      <td>wosres:WOS_000070970500011</td>\n",
       "      <td>\"Elymus athericus\" \"growth\" \"photosynthesis\" \"ozone\" \"UV-B radiation\"</td>\n",
       "    </tr>\n",
       "    <tr>\n",
       "      <th>1</th>\n",
       "      <td>wosres:WOS_000070998100010</td>\n",
       "      <td>\"pain, postoperative\" \"analgesics, prescribing\"</td>\n",
       "    </tr>\n",
       "    <tr>\n",
       "      <th>2</th>\n",
       "      <td>wosres:WOS_000070998900007</td>\n",
       "      <td>\"DIC\" \"Nomarski\" \"interference\" \"microscopy\" \"CCD\" \"image processing;\" \"analysis\" \"reconstructio...</td>\n",
       "    </tr>\n",
       "    <tr>\n",
       "      <th>3</th>\n",
       "      <td>wosres:WOS_000071006900008</td>\n",
       "      <td>\"atherosclerosis\" \"homocysteine\" \"metformin\" \"vitamin B-12\"</td>\n",
       "    </tr>\n",
       "    <tr>\n",
       "      <th>4</th>\n",
       "      <td>wosres:WOS_000071013000007</td>\n",
       "      <td>\"policy\" \"household economics\" \"sub-Saharan Africa\" \"Swaziland\" \"labor migration\" \"food security...</td>\n",
       "    </tr>\n",
       "    <tr>\n",
       "      <th>5</th>\n",
       "      <td>wosres:WOS_000071021600006</td>\n",
       "      <td>\"nitric oxide radical\" \"NO scavenging\" \"thiol\" \"S-nitrosothiol\" \"electrochemical\" \"NO sensing\"</td>\n",
       "    </tr>\n",
       "    <tr>\n",
       "      <th>6</th>\n",
       "      <td>wosres:WOS_000071040300005</td>\n",
       "      <td>\"lumbar spine\" \"vertebra\" \"trabecular bone\" \"Wolffs Law\" \"intervertebral\"</td>\n",
       "    </tr>\n",
       "  </tbody>\n",
       "</table>\n",
       "</div>"
      ],
      "text/plain": [
       "                wosArticleUri  \\\n",
       "0  wosres:WOS_000070970500011   \n",
       "1  wosres:WOS_000070998100010   \n",
       "2  wosres:WOS_000070998900007   \n",
       "3  wosres:WOS_000071006900008   \n",
       "4  wosres:WOS_000071013000007   \n",
       "5  wosres:WOS_000071021600006   \n",
       "6  wosres:WOS_000071040300005   \n",
       "\n",
       "                                                                                        authorKeywords  \n",
       "0                                \"Elymus athericus\" \"growth\" \"photosynthesis\" \"ozone\" \"UV-B radiation\"  \n",
       "1                                                      \"pain, postoperative\" \"analgesics, prescribing\"  \n",
       "2  \"DIC\" \"Nomarski\" \"interference\" \"microscopy\" \"CCD\" \"image processing;\" \"analysis\" \"reconstructio...  \n",
       "3                                          \"atherosclerosis\" \"homocysteine\" \"metformin\" \"vitamin B-12\"  \n",
       "4  \"policy\" \"household economics\" \"sub-Saharan Africa\" \"Swaziland\" \"labor migration\" \"food security...  \n",
       "5       \"nitric oxide radical\" \"NO scavenging\" \"thiol\" \"S-nitrosothiol\" \"electrochemical\" \"NO sensing\"  \n",
       "6                            \"lumbar spine\" \"vertebra\" \"trabecular bone\" \"Wolffs Law\" \"intervertebral\"  "
      ]
     },
     "execution_count": 22,
     "metadata": {
      "tags": []
     },
     "output_type": "execute_result"
    }
   ],
   "source": [
    "author_keywors_column = ids_vs_keywords.dataframe['authorKeywords']\n",
    "\n",
    "parameterized_keywords_series = Sparql_Parameter.Values_Parameter_Series()\n",
    "parameterized_keywords_series.import_and_convert_pandas_series(author_keywors_column)\n",
    "\n",
    "ids_vs_keywords.dataframe['authorKeywords'] = parameterized_keywords_series.series\n",
    "ids_vs_keywords.dataframe"
   ]
  },
  {
   "cell_type": "markdown",
   "metadata": {
    "colab_type": "text",
    "id": "EaXOxqOu4-64"
   },
   "source": [
    "(6) Update the test graph using the parameterised keywords:"
   ]
  },
  {
   "cell_type": "code",
   "execution_count": 0,
   "metadata": {
    "colab": {
     "autoexec": {
      "startup": false,
      "wait_interval": 0
     }
    },
    "colab_type": "code",
    "id": "gjXia9eJ4-64",
    "outputId": "72602a9d-efa3-44a0-f140-5cc307654d85"
   },
   "outputs": [
    {
     "name": "stdout",
     "output_type": "stream",
     "text": [
      "\"Elymus athericus\" \"growth\" \"photosynthesis\" \"ozone\" \"UV-B radiation\"\n",
      "\"pain, postoperative\" \"analgesics, prescribing\"\n",
      "\"DIC\" \"Nomarski\" \"interference\" \"microscopy\" \"CCD\" \"image processing;\" \"analysis\" \"reconstruction\" \"optical pathlength\" \"phase\" \"transparent\" \"living\"\n",
      "\"atherosclerosis\" \"homocysteine\" \"metformin\" \"vitamin B-12\"\n",
      "\"policy\" \"household economics\" \"sub-Saharan Africa\" \"Swaziland\" \"labor migration\" \"food security\" \"labor\"\n",
      "\"nitric oxide radical\" \"NO scavenging\" \"thiol\" \"S-nitrosothiol\" \"electrochemical\" \"NO sensing\"\n",
      "\"lumbar spine\" \"vertebra\" \"trabecular bone\" \"Wolffs Law\" \"intervertebral\"\n"
     ]
    }
   ],
   "source": [
    "for each_parameter_string in ids_vs_keywords.dataframe['authorKeywords']:\n",
    "    print(each_parameter_string)"
   ]
  },
  {
   "cell_type": "markdown",
   "metadata": {
    "colab_type": "text",
    "id": "VoR0GPLC4-7I"
   },
   "source": [
    "Iterate over rows as tuples:"
   ]
  },
  {
   "cell_type": "code",
   "execution_count": 0,
   "metadata": {
    "colab": {
     "autoexec": {
      "startup": false,
      "wait_interval": 0
     }
    },
    "colab_type": "code",
    "id": "80vhJ50Y4-7K",
    "outputId": "4370333d-b46e-4d27-a66d-370ebccda201"
   },
   "outputs": [
    {
     "name": "stdout",
     "output_type": "stream",
     "text": [
      "Pandas(Index=0, _1=1, _2=10)\n",
      "Pandas(Index=1, _1=2, _2=20)\n",
      "Pandas(Index=2, _1=3, _2=30)\n"
     ]
    }
   ],
   "source": [
    "for each_row in df.itertuples():\n",
    "    print(each_row)"
   ]
  },
  {
   "cell_type": "markdown",
   "metadata": {
    "colab_type": "text",
    "id": "3gcD-MwO4-7Q"
   },
   "source": [
    "Iterate over tuples and access variables:"
   ]
  },
  {
   "cell_type": "code",
   "execution_count": 0,
   "metadata": {
    "colab": {
     "autoexec": {
      "startup": false,
      "wait_interval": 0
     }
    },
    "colab_type": "code",
    "id": "2YEKHNPp4-7S",
    "outputId": "e9176868-8245-4b5e-e58d-ab6619f86de4"
   },
   "outputs": [
    {
     "name": "stdout",
     "output_type": "stream",
     "text": [
      "row_index:0, value1:1 value2:10\n",
      "row_index:1, value1:2 value2:20\n",
      "row_index:2, value1:3 value2:30\n"
     ]
    }
   ],
   "source": [
    "for each_row in df.itertuples():\n",
    "    print ('row_index:%d, value1:%a value2:%d'%(each_row[0], each_row[1], each_row[2]))"
   ]
  },
  {
   "cell_type": "markdown",
   "metadata": {
    "colab_type": "text",
    "id": "pbAkElMI4-7Y"
   },
   "source": [
    "### Iterate over Columns"
   ]
  },
  {
   "cell_type": "code",
   "execution_count": 0,
   "metadata": {
    "colab": {
     "autoexec": {
      "startup": false,
      "wait_interval": 0
     }
    },
    "colab_type": "code",
    "id": "0iYMcQz_4-7Y",
    "outputId": "1a78dbd3-2bf3-42b2-a228-1d9b5a32894b"
   },
   "outputs": [
    {
     "name": "stdout",
     "output_type": "stream",
     "text": [
      "0    1\n",
      "1    2\n",
      "2    3\n",
      "Name: Column A, dtype: int64\n",
      "0    10\n",
      "1    20\n",
      "2    30\n",
      "Name: Column B, dtype: int64\n"
     ]
    }
   ],
   "source": [
    "for each_column in df:\n",
    "    print(df[each_column])"
   ]
  },
  {
   "cell_type": "markdown",
   "metadata": {
    "colab_type": "text",
    "id": "TloEzft54-7a"
   },
   "source": [
    "Advanced iteration - Extract column names, cell values, and row indexes:"
   ]
  },
  {
   "cell_type": "code",
   "execution_count": 0,
   "metadata": {
    "colab": {
     "autoexec": {
      "startup": false,
      "wait_interval": 0
     }
    },
    "colab_type": "code",
    "id": "HYKv3RTz4-7a",
    "outputId": "d9bf6dca-f538-4848-f9cc-f97bcbe88fbe"
   },
   "outputs": [
    {
     "name": "stdout",
     "output_type": "stream",
     "text": [
      "Column A 0: 1\n",
      "Column A 1: 2\n",
      "Column A 2: 3\n",
      "Column B 0: 10\n",
      "Column B 1: 20\n",
      "Column B 2: 30\n"
     ]
    }
   ],
   "source": [
    "for name, values in df.iteritems():\n",
    "    values_series=values.values\n",
    "    index_series=values.index.values\n",
    "    \n",
    "    for i in index_series:\n",
    "        print('{name} {index}: {value}'.format(name=name, index=index_series[i], value=values_series[i]))"
   ]
  },
  {
   "cell_type": "markdown",
   "metadata": {
    "colab_type": "text",
    "id": "X8VaixUf4-7k"
   },
   "source": [
    "## Querying a Dataframe"
   ]
  },
  {
   "cell_type": "code",
   "execution_count": 0,
   "metadata": {
    "colab": {
     "autoexec": {
      "startup": false,
      "wait_interval": 0
     }
    },
    "colab_type": "code",
    "id": "PushtsYB4-7m"
   },
   "outputs": [],
   "source": [
    "import pandas\n",
    "df = pandas.DataFrame({'Column A': [1, 2],\n",
    "                       'Column B': ['a', 'b'],\n",
    "                       'Column C': [True, True]\n",
    "})"
   ]
  },
  {
   "cell_type": "markdown",
   "metadata": {
    "colab_type": "text",
    "id": "VwBc4QzI4-7o"
   },
   "source": [
    "### Dimensions\n",
    "***.shape***"
   ]
  },
  {
   "cell_type": "markdown",
   "metadata": {
    "colab_type": "text",
    "id": "4DhcJtts4-7q"
   },
   "source": [
    "Rerturn a tuple in the form of \"(no_of_rows, no_of_columns)\""
   ]
  },
  {
   "cell_type": "code",
   "execution_count": 0,
   "metadata": {
    "colab": {
     "autoexec": {
      "startup": false,
      "wait_interval": 0
     }
    },
    "colab_type": "code",
    "id": "wUz6BFYc4-7q",
    "outputId": "32da6dc8-b673-48da-ee1e-d386890004f9"
   },
   "outputs": [
    {
     "data": {
      "text/plain": [
       "(2, 3)"
      ]
     },
     "execution_count": 57,
     "metadata": {
      "tags": []
     },
     "output_type": "execute_result"
    }
   ],
   "source": [
    "df.shape  # the dataframe has 2 rows and 3 columns"
   ]
  },
  {
   "cell_type": "markdown",
   "metadata": {
    "colab_type": "text",
    "id": "6GoFG3V04-7u"
   },
   "source": [
    "### Column Type\n",
    "***.dtypes() | .dtype***"
   ]
  },
  {
   "cell_type": "code",
   "execution_count": 0,
   "metadata": {
    "colab": {
     "autoexec": {
      "startup": false,
      "wait_interval": 0
     }
    },
    "colab_type": "code",
    "id": "KpjlJrqL4-7u",
    "outputId": "42c0e9f1-0253-4429-dab1-cf2cdaa0ca89"
   },
   "outputs": [
    {
     "data": {
      "text/plain": [
       "Column A     int64\n",
       "Column B    object\n",
       "Column C      bool\n",
       "dtype: object"
      ]
     },
     "execution_count": 58,
     "metadata": {
      "tags": []
     },
     "output_type": "execute_result"
    }
   ],
   "source": [
    "df.dtypes"
   ]
  },
  {
   "cell_type": "code",
   "execution_count": 0,
   "metadata": {
    "colab": {
     "autoexec": {
      "startup": false,
      "wait_interval": 0
     }
    },
    "colab_type": "code",
    "id": "SIt-E9Dh4-7w",
    "outputId": "76a96cb3-3dd8-4e57-8716-c8f8b2fd55ed"
   },
   "outputs": [
    {
     "name": "stdout",
     "output_type": "stream",
     "text": [
      "int64\n",
      "object\n",
      "bool\n"
     ]
    }
   ],
   "source": [
    "print(df['Column A'].dtype)\n",
    "print(df['Column B'].dtype)\n",
    "print(df['Column C'].dtype)"
   ]
  },
  {
   "cell_type": "code",
   "execution_count": 0,
   "metadata": {
    "colab": {
     "autoexec": {
      "startup": false,
      "wait_interval": 0
     }
    },
    "colab_type": "code",
    "id": "uxUTyXa74-78",
    "outputId": "a9603652-997e-4fed-d51e-f80698452473"
   },
   "outputs": [
    {
     "data": {
      "text/plain": [
       "dtype('int64')"
      ]
     },
     "execution_count": 60,
     "metadata": {
      "tags": []
     },
     "output_type": "execute_result"
    }
   ],
   "source": [
    "df['Column A'].dtype"
   ]
  },
  {
   "cell_type": "code",
   "execution_count": 0,
   "metadata": {
    "colab": {
     "autoexec": {
      "startup": false,
      "wait_interval": 0
     }
    },
    "colab_type": "code",
    "id": "Yb0nsUMx4-7-",
    "outputId": "2c31bd79-0867-43ca-d44c-71bb95beeb8f"
   },
   "outputs": [
    {
     "data": {
      "text/plain": [
       "dtype('O')"
      ]
     },
     "execution_count": 61,
     "metadata": {
      "tags": []
     },
     "output_type": "execute_result"
    }
   ],
   "source": [
    "df['Column B'].dtype"
   ]
  },
  {
   "cell_type": "code",
   "execution_count": 0,
   "metadata": {
    "colab": {
     "autoexec": {
      "startup": false,
      "wait_interval": 0
     }
    },
    "colab_type": "code",
    "id": "7UbeRoiX4-8A",
    "outputId": "c4111ed9-7e1e-443d-a455-e983b8aa1870"
   },
   "outputs": [
    {
     "data": {
      "text/plain": [
       "dtype('bool')"
      ]
     },
     "execution_count": 62,
     "metadata": {
      "tags": []
     },
     "output_type": "execute_result"
    }
   ],
   "source": [
    "df['Column C'].dtype"
   ]
  },
  {
   "cell_type": "markdown",
   "metadata": {
    "colab_type": "text",
    "id": "PY4ou5kT4-8C"
   },
   "source": [
    "### Descriptive Statistics\n",
    "***.describe***"
   ]
  },
  {
   "cell_type": "code",
   "execution_count": 0,
   "metadata": {
    "colab": {
     "autoexec": {
      "startup": false,
      "wait_interval": 0
     }
    },
    "colab_type": "code",
    "id": "QwPvGI-x4-8C",
    "outputId": "977d649b-647d-4f5b-b4f2-42cde802f8f3"
   },
   "outputs": [
    {
     "data": {
      "text/html": [
       "<div>\n",
       "<table border=\"1\" class=\"dataframe\">\n",
       "  <thead>\n",
       "    <tr style=\"text-align: right;\">\n",
       "      <th></th>\n",
       "      <th>Column A</th>\n",
       "    </tr>\n",
       "  </thead>\n",
       "  <tbody>\n",
       "    <tr>\n",
       "      <th>count</th>\n",
       "      <td>2.000000</td>\n",
       "    </tr>\n",
       "    <tr>\n",
       "      <th>mean</th>\n",
       "      <td>1.500000</td>\n",
       "    </tr>\n",
       "    <tr>\n",
       "      <th>std</th>\n",
       "      <td>0.707107</td>\n",
       "    </tr>\n",
       "    <tr>\n",
       "      <th>min</th>\n",
       "      <td>1.000000</td>\n",
       "    </tr>\n",
       "    <tr>\n",
       "      <th>25%</th>\n",
       "      <td>1.250000</td>\n",
       "    </tr>\n",
       "    <tr>\n",
       "      <th>50%</th>\n",
       "      <td>1.500000</td>\n",
       "    </tr>\n",
       "    <tr>\n",
       "      <th>75%</th>\n",
       "      <td>1.750000</td>\n",
       "    </tr>\n",
       "    <tr>\n",
       "      <th>max</th>\n",
       "      <td>2.000000</td>\n",
       "    </tr>\n",
       "  </tbody>\n",
       "</table>\n",
       "</div>"
      ],
      "text/plain": [
       "       Column A\n",
       "count  2.000000\n",
       "mean   1.500000\n",
       "std    0.707107\n",
       "min    1.000000\n",
       "25%    1.250000\n",
       "50%    1.500000\n",
       "75%    1.750000\n",
       "max    2.000000"
      ]
     },
     "execution_count": 63,
     "metadata": {
      "tags": []
     },
     "output_type": "execute_result"
    }
   ],
   "source": [
    "df.describe()"
   ]
  },
  {
   "cell_type": "code",
   "execution_count": 0,
   "metadata": {
    "colab": {
     "autoexec": {
      "startup": false,
      "wait_interval": 0
     }
    },
    "colab_type": "code",
    "id": "AFl6j96v4-8E",
    "outputId": "fc8130bb-fde1-451b-8720-cb576e45ef98"
   },
   "outputs": [
    {
     "data": {
      "text/plain": [
       "True    2\n",
       "Name: Column C, dtype: int64"
      ]
     },
     "execution_count": 64,
     "metadata": {
      "tags": []
     },
     "output_type": "execute_result"
    }
   ],
   "source": [
    "df['Column C'].value_counts()"
   ]
  }
 ],
 "metadata": {
  "colab": {
   "default_view": {},
   "name": "Pandas.ipynb",
   "provenance": [],
   "toc_visible": true,
   "version": "0.3.2",
   "views": {}
  },
  "kernelspec": {
   "display_name": "Python 3",
   "language": "python",
   "name": "python3"
  },
  "language_info": {
   "codemirror_mode": {
    "name": "ipython",
    "version": 3
   },
   "file_extension": ".py",
   "mimetype": "text/x-python",
   "name": "python",
   "nbconvert_exporter": "python",
   "pygments_lexer": "ipython3",
   "version": "3.6.5"
  },
  "toc": {
   "base_numbering": 1,
   "nav_menu": {},
   "number_sections": true,
   "sideBar": true,
   "skip_h1_title": false,
   "title_cell": "Table of Contents",
   "title_sidebar": "Contents",
   "toc_cell": false,
   "toc_position": {
    "height": "calc(100% - 180px)",
    "left": "10px",
    "top": "150px",
    "width": "384px"
   },
   "toc_section_display": true,
   "toc_window_display": true
  },
  "varInspector": {
   "cols": {
    "lenName": 16,
    "lenType": 16,
    "lenVar": 40
   },
   "kernels_config": {
    "python": {
     "delete_cmd_postfix": "",
     "delete_cmd_prefix": "del ",
     "library": "var_list.py",
     "varRefreshCmd": "print(var_dic_list())"
    },
    "r": {
     "delete_cmd_postfix": ") ",
     "delete_cmd_prefix": "rm(",
     "library": "var_list.r",
     "varRefreshCmd": "cat(var_dic_list()) "
    }
   },
   "types_to_exclude": [
    "module",
    "function",
    "builtin_function_or_method",
    "instance",
    "_Feature"
   ],
   "window_display": false
  }
 },
 "nbformat": 4,
 "nbformat_minor": 1
}
