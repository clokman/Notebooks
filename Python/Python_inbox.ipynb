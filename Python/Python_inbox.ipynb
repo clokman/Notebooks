{
 "cells": [
  {
   "cell_type": "markdown",
   "metadata": {},
   "source": [
    "# INHERITANCE AND SUBCLASSES"
   ]
  },
  {
   "cell_type": "markdown",
   "metadata": {},
   "source": [
    "From https://www.digitalocean.com/community/tutorials/understanding-class-inheritance-in-python-3:\n",
    "\n",
    "\n",
    "\"With the super() function, you can gain access to inherited methods that have been overwritten in a class object.\"\n",
    "\"The built-in Python function super() allows us to utilize parent class methods even when overriding certain aspects of those methods in our child classes.\" \n",
    "\n",
    "\"When we use the super() function, we are calling a parent method into a child method to make use of it. For example, we may want to override one aspect of the parent method with certain functionality, but then call the rest of the original parent method to finish the method.\"\n",
    "\n",
    "\"The super() function is most commonly used within the __init__() method because that is where you will most likely need to add some uniqueness to the child class and then complete initialization from the parent.\""
   ]
  },
  {
   "cell_type": "markdown",
   "metadata": {},
   "source": [
    "Further reading:\n",
    "\n",
    "https://www.digitalocean.com/community/tutorial_series/object-oriented-programming-in-python-3"
   ]
  },
  {
   "cell_type": "markdown",
   "metadata": {},
   "source": [
    "## A more clear (achieved with separation of cells) version of the example that is currently in Jupyter notebook"
   ]
  },
  {
   "cell_type": "code",
   "execution_count": null,
   "metadata": {},
   "outputs": [],
   "source": [
    "# Example taken from: https://www.python-course.eu/python3_inheritance.php\n",
    "\n",
    "class Person:\n",
    "\n",
    "    def __init__(self, first, last, age):\n",
    "        self.firstname = first\n",
    "        self.lastname = last\n",
    "        self.age = age\n",
    "        \n",
    "    # override the str.__str__() method.\n",
    "    def __str__(self):\n",
    "        # when this object is called as a string (e.g., by print() or str()), return this:\n",
    "        return self.firstname + \" \" + self.lastname + \", \" + str(self.age)\n",
    "\n",
    "    def __repr__(self):\n",
    "        return self.firstname + \" \" + self.lastname + \", \" + str(self.age)\n",
    "\n",
    "    def constructName(self):\n",
    "        return self.firstname + ' ' + self.lastname"
   ]
  },
  {
   "cell_type": "code",
   "execution_count": 11,
   "metadata": {},
   "outputs": [
    {
     "data": {
      "text/plain": [
       "john lokman, 32"
      ]
     },
     "execution_count": 11,
     "metadata": {},
     "output_type": "execute_result"
    }
   ],
   "source": [
    "Person('john', 'lokman', 32)"
   ]
  },
  {
   "cell_type": "code",
   "execution_count": 18,
   "metadata": {},
   "outputs": [],
   "source": [
    "class Employee(Person):\n",
    "    \n",
    "    # __init__() method of Employee class overrides any other __init__() method (e.g., from Person class) that may \n",
    "    # call the Employee object.\n",
    "    \n",
    "    # when __init__() method is called (or when simply instantiating this class)...\n",
    "    def __init__(self, first, last, age, staffnum):\n",
    "        \n",
    "        # initialize the superclass with the required parameters\n",
    "        # and by doing so, IMPORT the superclass Person's now-initialized ATTRIBUTES and METHODS\n",
    "        # after this is done, first, last, and age attributes can also be called from an Employee class instance.\n",
    "        super().__init__(first, last, age)\n",
    "        \n",
    "        # on top of the attributes imported from the Person superclass, add this attribute\n",
    "        self.staffnumber = staffnum\n",
    "\n",
    "    # also override __str__() method of the base 'str' class and 'Person' classes (by creating a method named as '__str__()' which is \n",
    "    # the name of the methods in str and Person classed that store the string representation of the object)\n",
    "    def __str__(self):\n",
    "        # when this object is called as a string (e.g., by print() or str()), return this:\n",
    "        return super().__str__() + \", \" +  self.staffnumber\n",
    "\n",
    "    def __repr__(self):\n",
    "        # when this object is called as a string (e.g., by print() or str()), return this:\n",
    "        return super().__str__() + \", \" +  self.staffnumber\n",
    "    \n",
    "    def getEmployee(self):\n",
    "        # when this method is called, self.Name will be returned for Employee class, even though .constructName is a \n",
    "        # method of the Person class—an method that is initialized and imported when previously called by \n",
    "        # Employee.__init__() method)!\n",
    "        return self.constructName() + \", \" +  self.staffnumber"
   ]
  },
  {
   "cell_type": "code",
   "execution_count": 23,
   "metadata": {},
   "outputs": [
    {
     "data": {
      "text/plain": [
       "'john doe'"
      ]
     },
     "execution_count": 23,
     "metadata": {},
     "output_type": "execute_result"
    }
   ],
   "source": [
    "Employee('john', 'doe', 36, '1000').constructName()"
   ]
  },
  {
   "cell_type": "code",
   "execution_count": 22,
   "metadata": {},
   "outputs": [
    {
     "data": {
      "text/plain": [
       "'Homer Simpson, 1007'"
      ]
     },
     "execution_count": 22,
     "metadata": {},
     "output_type": "execute_result"
    }
   ],
   "source": [
    "my_person   = Person(\"Marge\", \"Simpson\", 36)\n",
    "my_employee = Employee(\"Homer\", \"Simpson\", 28, \"1007\")\n",
    "\n",
    "my_employee.getEmployee()"
   ]
  },
  {
   "cell_type": "markdown",
   "metadata": {},
   "source": [
    "Inherit attribute:"
   ]
  },
  {
   "cell_type": "code",
   "execution_count": 119,
   "metadata": {},
   "outputs": [],
   "source": [
    "class Super_Class():\n",
    "    def __init__(self, content=[]):\n",
    "        self.dataset = content\n",
    "\n",
    "class Sub_Class(Super_Class):\n",
    "    def __init__(self, sub_content):\n",
    "        Super_Class.__init__(self, content=sub_content)\n",
    "        #super().__init__(content=sub_content)\n",
    "    \n",
    "    def __repr__(self):\n",
    "        return repr(self.dataset)"
   ]
  },
  {
   "cell_type": "code",
   "execution_count": 120,
   "metadata": {},
   "outputs": [
    {
     "data": {
      "text/plain": [
       "'a'"
      ]
     },
     "execution_count": 120,
     "metadata": {},
     "output_type": "execute_result"
    }
   ],
   "source": [
    "Sub_Class('a')"
   ]
  },
  {
   "cell_type": "markdown",
   "metadata": {},
   "source": [
    "Override method"
   ]
  },
  {
   "cell_type": "code",
   "execution_count": 172,
   "metadata": {},
   "outputs": [],
   "source": [
    "class Super_Class():\n",
    "    def __init__(self, content=[]):\n",
    "        self.dataset = content\n",
    "    \n",
    "    def append(self, object):\n",
    "        self.dataset.append(object)\n",
    "\n",
    "class Sub_Class(Super_Class):\n",
    "    def __init__(self, sub_content):\n",
    "        Super_Class.__init__(self, content=sub_content)\n",
    "        self.status = 'empty'\n",
    "        \n",
    "    def __repr__(self):\n",
    "        return repr(self.dataset)\n",
    "    \n",
    "    def append(self, object):\n",
    "        Super_Class.append(self, object)\n",
    "        self.status = 'not empty'"
   ]
  },
  {
   "cell_type": "code",
   "execution_count": 170,
   "metadata": {},
   "outputs": [
    {
     "data": {
      "text/plain": [
       "['x', 'x']"
      ]
     },
     "execution_count": 170,
     "metadata": {},
     "output_type": "execute_result"
    }
   ],
   "source": [
    "a = Super_Class()\n",
    "a.append('x')\n",
    "a.dataset"
   ]
  },
  {
   "cell_type": "code",
   "execution_count": 169,
   "metadata": {},
   "outputs": [
    {
     "name": "stdout",
     "output_type": "stream",
     "text": [
      "['a', 'b']\n['a', 'b', 'c']\n"
     ]
    }
   ],
   "source": [
    "b = Sub_Class(['a','b'])\n",
    "print(b)\n",
    "b.append('c', 2)\n",
    "print(b)"
   ]
  },
  {
   "cell_type": "markdown",
   "metadata": {},
   "source": [
    "## Subclassing str"
   ]
  },
  {
   "cell_type": "markdown",
   "metadata": {},
   "source": [
    "Further reading:\n",
    "- http://howto.lintel.in/python-__new__-magic-method-explained/\n",
    "- http://blog.redturtle.it/2014/09/10/python-strings"
   ]
  },
  {
   "cell_type": "markdown",
   "metadata": {},
   "source": [
    "The \\_\\_new\\_\\_() is called when an instance is being created. \\_\\_new\\_\\_() can be used to customize instance creation. \n",
    "\n",
    "When an instance is being created, \\_\\_new\\_\\_() is called before \\_\\_init\\_\\_()."
   ]
  },
  {
   "cell_type": "markdown",
   "metadata": {},
   "source": [
    "### \\_\\_init\\_\\_() does not work when subclassing immutable classes"
   ]
  },
  {
   "cell_type": "code",
   "execution_count": 530,
   "metadata": {},
   "outputs": [],
   "source": [
    "class BrokenLowerCaseString(str):\n",
    "    \"\"\" This is going to fail!\n",
    "    Source: http://blog.redturtle.it/2014/09/10/python-strings\n",
    "    \"\"\"\n",
    "    def __init__(self, value):\n",
    "        \"\"\" Return a string instance\"\"\"\n",
    "        value = str(value).lower()\n",
    "        str.__init__(self, value)"
   ]
  },
  {
   "cell_type": "markdown",
   "metadata": {},
   "source": [
    "Will give error:"
   ]
  },
  {
   "cell_type": "code",
   "execution_count": 500,
   "metadata": {},
   "outputs": [
    {
     "name": "stdout",
     "output_type": "stream",
     "text": [
      "Exception: object.__init__() takes no parameters\n"
     ]
    }
   ],
   "source": [
    "try:\n",
    "    BrokenLowerCaseString('Alice')  #  will not convert because arguments cannot be passed to immutable class' init method\n",
    "except Exception as error_message:\n",
    "    print('Exception: ' + str(error_message))\n"
   ]
  },
  {
   "cell_type": "markdown",
   "metadata": {},
   "source": [
    "### \\_\\_new\\_\\_() must be used instead\n"
   ]
  },
  {
   "cell_type": "markdown",
   "metadata": {},
   "source": [
    "The right way to implement this type is to override the __new__ operator instead of the __init__ one.\n",
    "\n",
    "This is generally true for all the immutable types [1]."
   ]
  },
  {
   "cell_type": "code",
   "execution_count": 531,
   "metadata": {},
   "outputs": [],
   "source": [
    "class LowerCaseString(str):\n",
    "    ''' \n",
    "    Provides an object that is like a string\n",
    "    but that will always be converted to lowercase\n",
    "    Source: http://blog.redturtle.it/2014/09/10/python-strings\n",
    "    '''\n",
    "    def __new__(cls, value): # instead of __init__()\n",
    "        \"\"\" Return a string instance\"\"\"\n",
    "        value = str(value).lower()\n",
    "        return str.__new__(cls, value) # \\_\\_new\\_\\_() should return an object"
   ]
  },
  {
   "cell_type": "code",
   "execution_count": 507,
   "metadata": {},
   "outputs": [
    {
     "data": {
      "text/plain": [
       "'abc'"
      ]
     },
     "execution_count": 507,
     "metadata": {},
     "output_type": "execute_result"
    }
   ],
   "source": [
    "LowerCaseString('ABc')"
   ]
  },
  {
   "cell_type": "markdown",
   "metadata": {},
   "source": [
    "### Using \\_\\_new\\_\\_() together with \\_\\_init\\_\\_, and (content together with self)"
   ]
  },
  {
   "cell_type": "code",
   "execution_count": 519,
   "metadata": {},
   "outputs": [],
   "source": [
    "class Email(str):\n",
    "    \"\"\" Provides an object that is like a string but with additional attributes\n",
    "    Source: http://blog.redturtle.it/2014/09/10/python-strings\"\"\"\n",
    "    @staticmethod\n",
    "    def _is_valid(value):\n",
    "        \"\"\" Very simple validation \"\"\"\n",
    "        return '@' in str(value)\n",
    "\n",
    "    def __new__(cls, value, firstname='', lastname=''):\n",
    "        \"\"\" Return a string instance \"\"\"\n",
    "        if not cls._is_valid(value):\n",
    "            raise ValueError(value)\n",
    "        return str.__new__(cls, value)\n",
    "\n",
    "    def __init__(self, value, firstname='', lastname=''):\n",
    "        \"\"\" Add some attributes to the instance \"\"\"\n",
    "        self.firstname = str(firstname)\n",
    "        self.lastname = str(lastname)\n",
    "\n",
    "    @property\n",
    "    def fullname(self):\n",
    "        \"\"\" This property returns the name of the string \"\"\"\n",
    "        return \" \".join((self.firstname, self.lastname))"
   ]
  },
  {
   "cell_type": "code",
   "execution_count": 526,
   "metadata": {},
   "outputs": [
    {
     "data": {
      "text/plain": [
       "'alice.burton@example.com'"
      ]
     },
     "execution_count": 526,
     "metadata": {},
     "output_type": "execute_result"
    }
   ],
   "source": [
    "my_email = Email('alice.burton@example.com', 'Alice', 'Burton')\n",
    "my_email"
   ]
  },
  {
   "cell_type": "code",
   "execution_count": 527,
   "metadata": {},
   "outputs": [
    {
     "data": {
      "text/plain": [
       "True"
      ]
     },
     "execution_count": 527,
     "metadata": {},
     "output_type": "execute_result"
    }
   ],
   "source": [
    "isinstance(alice_email, str)"
   ]
  },
  {
   "cell_type": "code",
   "execution_count": 528,
   "metadata": {},
   "outputs": [
    {
     "data": {
      "text/plain": [
       "'Alice Burton'"
      ]
     },
     "execution_count": 528,
     "metadata": {},
     "output_type": "execute_result"
    }
   ],
   "source": [
    " alice_email.fullname"
   ]
  },
  {
   "cell_type": "markdown",
   "metadata": {},
   "source": [
    "### Using \\_\\_new\\_\\_ with \\_\\_init\\_\\_"
   ]
  },
  {
   "cell_type": "code",
   "execution_count": 1084,
   "metadata": {},
   "outputs": [],
   "source": [
    "class String(str):\n",
    "    ''' \n",
    "    Provides an object that is like a string\n",
    "    but that will always be converted to lowercase\n",
    "    Source: http://blog.redturtle.it/2014/09/10/python-strings\n",
    "    '''\n",
    "    def __new__(cls, content):\n",
    "        \"\"\" Return a string instance\"\"\"\n",
    "        content = str(content)  # for input types other than str, not a set-in-stone necessity \n",
    "        instance = str.__new__(cls, content) \n",
    "        instance.my_attribute = 'attribute one'  # this attribute will be self.my_attribute, once __init__ executes\n",
    "        print('__new__ executed')\n",
    "        return instance  # returns a string object with self and self.instance\n",
    "    \n",
    "    def __init__(self, content): # unncesessary (as my_second_attribute can also be added in __new__), but possible\n",
    "        self.my_second_attribute = 'attribute two'\n",
    "        self.content_parameter = content\n",
    "        print('__init__ executed')\n",
    "\n",
    "    def print_everything_inside(self):\n",
    "        print('self: ', self, '    (type: ' + str(type(self)) + ')', \n",
    "              '    (isinstance(str):' + str(isinstance(self, str)) + ')', \n",
    "              '    (isinstance(String):' + str(isinstance(self, String)) + ')')\n",
    "        print('self.my_attribute: ', self.my_attribute, '    (type: ' + str(type(self.my_attribute)) + ')')\n",
    "        print('self.my_second_attribute: ', self.my_second_attribute, '    (type: ' + str(type(self.my_second_attribute)) + ')')\n",
    "        print('self.content_parameter: ', self.content_parameter, '    (type: ' + str(type(self.content_parameter)) + ')')\n",
    "        \n",
    "    def print_something(something):\n",
    "        print(something, type(something), '(  # \"something\" is the same thing with \"self\")')"
   ]
  },
  {
   "cell_type": "code",
   "execution_count": 1085,
   "metadata": {},
   "outputs": [
    {
     "name": "stdout",
     "output_type": "stream",
     "text": [
      "__new__ executed\n__init__ executed\n"
     ]
    }
   ],
   "source": [
    "my_string = String('--1234567890--')"
   ]
  },
  {
   "cell_type": "code",
   "execution_count": 1086,
   "metadata": {},
   "outputs": [
    {
     "data": {
      "text/plain": [
       "'--1234567890--'"
      ]
     },
     "execution_count": 1086,
     "metadata": {},
     "output_type": "execute_result"
    }
   ],
   "source": [
    "my_string"
   ]
  },
  {
   "cell_type": "code",
   "execution_count": 1087,
   "metadata": {},
   "outputs": [
    {
     "name": "stdout",
     "output_type": "stream",
     "text": [
      "attribute one\nattribute two\n"
     ]
    }
   ],
   "source": [
    "print(my_string.my_attribute)\n",
    "print(my_string.my_second_attribute)"
   ]
  },
  {
   "cell_type": "code",
   "execution_count": 1088,
   "metadata": {},
   "outputs": [
    {
     "name": "stdout",
     "output_type": "stream",
     "text": [
      "self:  --1234567890--     (type: <class '__main__.String'>)     (isinstance(str):True)     (isinstance(String):True)\nself.my_attribute:  attribute one     (type: <class 'str'>)\nself.my_second_attribute:  attribute two     (type: <class 'str'>)\nself.content_parameter:  --1234567890--     (type: <class 'str'>)\n"
     ]
    }
   ],
   "source": [
    "my_string.print_everything_inside()"
   ]
  },
  {
   "cell_type": "code",
   "execution_count": 1089,
   "metadata": {},
   "outputs": [
    {
     "name": "stdout",
     "output_type": "stream",
     "text": [
      "--1234567890-- <class '__main__.String'> (  # \"something\" is the same thing with \"self\")\n"
     ]
    }
   ],
   "source": [
    "my_string.print_something()"
   ]
  },
  {
   "cell_type": "code",
   "execution_count": 1090,
   "metadata": {},
   "outputs": [
    {
     "name": "stdout",
     "output_type": "stream",
     "text": [
      "True     indexing\nTrue     (slicing)\nTrue     (split)\nTrue     (find)\nTrue     (lstrip)\nTrue     (count)\nTrue     (replace)\n"
     ]
    },
    {
     "data": {
      "text/plain": [
       "'--1234567890--'"
      ]
     },
     "execution_count": 1090,
     "metadata": {},
     "output_type": "execute_result"
    }
   ],
   "source": [
    "# basic tests\n",
    "print(my_string[5] == '4' , '    indexing')\n",
    "print(my_string[1:5] == '-123', '    (slicing)')\n",
    "print(my_string.split('-') == ['', '', '1234567890', '', ''], '    (split)')\n",
    "print(my_string.rfind('1') == 2, '    (find)')\n",
    "print(my_string.lstrip('-') == '1234567890--', '    (lstrip)')\n",
    "print(my_string.count('-') == 4, '    (count)')\n",
    "print(my_string.replace('0', 'X') == '--123456789X--', '    (replace)')\n",
    "\n",
    "my_string  # return test"
   ]
  },
  {
   "cell_type": "code",
   "execution_count": 1091,
   "metadata": {},
   "outputs": [
    {
     "name": "stdout",
     "output_type": "stream",
     "text": [
      "\nComparison with string:\nTrue\n\nhas additional attributes despite being equal to a string:\nmy_string.my_attribute:  attribute one \n\n__new__ executed\n__init__ executed\n\n key successfully retrieved\n\n iteration:\n-\n-\n1\n2\n3\n4\n5\n6\n7\n8\n9\n0\n-\n-\n"
     ]
    }
   ],
   "source": [
    "# advanced tests\n",
    "print('\\nComparison with string:')\n",
    "print(my_string == '--1234567890--')\n",
    "\n",
    "print('\\nhas additional attributes despite being equal to a string:')\n",
    "print('my_string.my_attribute: ', my_string.my_attribute, '\\n')\n",
    "\n",
    "key = String('a')\n",
    "dic = {'a':'key successfully retrieved'}\n",
    "print ('\\n', dic[key])\n",
    "\n",
    "\n",
    "print('\\n iteration:')\n",
    "for each_character in my_string:\n",
    "    print(each_character)"
   ]
  },
  {
   "cell_type": "markdown",
   "metadata": {},
   "source": [
    "### Simplified Version Without \\_\\_init\\_\\_ (only \\_\\_new\\_\\_)"
   ]
  },
  {
   "cell_type": "code",
   "execution_count": 1083,
   "metadata": {},
   "outputs": [],
   "source": [
    "class Simple_String(str):\n",
    "    ''' \n",
    "    Provides an object that is like a string\n",
    "    but that will always be converted to lowercase\n",
    "    Source: http://blog.redturtle.it/2014/09/10/python-strings\n",
    "    '''\n",
    "    def __new__(cls, content):\n",
    "        \"\"\" Return a string instance\"\"\"\n",
    "        content = str(content)  # this cannot be called. instead, an instance.content_parameter is created\n",
    "        instance = str.__new__(cls, content) \n",
    "        instance.my_attribute = 'attribute one'  # this attribute will be self.my_attribute, once __init__ executes\n",
    "                                                 # this will be the case as long as __new__ returns the 'instance')\n",
    "        instance.my_second_attribute = 'attribute two'\n",
    "        instance.content_parameter = content\n",
    "        \n",
    "        print('__new__ executed')\n",
    "        return instance  # returns a string object with self and self.instance\n",
    "    \n",
    "    def print_everything_inside(self):\n",
    "        print('self: ', self, '    (type: ' + str(type(self)) + ')', \n",
    "              '    (isinstance(str):' + str(isinstance(self, str)) + ')', \n",
    "              '    (isinstance(String):' + str(isinstance(self, String)) + ')')\n",
    "        print('self.my_attribute: ', self.my_attribute, '    (type: ' + str(type(self.my_attribute)) + ')')\n",
    "        print('self.my_second_attribute: ', self.my_second_attribute, '    (type: ' + str(type(self.my_second_attribute)) + ')')\n",
    "        print('self.content_parameter: ', self.content_parameter, '    (type: ' + str(type(self.content_parameter)) + ')')\n",
    "        \n",
    "    def print_something(something):\n",
    "        print(something, type(something), '(  # \"something\" is the same thing with \"self\")')"
   ]
  },
  {
   "cell_type": "code",
   "execution_count": 1072,
   "metadata": {},
   "outputs": [
    {
     "name": "stdout",
     "output_type": "stream",
     "text": [
      "__new__ executed\n"
     ]
    }
   ],
   "source": [
    "my_simple_string = Simple_String('--1234567890--')"
   ]
  },
  {
   "cell_type": "code",
   "execution_count": 1073,
   "metadata": {},
   "outputs": [
    {
     "data": {
      "text/plain": [
       "'--1234567890--'"
      ]
     },
     "execution_count": 1073,
     "metadata": {},
     "output_type": "execute_result"
    }
   ],
   "source": [
    "my_simple_string "
   ]
  },
  {
   "cell_type": "code",
   "execution_count": 1074,
   "metadata": {},
   "outputs": [
    {
     "name": "stdout",
     "output_type": "stream",
     "text": [
      "attribute one\nattribute two\n"
     ]
    }
   ],
   "source": [
    "print(my_simple_string .my_attribute)\n",
    "print(my_simple_string .my_second_attribute)"
   ]
  },
  {
   "cell_type": "code",
   "execution_count": 1075,
   "metadata": {},
   "outputs": [
    {
     "name": "stdout",
     "output_type": "stream",
     "text": [
      "self:  --1234567890--     (type: <class '__main__.Simple_String'>)     (isinstance(str):True)     (isinstance(String):False)\nself.my_attribute:  attribute one     (type: <class 'str'>)\nself.my_second_attribute:  attribute two     (type: <class 'str'>)\nself.content_parameter:  --1234567890--     (type: <class 'str'>)\n"
     ]
    }
   ],
   "source": [
    "my_simple_string.print_everything_inside()"
   ]
  },
  {
   "cell_type": "code",
   "execution_count": 1076,
   "metadata": {},
   "outputs": [
    {
     "name": "stdout",
     "output_type": "stream",
     "text": [
      "--1234567890-- <class '__main__.Simple_String'> (  # \"something\" is the same thing with \"self\")\n"
     ]
    }
   ],
   "source": [
    "my_simple_string.print_something()"
   ]
  },
  {
   "cell_type": "code",
   "execution_count": 1080,
   "metadata": {},
   "outputs": [
    {
     "name": "stdout",
     "output_type": "stream",
     "text": [
      "True     indexing\nTrue     (slicing)\nTrue     (split)\nTrue     (find)\nTrue     (lstrip)\nTrue     (count)\nTrue     (replace)\n"
     ]
    },
    {
     "data": {
      "text/plain": [
       "'--1234567890--'"
      ]
     },
     "execution_count": 1080,
     "metadata": {},
     "output_type": "execute_result"
    }
   ],
   "source": [
    "# basic tests\n",
    "print(my_simple_string[5] == '4' , '    indexing')\n",
    "print(my_simple_string[1:5] == '-123', '    (slicing)')\n",
    "print(my_simple_string.split('-') == ['', '', '1234567890', '', ''], '    (split)')\n",
    "print(my_simple_string.rfind('1') == 2, '    (find)')\n",
    "print(my_simple_string.lstrip('-') == '1234567890--', '    (lstrip)')\n",
    "print(my_simple_string.count('-') == 4, '    (count)')\n",
    "print(my_simple_string.replace('0', 'X') == '--123456789X--', '    (replace)')\n",
    "\n",
    "my_simple_string  # return test"
   ]
  },
  {
   "cell_type": "code",
   "execution_count": 1081,
   "metadata": {},
   "outputs": [
    {
     "name": "stdout",
     "output_type": "stream",
     "text": [
      "\nComparison with string:\nTrue\n\nhas additional attributes despite being equal to a string:\nmy_string.my_attribute:  attribute one \n\n__new__ executed\n\n key successfully retrieved\n\n iteration:\n-\n-\n1\n2\n3\n4\n5\n6\n7\n8\n9\n0\n-\n-\n"
     ]
    }
   ],
   "source": [
    "# advanced tests\n",
    "print('\\nComparison with string:')\n",
    "print(my_simple_string == '--1234567890--')\n",
    "\n",
    "print('\\nhas additional attributes despite being equal to a string:')\n",
    "print('my_string.my_attribute: ', my_simple_string.my_attribute, '\\n')\n",
    "\n",
    "key = Simple_String('a')\n",
    "dic = {'a':'key successfully retrieved'}\n",
    "print ('\\n', dic[key])\n",
    "\n",
    "\n",
    "print('\\n iteration:')\n",
    "for each_character in my_simple_string:\n",
    "    print(each_character)"
   ]
  },
  {
   "cell_type": "markdown",
   "metadata": {},
   "source": [
    "### Older Experiments"
   ]
  },
  {
   "cell_type": "code",
   "execution_count": 886,
   "metadata": {},
   "outputs": [],
   "source": [
    "class CSV_Line(str):\n",
    "    ''' \n",
    "    Provides an object that is like a string\n",
    "    but that will always be converted to lowercase\n",
    "    Source: http://blog.redturtle.it/2014/09/10/python-strings\n",
    "    '''\n",
    "    def __new__(cls, value):\n",
    "        \"\"\" Return a string instance\"\"\"\n",
    "        value = str(value)\n",
    "        return str.__new__(cls, value)"
   ]
  },
  {
   "cell_type": "markdown",
   "metadata": {},
   "source": [
    "It returns and prints as string:"
   ]
  },
  {
   "cell_type": "code",
   "execution_count": 813,
   "metadata": {},
   "outputs": [
    {
     "name": "stdout",
     "output_type": "stream",
     "text": [
      " a, b, c,\n"
     ]
    },
    {
     "data": {
      "text/plain": [
       "' a, b, c,'"
      ]
     },
     "execution_count": 813,
     "metadata": {},
     "output_type": "execute_result"
    }
   ],
   "source": [
    "my_csv_line = CSV_Line(' a, b, c,')\n",
    "print(my_csv_line)\n",
    "my_csv_line"
   ]
  },
  {
   "cell_type": "markdown",
   "metadata": {},
   "source": [
    "And it is of both str and CSV_Line class:"
   ]
  },
  {
   "cell_type": "code",
   "execution_count": 814,
   "metadata": {},
   "outputs": [
    {
     "name": "stdout",
     "output_type": "stream",
     "text": [
      "True\nTrue\n"
     ]
    }
   ],
   "source": [
    "print(isinstance(my_csv_line, str))\n",
    "print(isinstance(my_csv_line, CSV_Line))"
   ]
  },
  {
   "cell_type": "markdown",
   "metadata": {},
   "source": [
    "String methods work on this class:"
   ]
  },
  {
   "cell_type": "code",
   "execution_count": 815,
   "metadata": {},
   "outputs": [
    {
     "name": "stdout",
     "output_type": "stream",
     "text": [
      "a, b\n[' a', ' b', ' c', '']\n4\n a, b, c,\n3\n X, b, c,\n"
     ]
    }
   ],
   "source": [
    "print(my_csv_line[1:5])\n",
    "print(my_csv_line.split(','))\n",
    "print(my_csv_line.rfind('b'))\n",
    "print(my_csv_line.lstrip(\"'\"))\n",
    "print(my_csv_line.count(','))\n",
    "print(my_csv_line.replace('a', 'X'))"
   ]
  },
  {
   "cell_type": "code",
   "execution_count": 817,
   "metadata": {},
   "outputs": [
    {
     "data": {
      "text/plain": [
       "1"
      ]
     },
     "execution_count": 817,
     "metadata": {},
     "output_type": "execute_result"
    }
   ],
   "source": [
    "key = CSV_Line('a')\n",
    "dic = {'a':1}\n",
    "dic[key]"
   ]
  },
  {
   "cell_type": "markdown",
   "metadata": {},
   "source": [
    "A more advanced version of the class, with methods and attributes (and usage of 'content' in them):"
   ]
  },
  {
   "cell_type": "code",
   "execution_count": 461,
   "metadata": {},
   "outputs": [],
   "source": [
    "class CSV_Line_advanced(str):\n",
    "    ''' \n",
    "    Provides an object that is like a string\n",
    "    but with additional attributes and methods\n",
    "    Source: http://blog.redturtle.it/2014/09/10/python-strings\n",
    "    '''\n",
    "    def __new__(cls, content, delimiter):\n",
    "        ''' Return a string instance'''\n",
    "        return str.__new__(cls, content)\n",
    "    \n",
    "    def __init__(self, content, delimiter):  # 'content' is needed, even though not used\n",
    "        ''' Add some attributes to the instance'''\n",
    "        self.delimiter = delimiter\n",
    "            \n",
    "    def is_string(self):  # not self!\n",
    "        return isinstance(self, str)\n",
    "    \n",
    "    def CONVERT_to_list(self):  # not self!\n",
    "        return self"
   ]
  },
  {
   "cell_type": "code",
   "execution_count": 448,
   "metadata": {},
   "outputs": [
    {
     "data": {
      "text/plain": [
       "'a, b, c, '"
      ]
     },
     "execution_count": 448,
     "metadata": {},
     "output_type": "execute_result"
    }
   ],
   "source": [
    "my_csv_line_2 = CSV_Line_advanced('a, b, c, ', ',')\n",
    "my_csv_line_2.CONVERT_to_list()"
   ]
  },
  {
   "cell_type": "code",
   "execution_count": 449,
   "metadata": {},
   "outputs": [
    {
     "data": {
      "text/plain": [
       "True"
      ]
     },
     "execution_count": 449,
     "metadata": {},
     "output_type": "execute_result"
    }
   ],
   "source": [
    "my_csv_line_2.is_string()"
   ]
  },
  {
   "cell_type": "code",
   "execution_count": 450,
   "metadata": {},
   "outputs": [
    {
     "name": "stdout",
     "output_type": "stream",
     "text": [
      "True\nTrue\n"
     ]
    }
   ],
   "source": [
    "print(isinstance(my_csv_line_2, str))\n",
    "print(isinstance(my_csv_line_2, CSV_Line_advanced))"
   ]
  },
  {
   "cell_type": "code",
   "execution_count": 452,
   "metadata": {},
   "outputs": [
    {
     "name": "stdout",
     "output_type": "stream",
     "text": [
      "a, b\n[' a', ' b', ' c', '']\n4\n a, b, c,\n3\n X, b, c,\n"
     ]
    }
   ],
   "source": [
    "print(my_csv_line[1:5])\n",
    "print(my_csv_line.split(','))\n",
    "print(my_csv_line.rfind('b'))\n",
    "print(my_csv_line.lstrip(\"'\"))\n",
    "print(my_csv_line.count(','))\n",
    "print(my_csv_line.replace('a', 'X'))"
   ]
  },
  {
   "cell_type": "markdown",
   "metadata": {},
   "source": [
    "Here is a problematic way to create subclass of an immutable class:"
   ]
  },
  {
   "cell_type": "code",
   "execution_count": 260,
   "metadata": {},
   "outputs": [],
   "source": [
    "class bad_CSV_Line(str):\n",
    "    def __init__(self, input_string):\n",
    "        str.__init__(self) # this is not needed either\n",
    "        self.content = input_string # and this neither\n",
    "        \n",
    "    # overrides (not necessary if __new__() is used)\n",
    "    def __repr__(self):\n",
    "        return repr(self.content)\n",
    "    def __str__(self):\n",
    "        return str(self.content)\n",
    "    def __getitem__(self, index):\n",
    "        return self.content[index]\n",
    "    def __setitem__(self, index, value):\n",
    "        self.content[index] = value\n",
    "    def __iter__(self):\n",
    "        return iter(self.content)\n"
   ]
  },
  {
   "cell_type": "markdown",
   "metadata": {},
   "source": [
    "It looks normal:"
   ]
  },
  {
   "cell_type": "code",
   "execution_count": 261,
   "metadata": {},
   "outputs": [
    {
     "data": {
      "text/plain": [
       "' a, b, c ,'"
      ]
     },
     "execution_count": 261,
     "metadata": {},
     "output_type": "execute_result"
    }
   ],
   "source": [
    "my_bad_line = bad_CSV_Line(' a, b, c ,')\n",
    "my_bad_line\n",
    "#'my line content'"
   ]
  },
  {
   "cell_type": "code",
   "execution_count": 262,
   "metadata": {},
   "outputs": [
    {
     "name": "stdout",
     "output_type": "stream",
     "text": [
      "a, b\n[' a', ' b', ' c ', '']\n4\n a, b, c ,\n3\n X, b, c ,\n"
     ]
    }
   ],
   "source": [
    "print(my_bad_line[1:5])\n",
    "print(my_bad_line.split(','))\n",
    "print(my_bad_line.rfind('b'))\n",
    "print(my_bad_line.lstrip(\"'\"))\n",
    "print(my_bad_line.count(','))\n",
    "print(my_bad_line.replace('a', 'X'))"
   ]
  },
  {
   "cell_type": "markdown",
   "metadata": {},
   "source": [
    "But there are certain anomalies (possibly because of some neglected overrides)."
   ]
  }
 ],
 "metadata": {
  "kernelspec": {
   "display_name": "Python 2",
   "language": "python",
   "name": "python2"
  },
  "language_info": {
   "codemirror_mode": {
    "name": "ipython",
    "version": 2
   },
   "file_extension": ".py",
   "mimetype": "text/x-python",
   "name": "python",
   "nbconvert_exporter": "python",
   "pygments_lexer": "ipython2",
   "version": "2.7.6"
  }
 },
 "nbformat": 4,
 "nbformat_minor": 0
}
