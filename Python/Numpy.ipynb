{
 "cells": [
  {
   "cell_type": "markdown",
   "metadata": {},
   "source": [
    "# NUMPY "
   ]
  },
  {
   "cell_type": "markdown",
   "metadata": {},
   "source": [
    "## Importing Data into a numpy Array\n"
   ]
  },
  {
   "cell_type": "markdown",
   "metadata": {},
   "source": [
    "- A numpy array can only contain one type of variable (e.g., str or int)\n",
    "- While creating arrays, numpy assumes that data consists of floating point values (float). Thus, it shoul be specified what the data type (dtype) is.\n",
    "    - There are codes for this:\n",
    "        - 'Float64'   : 64-bit floating-point number\n",
    "        - 'uint32'    : 32-bit unsigned integer \n",
    "        - 'U75'       : 75 byte unicode data type\n",
    "        - (str, 35)   : 35-character string\n",
    "        - ('U', 10)   : 10-character unicode string"
   ]
  },
  {
   "cell_type": "code",
   "execution_count": 166,
   "metadata": {
    "collapsed": true
   },
   "outputs": [],
   "source": [
    "import numpy\n",
    "\n",
    "my_data = numpy.genfromtxt(\"test_data//world_alcohol.csv\", delimiter = \",\" , dtype=\"U75\", skip_header=1)"
   ]
  },
  {
   "cell_type": "code",
   "execution_count": 168,
   "metadata": {
    "scrolled": false
   },
   "outputs": [
    {
     "name": "stdout",
     "output_type": "stream",
     "text": [
      "[['1986' 'Western Pacific' 'Viet Nam' 'Wine' '0']\n",
      " ['1986' 'Americas' 'Uruguay' 'Other' '0.5']\n",
      " ['1985' 'Africa' \"Cte d'Ivoire\" 'Wine' '1.62']\n",
      " ..., \n",
      " ['1986' 'Europe' 'Switzerland' 'Spirits' '2.54']\n",
      " ['1987' 'Western Pacific' 'Papua New Guinea' 'Other' '0']\n",
      " ['1986' 'Africa' 'Swaziland' 'Other' '5.15']]\n"
     ]
    }
   ],
   "source": [
    "print(my_data)"
   ]
  },
  {
   "cell_type": "markdown",
   "metadata": {},
   "source": [
    "## Creating numpy Arrays"
   ]
  },
  {
   "cell_type": "code",
   "execution_count": 169,
   "metadata": {
    "scrolled": true
   },
   "outputs": [
    {
     "name": "stdout",
     "output_type": "stream",
     "text": [
      "[10 20 30]\n",
      "\n",
      "[[ 1  2  3]\n",
      " [10 20 30]]\n"
     ]
    }
   ],
   "source": [
    "my_vector = numpy.array([10, 20, 30])\n",
    "my_matrix = numpy.array([[1, 2, 3], [10, 20, 30]])\n",
    "\n",
    "print(my_vector)\n",
    "print(\"\")\n",
    "print(my_matrix)"
   ]
  },
  {
   "cell_type": "markdown",
   "metadata": {},
   "source": [
    "If a numpy array contains elements of multiple types, they will be converted to one type:"
   ]
  },
  {
   "cell_type": "code",
   "execution_count": 170,
   "metadata": {},
   "outputs": [
    {
     "data": {
      "text/plain": [
       "array([['1', 'two', 'True'],\n",
       "       ['10', '20', '30']], \n",
       "      dtype='<U11')"
      ]
     },
     "execution_count": 170,
     "metadata": {},
     "output_type": "execute_result"
    }
   ],
   "source": [
    "my_mixed_data_matrix = numpy.array([ [1, 'two', True], [10, 20, 30] ])\n",
    "my_mixed_data_matrix # ('>U11' in the output below means 'string')"
   ]
  },
  {
   "cell_type": "markdown",
   "metadata": {},
   "source": [
    "## Queries on a numpy Array"
   ]
  },
  {
   "cell_type": "markdown",
   "metadata": {},
   "source": [
    "### Array Dimensions\n",
    "**.shape**"
   ]
  },
  {
   "cell_type": "code",
   "execution_count": 171,
   "metadata": {},
   "outputs": [
    {
     "name": "stdout",
     "output_type": "stream",
     "text": [
      "(3,)\n",
      "(2, 3)\n"
     ]
    }
   ],
   "source": [
    "my_vector = numpy.array([10, 20, 30])\n",
    "my_matrix = numpy.array([[1, 2, 3], [10, 20, 30]])\n",
    "\n",
    "print(my_vector.shape)\n",
    "print(my_matrix.shape)"
   ]
  },
  {
   "cell_type": "markdown",
   "metadata": {},
   "source": [
    "### Array Type\n",
    "**.dtype**"
   ]
  },
  {
   "cell_type": "code",
   "execution_count": 172,
   "metadata": {},
   "outputs": [
    {
     "data": {
      "text/plain": [
       "dtype('int32')"
      ]
     },
     "execution_count": 172,
     "metadata": {},
     "output_type": "execute_result"
    }
   ],
   "source": [
    "my_matrix.dtype"
   ]
  },
  {
   "cell_type": "markdown",
   "metadata": {},
   "source": [
    "## Indexing and Slicing numpy Arrays\n",
    "**[x,y] | [:, y] | [a:b,x:y] | [:,x:y]**"
   ]
  },
  {
   "cell_type": "markdown",
   "metadata": {},
   "source": [
    "Also see 'Indexing with Numpy' section in Python notebook. The inline comments are tuned for that section."
   ]
  },
  {
   "cell_type": "markdown",
   "metadata": {},
   "source": [
    "<a name=\"indexing\"></a>\n",
    "### Indexing\n",
    "**[x,y] | [:, y] | [a:b,x:y] | [:,x:y]**"
   ]
  },
  {
   "cell_type": "code",
   "execution_count": 173,
   "metadata": {
    "collapsed": true
   },
   "outputs": [],
   "source": [
    "my_matrix = numpy.array([\n",
    "    [5, 10, 15],\n",
    "    [20, 25, 30],\n",
    "    [35, 40, 43]\n",
    "])"
   ]
  },
  {
   "cell_type": "markdown",
   "metadata": {},
   "source": [
    "Select a specific cell:  "
   ]
  },
  {
   "cell_type": "code",
   "execution_count": 174,
   "metadata": {},
   "outputs": [
    {
     "name": "stdout",
     "output_type": "stream",
     "text": [
      "15\n"
     ]
    }
   ],
   "source": [
    "                       ####################################################################\n",
    "print(my_matrix[0,2])  # Read '[0,2]'as '1st and 3rd'                                     #\n",
    "                       # When indexing in two dimensions, read '[x, y]' as 'x+1 and y+1'  #\n",
    "                       ####################################################################\n",
    "                       # Read as: Select...\n",
    "                       # first row\n",
    "                       # third column "
   ]
  },
  {
   "cell_type": "markdown",
   "metadata": {},
   "source": [
    "Select an entire row:"
   ]
  },
  {
   "cell_type": "code",
   "execution_count": 175,
   "metadata": {},
   "outputs": [
    {
     "name": "stdout",
     "output_type": "stream",
     "text": [
      "[ 5 10 15]\n"
     ]
    }
   ],
   "source": [
    "print(my_matrix[0,:])  # Read as: Select...\n",
    "                       # first row\n",
    "                       # all columns (':' means 'all' in numpy) \n",
    "                       #\n",
    "                       # Selects first row \n",
    "                       #\n",
    "                       # my_matrix[0] would also select the first row, \n",
    "                       # but this would not be an explicit notation for numpy."
   ]
  },
  {
   "cell_type": "markdown",
   "metadata": {},
   "source": [
    "Select and entire column:"
   ]
  },
  {
   "cell_type": "code",
   "execution_count": 176,
   "metadata": {},
   "outputs": [
    {
     "name": "stdout",
     "output_type": "stream",
     "text": [
      "[ 5 20 35]\n"
     ]
    }
   ],
   "source": [
    "print(my_matrix[:,0])  # Read as: Select...\n",
    "                       # all rows\n",
    "                       # the first column\n",
    "                       # \n",
    "                       # Selects column 1 "
   ]
  },
  {
   "cell_type": "markdown",
   "metadata": {},
   "source": [
    "Select two rows and a column:"
   ]
  },
  {
   "cell_type": "code",
   "execution_count": 177,
   "metadata": {},
   "outputs": [
    {
     "name": "stdout",
     "output_type": "stream",
     "text": [
      "[30 43]\n"
     ]
    }
   ],
   "source": [
    "print(my_matrix[1:3,2]) # Read as: Select...\n",
    "                        # rows 2 and 3 (reminder: read \"[x:y]\" as \"x+1 to y\")\n",
    "                        # column 3 (reminder    : read \"[z]\" as \"z+1\"))\n",
    "                        #\n",
    "                        # Selects rows 2 and 3 of 3rd column"
   ]
  }
 ],
 "metadata": {
  "kernelspec": {
   "display_name": "Python 3",
   "language": "python",
   "name": "python3"
  },
  "language_info": {
   "codemirror_mode": {
    "name": "ipython",
    "version": 3
   },
   "file_extension": ".py",
   "mimetype": "text/x-python",
   "name": "python",
   "nbconvert_exporter": "python",
   "pygments_lexer": "ipython3",
   "version": "3.6.1"
  }
 },
 "nbformat": 4,
 "nbformat_minor": 2
}
