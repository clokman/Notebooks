{
 "cells": [
  {
   "cell_type": "markdown",
   "metadata": {
    "colab_type": "text",
    "id": "bxXjSKwppx6U"
   },
   "source": [
    "# Init"
   ]
  },
  {
   "cell_type": "markdown",
   "metadata": {
    "colab_type": "text",
    "id": "wEiUHfSFplIR"
   },
   "source": [
    "Initiate Google Drive:"
   ]
  },
  {
   "cell_type": "code",
   "execution_count": 0,
   "metadata": {
    "colab": {
     "autoexec": {
      "startup": false,
      "wait_interval": 0
     }
    },
    "colab_type": "code",
    "id": "29fktAP4j-zO"
   },
   "outputs": [],
   "source": [
    "!pip install -U -q PyDrive\n",
    " \n",
    "from pydrive.auth import GoogleAuth\n",
    "from pydrive.drive import GoogleDrive\n",
    "from google.colab import auth\n",
    "from oauth2client.client import GoogleCredentials\n",
    " \n",
    "# 1. Authenticate and create the PyDrive client.\n",
    "auth.authenticate_user()\n",
    "gauth = GoogleAuth()\n",
    "gauth.credentials = GoogleCredentials.get_application_default()\n",
    "drive = GoogleDrive(gauth)"
   ]
  },
  {
   "cell_type": "markdown",
   "metadata": {
    "colab_type": "text",
    "id": "-F5ajMLqlKx4"
   },
   "source": [
    "List all files and file IDs in the a specific folder using Google Drive folder ID:\n",
    "\n",
    "*Folder id below can be copied from URLs of folers in Google Drive (If the files are located at the top level of Google Drive, replace <FOLDER ID> with ‘root’). *"
   ]
  },
  {
   "cell_type": "code",
   "execution_count": 2,
   "metadata": {
    "colab": {
     "autoexec": {
      "startup": false,
      "wait_interval": 0
     },
     "base_uri": "https://localhost:8080/",
     "height": 211
    },
    "colab_type": "code",
    "executionInfo": {
     "elapsed": 781,
     "status": "ok",
     "timestamp": 1532855089888,
     "user": {
      "displayName": "John C. Lokman",
      "photoUrl": "https://lh3.googleusercontent.com/a/default-user=s128",
      "userId": "104399307152469459133"
     },
     "user_tz": -120
    },
    "id": "Tvu7ZDEUk6Qg",
    "outputId": "a4460e23-2f6e-41f3-a2a6-af00dbb7fc3d"
   },
   "outputs": [
    {
     "name": "stdout",
     "output_type": "stream",
     "text": [
      "title: write_test.txt, id: 1pcIk1OU9s6oPQr_v2mhIkESNVDj0pSXG\n",
      "title: string_print.txt, id: 1xFlxpk1ylR6QwCkiiMSzUAt-v80ueQiM\n",
      "title: world_alcohol.csv, id: 1TFkaAOJ8tNoiZcsoCfgViCf2QCIqO-Th\n",
      "title: my_data.csv, id: 16ezEoAaH7nWhVXAgCiN0s_xOX9Wh78jK\n",
      "title: nfl.csv, id: 1er8UzTVmqKzJSvtZhUhkyXOMYjOHfVXJ\n",
      "title: dummy.txt, id: 1sstgxpv_kEVDKeqGBcgaAXYxxXNCjuPf\n",
      "title: askreddit_2015.csv, id: 16kHujyvU9HPosl8LEc0Gzz6T1h1D_qDz\n",
      "title: legislators.csv, id: 1zV3pz5rwbDBXAaShtc96r20iib-y7GUn\n",
      "title: open_close_test.txt, id: 19qpWOHaywbTo4ro8nosfjOMYMNK4e23v\n",
      "title: dummy.csv, id: 1spjySxuaY5S2VZPr7mVQociLaYuTq4Lc\n"
     ]
    }
   ],
   "source": [
    "# List contents of the folder 'My Drive/__Projects__/Code/Notebooks/Python/test_data'\n",
    "file_list = drive.ListFile({'q': \"'1t3Izh8czGgM--HRp2Zm8PxtL6HObJy1b' in parents and trashed=false\"}).GetList()\n",
    "for file1 in file_list:\n",
    "  print('title: %s, id: %s' % (file1['title'], file1['id']))"
   ]
  },
  {
   "cell_type": "markdown",
   "metadata": {
    "colab_type": "text",
    "id": "IeltDU0WqZR1"
   },
   "source": [
    "Import a specific file to local environment using its id, and name it in the local environment:"
   ]
  },
  {
   "cell_type": "code",
   "execution_count": 0,
   "metadata": {
    "colab": {
     "autoexec": {
      "startup": false,
      "wait_interval": 0
     }
    },
    "colab_type": "code",
    "id": "3TUjKtfYmvzD"
   },
   "outputs": [],
   "source": [
    "# import file by GDrive id\n",
    "dataset_world_alcohol = drive.CreateFile({'id': '1TFkaAOJ8tNoiZcsoCfgViCf2QCIqO-Th'})\n",
    "# name the file for local workspace\n",
    "dataset_world_alcohol.GetContentFile('desired_name.csv')"
   ]
  },
  {
   "cell_type": "markdown",
   "metadata": {
    "colab_type": "text",
    "id": "TUWvOzDAsoCS"
   },
   "source": [
    "After this point, the imported files can be called with the names assigned to them (e.g., 'desired_name.csv' as it is in the same folder with this Jupyter notebook:"
   ]
  },
  {
   "cell_type": "code",
   "execution_count": 4,
   "metadata": {
    "colab": {
     "autoexec": {
      "startup": false,
      "wait_interval": 0
     },
     "base_uri": "https://localhost:8080/",
     "height": 206
    },
    "colab_type": "code",
    "executionInfo": {
     "elapsed": 601,
     "status": "ok",
     "timestamp": 1532855107205,
     "user": {
      "displayName": "John C. Lokman",
      "photoUrl": "https://lh3.googleusercontent.com/a/default-user=s128",
      "userId": "104399307152469459133"
     },
     "user_tz": -120
    },
    "id": "Q9HWLj9Msq2t",
    "outputId": "cc42bc8a-8239-468d-b52c-7641d16b77df"
   },
   "outputs": [
    {
     "data": {
      "text/html": [
       "<div>\n",
       "<style scoped>\n",
       "    .dataframe tbody tr th:only-of-type {\n",
       "        vertical-align: middle;\n",
       "    }\n",
       "\n",
       "    .dataframe tbody tr th {\n",
       "        vertical-align: top;\n",
       "    }\n",
       "\n",
       "    .dataframe thead th {\n",
       "        text-align: right;\n",
       "    }\n",
       "</style>\n",
       "<table border=\"1\" class=\"dataframe\">\n",
       "  <thead>\n",
       "    <tr style=\"text-align: right;\">\n",
       "      <th></th>\n",
       "      <th>Year</th>\n",
       "      <th>WHO region</th>\n",
       "      <th>Country</th>\n",
       "      <th>Beverage Types</th>\n",
       "      <th>Display Value</th>\n",
       "    </tr>\n",
       "  </thead>\n",
       "  <tbody>\n",
       "    <tr>\n",
       "      <th>0</th>\n",
       "      <td>1986</td>\n",
       "      <td>Western Pacific</td>\n",
       "      <td>Viet Nam</td>\n",
       "      <td>Wine</td>\n",
       "      <td>0.00</td>\n",
       "    </tr>\n",
       "    <tr>\n",
       "      <th>1</th>\n",
       "      <td>1986</td>\n",
       "      <td>Americas</td>\n",
       "      <td>Uruguay</td>\n",
       "      <td>Other</td>\n",
       "      <td>0.50</td>\n",
       "    </tr>\n",
       "    <tr>\n",
       "      <th>2</th>\n",
       "      <td>1985</td>\n",
       "      <td>Africa</td>\n",
       "      <td>Cte d'Ivoire</td>\n",
       "      <td>Wine</td>\n",
       "      <td>1.62</td>\n",
       "    </tr>\n",
       "    <tr>\n",
       "      <th>3</th>\n",
       "      <td>1986</td>\n",
       "      <td>Americas</td>\n",
       "      <td>Colombia</td>\n",
       "      <td>Beer</td>\n",
       "      <td>4.27</td>\n",
       "    </tr>\n",
       "    <tr>\n",
       "      <th>4</th>\n",
       "      <td>1987</td>\n",
       "      <td>Americas</td>\n",
       "      <td>Saint Kitts and Nevis</td>\n",
       "      <td>Beer</td>\n",
       "      <td>1.98</td>\n",
       "    </tr>\n",
       "  </tbody>\n",
       "</table>\n",
       "</div>"
      ],
      "text/plain": [
       "   Year       WHO region                Country Beverage Types  Display Value\n",
       "0  1986  Western Pacific               Viet Nam           Wine           0.00\n",
       "1  1986         Americas                Uruguay          Other           0.50\n",
       "2  1985           Africa           Cte d'Ivoire           Wine           1.62\n",
       "3  1986         Americas               Colombia           Beer           4.27\n",
       "4  1987         Americas  Saint Kitts and Nevis           Beer           1.98"
      ]
     },
     "execution_count": 4,
     "metadata": {
      "tags": []
     },
     "output_type": "execute_result"
    }
   ],
   "source": [
    "import pandas as pd\n",
    "my_data = pd.read_csv('desired_name.csv')\n",
    "my_data.head()"
   ]
  },
  {
   "cell_type": "markdown",
   "metadata": {
    "colab_type": "text",
    "id": "FzRTSvB4tUXj"
   },
   "source": [
    "Import necessary datasets for this notebook:"
   ]
  },
  {
   "cell_type": "code",
   "execution_count": 0,
   "metadata": {
    "colab": {
     "autoexec": {
      "startup": false,
      "wait_interval": 0
     }
    },
    "colab_type": "code",
    "id": "KhOfoc4YtZaQ"
   },
   "outputs": [],
   "source": [
    "# import file by GDrive id\n",
    "dataset_world_alcohol = drive.CreateFile({'id': '1TFkaAOJ8tNoiZcsoCfgViCf2QCIqO-Th'})\n",
    "# name the file for local workspace\n",
    "dataset_world_alcohol.GetContentFile('world_alcohol.csv')"
   ]
  },
  {
   "cell_type": "markdown",
   "metadata": {
    "colab_type": "text",
    "id": "4U5Epq-gfhBw"
   },
   "source": [
    "# NUMPY "
   ]
  },
  {
   "cell_type": "markdown",
   "metadata": {
    "colab_type": "text",
    "id": "3oQyAbkK4YKg"
   },
   "source": [
    "Also see: [DataQuest takeaways for NumPy](https://drive.google.com/uc?id=17UMatoy2kLkIFhf6z48DIy0rDiKvDOiK)."
   ]
  },
  {
   "cell_type": "code",
   "execution_count": 0,
   "metadata": {
    "colab": {
     "autoexec": {
      "startup": false,
      "wait_interval": 0
     }
    },
    "colab_type": "code",
    "id": "KniHIyIIt4CY"
   },
   "outputs": [],
   "source": [
    "import numpy as np"
   ]
  },
  {
   "cell_type": "markdown",
   "metadata": {
    "colab_type": "text",
    "id": "2nZchVseu7GC"
   },
   "source": [
    "## N-dimensional Arrays in Numpy"
   ]
  },
  {
   "cell_type": "markdown",
   "metadata": {
    "colab_type": "text",
    "id": "eav35OSkvgYZ"
   },
   "source": [
    "Each list in Python can be considered a one dimensional array. Numpy adds more dimensions to objects via its object type, ***n-dimensional*** (as in '2'-' or '- 3' dimensional) ***array*** or ***ndarray*** objects. Each ndarray object is the equivalent of a list of lists, constructed as a Numpy object."
   ]
  },
  {
   "cell_type": "markdown",
   "metadata": {
    "colab_type": "text",
    "id": "WXALXjQRx0NJ"
   },
   "source": [
    "Arrays with different dimensions, and their names (image source: dataquest.io)\n",
    "\n",
    "<img src=\"https://drive.google.com/uc?id=1d2RT3JyddpO13RecgxGS8swaPbR856Zq\" height=\"500\" width=\"500\"> \n",
    "\n",
    "*Image source: dataquest.io*"
   ]
  },
  {
   "cell_type": "markdown",
   "metadata": {
    "colab_type": "text",
    "id": "DOtxSYEifhC4"
   },
   "source": [
    "## Creating Arrays"
   ]
  },
  {
   "cell_type": "markdown",
   "metadata": {
    "colab_type": "text",
    "id": "kwvi_7hJzl3_"
   },
   "source": [
    "Create ndarrays:"
   ]
  },
  {
   "cell_type": "code",
   "execution_count": 0,
   "metadata": {
    "colab": {
     "autoexec": {
      "startup": false,
      "wait_interval": 0
     }
    },
    "colab_type": "code",
    "id": "LpctNgF4fhC8"
   },
   "outputs": [],
   "source": [
    "# one-dimensional array\n",
    "my_vector = np.array([10, 20, 30])\n",
    "\n",
    "# two-dimensional array (with an axis 0 that has only one row)\n",
    "my_matrix_1 = np.array([[10, 20, 30]])\n",
    "\n",
    "# two-dimensional array\n",
    "my_matrix_2 = np.array([[1, 2, 3], [10, 20, 30]])"
   ]
  },
  {
   "cell_type": "code",
   "execution_count": 11,
   "metadata": {
    "colab": {
     "autoexec": {
      "startup": false,
      "wait_interval": 0
     },
     "base_uri": "https://localhost:8080/",
     "height": 36
    },
    "colab_type": "code",
    "executionInfo": {
     "elapsed": 774,
     "status": "ok",
     "timestamp": 1532855505102,
     "user": {
      "displayName": "John C. Lokman",
      "photoUrl": "https://lh3.googleusercontent.com/a/default-user=s128",
      "userId": "104399307152469459133"
     },
     "user_tz": -120
    },
    "id": "7pzuH9Rd0Rkq",
    "outputId": "6d7db000-87af-46fe-8991-10966fa2959a"
   },
   "outputs": [
    {
     "data": {
      "text/plain": [
       "array([10, 20, 30])"
      ]
     },
     "execution_count": 11,
     "metadata": {
      "tags": []
     },
     "output_type": "execute_result"
    }
   ],
   "source": [
    "my_vector"
   ]
  },
  {
   "cell_type": "code",
   "execution_count": 12,
   "metadata": {
    "colab": {
     "autoexec": {
      "startup": false,
      "wait_interval": 0
     },
     "base_uri": "https://localhost:8080/",
     "height": 36
    },
    "colab_type": "code",
    "executionInfo": {
     "elapsed": 510,
     "status": "ok",
     "timestamp": 1532855506826,
     "user": {
      "displayName": "John C. Lokman",
      "photoUrl": "https://lh3.googleusercontent.com/a/default-user=s128",
      "userId": "104399307152469459133"
     },
     "user_tz": -120
    },
    "id": "bgMTLXPy0U77",
    "outputId": "d7647bb8-cc3c-41a4-c13c-62b09da4aecb"
   },
   "outputs": [
    {
     "data": {
      "text/plain": [
       "array([[10, 20, 30]])"
      ]
     },
     "execution_count": 12,
     "metadata": {
      "tags": []
     },
     "output_type": "execute_result"
    }
   ],
   "source": [
    "my_matrix_1"
   ]
  },
  {
   "cell_type": "code",
   "execution_count": 13,
   "metadata": {
    "colab": {
     "autoexec": {
      "startup": false,
      "wait_interval": 0
     },
     "base_uri": "https://localhost:8080/",
     "height": 56
    },
    "colab_type": "code",
    "executionInfo": {
     "elapsed": 1495,
     "status": "ok",
     "timestamp": 1532855509273,
     "user": {
      "displayName": "John C. Lokman",
      "photoUrl": "https://lh3.googleusercontent.com/a/default-user=s128",
      "userId": "104399307152469459133"
     },
     "user_tz": -120
    },
    "id": "X7BiPLqCTmyG",
    "outputId": "228b2952-5d1f-4ac2-c088-24efb830b90d"
   },
   "outputs": [
    {
     "data": {
      "text/plain": [
       "array([[ 1,  2,  3],\n",
       "       [10, 20, 30]])"
      ]
     },
     "execution_count": 13,
     "metadata": {
      "tags": []
     },
     "output_type": "execute_result"
    }
   ],
   "source": [
    "my_matrix_2"
   ]
  },
  {
   "cell_type": "markdown",
   "metadata": {
    "colab_type": "text",
    "id": "smfQdb2v0H9P"
   },
   "source": [
    "Create an ndarray from a list:"
   ]
  },
  {
   "cell_type": "code",
   "execution_count": 54,
   "metadata": {
    "colab": {
     "autoexec": {
      "startup": false,
      "wait_interval": 0
     },
     "base_uri": "https://localhost:8080/",
     "height": 56
    },
    "colab_type": "code",
    "executionInfo": {
     "elapsed": 607,
     "status": "ok",
     "timestamp": 1531654795558,
     "user": {
      "displayName": "John C. Lokman",
      "photoUrl": "https://lh3.googleusercontent.com/a/default-user=s128",
      "userId": "104399307152469459133"
     },
     "user_tz": -120
    },
    "id": "qU-G7TLNvI_H",
    "outputId": "bc1a3d56-3053-4431-cb76-84fc87be9d47"
   },
   "outputs": [
    {
     "data": {
      "text/plain": [
       "array([['1', '2', '3'],\n",
       "       ['a', 'b', 'c']], dtype='<U21')"
      ]
     },
     "execution_count": 54,
     "metadata": {
      "tags": []
     },
     "output_type": "execute_result"
    }
   ],
   "source": [
    "my_nested_list = [[1, 2, 3],['a', 'b', 'c']]\n",
    "np.array(my_nested_list)"
   ]
  },
  {
   "cell_type": "markdown",
   "metadata": {
    "colab_type": "text",
    "id": "nOyfPf51qB4W"
   },
   "source": [
    "## Basic Queries on a NumPy Array"
   ]
  },
  {
   "cell_type": "markdown",
   "metadata": {
    "colab_type": "text",
    "id": "HzsRftkEqB4U"
   },
   "source": [
    "### Array Dimensions\n",
    "**.shape**"
   ]
  },
  {
   "cell_type": "markdown",
   "metadata": {
    "colab_type": "text",
    "id": "aWUTe5CVqB4Q"
   },
   "source": [
    "Returns dimensions of a ndarray as a tuple in \"(no_of_rows, no_of_columns)\" format"
   ]
  },
  {
   "cell_type": "code",
   "execution_count": 0,
   "metadata": {
    "colab": {
     "autoexec": {
      "startup": false,
      "wait_interval": 0
     },
     "base_uri": "https://localhost:8080/",
     "height": 56
    },
    "colab_type": "code",
    "executionInfo": {
     "elapsed": 522,
     "status": "ok",
     "timestamp": 1532856389528,
     "user": {
      "displayName": "John C. Lokman",
      "photoUrl": "https://lh3.googleusercontent.com/a/default-user=s128",
      "userId": "104399307152469459133"
     },
     "user_tz": -120
    },
    "id": "ZkOye1WEqB4I",
    "outputId": "2e8df8f7-54fe-48b9-dfdc-b61d8dbb8bac"
   },
   "outputs": [
    {
     "name": "stdout",
     "output_type": "stream",
     "text": [
      "(3,)\n",
      "(2, 3)\n"
     ]
    }
   ],
   "source": [
    "my_vector = np.array([10, 20, 30])\n",
    "my_matrix = np.array([[1, 2, 3], [10, 20, 30]])\n",
    "\n",
    "print(my_vector.shape)\n",
    "print(my_matrix.shape)"
   ]
  },
  {
   "cell_type": "markdown",
   "metadata": {
    "colab_type": "text",
    "id": "UtccbcMHqB4G"
   },
   "source": [
    "### Array Type\n",
    "**.dtype**\n",
    "\n",
    "Every value in a numpy array are of the same type. "
   ]
  },
  {
   "cell_type": "markdown",
   "metadata": {
    "colab_type": "text",
    "id": "5wIjzEdJqB4E"
   },
   "source": [
    "Array types: \n",
    "- '**Float64**'   : 64-bit floating-point number\n",
    "- '**uint32**'    : 32-bit unsigned integer \n",
    "- '**U75**'       : 75 byte unicode data type\n",
    "- **(str, 35)**   : 35-character string\n",
    "- **('U', 10)**   : 10-character unicode string"
   ]
  },
  {
   "cell_type": "code",
   "execution_count": 0,
   "metadata": {
    "colab": {
     "autoexec": {
      "startup": false,
      "wait_interval": 0
     },
     "base_uri": "https://localhost:8080/",
     "height": 36
    },
    "colab_type": "code",
    "executionInfo": {
     "elapsed": 511,
     "status": "ok",
     "timestamp": 1532856393774,
     "user": {
      "displayName": "John C. Lokman",
      "photoUrl": "https://lh3.googleusercontent.com/a/default-user=s128",
      "userId": "104399307152469459133"
     },
     "user_tz": -120
    },
    "id": "aPaJGkBpqB36",
    "outputId": "e4a062d2-d0f3-46e1-c567-5a3394d0847a"
   },
   "outputs": [
    {
     "data": {
      "text/plain": [
       "dtype('<U1')"
      ]
     },
     "execution_count": 28,
     "metadata": {
      "tags": []
     },
     "output_type": "execute_result"
    }
   ],
   "source": [
    "np.array(['a', 'b', 'c']).dtype"
   ]
  },
  {
   "cell_type": "code",
   "execution_count": 0,
   "metadata": {
    "colab": {
     "autoexec": {
      "startup": false,
      "wait_interval": 0
     },
     "base_uri": "https://localhost:8080/",
     "height": 36
    },
    "colab_type": "code",
    "executionInfo": {
     "elapsed": 471,
     "status": "ok",
     "timestamp": 1532856396267,
     "user": {
      "displayName": "John C. Lokman",
      "photoUrl": "https://lh3.googleusercontent.com/a/default-user=s128",
      "userId": "104399307152469459133"
     },
     "user_tz": -120
    },
    "id": "0pHfNAm4qB3Y",
    "outputId": "ac7411dd-a38b-4f10-e7e2-f3f0ce015121"
   },
   "outputs": [
    {
     "data": {
      "text/plain": [
       "dtype('int64')"
      ]
     },
     "execution_count": 29,
     "metadata": {
      "tags": []
     },
     "output_type": "execute_result"
    }
   ],
   "source": [
    "np.array([1, 2, 3]).dtype"
   ]
  },
  {
   "cell_type": "markdown",
   "metadata": {
    "colab_type": "text",
    "id": "zQkeM43cfhEK"
   },
   "source": [
    "## Indexing and Slicing numpy Arrays\n",
    "**[x,y] | [:, y] | [a:b, x:y] | [:,x:y] | [[a,b,c,d], y]** <br>\n",
    "<br>\n",
    "**[row]** <br>\n",
    "**[row, column]** <br>\n",
    "**: = every location** <br>\n",
    "**a:b = range** <br>"
   ]
  },
  {
   "cell_type": "markdown",
   "metadata": {
    "colab_type": "text",
    "id": "V82cvakUfhEN"
   },
   "source": [
    "*For another comparison of indexing with numpy and native Python lists, see [Indexing with Python](https://colab.research.google.com/drive/1g0JAnKc-PL20gstCDLQSdRNQK7RTjtcv#scrollTo=L6OKMpMI1ZrV) section in Python.ipynb.*"
   ]
  },
  {
   "cell_type": "markdown",
   "metadata": {
    "colab_type": "text",
    "id": "HWPDfCmn_qN1"
   },
   "source": [
    "A comparison of lists of list methods and NumPy methods for selecting and slicing: \n",
    "\n",
    "<img src=\"https://drive.google.com/uc?id=1KylJ9k_KYXehldrofYvARXoNg0nGwUFW\" height=\"500\" width=\"500\"> \n",
    "<img src=\"https://drive.google.com/uc?id=12RXkzq9WmTj9HVFBpQaMkdvDOrf1WZ1-\" height=\"500\" width=\"500\"> \n",
    "<img src=\"https://drive.google.com/uc?id=1RxnOzIDWSXoF4nW3lxnuSfxz03oG00sg\" height=\"500\" width=\"500\"> \n",
    "<img src=\"https://drive.google.com/uc?id=1gwAMBb48nDjnFwKHJQNCApLPXWf_wz87\" height=\"500\" width=\"500\"> \n",
    "<img src=\"https://drive.google.com/uc?id=1izuCNUXNvZtoZ_3_FbQXR8rM3Sz0XiLV\" height=\"500\" width=\"500\"> \n",
    "\n",
    "*Image sources: dataquest.io*"
   ]
  },
  {
   "cell_type": "markdown",
   "metadata": {
    "colab_type": "text",
    "id": "ZbKI925JK8ww"
   },
   "source": [
    "### Examples"
   ]
  },
  {
   "cell_type": "code",
   "execution_count": 0,
   "metadata": {
    "colab": {
     "autoexec": {
      "startup": false,
      "wait_interval": 0
     }
    },
    "colab_type": "code",
    "id": "_kHqN18x23TW"
   },
   "outputs": [],
   "source": [
    "my_ndarray = np.array([\n",
    "    [1, 2, 3],\n",
    "    [4, 5, 6],\n",
    "    [7, 8, 9]\n",
    "])"
   ]
  },
  {
   "cell_type": "code",
   "execution_count": 0,
   "metadata": {
    "colab": {
     "autoexec": {
      "startup": false,
      "wait_interval": 0
     }
    },
    "colab_type": "code",
    "id": "dCIZlQvL4G0M"
   },
   "outputs": [],
   "source": [
    "my_list = [\n",
    "    ['a', 'b', 'c'],\n",
    "    ['d', 'e', 'f'],\n",
    "    ['g', 'h' ,'i']\n",
    "]"
   ]
  },
  {
   "cell_type": "markdown",
   "metadata": {
    "colab_type": "text",
    "id": "hvrmuq4a3szE"
   },
   "source": [
    "**First row's third column**:"
   ]
  },
  {
   "cell_type": "code",
   "execution_count": 16,
   "metadata": {
    "colab": {
     "autoexec": {
      "startup": false,
      "wait_interval": 0
     },
     "base_uri": "https://localhost:8080/",
     "height": 56
    },
    "colab_type": "code",
    "executionInfo": {
     "elapsed": 7269,
     "status": "ok",
     "timestamp": 1532856069715,
     "user": {
      "displayName": "John C. Lokman",
      "photoUrl": "https://lh3.googleusercontent.com/a/default-user=s128",
      "userId": "104399307152469459133"
     },
     "user_tz": -120
    },
    "id": "1pRzElyK25j8",
    "outputId": "07df1f14-05e9-4237-f709-d0ca355bb80c"
   },
   "outputs": [
    {
     "name": "stdout",
     "output_type": "stream",
     "text": [
      "3 \n",
      " c\n"
     ]
    }
   ],
   "source": [
    "# for ndarray\n",
    "row_1_column_3_N = my_ndarray[0,2]\n",
    "\n",
    "# for list\n",
    "row_1_column_3_L = my_list[0][2]\n",
    "\n",
    "\n",
    "print(row_1_column_3_N, '\\n', row_1_column_3_L)"
   ]
  },
  {
   "cell_type": "markdown",
   "metadata": {
    "colab_type": "text",
    "id": "QKU-xl1535rm"
   },
   "source": [
    "**First row**:"
   ]
  },
  {
   "cell_type": "code",
   "execution_count": 17,
   "metadata": {
    "colab": {
     "autoexec": {
      "startup": false,
      "wait_interval": 0
     },
     "base_uri": "https://localhost:8080/",
     "height": 114
    },
    "colab_type": "code",
    "executionInfo": {
     "elapsed": 553,
     "status": "ok",
     "timestamp": 1532856119551,
     "user": {
      "displayName": "John C. Lokman",
      "photoUrl": "https://lh3.googleusercontent.com/a/default-user=s128",
      "userId": "104399307152469459133"
     },
     "user_tz": -120
    },
    "id": "oPV0tefl4BOJ",
    "outputId": "f781bb8b-e80a-4b8b-bc38-b26fd0255af6"
   },
   "outputs": [
    {
     "name": "stdout",
     "output_type": "stream",
     "text": [
      "[1 2 3] \n",
      "\n",
      " [1 2 3] \n",
      "\n",
      " ['a', 'b', 'c']\n"
     ]
    }
   ],
   "source": [
    "# for ndarray\n",
    "row_1_N = my_ndarray[0]\n",
    "row_1_N_formal = my_ndarray[0,:]  # more formal notation\n",
    "\n",
    "# for list\n",
    "\n",
    "row_1_L = my_list[0]\n",
    "\n",
    "\n",
    "print(row_1_N, '\\n\\n', row_1_N_formal, '\\n\\n', row_1_L )"
   ]
  },
  {
   "cell_type": "markdown",
   "metadata": {
    "colab_type": "text",
    "id": "-MqAqeDy78Lx"
   },
   "source": [
    "**First two rows:**"
   ]
  },
  {
   "cell_type": "code",
   "execution_count": 18,
   "metadata": {
    "colab": {
     "autoexec": {
      "startup": false,
      "wait_interval": 0
     },
     "base_uri": "https://localhost:8080/",
     "height": 94
    },
    "colab_type": "code",
    "executionInfo": {
     "elapsed": 459,
     "status": "ok",
     "timestamp": 1532856123526,
     "user": {
      "displayName": "John C. Lokman",
      "photoUrl": "https://lh3.googleusercontent.com/a/default-user=s128",
      "userId": "104399307152469459133"
     },
     "user_tz": -120
    },
    "id": "5ytR4Wti8CHo",
    "outputId": "740561d4-056c-48a6-c569-b0cd5e3376d5"
   },
   "outputs": [
    {
     "name": "stdout",
     "output_type": "stream",
     "text": [
      "[[1 2 3]\n",
      " [4 5 6]] \n",
      "\n",
      " [['a', 'b', 'c'], ['d', 'e', 'f']]\n"
     ]
    }
   ],
   "source": [
    "# for ndarray\n",
    "rows_1_to_2_N = my_ndarray[:2]\n",
    "\n",
    "# for list\n",
    "rows_1_to_2_L = my_list[:2]\n",
    "\n",
    "\n",
    "print(rows_1_to_2_N, '\\n\\n', rows_1_to_2_L)"
   ]
  },
  {
   "cell_type": "markdown",
   "metadata": {
    "colab_type": "text",
    "id": "8sSV_P0g5wqK"
   },
   "source": [
    "**First column**:"
   ]
  },
  {
   "cell_type": "code",
   "execution_count": 19,
   "metadata": {
    "colab": {
     "autoexec": {
      "startup": false,
      "wait_interval": 0
     },
     "base_uri": "https://localhost:8080/",
     "height": 75
    },
    "colab_type": "code",
    "executionInfo": {
     "elapsed": 581,
     "status": "ok",
     "timestamp": 1532856126176,
     "user": {
      "displayName": "John C. Lokman",
      "photoUrl": "https://lh3.googleusercontent.com/a/default-user=s128",
      "userId": "104399307152469459133"
     },
     "user_tz": -120
    },
    "id": "xr1CNIZr3f2o",
    "outputId": "54d92b44-21eb-487f-961e-14ea166058c1"
   },
   "outputs": [
    {
     "name": "stdout",
     "output_type": "stream",
     "text": [
      "[1 4 7] \n",
      "\n",
      " ['a', 'd', 'g']\n"
     ]
    }
   ],
   "source": [
    "# for ndarray\n",
    "column_1_N = my_ndarray[:,0]\n",
    "\n",
    "# for list\n",
    "column_1_L = []\n",
    "for each_row in my_list:\n",
    "  column_1_L.append(each_row[0])\n",
    "\n",
    "  \n",
    "print(column_1_N, '\\n\\n', column_1_L)"
   ]
  },
  {
   "cell_type": "markdown",
   "metadata": {
    "colab_type": "text",
    "id": "XvrJZsbv8i8R"
   },
   "source": [
    "**First two columns**:"
   ]
  },
  {
   "cell_type": "code",
   "execution_count": 20,
   "metadata": {
    "colab": {
     "autoexec": {
      "startup": false,
      "wait_interval": 0
     },
     "base_uri": "https://localhost:8080/",
     "height": 114
    },
    "colab_type": "code",
    "executionInfo": {
     "elapsed": 687,
     "status": "ok",
     "timestamp": 1532856132247,
     "user": {
      "displayName": "John C. Lokman",
      "photoUrl": "https://lh3.googleusercontent.com/a/default-user=s128",
      "userId": "104399307152469459133"
     },
     "user_tz": -120
    },
    "id": "wcg0SFqj8lK-",
    "outputId": "fbd33d36-2ef5-4e1e-bde4-a9eb2a396e3e"
   },
   "outputs": [
    {
     "name": "stdout",
     "output_type": "stream",
     "text": [
      "[[1 2]\n",
      " [4 5]\n",
      " [7 8]] \n",
      "\n",
      " [['a', 'b'], ['d', 'e'], ['g', 'h']]\n"
     ]
    }
   ],
   "source": [
    "# for ndarray\n",
    "columns_1_to_2_N = my_ndarray[:,:2]\n",
    "\n",
    "# for list\n",
    "columns_1_to_2_L = []\n",
    "for each_row in my_list:\n",
    "  columns_1_to_2_L.append(each_row[:2])\n",
    "\n",
    "  \n",
    "print(columns_1_to_2_N, '\\n\\n', columns_1_to_2_L)"
   ]
  },
  {
   "cell_type": "markdown",
   "metadata": {
    "colab_type": "text",
    "id": "ESBjHvUy7F90"
   },
   "source": [
    "**\n",
    "**:"
   ]
  },
  {
   "cell_type": "code",
   "execution_count": 25,
   "metadata": {
    "colab": {
     "autoexec": {
      "startup": false,
      "wait_interval": 0
     },
     "base_uri": "https://localhost:8080/",
     "height": 75
    },
    "colab_type": "code",
    "executionInfo": {
     "elapsed": 786,
     "status": "ok",
     "timestamp": 1532856242779,
     "user": {
      "displayName": "John C. Lokman",
      "photoUrl": "https://lh3.googleusercontent.com/a/default-user=s128",
      "userId": "104399307152469459133"
     },
     "user_tz": -120
    },
    "id": "l4SKvyZA7KGe",
    "outputId": "4bf9085d-e85e-45c5-a3a1-79e875c91114"
   },
   "outputs": [
    {
     "name": "stdout",
     "output_type": "stream",
     "text": [
      "[6 9] \n",
      "\n",
      " ['f', 'i']\n"
     ]
    }
   ],
   "source": [
    "# for ndarray\n",
    "rows_1_to_2_column_1_N = my_ndarray[1:3,2]\n",
    "\n",
    "# for list\n",
    "rows_1_to_2_column_1_L = []\n",
    "rows_1_to_2_column_1_L.append(my_list[1][2])\n",
    "rows_1_to_2_column_1_L.append(my_list[2][2])\n",
    "\n",
    "\n",
    "print(rows_1_to_2_column_1_N, '\\n\\n', rows_1_to_2_column_1_L)"
   ]
  },
  {
   "cell_type": "markdown",
   "metadata": {
    "colab_type": "text",
    "id": "vupK_3ppEC70"
   },
   "source": [
    "**Rows 1 and 3 of the 1st column**:"
   ]
  },
  {
   "cell_type": "code",
   "execution_count": 26,
   "metadata": {
    "colab": {
     "autoexec": {
      "startup": false,
      "wait_interval": 0
     },
     "base_uri": "https://localhost:8080/",
     "height": 36
    },
    "colab_type": "code",
    "executionInfo": {
     "elapsed": 2671,
     "status": "ok",
     "timestamp": 1532856376547,
     "user": {
      "displayName": "John C. Lokman",
      "photoUrl": "https://lh3.googleusercontent.com/a/default-user=s128",
      "userId": "104399307152469459133"
     },
     "user_tz": -120
    },
    "id": "-h-cmyDoEC8E",
    "outputId": "5f658bab-f126-4a9a-f476-4f237c937299"
   },
   "outputs": [
    {
     "name": "stdout",
     "output_type": "stream",
     "text": [
      "[1 7]\n"
     ]
    }
   ],
   "source": [
    "# for ndarray\n",
    "rows_1_and_3_column_1 = my_ndarray[[0,2],0]\n",
    "\n",
    "print(rows_1_and_3_column_1)"
   ]
  },
  {
   "cell_type": "markdown",
   "metadata": {
    "colab_type": "text",
    "id": "Q1kGwD_QkHJA"
   },
   "source": [
    "**Items 2, 5, 7, and 9 of a vector (1-dimensional numpy array)**:"
   ]
  },
  {
   "cell_type": "code",
   "execution_count": 56,
   "metadata": {
    "colab": {
     "autoexec": {
      "startup": false,
      "wait_interval": 0
     },
     "base_uri": "https://localhost:8080/",
     "height": 36
    },
    "colab_type": "code",
    "executionInfo": {
     "elapsed": 428,
     "status": "ok",
     "timestamp": 1532860097218,
     "user": {
      "displayName": "John C. Lokman",
      "photoUrl": "https://lh3.googleusercontent.com/a/default-user=s128",
      "userId": "104399307152469459133"
     },
     "user_tz": -120
    },
    "id": "dnts-xa_kdPm",
    "outputId": "a3bab062-5321-4818-ac6a-f975724d43e8"
   },
   "outputs": [
    {
     "data": {
      "text/plain": [
       "array([2, 5, 7, 9])"
      ]
     },
     "execution_count": 56,
     "metadata": {
      "tags": []
     },
     "output_type": "execute_result"
    }
   ],
   "source": [
    "vector = np.array([1,2,3,4,5,6,7,8,9])\n",
    "vector[[1,4,6,8]]"
   ]
  },
  {
   "cell_type": "markdown",
   "metadata": {
    "colab_type": "text",
    "id": "sav6mjMopXRu"
   },
   "source": [
    "## Sorting Arrays"
   ]
  },
  {
   "cell_type": "markdown",
   "metadata": {
    "colab_type": "text",
    "id": "ioOuqzcSI21Y"
   },
   "source": [
    "NumPy can sort arrays ordinally (for integers and floats) and alphabetically (for strings). Sorting is done in an ascending order (a descending-order sorting method in NumPy is not available at the time of this writing). "
   ]
  },
  {
   "cell_type": "markdown",
   "metadata": {
    "colab_type": "text",
    "id": "zibtLfWfGZOQ"
   },
   "source": [
    "<img src=\"https://drive.google.com/uc?id=1fyOzTre5JcUY0zjw1Cxp37eRxxIhpYJe\" height=\"500\"> \n",
    "\n",
    "*Image source: clokman*"
   ]
  },
  {
   "cell_type": "markdown",
   "metadata": {
    "colab_type": "text",
    "id": "yPKSkmW_rZEq"
   },
   "source": [
    "### Sorting 1-Dimensional Arrays (Vectors)"
   ]
  },
  {
   "cell_type": "code",
   "execution_count": 0,
   "metadata": {
    "colab": {
     "autoexec": {
      "startup": false,
      "wait_interval": 0
     }
    },
    "colab_type": "code",
    "id": "zzas08Roqvz-"
   },
   "outputs": [],
   "source": [
    "my_1d_array = np.array([4,3,1,7,6,2,8,9,5])"
   ]
  },
  {
   "cell_type": "markdown",
   "metadata": {
    "colab_type": "text",
    "id": "ICaUyGQXrrQ2"
   },
   "source": [
    "**Get the *sort vector* **:\n",
    "Get the index values of the hyptohetically sorted version of the array. That is, if the given array was to be sorted, the **indexes that return from this method represent the index positions that *the current items in the array would be moved to, if it was to be sorted**:\n",
    "\n",
    "(Note that this command does not sort the array, but returns only the indices that can be used to do so)"
   ]
  },
  {
   "cell_type": "code",
   "execution_count": 98,
   "metadata": {
    "colab": {
     "autoexec": {
      "startup": false,
      "wait_interval": 0
     },
     "base_uri": "https://localhost:8080/",
     "height": 36
    },
    "colab_type": "code",
    "executionInfo": {
     "elapsed": 402,
     "status": "ok",
     "timestamp": 1532863241586,
     "user": {
      "displayName": "John C. Lokman",
      "photoUrl": "https://lh3.googleusercontent.com/a/default-user=s128",
      "userId": "104399307152469459133"
     },
     "user_tz": -120
    },
    "id": "dbAtX_2jq6fe",
    "outputId": "5a9b0117-4f6e-4006-c51c-37789d28f143"
   },
   "outputs": [
    {
     "data": {
      "text/plain": [
       "array([2, 5, 1, 0, 8, 4, 3, 6, 7])"
      ]
     },
     "execution_count": 98,
     "metadata": {
      "tags": []
     },
     "output_type": "execute_result"
    }
   ],
   "source": [
    "sort_vector = my_1d_array.argsort()\n",
    "sort_vector"
   ]
  },
  {
   "cell_type": "markdown",
   "metadata": {
    "colab_type": "text",
    "id": "Yyze7YF4s3bq"
   },
   "source": [
    "**Use the sort vector to sort the array**:"
   ]
  },
  {
   "cell_type": "code",
   "execution_count": 99,
   "metadata": {
    "colab": {
     "autoexec": {
      "startup": false,
      "wait_interval": 0
     },
     "base_uri": "https://localhost:8080/",
     "height": 36
    },
    "colab_type": "code",
    "executionInfo": {
     "elapsed": 434,
     "status": "ok",
     "timestamp": 1532863253530,
     "user": {
      "displayName": "John C. Lokman",
      "photoUrl": "https://lh3.googleusercontent.com/a/default-user=s128",
      "userId": "104399307152469459133"
     },
     "user_tz": -120
    },
    "id": "HOubpzP7rHng",
    "outputId": "13ac9118-3b6c-4b4e-c2c9-8b8d7eb5366b"
   },
   "outputs": [
    {
     "data": {
      "text/plain": [
       "array([1, 2, 3, 4, 5, 6, 7, 8, 9])"
      ]
     },
     "execution_count": 99,
     "metadata": {
      "tags": []
     },
     "output_type": "execute_result"
    }
   ],
   "source": [
    "sorted_1d_array = my_1d_array[sort_vector]\n",
    "sorted_1d_array"
   ]
  },
  {
   "cell_type": "markdown",
   "metadata": {
    "colab_type": "text",
    "id": "a_XaFG0DrWz-"
   },
   "source": [
    "### Sorting 2-Dimensional Arrays (Matrices)"
   ]
  },
  {
   "cell_type": "code",
   "execution_count": 0,
   "metadata": {
    "colab": {
     "autoexec": {
      "startup": false,
      "wait_interval": 0
     }
    },
    "colab_type": "code",
    "id": "1J0S08SKqd3g"
   },
   "outputs": [],
   "source": [
    "my_2d_array = np.array([\n",
    "    [4, 5, 1],\n",
    "    [7, 6, 3],\n",
    "    [8, 9, 2]\n",
    "])"
   ]
  },
  {
   "cell_type": "markdown",
   "metadata": {
    "colab_type": "text",
    "id": "k7rxoO8ovzYe"
   },
   "source": [
    "**Extract the column of interest:** "
   ]
  },
  {
   "cell_type": "code",
   "execution_count": 0,
   "metadata": {
    "colab": {
     "autoexec": {
      "startup": false,
      "wait_interval": 0
     }
    },
    "colab_type": "code",
    "id": "K2EywXbfuTbc"
   },
   "outputs": [],
   "source": [
    "column_to_sort_by = my_2d_array[:,2]\n",
    "column_to_sort_by"
   ]
  },
  {
   "cell_type": "markdown",
   "metadata": {
    "colab_type": "text",
    "id": "tuewT_Biv6P8"
   },
   "source": [
    "**Create the *sort vector* of the extracted column:**"
   ]
  },
  {
   "cell_type": "code",
   "execution_count": 0,
   "metadata": {
    "colab": {
     "autoexec": {
      "startup": false,
      "wait_interval": 0
     }
    },
    "colab_type": "code",
    "id": "4vZH0rLvqjqG"
   },
   "outputs": [],
   "source": [
    "sort_vector = column_to_sort_by.argsort()\n",
    "sort_vector"
   ]
  },
  {
   "cell_type": "markdown",
   "metadata": {
    "colab_type": "text",
    "id": "g_AokXCWxeVo"
   },
   "source": [
    "**Sort the extracted column using the *sort vector*:**\n",
    "\n",
    "*(to see if sorting is being done correctly)*"
   ]
  },
  {
   "cell_type": "code",
   "execution_count": 92,
   "metadata": {
    "colab": {
     "autoexec": {
      "startup": false,
      "wait_interval": 0
     },
     "base_uri": "https://localhost:8080/",
     "height": 36
    },
    "colab_type": "code",
    "executionInfo": {
     "elapsed": 438,
     "status": "ok",
     "timestamp": 1532862692366,
     "user": {
      "displayName": "John C. Lokman",
      "photoUrl": "https://lh3.googleusercontent.com/a/default-user=s128",
      "userId": "104399307152469459133"
     },
     "user_tz": -120
    },
    "id": "T8i6CK8utklO",
    "outputId": "6fd6c268-a5ef-48dd-b056-aa8b6821d959"
   },
   "outputs": [
    {
     "data": {
      "text/plain": [
       "array([1, 2, 3])"
      ]
     },
     "execution_count": 92,
     "metadata": {
      "tags": []
     },
     "output_type": "execute_result"
    }
   ],
   "source": [
    "sorted_column = column_to_sort_by[sort_vector]\n",
    "sorted_column"
   ]
  },
  {
   "cell_type": "markdown",
   "metadata": {
    "colab_type": "text",
    "id": "pPyy0a__x_lM"
   },
   "source": [
    "**Sort the entire array using the *sort vector***:\n",
    "\n",
    "*Essentially, what happens here is to use the sort vector to **request a version of the array in which the order of the rows are altered according to the sorting vector** (which itself reflects the ascending order of the row values in the column_to_sort_by)*"
   ]
  },
  {
   "cell_type": "code",
   "execution_count": 93,
   "metadata": {
    "colab": {
     "autoexec": {
      "startup": false,
      "wait_interval": 0
     },
     "base_uri": "https://localhost:8080/",
     "height": 74
    },
    "colab_type": "code",
    "executionInfo": {
     "elapsed": 430,
     "status": "ok",
     "timestamp": 1532862733120,
     "user": {
      "displayName": "John C. Lokman",
      "photoUrl": "https://lh3.googleusercontent.com/a/default-user=s128",
      "userId": "104399307152469459133"
     },
     "user_tz": -120
    },
    "id": "NiXg6ffCvI_-",
    "outputId": "0bcb0743-d304-4831-8c02-f2859dd5d2aa"
   },
   "outputs": [
    {
     "data": {
      "text/plain": [
       "array([[4, 5, 1],\n",
       "       [8, 9, 2],\n",
       "       [7, 6, 3]])"
      ]
     },
     "execution_count": 93,
     "metadata": {
      "tags": []
     },
     "output_type": "execute_result"
    }
   ],
   "source": [
    "sorted_array = my_2d_array[sort_vector]\n",
    "sorted_array"
   ]
  },
  {
   "cell_type": "markdown",
   "metadata": {
    "colab_type": "text",
    "id": "JGOVAMy-W9CZ"
   },
   "source": [
    "## Vectorized Operations\n",
    "***Vector Arithmetics***\n",
    "\n",
    "A list of arithmetic operations that can be used for numpy vectors:\n",
    "\n",
    "*Where possible, the default Python arithmetic operators (e.g., '+',  '/') can also be used, and they would produce the same effect.*"
   ]
  },
  {
   "cell_type": "markdown",
   "metadata": {
    "colab_type": "text",
    "id": "LO0vNpUzYE00"
   },
   "source": [
    "<table class=\"longtable docutils\" border=\"1\">\n",
    "<colgroup>\n",
    "<col width=\"10%\">\n",
    "<col width=\"90%\">\n",
    "</colgroup>\n",
    "<tbody valign=\"top\">\n",
    "<tr class=\"row-odd\"><td><a class=\"reference internal\" href=\"generated/numpy.add.html#numpy.add\" title=\"numpy.add\"><code class=\"xref py py-obj docutils literal\"><span class=\"pre\">add</span></code></a>(x1,&nbsp;x2,&nbsp;/[,&nbsp;out,&nbsp;where,&nbsp;casting,&nbsp;order,&nbsp;...])</td>\n",
    "<td>Add arguments element-wise.</td>\n",
    "</tr>\n",
    "<tr class=\"row-even\"><td><a class=\"reference internal\" href=\"generated/numpy.reciprocal.html#numpy.reciprocal\" title=\"numpy.reciprocal\"><code class=\"xref py py-obj docutils literal\"><span class=\"pre\">reciprocal</span></code></a>(x,&nbsp;/[,&nbsp;out,&nbsp;where,&nbsp;casting,&nbsp;...])</td>\n",
    "<td>Return the reciprocal of the argument, element-wise.</td>\n",
    "</tr>\n",
    "<tr class=\"row-odd\"><td><a class=\"reference internal\" href=\"generated/numpy.positive.html#numpy.positive\" title=\"numpy.positive\"><code class=\"xref py py-obj docutils literal\"><span class=\"pre\">positive</span></code></a>(x,&nbsp;/[,&nbsp;out,&nbsp;where,&nbsp;casting,&nbsp;order,&nbsp;...])</td>\n",
    "<td>Numerical positive, element-wise.</td>\n",
    "</tr>\n",
    "<tr class=\"row-even\"><td><a class=\"reference internal\" href=\"generated/numpy.negative.html#numpy.negative\" title=\"numpy.negative\"><code class=\"xref py py-obj docutils literal\"><span class=\"pre\">negative</span></code></a>(x,&nbsp;/[,&nbsp;out,&nbsp;where,&nbsp;casting,&nbsp;order,&nbsp;...])</td>\n",
    "<td>Numerical negative, element-wise.</td>\n",
    "</tr>\n",
    "<tr class=\"row-odd\"><td><a class=\"reference internal\" href=\"generated/numpy.multiply.html#numpy.multiply\" title=\"numpy.multiply\"><code class=\"xref py py-obj docutils literal\"><span class=\"pre\">multiply</span></code></a>(x1,&nbsp;x2,&nbsp;/[,&nbsp;out,&nbsp;where,&nbsp;casting,&nbsp;...])</td>\n",
    "<td>Multiply arguments element-wise.</td>\n",
    "</tr>\n",
    "<tr class=\"row-even\"><td><a class=\"reference internal\" href=\"generated/numpy.divide.html#numpy.divide\" title=\"numpy.divide\"><code class=\"xref py py-obj docutils literal\"><span class=\"pre\">divide</span></code></a>(x1,&nbsp;x2,&nbsp;/[,&nbsp;out,&nbsp;where,&nbsp;casting,&nbsp;...])</td>\n",
    "<td>Divide arguments element-wise.</td>\n",
    "</tr>\n",
    "<tr class=\"row-odd\"><td><a class=\"reference internal\" href=\"generated/numpy.power.html#numpy.power\" title=\"numpy.power\"><code class=\"xref py py-obj docutils literal\"><span class=\"pre\">power</span></code></a>(x1,&nbsp;x2,&nbsp;/[,&nbsp;out,&nbsp;where,&nbsp;casting,&nbsp;...])</td>\n",
    "<td>First array elements raised to powers from second array, element-wise.</td>\n",
    "</tr>\n",
    "<tr class=\"row-even\"><td><a class=\"reference internal\" href=\"generated/numpy.subtract.html#numpy.subtract\" title=\"numpy.subtract\"><code class=\"xref py py-obj docutils literal\"><span class=\"pre\">subtract</span></code></a>(x1,&nbsp;x2,&nbsp;/[,&nbsp;out,&nbsp;where,&nbsp;casting,&nbsp;...])</td>\n",
    "<td>Subtract arguments, element-wise.</td>\n",
    "</tr>\n",
    "<tr class=\"row-odd\"><td><a class=\"reference internal\" href=\"generated/numpy.true_divide.html#numpy.true_divide\" title=\"numpy.true_divide\"><code class=\"xref py py-obj docutils literal\"><span class=\"pre\">true_divide</span></code></a>(x1,&nbsp;x2,&nbsp;/[,&nbsp;out,&nbsp;where,&nbsp;...])</td>\n",
    "<td>Returns a true division of the inputs, element-wise.</td>\n",
    "</tr>\n",
    "<tr class=\"row-even\"><td><a class=\"reference internal\" href=\"generated/numpy.floor_divide.html#numpy.floor_divide\" title=\"numpy.floor_divide\"><code class=\"xref py py-obj docutils literal\"><span class=\"pre\">floor_divide</span></code></a>(x1,&nbsp;x2,&nbsp;/[,&nbsp;out,&nbsp;where,&nbsp;...])</td>\n",
    "<td>Return the largest integer smaller or equal to the division of the inputs.</td>\n",
    "</tr>\n",
    "<tr class=\"row-odd\"><td><a class=\"reference internal\" href=\"generated/numpy.float_power.html#numpy.float_power\" title=\"numpy.float_power\"><code class=\"xref py py-obj docutils literal\"><span class=\"pre\">float_power</span></code></a>(x1,&nbsp;x2,&nbsp;/[,&nbsp;out,&nbsp;where,&nbsp;...])</td>\n",
    "<td>First array elements raised to powers from second array, element-wise.</td>\n",
    "</tr>\n",
    "<tr class=\"row-even\"><td><a class=\"reference internal\" href=\"generated/numpy.fmod.html#numpy.fmod\" title=\"numpy.fmod\"><code class=\"xref py py-obj docutils literal\"><span class=\"pre\">fmod</span></code></a>(x1,&nbsp;x2,&nbsp;/[,&nbsp;out,&nbsp;where,&nbsp;casting,&nbsp;...])</td>\n",
    "<td>Return the element-wise remainder of division.</td>\n",
    "</tr>\n",
    "<tr class=\"row-odd\"><td><a class=\"reference internal\" href=\"generated/numpy.mod.html#numpy.mod\" title=\"numpy.mod\"><code class=\"xref py py-obj docutils literal\"><span class=\"pre\">mod</span></code></a>(x1,&nbsp;x2,&nbsp;/[,&nbsp;out,&nbsp;where,&nbsp;casting,&nbsp;order,&nbsp;...])</td>\n",
    "<td>Return element-wise remainder of division.</td>\n",
    "</tr>\n",
    "<tr class=\"row-even\"><td><a class=\"reference internal\" href=\"generated/numpy.modf.html#numpy.modf\" title=\"numpy.modf\"><code class=\"xref py py-obj docutils literal\"><span class=\"pre\">modf</span></code></a>(x[,&nbsp;out1,&nbsp;out2],&nbsp;/&nbsp;[[,&nbsp;out,&nbsp;where,&nbsp;...])</td>\n",
    "<td>Return the fractional and integral parts of an array, element-wise.</td>\n",
    "</tr>\n",
    "<tr class=\"row-odd\"><td><a class=\"reference internal\" href=\"generated/numpy.remainder.html#numpy.remainder\" title=\"numpy.remainder\"><code class=\"xref py py-obj docutils literal\"><span class=\"pre\">remainder</span></code></a>(x1,&nbsp;x2,&nbsp;/[,&nbsp;out,&nbsp;where,&nbsp;casting,&nbsp;...])</td>\n",
    "<td>Return element-wise remainder of division.</td>\n",
    "</tr>\n",
    "<tr class=\"row-even\"><td><a class=\"reference internal\" href=\"generated/numpy.divmod.html#numpy.divmod\" title=\"numpy.divmod\"><code class=\"xref py py-obj docutils literal\"><span class=\"pre\">divmod</span></code></a>(x1,&nbsp;x2[,&nbsp;out1,&nbsp;out2],&nbsp;/&nbsp;[[,&nbsp;out,&nbsp;...])</td>\n",
    "<td>Return element-wise quotient and remainder simultaneously.</td>\n",
    "</tr>\n",
    "</tbody>\n",
    "</table>\n",
    "\n",
    "\n",
    "*(For more functions that may be applicable in vector operations, see the table source: https://docs.scipy.org/doc/numpy-1.14.0/reference/routines.math.html#arithmetic-operations)*\n",
    "\n",
    "For all array operators and methods, see: https://docs.scipy.org/doc/numpy-1.14.0/reference/arrays.ndarray.html#calculation"
   ]
  },
  {
   "cell_type": "markdown",
   "metadata": {
    "colab_type": "text",
    "id": "WsE1E1npbvgt"
   },
   "source": [
    "### Function and Method Representation of Numpy Operations"
   ]
  },
  {
   "cell_type": "markdown",
   "metadata": {
    "colab_type": "text",
    "id": "WqKyHoFAbVUP"
   },
   "source": [
    "Most  numpy methods can also be written with a functional style (but not all [e.g., median can only be written in the functional style]):"
   ]
  },
  {
   "cell_type": "markdown",
   "metadata": {
    "colab_type": "text",
    "id": "yB7NvWrwcjmF"
   },
   "source": [
    "<table>\n",
    "<thead>\n",
    "<tr>\n",
    "<th>Calculation</th>\n",
    "<th>Function Representation</th>\n",
    "<th>Method Representation</th>\n",
    "</tr>\n",
    "</thead>\n",
    "<tbody>\n",
    "<tr>\n",
    "<td>Calculate the minimum value of <code>trip_mph</code></td>\n",
    "<td><code>np.min(trip_mph)</code></td>\n",
    "<td><code>trip_mph.min()</code></td>\n",
    "</tr>\n",
    "<tr>\n",
    "<td>Calculate the maximum value of <code>trip_mph</code></td>\n",
    "<td><code>np.max(trip_mph)</code></td>\n",
    "<td><code>trip_mph.max()</code></td>\n",
    "</tr>\n",
    "<tr>\n",
    "<td>Calculate the <a target=\"_blank\" href=\"https://en.wikipedia.org/wiki/Mean\">mean average</a> value of <code>trip_mph</code></td>\n",
    "<td><code>np.mean(trip_mph)</code></td>\n",
    "<td><code>trip_mph.mean()</code></td>\n",
    "</tr>\n",
    "<tr>\n",
    "<td>Calculate the <a target=\"_blank\" href=\"https://en.wikipedia.org/wiki/Median\">median average</a> value of <code>trip_mph</code></td>\n",
    "<td><code>np.median(trip_mph)</code></td>\n",
    "<td>There is no ndarray median method</td>\n",
    "</tr>\n",
    "</tbody>\n",
    "</table>\n",
    "*Source: Dataquest.io*"
   ]
  },
  {
   "cell_type": "markdown",
   "metadata": {
    "colab_type": "text",
    "id": "qjhyOcNkfHvd"
   },
   "source": [
    "**Method representation example**:"
   ]
  },
  {
   "cell_type": "code",
   "execution_count": 0,
   "metadata": {
    "colab": {
     "autoexec": {
      "startup": false,
      "wait_interval": 0
     }
    },
    "colab_type": "code",
    "id": "PdMkUtPnXfHe"
   },
   "outputs": [],
   "source": [
    "my_array = np.array([\n",
    "    [1, 2, 3],\n",
    "    [4, 5, 6],\n",
    "    [7, 8, 9]\n",
    "])"
   ]
  },
  {
   "cell_type": "code",
   "execution_count": 35,
   "metadata": {
    "colab": {
     "autoexec": {
      "startup": false,
      "wait_interval": 0
     },
     "base_uri": "https://localhost:8080/",
     "height": 36
    },
    "colab_type": "code",
    "executionInfo": {
     "elapsed": 751,
     "status": "ok",
     "timestamp": 1532856541823,
     "user": {
      "displayName": "John C. Lokman",
      "photoUrl": "https://lh3.googleusercontent.com/a/default-user=s128",
      "userId": "104399307152469459133"
     },
     "user_tz": -120
    },
    "id": "a5bXv44cbpeV",
    "outputId": "cbb652dc-01fe-4d53-e3e9-cb1824ae9302"
   },
   "outputs": [
    {
     "data": {
      "text/plain": [
       "9"
      ]
     },
     "execution_count": 35,
     "metadata": {
      "tags": []
     },
     "output_type": "execute_result"
    }
   ],
   "source": [
    "my_array.max()"
   ]
  },
  {
   "cell_type": "markdown",
   "metadata": {
    "colab_type": "text",
    "id": "j6fia96xfLDr"
   },
   "source": [
    "**Function representation example**:"
   ]
  },
  {
   "cell_type": "code",
   "execution_count": 36,
   "metadata": {
    "colab": {
     "autoexec": {
      "startup": false,
      "wait_interval": 0
     },
     "base_uri": "https://localhost:8080/",
     "height": 36
    },
    "colab_type": "code",
    "executionInfo": {
     "elapsed": 513,
     "status": "ok",
     "timestamp": 1532856547166,
     "user": {
      "displayName": "John C. Lokman",
      "photoUrl": "https://lh3.googleusercontent.com/a/default-user=s128",
      "userId": "104399307152469459133"
     },
     "user_tz": -120
    },
    "id": "AaRPzn05bDtC",
    "outputId": "7badb514-abbe-4959-e143-1501332ff29b"
   },
   "outputs": [
    {
     "data": {
      "text/plain": [
       "9"
      ]
     },
     "execution_count": 36,
     "metadata": {
      "tags": []
     },
     "output_type": "execute_result"
    }
   ],
   "source": [
    "np.max(my_array)  # same with my_array.max() notation; this simply its function representation"
   ]
  },
  {
   "cell_type": "markdown",
   "metadata": {
    "colab_type": "text",
    "id": "1qsIMKsveQUZ"
   },
   "source": [
    "### Native Functionality vs Numpy Methods"
   ]
  },
  {
   "cell_type": "markdown",
   "metadata": {
    "colab_type": "text",
    "id": "eRen_A-feWlM"
   },
   "source": [
    "Sometimes native Python functionality may exist that mirror NumPy methods. (e.g., the native min() function of Python vs np.min() method of NumPy). It is important to note that such native functions do not take advantage of vectorization.\n",
    "\n",
    "This does not apply to Python arithmetic operators such as '/' or '+' —if used instead of NumPy fucntionality, they result in the same operations (i.e. they utilize vectorization)."
   ]
  },
  {
   "cell_type": "markdown",
   "metadata": {
    "colab_type": "text",
    "id": "B4pxo08tZMwU"
   },
   "source": [
    "### Examples"
   ]
  },
  {
   "cell_type": "code",
   "execution_count": 0,
   "metadata": {
    "colab": {
     "autoexec": {
      "startup": false,
      "wait_interval": 0
     }
    },
    "colab_type": "code",
    "id": "cD0uF-7GZRnF"
   },
   "outputs": [],
   "source": [
    "my_array = np.array([\n",
    "    [1, 2, 3],\n",
    "    [4, 5, 6],\n",
    "    [7, 8, 9]\n",
    "])"
   ]
  },
  {
   "cell_type": "markdown",
   "metadata": {
    "colab_type": "text",
    "id": "QfpALspIaQMe"
   },
   "source": [
    "**Vector division**:"
   ]
  },
  {
   "cell_type": "code",
   "execution_count": 38,
   "metadata": {
    "colab": {
     "autoexec": {
      "startup": false,
      "wait_interval": 0
     },
     "base_uri": "https://localhost:8080/",
     "height": 75
    },
    "colab_type": "code",
    "executionInfo": {
     "elapsed": 440,
     "status": "ok",
     "timestamp": 1532856562531,
     "user": {
      "displayName": "John C. Lokman",
      "photoUrl": "https://lh3.googleusercontent.com/a/default-user=s128",
      "userId": "104399307152469459133"
     },
     "user_tz": -120
    },
    "id": "Wh6hiz9KZqcv",
    "outputId": "0d59f1b8-55e7-472e-cf5b-5fecf2d21d57"
   },
   "outputs": [
    {
     "data": {
      "text/plain": [
       "array([[0.5, 1. , 1.5],\n",
       "       [2. , 2.5, 3. ],\n",
       "       [3.5, 4. , 4.5]])"
      ]
     },
     "execution_count": 38,
     "metadata": {
      "tags": []
     },
     "output_type": "execute_result"
    }
   ],
   "source": [
    "my_array / 2"
   ]
  },
  {
   "cell_type": "markdown",
   "metadata": {
    "colab_type": "text",
    "id": "LFiXqoMKaUTT"
   },
   "source": [
    "**Statistics**:\n"
   ]
  },
  {
   "cell_type": "code",
   "execution_count": 39,
   "metadata": {
    "colab": {
     "autoexec": {
      "startup": false,
      "wait_interval": 0
     },
     "base_uri": "https://localhost:8080/",
     "height": 114
    },
    "colab_type": "code",
    "executionInfo": {
     "elapsed": 509,
     "status": "ok",
     "timestamp": 1532856566042,
     "user": {
      "displayName": "John C. Lokman",
      "photoUrl": "https://lh3.googleusercontent.com/a/default-user=s128",
      "userId": "104399307152469459133"
     },
     "user_tz": -120
    },
    "id": "jxj7RBioZuFl",
    "outputId": "c293cf34-47fc-426e-df12-9db64e99f373"
   },
   "outputs": [
    {
     "name": "stdout",
     "output_type": "stream",
     "text": [
      " min: 1 \n",
      " max: 9 \n",
      " median: 5 \n",
      " mean: 5 \n",
      " sum: 45\n"
     ]
    }
   ],
   "source": [
    "min = my_array.min()\n",
    "max = my_array.max()\n",
    "mean = my_array.mean()\n",
    "median = np.median(my_array)\n",
    "sum = my_array.sum()\n",
    "\n",
    "print (' min: %d \\n max: %d \\n median: %d \\n mean: %d \\n sum: %d' % (min, max, median, mean, sum))"
   ]
  },
  {
   "cell_type": "markdown",
   "metadata": {
    "colab_type": "text",
    "id": "uBbY9v3YUtB_"
   },
   "source": [
    "### Applying Methods to Column and Rows\n",
    "*(Column sums and row sums)*"
   ]
  },
  {
   "cell_type": "markdown",
   "metadata": {
    "colab_type": "text",
    "id": "Kh1BHvsOU3Wr"
   },
   "source": [
    "<img src=\"https://drive.google.com/uc?id=1E9lbCglVYUZ-zP6bH3bzD57toAAkr44R\" height=\"500\" width=\"500\"> \n",
    "<img src=\"https://drive.google.com/uc?id=1r8DN_9D8FPGQj1x5KkjIsDY3Rf13KCpV\" height=\"500\" width=\"500\"> \n",
    "<img src=\"https://drive.google.com/uc?id=1XSul3v8EMSS9cgo7-3lRZTOH9rGGRMxP\" height=\"500\" width=\"500\"> \n",
    "<img src=\"https://drive.google.com/uc?id=1RlH_ek0T1VxEaHq4oqM_sVFtB5oy4-af\" height=\"500\" width=\"500\"> \n",
    "\n",
    "Image source: dataquest.io"
   ]
  },
  {
   "cell_type": "markdown",
   "metadata": {
    "colab_type": "text",
    "id": "98xyiqfSviXv"
   },
   "source": [
    "#### Examples"
   ]
  },
  {
   "cell_type": "code",
   "execution_count": 0,
   "metadata": {
    "colab": {
     "autoexec": {
      "startup": false,
      "wait_interval": 0
     }
    },
    "colab_type": "code",
    "id": "p-zhZoxpwKnC"
   },
   "outputs": [],
   "source": [
    "my_array = np.array([\n",
    "    [1, 2, 3],\n",
    "    [4, 5, 6],\n",
    "    [7, 8, 9]\n",
    "])"
   ]
  },
  {
   "cell_type": "code",
   "execution_count": 49,
   "metadata": {
    "colab": {
     "autoexec": {
      "startup": false,
      "wait_interval": 0
     },
     "base_uri": "https://localhost:8080/",
     "height": 36
    },
    "colab_type": "code",
    "executionInfo": {
     "elapsed": 414,
     "status": "ok",
     "timestamp": 1532859730006,
     "user": {
      "displayName": "John C. Lokman",
      "photoUrl": "https://lh3.googleusercontent.com/a/default-user=s128",
      "userId": "104399307152469459133"
     },
     "user_tz": -120
    },
    "id": "Bz5RyxfqwMMQ",
    "outputId": "e6f82d52-683a-4aef-dedf-2d7394e25ff0"
   },
   "outputs": [
    {
     "data": {
      "text/plain": [
       "45"
      ]
     },
     "execution_count": 49,
     "metadata": {
      "tags": []
     },
     "output_type": "execute_result"
    }
   ],
   "source": [
    "table_sum = my_array.sum()\n",
    "table_sum"
   ]
  },
  {
   "cell_type": "code",
   "execution_count": 50,
   "metadata": {
    "colab": {
     "autoexec": {
      "startup": false,
      "wait_interval": 0
     },
     "base_uri": "https://localhost:8080/",
     "height": 36
    },
    "colab_type": "code",
    "executionInfo": {
     "elapsed": 404,
     "status": "ok",
     "timestamp": 1532859731868,
     "user": {
      "displayName": "John C. Lokman",
      "photoUrl": "https://lh3.googleusercontent.com/a/default-user=s128",
      "userId": "104399307152469459133"
     },
     "user_tz": -120
    },
    "id": "HeHyrc3Bww0z",
    "outputId": "781768ff-e684-4e66-f02c-c32391439637"
   },
   "outputs": [
    {
     "data": {
      "text/plain": [
       "array([12, 15, 18])"
      ]
     },
     "execution_count": 50,
     "metadata": {
      "tags": []
     },
     "output_type": "execute_result"
    }
   ],
   "source": [
    "row_sums = my_array.sum(axis=0)\n",
    "row_sums"
   ]
  },
  {
   "cell_type": "code",
   "execution_count": 51,
   "metadata": {
    "colab": {
     "autoexec": {
      "startup": false,
      "wait_interval": 0
     },
     "base_uri": "https://localhost:8080/",
     "height": 36
    },
    "colab_type": "code",
    "executionInfo": {
     "elapsed": 466,
     "status": "ok",
     "timestamp": 1532859735890,
     "user": {
      "displayName": "John C. Lokman",
      "photoUrl": "https://lh3.googleusercontent.com/a/default-user=s128",
      "userId": "104399307152469459133"
     },
     "user_tz": -120
    },
    "id": "W4SrbD7VwzoS",
    "outputId": "de1f87f0-e8da-4d08-a5be-a959ad16ef83"
   },
   "outputs": [
    {
     "data": {
      "text/plain": [
       "array([ 6, 15, 24])"
      ]
     },
     "execution_count": 51,
     "metadata": {
      "tags": []
     },
     "output_type": "execute_result"
    }
   ],
   "source": [
    "col_sums = my_array.sum(axis=1)\n",
    "col_sums"
   ]
  },
  {
   "cell_type": "markdown",
   "metadata": {
    "colab_type": "text",
    "id": "PdSFqsyS0ffC"
   },
   "source": [
    "## Array Concatenation"
   ]
  },
  {
   "cell_type": "markdown",
   "metadata": {
    "colab_type": "text",
    "id": "nsZig0YP3R55"
   },
   "source": [
    "### Ensuring Dimensionalty Match between Arrays"
   ]
  },
  {
   "cell_type": "code",
   "execution_count": 0,
   "metadata": {
    "colab": {
     "autoexec": {
      "startup": false,
      "wait_interval": 0
     }
    },
    "colab_type": "code",
    "id": "dyDzL4oV0nSL"
   },
   "outputs": [],
   "source": [
    "my_array = np.array([\n",
    "    [1, 2, 3],\n",
    "    [4, 5, 6],\n",
    "    [7, 8, 9]\n",
    "])  # 2-dimensional array (i.e., a matrix)\n",
    "\n",
    "zeros_array = np.array([0,0,0]) # 1-dimensional array (i.e., a vector)"
   ]
  },
  {
   "cell_type": "markdown",
   "metadata": {
    "colab_type": "text",
    "id": "bzEGLk3XGXo4"
   },
   "source": [
    "Concatenation in NumPy is acomplished by adding two arrays to each other. The critical rule is both arrays must have the same number of dimensions. That is, a one-dimensional array cannot be added to a two-dimensional array."
   ]
  },
  {
   "cell_type": "markdown",
   "metadata": {
    "colab_type": "text",
    "id": "5EJwUmF22ZDU"
   },
   "source": [
    "Trying to add these two arrays to each other will given an error, because they have a different number of dimensions:"
   ]
  },
  {
   "cell_type": "code",
   "execution_count": 53,
   "metadata": {
    "colab": {
     "autoexec": {
      "startup": false,
      "wait_interval": 0
     },
     "base_uri": "https://localhost:8080/",
     "height": 36
    },
    "colab_type": "code",
    "executionInfo": {
     "elapsed": 428,
     "status": "ok",
     "timestamp": 1532859755952,
     "user": {
      "displayName": "John C. Lokman",
      "photoUrl": "https://lh3.googleusercontent.com/a/default-user=s128",
      "userId": "104399307152469459133"
     },
     "user_tz": -120
    },
    "id": "tHxhiK3M09st",
    "outputId": "e958bb5e-50b2-4d0f-b5a1-7301039820d8"
   },
   "outputs": [
    {
     "name": "stdout",
     "output_type": "stream",
     "text": [
      "Error caught:  all the input arrays must have same number of dimensions\n"
     ]
    }
   ],
   "source": [
    "try:\n",
    "    np.concatenate([my_array, zeros_array], axis=0)  # 'axis=0' adds as rows\n",
    "except ValueError as error:\n",
    "    print ('Error caught: ', error)\n"
   ]
  },
  {
   "cell_type": "markdown",
   "metadata": {
    "colab_type": "text",
    "id": "BtA4lAkXHZhE"
   },
   "source": [
    " To add a one-dimensional array (e.g., a single column or row) to a two-dimensional array (e.g., a dataset) the one-dimensional array must be first be converted to a two-dimensional array."
   ]
  },
  {
   "cell_type": "code",
   "execution_count": 45,
   "metadata": {
    "colab": {
     "autoexec": {
      "startup": false,
      "wait_interval": 0
     },
     "base_uri": "https://localhost:8080/",
     "height": 94
    },
    "colab_type": "code",
    "executionInfo": {
     "elapsed": 823,
     "status": "ok",
     "timestamp": 1532856759570,
     "user": {
      "displayName": "John C. Lokman",
      "photoUrl": "https://lh3.googleusercontent.com/a/default-user=s128",
      "userId": "104399307152469459133"
     },
     "user_tz": -120
    },
    "id": "QdYYvSS7HY2l",
    "outputId": "190c1720-9f10-42df-cfff-50deaa885d8b"
   },
   "outputs": [
    {
     "data": {
      "text/plain": [
       "array([[1, 2, 3],\n",
       "       [4, 5, 6],\n",
       "       [7, 8, 9],\n",
       "       [0, 0, 0]])"
      ]
     },
     "execution_count": 45,
     "metadata": {
      "tags": []
     },
     "output_type": "execute_result"
    }
   ],
   "source": [
    "zeros_array_two_dimensional = np.expand_dims(zeros_array, axis=0)\n",
    "np.concatenate([my_array,zeros_array_two_dimensional], axis=0)"
   ]
  },
  {
   "cell_type": "markdown",
   "metadata": {
    "colab_type": "text",
    "id": "-lPEKSJ44CQo"
   },
   "source": [
    "### Adding New Elements (to 1-dimensional arrays/series)\n",
    "\n"
   ]
  },
  {
   "cell_type": "code",
   "execution_count": 46,
   "metadata": {
    "colab": {
     "autoexec": {
      "startup": false,
      "wait_interval": 0
     },
     "base_uri": "https://localhost:8080/",
     "height": 36
    },
    "colab_type": "code",
    "executionInfo": {
     "elapsed": 1007,
     "status": "ok",
     "timestamp": 1532856777989,
     "user": {
      "displayName": "John C. Lokman",
      "photoUrl": "https://lh3.googleusercontent.com/a/default-user=s128",
      "userId": "104399307152469459133"
     },
     "user_tz": -120
    },
    "id": "rVkhaRhx24q3",
    "outputId": "95c2840b-9c9d-4bf9-bf77-d80ef6c6106b"
   },
   "outputs": [
    {
     "data": {
      "text/plain": [
       "array(['a', 'b', 'c', 'd', 'e', 'f'], dtype='<U1')"
      ]
     },
     "execution_count": 46,
     "metadata": {
      "tags": []
     },
     "output_type": "execute_result"
    }
   ],
   "source": [
    "one_dimensional_array = np.array(['a', 'b', 'c'])  \n",
    "# Is  different from   \"np.array([['a', 'b', 'c']])\", which is a two-dimensional \n",
    "# array with one row\n",
    "\n",
    "new_elements = np.array(['d', 'e', 'f'])  # a one-dimensional array (~series)\n",
    "\n",
    "np.concatenate([one_dimensional_array, new_elements])  # no need to specify an axis"
   ]
  },
  {
   "cell_type": "markdown",
   "metadata": {
    "colab_type": "text",
    "id": "JhF79jz_6Tba"
   },
   "source": [
    "### Adding New Rows (to 2-dimensional arrays/matrices)"
   ]
  },
  {
   "cell_type": "code",
   "execution_count": 47,
   "metadata": {
    "colab": {
     "autoexec": {
      "startup": false,
      "wait_interval": 0
     },
     "base_uri": "https://localhost:8080/",
     "height": 56
    },
    "colab_type": "code",
    "executionInfo": {
     "elapsed": 968,
     "status": "ok",
     "timestamp": 1532856843184,
     "user": {
      "displayName": "John C. Lokman",
      "photoUrl": "https://lh3.googleusercontent.com/a/default-user=s128",
      "userId": "104399307152469459133"
     },
     "user_tz": -120
    },
    "id": "gIVaggd7Dq2H",
    "outputId": "3fa7250f-f445-4eae-a482-ae1e2ffbf746"
   },
   "outputs": [
    {
     "data": {
      "text/plain": [
       "array([['a', 'b', 'c'],\n",
       "       ['d', 'e', 'f']], dtype='<U1')"
      ]
     },
     "execution_count": 47,
     "metadata": {
      "tags": []
     },
     "output_type": "execute_result"
    }
   ],
   "source": [
    "two_dimensional_array_with_one_row = np.array([['a', 'b', 'c']]) \n",
    "# Is different from                 \"np.array(['a', 'b', 'c'])\", which is a one-\n",
    "# dimensional array (~series)\n",
    "\n",
    "new_row = np.array(['d', 'e', 'f'])\n",
    "new_row = np.expand_dims(new_row, axis=0)  # 'axis=0' for row-wise (vertical) dimension\n",
    "\n",
    "\n",
    "np.concatenate([two_dimensional_array_with_one_row, new_row], axis=0) # 'axis=0' \n",
    "# ... adds new array as a row"
   ]
  },
  {
   "cell_type": "markdown",
   "metadata": {
    "colab_type": "text",
    "id": "C0pr6v46Dvj_"
   },
   "source": [
    "Alternative method:"
   ]
  },
  {
   "cell_type": "code",
   "execution_count": 69,
   "metadata": {
    "colab": {
     "autoexec": {
      "startup": false,
      "wait_interval": 0
     },
     "base_uri": "https://localhost:8080/",
     "height": 56
    },
    "colab_type": "code",
    "executionInfo": {
     "elapsed": 1250,
     "status": "ok",
     "timestamp": 1532264713275,
     "user": {
      "displayName": "John C. Lokman",
      "photoUrl": "https://lh3.googleusercontent.com/a/default-user=s128",
      "userId": "104399307152469459133"
     },
     "user_tz": -120
    },
    "id": "WMRtykUg6Yfr",
    "outputId": "5c37983c-9efa-40bf-9781-06150899a4f5"
   },
   "outputs": [
    {
     "data": {
      "text/plain": [
       "array([['a', 'b', 'c'],\n",
       "       ['d', 'e', 'f']], dtype='<U1')"
      ]
     },
     "execution_count": 69,
     "metadata": {
      "tags": []
     },
     "output_type": "execute_result"
    }
   ],
   "source": [
    "two_dimensional_array_with_one_row = np.array([['a', 'b', 'c']]) \n",
    "\n",
    "new_row = np.array([['d', 'e', 'f']])  # extra brackets specify that new_row is \n",
    "                                       # a two-dimensional array (so no need to \n",
    "                                       # expand dimensions later)\n",
    "\n",
    "np.concatenate([two_dimensional_array_with_one_row, new_row], axis=0)"
   ]
  },
  {
   "cell_type": "markdown",
   "metadata": {
    "colab_type": "text",
    "id": "5GeMN-NF4UT4"
   },
   "source": [
    "### Adding New Columns"
   ]
  },
  {
   "cell_type": "code",
   "execution_count": 70,
   "metadata": {
    "colab": {
     "autoexec": {
      "startup": false,
      "wait_interval": 0
     },
     "base_uri": "https://localhost:8080/",
     "height": 56
    },
    "colab_type": "code",
    "executionInfo": {
     "elapsed": 473,
     "status": "ok",
     "timestamp": 1532264715846,
     "user": {
      "displayName": "John C. Lokman",
      "photoUrl": "https://lh3.googleusercontent.com/a/default-user=s128",
      "userId": "104399307152469459133"
     },
     "user_tz": -120
    },
    "id": "W_pOI1Nq5lm9",
    "outputId": "36b6eeaa-a9ff-4d8f-eb87-a068d6c5ab4c"
   },
   "outputs": [
    {
     "data": {
      "text/plain": [
       "array([['A', 'B', 'C', 'X'],\n",
       "       ['D', 'E', 'F', 'Y']], dtype='<U1')"
      ]
     },
     "execution_count": 70,
     "metadata": {
      "tags": []
     },
     "output_type": "execute_result"
    }
   ],
   "source": [
    "letters_array = np.array([\n",
    "    ['A', 'B', 'C'],\n",
    "    ['D', 'E', 'F']\n",
    "])\n",
    "\n",
    "new_column = np.array(['X', 'Y'])\n",
    "new_column = np.expand_dims(new_column, axis=1)\n",
    "\n",
    "np.concatenate([letters_array, new_column], axis=1)"
   ]
  },
  {
   "cell_type": "markdown",
   "metadata": {
    "colab_type": "text",
    "id": "GtxVHLufdDeQ"
   },
   "source": [
    "# TODO: REVISE AND COMPLETE THE BOOLEAN INDEXING SECTION FROM CODEQUEST\n",
    "## Boolean Indexing"
   ]
  },
  {
   "cell_type": "markdown",
   "metadata": {
    "colab_type": "text",
    "id": "GFd4_dHBgUoE"
   },
   "source": [
    "### Boolean Indexing for One-Dimensional Arrays (Vectors)"
   ]
  },
  {
   "cell_type": "markdown",
   "metadata": {
    "colab_type": "text",
    "id": "u2kOR6WLeEhi"
   },
   "source": [
    "<img src=\"https://drive.google.com/uc?id=1sZVbSihboCuqTELfXy_lN6ryOW3bbFtA\" height=\"500\" width=\"500\">\n",
    "\n",
    "<img src=\"https://drive.google.com/uc?id=1WreKK8IoNpeSxuspso1g02FrfKUe5HjU\" height=\"500\" width=\"500\">\n",
    "<img src=\"https://drive.google.com/uc?id=1MJkACvyz7klog_LwOkpqocuD_PUulnrJ\" height=\"500\" width=\"500\">\n",
    "\n",
    "\n",
    "\n",
    "Image source: dataquest.io"
   ]
  },
  {
   "cell_type": "markdown",
   "metadata": {
    "colab_type": "text",
    "id": "7VZ9Ug3Uf_eI"
   },
   "source": [
    "**Create a 1-dimensioonal array (vector)**:"
   ]
  },
  {
   "cell_type": "code",
   "execution_count": 129,
   "metadata": {
    "colab": {
     "autoexec": {
      "startup": false,
      "wait_interval": 0
     },
     "base_uri": "https://localhost:8080/",
     "height": 36
    },
    "colab_type": "code",
    "executionInfo": {
     "elapsed": 574,
     "status": "ok",
     "timestamp": 1532875844070,
     "user": {
      "displayName": "John C. Lokman",
      "photoUrl": "https://lh3.googleusercontent.com/a/default-user=s128",
      "userId": "104399307152469459133"
     },
     "user_tz": -120
    },
    "id": "mJXS11sXeqU0",
    "outputId": "4312a11b-295b-4f1a-fb04-37062afcbbe0"
   },
   "outputs": [
    {
     "data": {
      "text/plain": [
       "array([1, 2, 3, 4, 5])"
      ]
     },
     "execution_count": 129,
     "metadata": {
      "tags": []
     },
     "output_type": "execute_result"
    }
   ],
   "source": [
    "vector_array = np.array([1,2,3,4,5])\n",
    "vector_array"
   ]
  },
  {
   "cell_type": "markdown",
   "metadata": {
    "colab_type": "text",
    "id": "sjwfL9BjflQ-"
   },
   "source": [
    "**Index the vector array for elements that match a criteria**:"
   ]
  },
  {
   "cell_type": "code",
   "execution_count": 127,
   "metadata": {
    "colab": {
     "autoexec": {
      "startup": false,
      "wait_interval": 0
     },
     "base_uri": "https://localhost:8080/",
     "height": 36
    },
    "colab_type": "code",
    "executionInfo": {
     "elapsed": 534,
     "status": "ok",
     "timestamp": 1532875349946,
     "user": {
      "displayName": "John C. Lokman",
      "photoUrl": "https://lh3.googleusercontent.com/a/default-user=s128",
      "userId": "104399307152469459133"
     },
     "user_tz": -120
    },
    "id": "7rjoSi3rfT7G",
    "outputId": "d313f29b-bee7-442d-dc21-926813ea3162"
   },
   "outputs": [
    {
     "data": {
      "text/plain": [
       "array([ True,  True,  True, False, False])"
      ]
     },
     "execution_count": 127,
     "metadata": {
      "tags": []
     },
     "output_type": "execute_result"
    }
   ],
   "source": [
    "bool_vector_array = vector_array < 4\n",
    "bool_vector_array"
   ]
  },
  {
   "cell_type": "markdown",
   "metadata": {
    "colab_type": "text",
    "id": "bdD_APHbgIP2"
   },
   "source": [
    "**Use the boolean index for generating a filtered version of the vector array**:"
   ]
  },
  {
   "cell_type": "code",
   "execution_count": 0,
   "metadata": {
    "colab": {
     "autoexec": {
      "startup": false,
      "wait_interval": 0
     }
    },
    "colab_type": "code",
    "id": "lM-KZfCwgnkQ"
   },
   "outputs": [],
   "source": [
    "filtered_vector_array = vector_array[bool_vector_array]\n",
    "filtered_vector_array"
   ]
  },
  {
   "cell_type": "markdown",
   "metadata": {
    "colab_type": "text",
    "id": "joUkhHXMghyM"
   },
   "source": [
    "### Boolean Indexing for Two-Dimensional Arrays (Matrices)"
   ]
  },
  {
   "cell_type": "markdown",
   "metadata": {
    "colab_type": "text",
    "id": "lrLJ3u8Ej93K"
   },
   "source": [
    "<img src=\"https://drive.google.com/uc?id=118MuPnXQf6dbMz7m50dshxyzCVtUeloH\" height=\"500\" width=\"500\">"
   ]
  },
  {
   "cell_type": "code",
   "execution_count": 0,
   "metadata": {
    "colab": {
     "autoexec": {
      "startup": false,
      "wait_interval": 0
     }
    },
    "colab_type": "code",
    "id": "-7VCnVM0ezum"
   },
   "outputs": [],
   "source": [
    "matrix_array = np.array([\n",
    "    [1, 3, 5, 7],\n",
    "    [1, 3, 5, 7],\n",
    "    [2, 4, 6, 8],\n",
    "    [2, 4, 6, 8]\n",
    "])  # 2-dimensional array (i.e., a matrix)\n"
   ]
  },
  {
   "cell_type": "code",
   "execution_count": 164,
   "metadata": {
    "colab": {
     "autoexec": {
      "startup": false,
      "wait_interval": 0
     },
     "base_uri": "https://localhost:8080/",
     "height": 92
    },
    "colab_type": "code",
    "executionInfo": {
     "elapsed": 404,
     "status": "ok",
     "timestamp": 1532877206956,
     "user": {
      "displayName": "John C. Lokman",
      "photoUrl": "https://lh3.googleusercontent.com/a/default-user=s128",
      "userId": "104399307152469459133"
     },
     "user_tz": -120
    },
    "id": "wrdSGU1GkgFy",
    "outputId": "e11310cf-e671-4b85-9a85-5fa2582d9c70"
   },
   "outputs": [
    {
     "data": {
      "text/plain": [
       "array([[False, False, False,  True],\n",
       "       [False, False, False,  True],\n",
       "       [False, False,  True,  True],\n",
       "       [False, False,  True,  True]])"
      ]
     },
     "execution_count": 164,
     "metadata": {
      "tags": []
     },
     "output_type": "execute_result"
    }
   ],
   "source": [
    "bool_array = matrix_array > 5\n",
    "bool_array"
   ]
  },
  {
   "cell_type": "code",
   "execution_count": 166,
   "metadata": {
    "colab": {
     "autoexec": {
      "startup": false,
      "wait_interval": 0
     },
     "base_uri": "https://localhost:8080/",
     "height": 92
    },
    "colab_type": "code",
    "executionInfo": {
     "elapsed": 422,
     "status": "ok",
     "timestamp": 1532877221918,
     "user": {
      "displayName": "John C. Lokman",
      "photoUrl": "https://lh3.googleusercontent.com/a/default-user=s128",
      "userId": "104399307152469459133"
     },
     "user_tz": -120
    },
    "id": "2cwtGBBMk93E",
    "outputId": "ba9cd368-badd-43c3-baf2-8e74d024b7b1"
   },
   "outputs": [
    {
     "data": {
      "text/plain": [
       "array([[  1,   3,   5, 100],\n",
       "       [  1,   3,   5, 100],\n",
       "       [  2,   4, 100, 100],\n",
       "       [  2,   4, 100, 100]])"
      ]
     },
     "execution_count": 166,
     "metadata": {
      "tags": []
     },
     "output_type": "execute_result"
    }
   ],
   "source": [
    "matrix_array[bool_array] = 100\n",
    "matrix_array"
   ]
  },
  {
   "cell_type": "markdown",
   "metadata": {
    "colab_type": "text",
    "id": "9jQqBP0ffhB3"
   },
   "source": [
    "## Importing Data from a CSV File into a NumPy Array\n"
   ]
  },
  {
   "cell_type": "markdown",
   "metadata": {
    "colab_type": "text",
    "id": "7wqZ3ziZfhB-"
   },
   "source": [
    "**Import data from CSV**:\n",
    "\n",
    "A NumPy array can only contain one type of variable (e.g., str or int).\n",
    "\n",
    "While creating arrays, NumPy tends to assume that data consists of floating point values (float)."
   ]
  },
  {
   "cell_type": "code",
   "execution_count": 112,
   "metadata": {
    "colab": {
     "autoexec": {
      "startup": false,
      "wait_interval": 0
     },
     "base_uri": "https://localhost:8080/",
     "height": 149
    },
    "colab_type": "code",
    "executionInfo": {
     "elapsed": 444,
     "status": "ok",
     "timestamp": 1532870647718,
     "user": {
      "displayName": "John C. Lokman",
      "photoUrl": "https://lh3.googleusercontent.com/a/default-user=s128",
      "userId": "104399307152469459133"
     },
     "user_tz": -120
    },
    "id": "oMBdLZhofhCG",
    "outputId": "d032c112-9409-41eb-9b71-9210472f7472"
   },
   "outputs": [
    {
     "name": "stdout",
     "output_type": "stream",
     "text": [
      "[[      nan       nan       nan       nan       nan]\n",
      " [1.986e+03       nan       nan       nan 0.000e+00]\n",
      " [1.986e+03       nan       nan       nan 5.000e-01]\n",
      " ...\n",
      " [1.986e+03       nan       nan       nan 2.540e+00]\n",
      " [1.987e+03       nan       nan       nan 0.000e+00]\n",
      " [1.986e+03       nan       nan       nan 5.150e+00]]\n"
     ]
    }
   ],
   "source": [
    "my_data = np.genfromtxt(\"world_alcohol.csv\", delimiter = \",\")  # file name and delimiter are the two fundamental arguments for NumPy CSV import\n",
    "print(my_data)"
   ]
  },
  {
   "cell_type": "markdown",
   "metadata": {
    "colab_type": "text",
    "id": "2jj0Gp2bMgTA"
   },
   "source": [
    "If the data contains strings (or other types than float), it could be beneficial to **specify what the data type (dtype)** should be:\n"
   ]
  },
  {
   "cell_type": "code",
   "execution_count": 113,
   "metadata": {
    "colab": {
     "autoexec": {
      "startup": false,
      "wait_interval": 0
     },
     "base_uri": "https://localhost:8080/",
     "height": 149
    },
    "colab_type": "code",
    "executionInfo": {
     "elapsed": 470,
     "status": "ok",
     "timestamp": 1532870651798,
     "user": {
      "displayName": "John C. Lokman",
      "photoUrl": "https://lh3.googleusercontent.com/a/default-user=s128",
      "userId": "104399307152469459133"
     },
     "user_tz": -120
    },
    "id": "5zDCaBxlfhCg",
    "outputId": "3addc165-63ed-4797-edeb-f1a0fd275ed0"
   },
   "outputs": [
    {
     "name": "stdout",
     "output_type": "stream",
     "text": [
      "[['Year' 'WHO region' 'Country' 'Beverage Types' 'Display Value']\n",
      " ['1986' 'Western Pacific' 'Viet Nam' 'Wine' '0']\n",
      " ['1986' 'Americas' 'Uruguay' 'Other' '0.5']\n",
      " ...\n",
      " ['1986' 'Europe' 'Switzerland' 'Spirits' '2.54']\n",
      " ['1987' 'Western Pacific' 'Papua New Guinea' 'Other' '0']\n",
      " ['1986' 'Africa' 'Swaziland' 'Other' '5.15']]\n"
     ]
    }
   ],
   "source": [
    "my_data = np.genfromtxt(\"world_alcohol.csv\", delimiter = \",\" , dtype=\"U75\")\n",
    "print(my_data)"
   ]
  },
  {
   "cell_type": "markdown",
   "metadata": {
    "colab_type": "text",
    "id": "sMn3tRlYM0go"
   },
   "source": [
    "It may sometimes be desirable to omit the header row (e.g., if the data is needed in numerical form):"
   ]
  },
  {
   "cell_type": "code",
   "execution_count": 116,
   "metadata": {
    "colab": {
     "autoexec": {
      "startup": false,
      "wait_interval": 0
     },
     "base_uri": "https://localhost:8080/",
     "height": 36
    },
    "colab_type": "code",
    "executionInfo": {
     "elapsed": 452,
     "status": "ok",
     "timestamp": 1532870766226,
     "user": {
      "displayName": "John C. Lokman",
      "photoUrl": "https://lh3.googleusercontent.com/a/default-user=s128",
      "userId": "104399307152469459133"
     },
     "user_tz": -120
    },
    "id": "pQjbcCbANrAi",
    "outputId": "9ee44da2-ac45-4180-9743-eb2a4d0bd4ae"
   },
   "outputs": [
    {
     "name": "stdout",
     "output_type": "stream",
     "text": [
      "['Display Value' '0' '0.5' ... '2.54' '0' '5.15']\n"
     ]
    }
   ],
   "source": [
    "# in this case, headers are not desirable\n",
    "my_data = np.genfromtxt(\"world_alcohol.csv\", delimiter = \",\" , dtype=\"U75\")\n",
    "print(my_data[:,4])\n"
   ]
  },
  {
   "cell_type": "code",
   "execution_count": 117,
   "metadata": {
    "colab": {
     "autoexec": {
      "startup": false,
      "wait_interval": 0
     },
     "base_uri": "https://localhost:8080/",
     "height": 36
    },
    "colab_type": "code",
    "executionInfo": {
     "elapsed": 436,
     "status": "ok",
     "timestamp": 1532870774378,
     "user": {
      "displayName": "John C. Lokman",
      "photoUrl": "https://lh3.googleusercontent.com/a/default-user=s128",
      "userId": "104399307152469459133"
     },
     "user_tz": -120
    },
    "id": "dCIYimg3N8NE",
    "outputId": "a8cebfbe-8c00-4de4-c945-5c9d7bfa690b"
   },
   "outputs": [
    {
     "name": "stdout",
     "output_type": "stream",
     "text": [
      "['0' '0.5' '1.62' ... '2.54' '0' '5.15']\n"
     ]
    }
   ],
   "source": [
    "\n",
    "# read CSV without headers\n",
    "my_data = np.genfromtxt(\"world_alcohol.csv\", delimiter = \",\" , dtype=\"U75\", skip_header=True)\n",
    "print(my_data[:,4])"
   ]
  },
  {
   "cell_type": "markdown",
   "metadata": {
    "colab_type": "text",
    "id": "bRYaErmDdAda"
   },
   "source": [
    "#TODO FOR NUMPY"
   ]
  },
  {
   "cell_type": "markdown",
   "metadata": {
    "colab_type": "text",
    "id": "L7nc86SzcvyM"
   },
   "source": [
    "## Generating Data in NumPy"
   ]
  },
  {
   "cell_type": "code",
   "execution_count": 0,
   "metadata": {
    "colab": {
     "autoexec": {
      "startup": false,
      "wait_interval": 0
     }
    },
    "colab_type": "code",
    "id": "G_59CRuUc6qA"
   },
   "outputs": [],
   "source": [
    "# create a new column filled with `0`.\n",
    "zeros = np.zeros([taxi_modified.shape[0], 1])\n",
    "taxi_modified = np.concatenate([taxi, zeros], axis=1)\n",
    "print(taxi_modified)"
   ]
  },
  {
   "cell_type": "markdown",
   "metadata": {
    "colab_type": "text",
    "id": "kE5fYKTpfhES"
   },
   "source": [
    "# PANDAS"
   ]
  },
  {
   "cell_type": "markdown",
   "metadata": {
    "colab_type": "text",
    "id": "z934WMKFfhEW"
   },
   "source": [
    "Prep:"
   ]
  },
  {
   "cell_type": "code",
   "execution_count": 0,
   "metadata": {
    "colab": {
     "autoexec": {
      "startup": false,
      "wait_interval": 0
     }
    },
    "colab_type": "code",
    "id": "G8nQZssFfhEc",
    "outputId": "ab1857c1-8a69-43bf-dff7-f0a5dcd1f0f2"
   },
   "outputs": [
    {
     "data": {
      "text/plain": [
       "'C:\\\\Users\\\\Clokman\\\\Google Drive\\\\__Projects__\\\\Code\\\\Notebooks\\\\Python'"
      ]
     },
     "execution_count": 44,
     "metadata": {
      "tags": []
     },
     "output_type": "execute_result"
    }
   ],
   "source": [
    "import os\n",
    "os.getcwd()"
   ]
  },
  {
   "cell_type": "code",
   "execution_count": 0,
   "metadata": {
    "colab": {
     "autoexec": {
      "startup": false,
      "wait_interval": 0
     }
    },
    "colab_type": "code",
    "id": "M1ENlYTefhEw",
    "outputId": "df03bf44-af3a-4e8b-aa94-8e43ae68ea7a"
   },
   "outputs": [
    {
     "data": {
      "text/plain": [
       "['',\n",
       " 'C:\\\\ProgramData\\\\Anaconda3\\\\python36.zip',\n",
       " 'C:\\\\ProgramData\\\\Anaconda3\\\\DLLs',\n",
       " 'C:\\\\ProgramData\\\\Anaconda3\\\\lib',\n",
       " 'C:\\\\ProgramData\\\\Anaconda3',\n",
       " 'C:\\\\ProgramData\\\\Anaconda3\\\\lib\\\\site-packages',\n",
       " 'C:\\\\ProgramData\\\\Anaconda3\\\\lib\\\\site-packages\\\\Sphinx-1.5.1-py3.6.egg',\n",
       " 'C:\\\\ProgramData\\\\Anaconda3\\\\lib\\\\site-packages\\\\win32',\n",
       " 'C:\\\\ProgramData\\\\Anaconda3\\\\lib\\\\site-packages\\\\win32\\\\lib',\n",
       " 'C:\\\\ProgramData\\\\Anaconda3\\\\lib\\\\site-packages\\\\Pythonwin',\n",
       " 'C:\\\\ProgramData\\\\Anaconda3\\\\lib\\\\site-packages\\\\setuptools-27.2.0-py3.6.egg',\n",
       " 'C:\\\\ProgramData\\\\Anaconda3\\\\lib\\\\site-packages\\\\IPython\\\\extensions',\n",
       " 'C:\\\\Users\\\\Clokman\\\\.ipython',\n",
       " 'C:\\\\Users\\\\Clokman\\\\Google Drive\\\\__Projects__\\\\Code',\n",
       " 'C:\\\\Users\\\\Clokman\\\\Google Drive\\\\__Projects__\\\\Code\\\\KFIR',\n",
       " 'C:\\\\Users\\\\Clokman\\\\Google Drive\\\\__Projects__\\\\Code\\\\KFIR',\n",
       " 'C:\\\\Users\\\\Clokman\\\\Google Drive\\\\__Projects__\\\\Code\\\\KFIR']"
      ]
     },
     "execution_count": 45,
     "metadata": {
      "tags": []
     },
     "output_type": "execute_result"
    }
   ],
   "source": [
    "import sys, os, re\n",
    "\n",
    "working_directory = os.getcwd()\n",
    "if re.search('\\\\\\\\Notebooks\\\\\\\\Python$', working_directory):\n",
    "    kfir_directory = re.sub('\\\\\\\\Notebooks\\\\\\\\Python$', '\\\\KFIR', working_directory)\n",
    "    sys.path.append(kfir_directory)\n",
    "    \n",
    "sys.path"
   ]
  },
  {
   "cell_type": "markdown",
   "metadata": {
    "colab_type": "text",
    "id": "DUKkPkwWfhE_"
   },
   "source": [
    "## Data Structures"
   ]
  },
  {
   "cell_type": "markdown",
   "metadata": {
    "colab_type": "text",
    "id": "2oa7H08ufhFC"
   },
   "source": [
    "### DataFrame"
   ]
  },
  {
   "cell_type": "markdown",
   "metadata": {
    "colab_type": "text",
    "id": "Y2laVSzUfhFG"
   },
   "source": [
    "Prep:"
   ]
  },
  {
   "cell_type": "code",
   "execution_count": 0,
   "metadata": {
    "colab": {
     "autoexec": {
      "startup": false,
      "wait_interval": 0
     }
    },
    "colab_type": "code",
    "id": "pV_yQi5BfhFL"
   },
   "outputs": [],
   "source": [
    "import pandas\n",
    "import numpy\n",
    "from numpy import array\n",
    "from pandas import Series, DataFrame"
   ]
  },
  {
   "cell_type": "markdown",
   "metadata": {
    "colab_type": "text",
    "id": "N8BjB6-gfhFa"
   },
   "source": [
    "Create empty dataframe:"
   ]
  },
  {
   "cell_type": "code",
   "execution_count": 0,
   "metadata": {
    "colab": {
     "autoexec": {
      "startup": false,
      "wait_interval": 0
     }
    },
    "colab_type": "code",
    "id": "KAYF5uVpfhFe",
    "outputId": "3340a628-8a14-4f48-f3bf-6c926c4d000e"
   },
   "outputs": [
    {
     "data": {
      "text/html": [
       "<div>\n",
       "<table border=\"1\" class=\"dataframe\">\n",
       "  <thead>\n",
       "    <tr style=\"text-align: right;\">\n",
       "      <th></th>\n",
       "      <th>Column A</th>\n",
       "      <th>Column B</th>\n",
       "      <th>Column C</th>\n",
       "    </tr>\n",
       "  </thead>\n",
       "  <tbody>\n",
       "  </tbody>\n",
       "</table>\n",
       "</div>"
      ],
      "text/plain": [
       "Empty DataFrame\n",
       "Columns: [Column A, Column B, Column C]\n",
       "Index: []"
      ]
     },
     "execution_count": 29,
     "metadata": {
      "tags": []
     },
     "output_type": "execute_result"
    }
   ],
   "source": [
    "df1 = DataFrame(columns=['Column A', 'Column B', 'Column C'])\n",
    "df1"
   ]
  },
  {
   "cell_type": "markdown",
   "metadata": {
    "colab_type": "text",
    "id": "UnrJPm7MfhFq"
   },
   "source": [
    "Append data to specific row:"
   ]
  },
  {
   "cell_type": "code",
   "execution_count": 0,
   "metadata": {
    "colab": {
     "autoexec": {
      "startup": false,
      "wait_interval": 0
     }
    },
    "colab_type": "code",
    "id": "Xv2qOA8-fhFs",
    "outputId": "45ac32f2-45fc-4e51-ea75-b4a34e8a63ae"
   },
   "outputs": [
    {
     "data": {
      "text/html": [
       "<div>\n",
       "<table border=\"1\" class=\"dataframe\">\n",
       "  <thead>\n",
       "    <tr style=\"text-align: right;\">\n",
       "      <th></th>\n",
       "      <th>Column A</th>\n",
       "      <th>Column B</th>\n",
       "      <th>Column C</th>\n",
       "    </tr>\n",
       "  </thead>\n",
       "  <tbody>\n",
       "    <tr>\n",
       "      <th>Row 1</th>\n",
       "      <td>100.0</td>\n",
       "      <td>NaN</td>\n",
       "      <td>NaN</td>\n",
       "    </tr>\n",
       "  </tbody>\n",
       "</table>\n",
       "</div>"
      ],
      "text/plain": [
       "       Column A Column B Column C\n",
       "Row 1     100.0      NaN      NaN"
      ]
     },
     "execution_count": 30,
     "metadata": {
      "tags": []
     },
     "output_type": "execute_result"
    }
   ],
   "source": [
    "df2 = DataFrame( {'Column A' : Series([100], index=['Row 1'])} )\n",
    "df1 = df1.append(df2)\n",
    "df1\n"
   ]
  },
  {
   "cell_type": "markdown",
   "metadata": {
    "colab_type": "text",
    "id": "SSr9gAl_fhGU"
   },
   "source": [
    "Alternative way to append to specific row with loc():"
   ]
  },
  {
   "cell_type": "code",
   "execution_count": 0,
   "metadata": {
    "colab": {
     "autoexec": {
      "startup": false,
      "wait_interval": 0
     }
    },
    "colab_type": "code",
    "id": "s5HhoMCQfhGX",
    "outputId": "8a7e8c1d-7ba6-44da-9d12-0d6f35ce7384"
   },
   "outputs": [
    {
     "data": {
      "text/html": [
       "<div>\n",
       "<table border=\"1\" class=\"dataframe\">\n",
       "  <thead>\n",
       "    <tr style=\"text-align: right;\">\n",
       "      <th></th>\n",
       "      <th>Column A</th>\n",
       "      <th>Column B</th>\n",
       "      <th>Column C</th>\n",
       "    </tr>\n",
       "  </thead>\n",
       "  <tbody>\n",
       "    <tr>\n",
       "      <th>Row 1</th>\n",
       "      <td>1.0</td>\n",
       "      <td>2</td>\n",
       "      <td>3</td>\n",
       "    </tr>\n",
       "    <tr>\n",
       "      <th>Row 2</th>\n",
       "      <td>3.0</td>\n",
       "      <td>4</td>\n",
       "      <td>5</td>\n",
       "    </tr>\n",
       "  </tbody>\n",
       "</table>\n",
       "</div>"
      ],
      "text/plain": [
       "       Column A Column B Column C\n",
       "Row 1       1.0        2        3\n",
       "Row 2       3.0        4        5"
      ]
     },
     "execution_count": 31,
     "metadata": {
      "tags": []
     },
     "output_type": "execute_result"
    }
   ],
   "source": [
    "df1.loc['Row 1'] = (1,2,3)\n",
    "df1.loc['Row 2'] = (3,4,5)\n",
    "df1"
   ]
  },
  {
   "cell_type": "markdown",
   "metadata": {
    "colab_type": "text",
    "id": "x05oahnefhGx"
   },
   "source": [
    "Append to end:"
   ]
  },
  {
   "cell_type": "code",
   "execution_count": 0,
   "metadata": {
    "colab": {
     "autoexec": {
      "startup": false,
      "wait_interval": 0
     }
    },
    "colab_type": "code",
    "id": "9LOX8IBOfhG2",
    "outputId": "2a5b2ff5-74f0-4356-8226-1c90d29231e5"
   },
   "outputs": [
    {
     "data": {
      "text/html": [
       "<div>\n",
       "<table border=\"1\" class=\"dataframe\">\n",
       "  <thead>\n",
       "    <tr style=\"text-align: right;\">\n",
       "      <th></th>\n",
       "      <th>Column A</th>\n",
       "      <th>Column B</th>\n",
       "      <th>Column C</th>\n",
       "    </tr>\n",
       "  </thead>\n",
       "  <tbody>\n",
       "    <tr>\n",
       "      <th>0</th>\n",
       "      <td>2</td>\n",
       "      <td>3</td>\n",
       "      <td>4</td>\n",
       "    </tr>\n",
       "    <tr>\n",
       "      <th>1</th>\n",
       "      <td>5</td>\n",
       "      <td>6</td>\n",
       "      <td>7</td>\n",
       "    </tr>\n",
       "  </tbody>\n",
       "</table>\n",
       "</div>"
      ],
      "text/plain": [
       "   Column A  Column B  Column C\n",
       "0         2         3         4\n",
       "1         5         6         7"
      ]
     },
     "execution_count": 32,
     "metadata": {
      "tags": []
     },
     "output_type": "execute_result"
    }
   ],
   "source": [
    "df1 = DataFrame(array([[2, 3, 4]]), columns=['Column A', 'Column B', 'Column C'])\n",
    "df2 = DataFrame(array([[5, 6, 7]]), columns=['Column A', 'Column B', 'Column C'])\n",
    "df1.append(df2, ignore_index=True)"
   ]
  },
  {
   "cell_type": "markdown",
   "metadata": {
    "colab_type": "text",
    "id": "cZ_qq5qOfhHJ"
   },
   "source": [
    "Create dataframe from data:"
   ]
  },
  {
   "cell_type": "code",
   "execution_count": 0,
   "metadata": {
    "colab": {
     "autoexec": {
      "startup": false,
      "wait_interval": 0
     }
    },
    "colab_type": "code",
    "id": "hwlfCdLdfhHN",
    "outputId": "637e1e7a-8816-4412-b644-b6469c21222f"
   },
   "outputs": [
    {
     "data": {
      "text/html": [
       "<div>\n",
       "<table border=\"1\" class=\"dataframe\">\n",
       "  <thead>\n",
       "    <tr style=\"text-align: right;\">\n",
       "      <th></th>\n",
       "      <th>Column one</th>\n",
       "      <th>Column two</th>\n",
       "    </tr>\n",
       "  </thead>\n",
       "  <tbody>\n",
       "    <tr>\n",
       "      <th>Row 1</th>\n",
       "      <td>1.0</td>\n",
       "      <td>1</td>\n",
       "    </tr>\n",
       "    <tr>\n",
       "      <th>Row 2</th>\n",
       "      <td>2.0</td>\n",
       "      <td>2</td>\n",
       "    </tr>\n",
       "    <tr>\n",
       "      <th>Row 3</th>\n",
       "      <td>3.0</td>\n",
       "      <td>3</td>\n",
       "    </tr>\n",
       "    <tr>\n",
       "      <th>Row 4</th>\n",
       "      <td>NaN</td>\n",
       "      <td>4</td>\n",
       "    </tr>\n",
       "  </tbody>\n",
       "</table>\n",
       "</div>"
      ],
      "text/plain": [
       "       Column one  Column two\n",
       "Row 1         1.0           1\n",
       "Row 2         2.0           2\n",
       "Row 3         3.0           3\n",
       "Row 4         NaN           4"
      ]
     },
     "execution_count": 33,
     "metadata": {
      "tags": []
     },
     "output_type": "execute_result"
    }
   ],
   "source": [
    "data = {'Column one' : Series([1, 2, 3],    index=['Row 1', 'Row 2', 'Row 3']),\n",
    "        'Column two' : Series([1, 2, 3, 4], index=['Row 1', 'Row 2', 'Row 3', 'Row 4'])}\n",
    "\n",
    "DataFrame(data)"
   ]
  }
 ],
 "metadata": {
  "colab": {
   "collapsed_sections": [],
   "default_view": {},
   "name": "Numpy and Pandas.ipynb",
   "provenance": [],
   "toc_visible": true,
   "version": "0.3.2",
   "views": {}
  },
  "kernelspec": {
   "display_name": "Python 3",
   "language": "python",
   "name": "python3"
  },
  "language_info": {
   "codemirror_mode": {
    "name": "ipython",
    "version": 3
   },
   "file_extension": ".py",
   "mimetype": "text/x-python",
   "name": "python",
   "nbconvert_exporter": "python",
   "pygments_lexer": "ipython3",
   "version": "3.6.5"
  },
  "toc": {
   "base_numbering": 1,
   "nav_menu": {},
   "number_sections": true,
   "sideBar": true,
   "skip_h1_title": false,
   "title_cell": "Table of Contents",
   "title_sidebar": "Contents",
   "toc_cell": false,
   "toc_position": {
    "height": "calc(100% - 180px)",
    "left": "10px",
    "top": "150px",
    "width": "384px"
   },
   "toc_section_display": true,
   "toc_window_display": true
  },
  "varInspector": {
   "cols": {
    "lenName": 16,
    "lenType": 16,
    "lenVar": 40
   },
   "kernels_config": {
    "python": {
     "delete_cmd_postfix": "",
     "delete_cmd_prefix": "del ",
     "library": "var_list.py",
     "varRefreshCmd": "print(var_dic_list())"
    },
    "r": {
     "delete_cmd_postfix": ") ",
     "delete_cmd_prefix": "rm(",
     "library": "var_list.r",
     "varRefreshCmd": "cat(var_dic_list()) "
    }
   },
   "types_to_exclude": [
    "module",
    "function",
    "builtin_function_or_method",
    "instance",
    "_Feature"
   ],
   "window_display": false
  }
 },
 "nbformat": 4,
 "nbformat_minor": 1
}
