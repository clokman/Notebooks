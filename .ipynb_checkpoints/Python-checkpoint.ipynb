{
 "cells": [
  {
   "cell_type": "markdown",
   "metadata": {},
   "source": [
    "# Illustrative Examples and Clear Explanations in Python\n",
    "\n",
    "Please use the searh function of your browser to find a topic (or feel free to browse the TOC [will be enhanced] or manually)."
   ]
  },
  {
   "cell_type": "markdown",
   "metadata": {},
   "source": [
    "<h1 id=\"tocheading\">Table of Contents</h1>\n",
    "<div id=\"toc\"></div>"
   ]
  },
  {
   "cell_type": "code",
   "execution_count": 403,
   "metadata": {},
   "outputs": [
    {
     "data": {
      "application/javascript": [
       "$.getScript('https://kmahelona.github.io/ipython_notebook_goodies/ipython_notebook_toc.js')"
      ],
      "text/plain": [
       "<IPython.core.display.Javascript object>"
      ]
     },
     "metadata": {},
     "output_type": "display_data"
    }
   ],
   "source": [
    "%%javascript\n",
    "$.getScript('https://kmahelona.github.io/ipython_notebook_goodies/ipython_notebook_toc.js')"
   ]
  },
  {
   "cell_type": "markdown",
   "metadata": {},
   "source": [
    "# SYNTAX"
   ]
  },
  {
   "cell_type": "markdown",
   "metadata": {},
   "source": [
    "| Expression    | Description                                                 |\n",
    "| -----------   | :----------------                                           |\n",
    "|               |                                                             |\n",
    "| GENERAL       |                                                             |\n",
    "| '#'           | Comment character                                           |\n",
    "|               |                                                             |\n",
    "| DECLARATION   |                                                             |\n",
    "| {}            | Unordered list, can be indexed with keys (i.e., dictionary) |\n",
    "| []            | Ordered list, can be indexed with integer                   |\n",
    "| ()            |                                                             |\n",
    "|               |                                                             |\n",
    "| SPECIFICATION |                                                             |\n",
    "| x()           | Argument                                                    |\n",
    "| x(a,b)        | Multiple arguments                                          |\n",
    "| x[0]          | Indexing                                                    |\n",
    "| x[0][0]       | Nested indexing                                             |\n",
    "| x[a:b]        | Slicing                                                     |\n",
    "|               |                                                             |\n",
    "| SPECIAL       |                                                             |\n",
    "| True/False    |                                                             |\n",
    "| None          |                                                             |\n",
    "| pass          |                                                             |\n"
   ]
  },
  {
   "cell_type": "markdown",
   "metadata": {},
   "source": [
    "## Scienfitic Notation"
   ]
  },
  {
   "cell_type": "markdown",
   "metadata": {},
   "source": [
    "in ae+x:\n",
    "    - a   : number root\n",
    "    - e+x : number tail (number of zeroes). \n",
    "            read 'e+x' as 'x zeroes after a'. \n",
    "Examples:\n",
    "     - 1e+02 is 100\n",
    "     - 12e+4 is 120000"
   ]
  },
  {
   "cell_type": "code",
   "execution_count": 186,
   "metadata": {},
   "outputs": [
    {
     "data": {
      "text/plain": [
       "True"
      ]
     },
     "execution_count": 186,
     "metadata": {},
     "output_type": "execute_result"
    }
   ],
   "source": [
    "1e+02 == 100"
   ]
  },
  {
   "cell_type": "code",
   "execution_count": 187,
   "metadata": {},
   "outputs": [
    {
     "data": {
      "text/plain": [
       "True"
      ]
     },
     "execution_count": 187,
     "metadata": {},
     "output_type": "execute_result"
    }
   ],
   "source": [
    "12e+4 == 120000"
   ]
  },
  {
   "cell_type": "markdown",
   "metadata": {},
   "source": [
    "# SEMANTICS"
   ]
  },
  {
   "cell_type": "markdown",
   "metadata": {},
   "source": [
    "## Built-in Types"
   ]
  },
  {
   "cell_type": "markdown",
   "metadata": {},
   "source": [
    "| Truth Value Testing  | Numeric              | Sequence      | Text Sequence | Binary Sequence  | Set        | Mapping  | Other                      | ... |\n",
    "| :------------------- | :------------------- | :------------ | :------------ | :--------------- | :--------- | :------- | :----------------------    | --- |\n",
    "| False                | int                  | list          | str           | ...              | set        | dict     | Modules                    |     |\n",
    "| True                 | float                | tuple         |               |                  | frozenset  |          | Classes and Class Intances |     |\n",
    "|                      | complex              | range         |               |                  |            |          | Functions                  |     |\n",
    "|                      |                      |               |               |                  |            |          | Methods                    |     |\n",
    "|                      |                      |               |               |                  |            |          | Boolean Values             |     |\n",
    "|                      |                      |               |               |                  |            |          | ...                        |     |"
   ]
  },
  {
   "cell_type": "markdown",
   "metadata": {},
   "source": [
    "Types: https://docs.python.org/3/library/stdtypes.html"
   ]
  },
  {
   "cell_type": "markdown",
   "metadata": {},
   "source": [
    "## Built-In Functions, Methods, and Operators"
   ]
  },
  {
   "cell_type": "markdown",
   "metadata": {},
   "source": [
    "| General | Types        | Iteration and flow | Boolean           | Comparisons   | Numeric (Int, Float[?]) | Sequence (list, set, range[?])  | String                           |\n",
    "| :------ | :----------- | :------------      | :---------------- | :------------ | :--------------------   | :------------------------------ | :------------------------------  |\n",
    "| print() | float()      | for i in x:        | or                | <             | +                       | s[i]                            | str.capitalize()                 |\n",
    "| help()  | set()        | enumerate()        | and               | <=            | -                       | s[i:j]                          | str.upper()                      |\n",
    "| open()  | list()       |                    | not               | >             | *                       |                                 | str.lower()                      |\n",
    "| read()  | dict()       | if: else:          |                   | >=            | /                       | x in s                          | str.islower()                    |\n",
    "|         |              |                    |                   |               |                         | x not in s                      | str.swapcase()                   |\n",
    "|         | bool()       | try: except:       |                   | ==            | //                      |                                 | str.casefold()                   |\n",
    "|         | tuple()      |                    |                   | !=            | %                       | len(s)                          |                                  |\n",
    "|         | int()        |                    |                   | is            | abs()                   | min(s)                          | str.partition(sep)               |\n",
    "|         |              |                    |                   | is not        | pow(x,y)                | max(s)                          | str.split(sep=None, maxsplit=-1) |\n",
    "|         | type()       |                    |                   |               | x**y                    | sum([x,y])                      |                                  |\n",
    "|         | isinstance() |                    |                   |               |                         | s.count(x)                      | str.find(sub[, start[, end]])    |\n",
    "|         | issubclass() |                    |                   |               | sum()                   |                                 | str.replace(old, new[, count])   |\n",
    "|         |              |                    |                   |               | range(x,y)              | s + t                           | str.strip([chars])               |\n",
    "|         |              |                    |                   |               |                         | s * n                           |                                  |\n",
    "|         |              |                    |                   |               | a += x                  | s *= n                          | \\\\                               |\n",
    "|         |              |                    |                   |               | a -= x                  | zip(s, t)                       | \\n                               |\n",
    "|         |              |                    |                   |               |                         |                                 | \\t                               |\n",
    "|         |              |                    |                   |               |                         | s.append(x)                     | \\r \t                             |\n",
    "|         |              |                    |                   |               |                         | s.extend(t)                     |                                  |\n",
    "|         |              |                    |                   |               |                         | s.pop([i])                      |                                  |\n",
    "|         |              |                    |                   |               |                         | del s[i:j]                      |                                  |\n",
    "|         |              |                    |                   |               |                         | s.insert(i, x)                  |                                  |\n",
    "|         |              |                    |                   |               |                         | s.remove(x)                     |                                  |\n",
    "|         |              |                    |                   |               |                         | s.clear()                       |                                  |\n",
    "|         |              |                    |                   |               |                         | s.reverse()                     |                                  |\n",
    "|         |              |                    |                   |               |                         | ...                             |                                  |"
   ]
  },
  {
   "cell_type": "markdown",
   "metadata": {},
   "source": [
    "- Functions: https://docs.python.org/3/library/functions.html\n",
    "- Types and methods: https://docs.python.org/3/library/stdtypes.html\n",
    "- Constants: https://docs.python.org/3/library/constants.html"
   ]
  },
  {
   "cell_type": "markdown",
   "metadata": {},
   "source": [
    "### Print Function\n",
    "**print()**"
   ]
  },
  {
   "cell_type": "markdown",
   "metadata": {},
   "source": [
    "#### Printing to Python Console"
   ]
  },
  {
   "cell_type": "markdown",
   "metadata": {},
   "source": [
    "*Print to console:*"
   ]
  },
  {
   "cell_type": "code",
   "execution_count": 555,
   "metadata": {
    "scrolled": true
   },
   "outputs": [
    {
     "name": "stdout",
     "output_type": "stream",
     "text": [
      "1 2 3\n",
      "1\n",
      "2\n",
      "3\n"
     ]
    }
   ],
   "source": [
    "a = \"1\"\n",
    "b = \"2\"\n",
    "c = 3\n",
    "\n",
    "print(a, b, c)\n",
    "\n",
    "print(a)\n",
    "print(b)\n",
    "print(c)"
   ]
  },
  {
   "cell_type": "markdown",
   "metadata": {},
   "source": [
    "#### Printing to File"
   ]
  },
  {
   "cell_type": "markdown",
   "metadata": {},
   "source": [
    "Python's print is the standard \"print with newline\" function in Python."
   ]
  },
  {
   "cell_type": "markdown",
   "metadata": {},
   "source": [
    "*Print to file:*"
   ]
  },
  {
   "cell_type": "code",
   "execution_count": 554,
   "metadata": {},
   "outputs": [
    {
     "name": "stdout",
     "output_type": "stream",
     "text": [
      "my string\n",
      "my other string\n",
      "\n"
     ]
    }
   ],
   "source": [
    "my_file = open('test_data//string_print.txt', mode='w')\n",
    "\n",
    "#Python 3.x:\n",
    "print('my string', file=my_file)\n",
    "print('my other string', file=my_file)\n",
    "\n",
    "# Python 2.x (would give error in Python 3.x):\n",
    "# print  >> my_file, 'my string'\n",
    "\n",
    "my_file.close()\n",
    "my_file = open('test_data//string_print.txt')\n",
    "\n",
    "print(my_file.read())"
   ]
  },
  {
   "cell_type": "markdown",
   "metadata": {},
   "source": [
    "#### Print special characters"
   ]
  },
  {
   "cell_type": "markdown",
   "metadata": {},
   "source": [
    "Print command does not print special characters."
   ]
  },
  {
   "cell_type": "code",
   "execution_count": 189,
   "metadata": {},
   "outputs": [
    {
     "name": "stdout",
     "output_type": "stream",
     "text": [
      "this is a \n",
      "multiline string\n"
     ]
    }
   ],
   "source": [
    "print(\"this is a \\nmultiline string\")"
   ]
  },
  {
   "cell_type": "markdown",
   "metadata": {},
   "source": [
    "To accomplish this, the string should be converted to a list, and then printed:"
   ]
  },
  {
   "cell_type": "code",
   "execution_count": 190,
   "metadata": {},
   "outputs": [
    {
     "name": "stdout",
     "output_type": "stream",
     "text": [
      "['this is a \\n multiline string']\n"
     ]
    }
   ],
   "source": [
    "print([\"this is a \\n multiline string\"])"
   ]
  },
  {
   "cell_type": "markdown",
   "metadata": {},
   "source": [
    "# INDEXING AND SELECTING"
   ]
  },
  {
   "cell_type": "markdown",
   "metadata": {},
   "source": [
    "## Selecting Single Variables"
   ]
  },
  {
   "cell_type": "code",
   "execution_count": 191,
   "metadata": {},
   "outputs": [
    {
     "name": "stdout",
     "output_type": "stream",
     "text": [
      "['a', 'b']\n",
      "b\n"
     ]
    }
   ],
   "source": [
    "my_list = [['a','b'], [1, 2], [True, False], ['word']]  # a list of lists\n",
    "\n",
    "print(my_list[0])    # address an inner list\n",
    "print(my_list[0][1]) # address an element within an inner list"
   ]
  },
  {
   "cell_type": "markdown",
   "metadata": {},
   "source": [
    "## Selecting Ranges (Slicing)"
   ]
  },
  {
   "cell_type": "code",
   "execution_count": 192,
   "metadata": {},
   "outputs": [
    {
     "name": "stdout",
     "output_type": "stream",
     "text": [
      "[['a', 'b'], [1, 2], [True, False], ['word']]\n",
      "['word']\n",
      "[[1, 2], [True, False], ['word']]\n"
     ]
    }
   ],
   "source": [
    "print(my_list[0:4])     # select whole range \n",
    "                        # note that the second index number '4' is not included in the selection. \n",
    "                        # so, to select from the first element of a list to the fourth, index values 0:4 should be provided. \n",
    "\n",
    "print(my_list[3])       # as can be seen, the last element of the list corresponds to index value of '3' in single-value indexing (instead of the '4' as was the case in slicing)\n",
    "\n",
    "print(my_list[1:4])     # slice (leave first element out)"
   ]
  },
  {
   "cell_type": "markdown",
   "metadata": {},
   "source": [
    "### Meditation on Indexing and Slicing:"
   ]
  },
  {
   "cell_type": "markdown",
   "metadata": {},
   "source": [
    "#### Conclusion"
   ]
  },
  {
   "cell_type": "markdown",
   "metadata": {},
   "source": [
    "Addressing **single items**:\n",
    "  - When indexing a single value, [x] refers to x+1'th element\n",
    "  - When indexing a single value, [x, y] refers to x+1'th element and y+1'th element  \n",
    "  \n",
    "The reason why **slicing** is not intuitive: Double assymetry.\n",
    "  - Assymmetry 1: When slicing, in [x:y] x points to x+1'th element\n",
    "  - Asssymetry 2: When slicing, in [x:y] y points to y (hence, y does not follow the x+1 convention)\n"
   ]
  },
  {
   "cell_type": "markdown",
   "metadata": {},
   "source": [
    "#### Inexing with Native Python"
   ]
  },
  {
   "cell_type": "code",
   "execution_count": 193,
   "metadata": {},
   "outputs": [
    {
     "name": "stdout",
     "output_type": "stream",
     "text": [
      "a\n",
      "d\n",
      "['a', 'b', 'c']\n"
     ]
    }
   ],
   "source": [
    "my_list = [\"a\", \"b\", \"c\", \"d\"]\n",
    "\n",
    "# Show the first element:\n",
    "print(my_list[0])   # <-- prints \"a\"\n",
    "                    # '0' does not mean zeroth element. It means the first element.\n",
    "                    #  Counting indeed starts from the actually entered index number, '0'.\n",
    "                    #\n",
    "                    #####################################################\n",
    "print(my_list[3])   #  Read '[3]' as: '4th element.                     #\n",
    "                    #  When indexing single value, read '[x]' as 'x+1'  #\n",
    "                    #####################################################\n",
    "                    # <-- prints \"d\"\n",
    "                    # '3' does not mean the third element. It means the fourth element.\n",
    "                    # Because indexing starts from 0, all numbers mean one more than their actual value. \n",
    "                    # e.g., 0 --> 1st      1 --> 2nd      2 --> 3rd\n",
    "                    #\n",
    "                    #    Actual order :  0      1st      2nd      3rd    4th\n",
    "                    #                         /        /        /       /\n",
    "                    #                        /        /        /      /\n",
    "                    #                       /        /        /      /\n",
    "                    #    Index number : [0]     [1]      [2]      [3]\n",
    "                    #\n",
    "                    #\n",
    "# Show the first and second element:\n",
    "                    #####################################################\n",
    "print(my_list[0:3]) #  Read '[0:3]' as: 'From 1st to 3rd element.       #\n",
    "                    #  When slicing, read '[x:y]' as 'x+1 to y'         #\n",
    "                    #####################################################\n",
    "                    # \n",
    "                    # prints \" 'a', 'b', 'c' \"\n",
    "                    # <-- '0-3' does not mean 'from zeroth element to third element.' \n",
    "                    #  As each index number points to one higher actual position (i.e., 0 --> 1,   3 --> 4)...\n",
    "                    #  ... It means 'from first element to the 4th element—but non inclusively. \n",
    "                    #  The confusion happens because of the non-inclusive last item:\n",
    "                    #  \":3\" means until (but not including) the 4th element! (i.e., < 4)\n",
    "                    #   -- i.e., \"[1, 4)\" or \"1 =< x < 4\".  \n",
    "                    #\n",
    "                    #                         [  =<                      <   )\n",
    "                    #    Actual order :  0      1st*    2nd*     3rd*  | 4th\n",
    "                    #                          /       /        /      |/\n",
    "                    #                         /      /        /       /|\n",
    "                    #                       /      /        /       /  |\n",
    "                    #    Index number : [0]    [1]      [2]      [3]   | \n",
    "                    #"
   ]
  },
  {
   "cell_type": "markdown",
   "metadata": {},
   "source": [
    "<a name=\"indexing-with-numpy\"></a>\n",
    "#### Indexing with numpy\n",
    "**[x,y] | [:, y] | [a:b,x:y] | [:,x:y]**"
   ]
  },
  {
   "cell_type": "code",
   "execution_count": 194,
   "metadata": {
    "collapsed": true
   },
   "outputs": [],
   "source": [
    "import numpy\n",
    "\n",
    "my_matrix = numpy.array([\n",
    "    [5, 10, 15],\n",
    "    [20, 25, 30],\n",
    "    [35, 40, 43]\n",
    "])"
   ]
  },
  {
   "cell_type": "code",
   "execution_count": 195,
   "metadata": {},
   "outputs": [
    {
     "name": "stdout",
     "output_type": "stream",
     "text": [
      "15\n",
      "[ 5 10 15]\n",
      "[ 5 20 35]\n",
      "[30 43]\n"
     ]
    }
   ],
   "source": [
    "####################################################################\n",
    "print(my_matrix[0,2])  # Read '[0,2]'as '1st and 3rd'                                     #\n",
    "                       # When indexing in two dimensions, read '[x, y]' as 'x+1 and y+1'  #\n",
    "                       ####################################################################\n",
    "                       # Read as: Select...\n",
    "                       # first row\n",
    "                       # third column \n",
    "        \n",
    "                       # Selects first row's third column  \n",
    "\n",
    "print(my_matrix[0,:])  # Read as: Select...\n",
    "                       # first row\n",
    "                       # all columns (':' means 'all' in numpy) \n",
    "                       #\n",
    "                       # Selects first row \n",
    "                       #\n",
    "                       # my_matrix[0] would also select the first row, \n",
    "                       # but this would not be the official notation for numpy.                \n",
    "\n",
    "                       \n",
    "            \n",
    "print(my_matrix[:,0])  # Read as: Select...\n",
    "                       # all rows\n",
    "                       # the first column\n",
    "                       # \n",
    "                       # Selects column 1 \n",
    "\n",
    "\n",
    "print(my_matrix[1:3,2]) # Read as: Select...\n",
    "                        # rows 2 and 3 (reminder: read \"[x:y]\" as \"x+1 to y\")\n",
    "                        # column 3 (reminder    : read \"[z]\" as \"z+1\"))\n",
    "                        #\n",
    "                        # Selects rows 2 and 3 of 3rd column"
   ]
  },
  {
   "cell_type": "markdown",
   "metadata": {},
   "source": [
    "***Is Is Python's indexing style a problem when selecting the last value of a list?***"
   ]
  },
  {
   "cell_type": "code",
   "execution_count": 196,
   "metadata": {},
   "outputs": [
    {
     "name": "stdout",
     "output_type": "stream",
     "text": [
      "4\n",
      "['a', 'b', 'c', 'd']\n"
     ]
    }
   ],
   "source": [
    "my_list = [\"a\", \"b\", \"c\", \"d\"]\n",
    "\n",
    "print(len(my_list))            # For a 4 item-long list, the length is naturally '4'\n",
    "\n",
    "print(my_list[0:len(my_list)]) # <-- This is the equivalent of '[0:4]'.\n",
    "                               # Since [0] --> 1st    and     [4] --> 5th   \n",
    "                               # That means: 'Print from first up to (but not including) the fifth element'\n",
    "                               # i.e., 1st, 2nd, 3rd, 4th\n",
    "                               #\n",
    "                               #                          [  =<                             <  )\n",
    "                               #    Actual order :  0      1st*    2nd*     3rd*   4th* |  5th\n",
    "                               #                          /       /        /      /     | /\n",
    "                               #                         /      /        /       /      /\n",
    "                               #                       /      /        /       /      / |\n",
    "                               #    Index number : [0]    [1]      [2]      [3]    [4]  |"
   ]
  },
  {
   "cell_type": "markdown",
   "metadata": {},
   "source": [
    "So, no; Python's indexing style is not a problem when selecting the last value of a list. [0:len()] simply does the job of selecting the whole list without the need to add or subtract '1'."
   ]
  },
  {
   "cell_type": "markdown",
   "metadata": {},
   "source": [
    "***Is Python's indexing style a problem during iteration?***"
   ]
  },
  {
   "cell_type": "code",
   "execution_count": 197,
   "metadata": {},
   "outputs": [
    {
     "name": "stdout",
     "output_type": "stream",
     "text": [
      "a\n",
      "b\n",
      "c\n",
      "d\n"
     ]
    }
   ],
   "source": [
    "my_list = [\"a\", \"b\", \"c\", \"d\"]\n",
    "\n",
    "for i in range(0, len(my_list)): # < equivalent of [0:4], which is 1th to 5th element non-inclusive at end\n",
    "    print (my_list[i])           # \n",
    "                                 #    Actual order :  0      1st*    2nd*     3rd*   4th* |  5th\n",
    "                                 #                          /       /        /      /     | /\n",
    "                                 #                         /      /        /       /      /\n",
    "                                 #                       /      /        /       /      / |\n",
    "                                 #    Index number : [0]    [1]      [2]      [3]    [4]  |"
   ]
  },
  {
   "cell_type": "markdown",
   "metadata": {},
   "source": [
    "So, no it is not a problem."
   ]
  },
  {
   "cell_type": "markdown",
   "metadata": {},
   "source": [
    "***Is Python's indexing style a problem when selecting first x'th elements?***"
   ]
  },
  {
   "cell_type": "code",
   "execution_count": 409,
   "metadata": {},
   "outputs": [
    {
     "name": "stdout",
     "output_type": "stream",
     "text": [
      "['a', 'b', 'c']\n",
      "['a', 'b', 'c', 'd']\n"
     ]
    }
   ],
   "source": [
    "my_list = [\"a\", \"b\", \"c\", \"d\"]\n",
    "\n",
    "print(my_list[0:3]) # Print first to 3rd element of my_list\n",
    "print(my_list[0:4]) # Print first to 4th element of my_list"
   ]
  },
  {
   "cell_type": "markdown",
   "metadata": {},
   "source": [
    "So, no, it is not a problem."
   ]
  },
  {
   "cell_type": "markdown",
   "metadata": {},
   "source": [
    "## Selecting Nested Variables"
   ]
  },
  {
   "cell_type": "code",
   "execution_count": 416,
   "metadata": {
    "collapsed": true
   },
   "outputs": [],
   "source": [
    "my_list = [\n",
    "    ['a', 'b', 'c', 'd'],\n",
    "    ['x', 'y', 'z', 't'],\n",
    "    [1 ,2, 3, 4],\n",
    "    [ ['one', 1], ['two', 2], ['three', 3], ['four', 4] ]\n",
    "]"
   ]
  },
  {
   "cell_type": "code",
   "execution_count": 417,
   "metadata": {},
   "outputs": [
    {
     "name": "stdout",
     "output_type": "stream",
     "text": [
      "b\n",
      "[['one', 1], ['two', 2], ['three', 3], ['four', 4]]\n",
      "['one', 1]\n",
      "one\n",
      "['x', 'y', 'z', 't']\n"
     ]
    }
   ],
   "source": [
    "print(my_list[0][1])    # display the second element of the first inner list in my_list\n",
    "\n",
    "print(my_list[3])       # print the 4th inner list\n",
    "print(my_list[3][0])    # print the 1st element of the 4th innner list\n",
    "print(my_list[3][0][0]) # print the 1st element of the 1st element of the 4th inner list (which is a string)\n",
    "\n",
    "print(my_list[1:2][0])  # slice and display the first element of the newly sliced list"
   ]
  },
  {
   "cell_type": "markdown",
   "metadata": {},
   "source": [
    "## Selecting All Values Except The Last X "
   ]
  },
  {
   "cell_type": "code",
   "execution_count": 418,
   "metadata": {},
   "outputs": [
    {
     "data": {
      "text/plain": [
       "[1, 2, 3, 4]"
      ]
     },
     "execution_count": 418,
     "metadata": {},
     "output_type": "execute_result"
    }
   ],
   "source": [
    "my_list = [1,2,3,4,5,6,7]\n",
    "my_list[:-3]"
   ]
  },
  {
   "cell_type": "markdown",
   "metadata": {},
   "source": [
    "# WORKING WITH FILES"
   ]
  },
  {
   "cell_type": "markdown",
   "metadata": {},
   "source": [
    "## Working Directory Operations"
   ]
  },
  {
   "cell_type": "code",
   "execution_count": 201,
   "metadata": {},
   "outputs": [
    {
     "name": "stdout",
     "output_type": "stream",
     "text": [
      "C:\\Users\\Clokman\\Google Drive\\__Projects__\\Code\\Notebooks\n",
      "['.git', '.gitattributes', '.gitignore', '.ipynb_checkpoints', 'Add to Python notebook.md', 'LICENSE', 'PyCharm.md', 'Python.ipynb', 'README.md', 'Windows Command Line Notebook.md']\n",
      "C:\\Users\\Clokman\\Google Drive\\__Projects__\\Code\n"
     ]
    }
   ],
   "source": [
    "import os\n",
    "print(os.getcwd())                   # print current working directory\n",
    "print(os.listdir(os.getcwd()))       # print contents of the current working directory \n",
    "print(os.path.split(os.getcwd())[0]) # print the parent directory. Repeat as needed to get to higher directories."
   ]
  },
  {
   "cell_type": "markdown",
   "metadata": {},
   "source": [
    "## Relative Locations, and Accessing Files Nested in Subfolders"
   ]
  },
  {
   "cell_type": "code",
   "execution_count": 472,
   "metadata": {},
   "outputs": [
    {
     "name": "stdout",
     "output_type": "stream",
     "text": [
      "[['a', 'b', 'c'], ['1', '2', '3']]\n"
     ]
    }
   ],
   "source": [
    "import csv\n",
    "data = list(csv.reader(open(\"test_data//dummy.csv\")))\n",
    "print(data)"
   ]
  },
  {
   "cell_type": "markdown",
   "metadata": {},
   "source": [
    "## Importing Text File to Variable"
   ]
  },
  {
   "cell_type": "code",
   "execution_count": 473,
   "metadata": {
    "collapsed": true
   },
   "outputs": [],
   "source": [
    "data = open(\"test_data//dummy.txt\").read()"
   ]
  },
  {
   "cell_type": "markdown",
   "metadata": {},
   "source": [
    "## Opening and Closing Files"
   ]
  },
  {
   "cell_type": "markdown",
   "metadata": {},
   "source": [
    "**Note**: In this section, open files are handled in a liberal way for purposes of simplicity and clarity, but they should always be closed properly once a process is completed. This can be accomlished most effectively by assigning open files to a variable, and calling .close() method on this variable when the work of reading or writing to that file is finished.\n",
    "\n",
    "e.g.,:"
   ]
  },
  {
   "cell_type": "code",
   "execution_count": 659,
   "metadata": {
    "collapsed": true
   },
   "outputs": [],
   "source": [
    "my_file = open('test_data//open_close_test.txt')\n",
    "my_file.close()"
   ]
  },
  {
   "cell_type": "markdown",
   "metadata": {},
   "source": [
    "Also see the section on 'with' keyword for a more efficient approact to opening and closing files."
   ]
  },
  {
   "cell_type": "markdown",
   "metadata": {},
   "source": [
    "#### Opening a File for Reading"
   ]
  },
  {
   "cell_type": "markdown",
   "metadata": {},
   "source": [
    "*Open a file as an object:*"
   ]
  },
  {
   "cell_type": "code",
   "execution_count": 616,
   "metadata": {},
   "outputs": [
    {
     "data": {
      "text/plain": [
       "<_io.TextIOWrapper name='test_data//open_close_test.txt' mode='r' encoding='cp1252'>"
      ]
     },
     "execution_count": 616,
     "metadata": {},
     "output_type": "execute_result"
    }
   ],
   "source": [
    "# file path, mode, and encoding can be seen when file object is called\n",
    "open('test_data//open_close_test.txt')"
   ]
  },
  {
   "cell_type": "markdown",
   "metadata": {},
   "source": [
    "*Open a file with specific encoding:*"
   ]
  },
  {
   "cell_type": "code",
   "execution_count": 644,
   "metadata": {},
   "outputs": [
    {
     "data": {
      "text/plain": [
       "<_io.TextIOWrapper name='test_data//open_close_test.txt' mode='r' encoding='utf8'>"
      ]
     },
     "execution_count": 644,
     "metadata": {},
     "output_type": "execute_result"
    }
   ],
   "source": [
    "# notice the change in encoding in the output\n",
    "open('test_data//open_close_test.txt', encoding='utf8')"
   ]
  },
  {
   "cell_type": "markdown",
   "metadata": {},
   "source": [
    "*Open and read a file:*"
   ]
  },
  {
   "cell_type": "code",
   "execution_count": 618,
   "metadata": {},
   "outputs": [
    {
     "data": {
      "text/plain": [
       "'a about after almost along alternating an and anguish around at back ball became best but buy came cold come crop crazy curled day days decided decided eat even ever everyone farmer farmer find finest for found freezing farmer gave go going great grow growing guidance had hard he heat him his if immediately in into it journey julius juliuss keep knew last long magic managed many much months named never night noble noon of on once one out people persevered potatoes probably praises raining reggie roadside sang searing secret seek seen set shouldnt sign sky sleep so soaked started stopped store storekeeper that the there this to told travelled trees tried try umbrella underneath undeterred village was were who whole wondered world\\n'"
      ]
     },
     "execution_count": 618,
     "metadata": {},
     "output_type": "execute_result"
    }
   ],
   "source": [
    "open('test_data//open_close_test.txt').read()"
   ]
  },
  {
   "cell_type": "markdown",
   "metadata": {},
   "source": [
    "*Close an open file:*"
   ]
  },
  {
   "cell_type": "code",
   "execution_count": 621,
   "metadata": {
    "collapsed": true
   },
   "outputs": [],
   "source": [
    "open('test_data//open_close_test.txt').close()"
   ]
  },
  {
   "cell_type": "markdown",
   "metadata": {},
   "source": [
    "#### Opening a File for Writing"
   ]
  },
  {
   "cell_type": "markdown",
   "metadata": {},
   "source": [
    "*Open file for writing:*"
   ]
  },
  {
   "cell_type": "code",
   "execution_count": 652,
   "metadata": {},
   "outputs": [
    {
     "data": {
      "text/plain": [
       "<_io.TextIOWrapper name='test_data//write_test.txt' mode='w' encoding='cp1252'>"
      ]
     },
     "execution_count": 652,
     "metadata": {},
     "output_type": "execute_result"
    }
   ],
   "source": [
    "# if the file path does not exist, it will be created\n",
    "open('test_data//write_test.txt', mode='w')"
   ]
  },
  {
   "cell_type": "markdown",
   "metadata": {},
   "source": [
    "While opened in write mode, files are not readable: "
   ]
  },
  {
   "cell_type": "code",
   "execution_count": 653,
   "metadata": {},
   "outputs": [
    {
     "name": "stdout",
     "output_type": "stream",
     "text": [
      "not readable\n"
     ]
    }
   ],
   "source": [
    "try:\n",
    "    open('test_data//write_test.txt', mode='w').read()\n",
    "except Exception as error_message:\n",
    "    print(error_message)"
   ]
  },
  {
   "cell_type": "markdown",
   "metadata": {},
   "source": [
    "*Close the file:*"
   ]
  },
  {
   "cell_type": "code",
   "execution_count": 654,
   "metadata": {
    "collapsed": true
   },
   "outputs": [],
   "source": [
    "open('test_data//write_test.txt', mode='w').close()"
   ]
  },
  {
   "cell_type": "markdown",
   "metadata": {},
   "source": [
    "#### Opening files with 'With' Keyword"
   ]
  },
  {
   "cell_type": "markdown",
   "metadata": {},
   "source": [
    "'with' keyword, when used in combination with open() function creates an environment where a file is assigned to an object. This object is closed upon exiting this environment."
   ]
  },
  {
   "cell_type": "markdown",
   "metadata": {},
   "source": [
    "*Open a file with 'with' keyword and print a part of it:*"
   ]
  },
  {
   "cell_type": "code",
   "execution_count": 663,
   "metadata": {},
   "outputs": [
    {
     "name": "stdout",
     "output_type": "stream",
     "text": [
      "a about after almost along alternating an and anguish around at back ball became best but buy came c\n"
     ]
    }
   ],
   "source": [
    "with open('test_data//open_close_test.txt') as my_file:\n",
    "    print (my_file.read()[0:100])"
   ]
  },
  {
   "cell_type": "markdown",
   "metadata": {},
   "source": [
    "*Open a file with 'with' keyword and print a part of it:*"
   ]
  },
  {
   "cell_type": "code",
   "execution_count": 670,
   "metadata": {},
   "outputs": [
    {
     "name": "stdout",
     "output_type": "stream",
     "text": [
      "a about after almost alon\n"
     ]
    }
   ],
   "source": [
    "with open('test_data//open_close_test.txt') as input_file:\n",
    "    with open('test_data//write_test.txt', mode='w') as output_file:\n",
    "        output_file.write(input_file.read()[0:25])\n",
    "        \n",
    "# since output_file is open in write mode, it has to be closed (by simply existing the 'with' environment by unindenting) \n",
    "# before attempting to read it.\n",
    "with open('test_data//write_test.txt') as output_file:\n",
    "    print(output_file.read())"
   ]
  },
  {
   "cell_type": "markdown",
   "metadata": {},
   "source": [
    "## CSV Files"
   ]
  },
  {
   "cell_type": "markdown",
   "metadata": {},
   "source": [
    "### Tokenizing CSV Files: The native way with open()\n",
    "When opened first, CSV files are read as just a large block of string.\n",
    "This string needs to be... \n",
    "1. Divided row by row (i.e., each row of CSV needs to be assigned to a list item by using '\\n' as a separator)\n",
    "2. And then, these rows need to be further divided into values (by comma separator) "
   ]
  },
  {
   "cell_type": "markdown",
   "metadata": {},
   "source": [
    "#### Step #1: Open file\n",
    "\n",
    "When file is opened, indexing is done letter by letter when the file is just read. data_leg[0] is outputs only a letter."
   ]
  },
  {
   "cell_type": "code",
   "execution_count": 474,
   "metadata": {},
   "outputs": [
    {
     "name": "stdout",
     "output_type": "stream",
     "text": [
      "l\n"
     ]
    }
   ],
   "source": [
    "data = open(\"test_data//legislators.csv\").read()\n",
    "print(data[0])"
   ]
  },
  {
   "cell_type": "markdown",
   "metadata": {},
   "source": [
    "#### Step #2: Split line by line\n",
    "\n",
    "Splitting line by line allows indexing by row. data_splitted[0] now outputs a row: "
   ]
  },
  {
   "cell_type": "code",
   "execution_count": 475,
   "metadata": {},
   "outputs": [
    {
     "name": "stdout",
     "output_type": "stream",
     "text": [
      "last_name,first_name,birthday,gender,type,state,party\n"
     ]
    }
   ],
   "source": [
    "data_splitted = data.split(\"\\n\")\n",
    "print(data_splitted[0])"
   ]
  },
  {
   "cell_type": "markdown",
   "metadata": {},
   "source": [
    "#### Step #3: Tokenize\n",
    "\n",
    "Further splitting each row by comma allows indexing rows. data_tokenized[0][0] is now a value:"
   ]
  },
  {
   "cell_type": "code",
   "execution_count": 476,
   "metadata": {},
   "outputs": [
    {
     "name": "stdout",
     "output_type": "stream",
     "text": [
      "last_name\n"
     ]
    }
   ],
   "source": [
    "data_tokenized = []\n",
    "for item in data_splitted:\n",
    "    item = item.split(\",\")\n",
    "    data_tokenized.append(item)\n",
    "\n",
    "print(data_tokenized[0][0])"
   ]
  },
  {
   "cell_type": "markdown",
   "metadata": {},
   "source": [
    "### Tokenizing CSV Files: csv.reader()"
   ]
  },
  {
   "cell_type": "markdown",
   "metadata": {},
   "source": [
    "csv.reader() does the same thing with the process above:"
   ]
  },
  {
   "cell_type": "code",
   "execution_count": 477,
   "metadata": {
    "collapsed": true
   },
   "outputs": [],
   "source": [
    "# open file, read it, and tokenize:\n",
    "import csv\n",
    "data = list(csv.reader(open(\"test_data//my_data.csv\")))"
   ]
  },
  {
   "cell_type": "markdown",
   "metadata": {},
   "source": [
    "# PRIMITIVES AND CONVERSIONS"
   ]
  },
  {
   "cell_type": "markdown",
   "metadata": {},
   "source": [
    "## Query: type()"
   ]
  },
  {
   "cell_type": "code",
   "execution_count": 478,
   "metadata": {},
   "outputs": [
    {
     "data": {
      "text/plain": [
       "int"
      ]
     },
     "execution_count": 478,
     "metadata": {},
     "output_type": "execute_result"
    }
   ],
   "source": [
    "type(1)"
   ]
  },
  {
   "cell_type": "code",
   "execution_count": 433,
   "metadata": {},
   "outputs": [
    {
     "data": {
      "text/plain": [
       "str"
      ]
     },
     "execution_count": 433,
     "metadata": {},
     "output_type": "execute_result"
    }
   ],
   "source": [
    "type(\"t\")"
   ]
  },
  {
   "cell_type": "markdown",
   "metadata": {},
   "source": [
    "## Conversions"
   ]
  },
  {
   "cell_type": "code",
   "execution_count": 434,
   "metadata": {},
   "outputs": [
    {
     "data": {
      "text/plain": [
       "'1'"
      ]
     },
     "execution_count": 434,
     "metadata": {},
     "output_type": "execute_result"
    }
   ],
   "source": [
    "str(1)"
   ]
  },
  {
   "cell_type": "code",
   "execution_count": 435,
   "metadata": {},
   "outputs": [
    {
     "data": {
      "text/plain": [
       "1"
      ]
     },
     "execution_count": 435,
     "metadata": {},
     "output_type": "execute_result"
    }
   ],
   "source": [
    "int(\"1\")"
   ]
  },
  {
   "cell_type": "code",
   "execution_count": 436,
   "metadata": {},
   "outputs": [
    {
     "data": {
      "text/plain": [
       "1.0"
      ]
     },
     "execution_count": 436,
     "metadata": {},
     "output_type": "execute_result"
    }
   ],
   "source": [
    "float(1)"
   ]
  },
  {
   "cell_type": "code",
   "execution_count": 437,
   "metadata": {},
   "outputs": [
    {
     "data": {
      "text/plain": [
       "[1]"
      ]
     },
     "execution_count": 437,
     "metadata": {},
     "output_type": "execute_result"
    }
   ],
   "source": [
    "[1] # <-- this syntax should be used when converting to a list.\n",
    "    # See \"Special Case: Conversion to List\" section for more."
   ]
  },
  {
   "cell_type": "code",
   "execution_count": 438,
   "metadata": {},
   "outputs": [
    {
     "data": {
      "text/plain": [
       "{'a', 'b'}"
      ]
     },
     "execution_count": 438,
     "metadata": {},
     "output_type": "execute_result"
    }
   ],
   "source": [
    "set([\"a\", \"b\", \"b\"])"
   ]
  },
  {
   "cell_type": "code",
   "execution_count": 439,
   "metadata": {},
   "outputs": [
    {
     "name": "stdout",
     "output_type": "stream",
     "text": [
      "hello\n"
     ]
    }
   ],
   "source": [
    "eval(\"print('hello')\") # converts string to object and runs it\n",
    "                       # see the 'Converting Strings to Commands' section for more"
   ]
  },
  {
   "cell_type": "markdown",
   "metadata": {},
   "source": [
    "### Special Case: Conversion to List"
   ]
  },
  {
   "cell_type": "markdown",
   "metadata": {},
   "source": [
    "list() function should not be used for direct conversion as it creates an iteration object rather than a simple list:"
   ]
  },
  {
   "cell_type": "code",
   "execution_count": 440,
   "metadata": {},
   "outputs": [
    {
     "name": "stdout",
     "output_type": "stream",
     "text": [
      "Error: Integer is not iterable.\n"
     ]
    }
   ],
   "source": [
    "try:\n",
    "    list(1)\n",
    "except:\n",
    "    print(\"Error: Integer is not iterable.\")"
   ]
  },
  {
   "cell_type": "markdown",
   "metadata": {},
   "source": [
    "list() function works with strings though, as strings are iterable ojects. \n",
    "(But this is not a conversion; it's slicing.)"
   ]
  },
  {
   "cell_type": "code",
   "execution_count": 441,
   "metadata": {
    "scrolled": true
   },
   "outputs": [
    {
     "data": {
      "text/plain": [
       "['s', 't', 'r', 'i', 'n', 'g']"
      ]
     },
     "execution_count": 441,
     "metadata": {},
     "output_type": "execute_result"
    }
   ],
   "source": [
    "list(\"string\")"
   ]
  },
  {
   "cell_type": "markdown",
   "metadata": {},
   "source": [
    "This is the correct way to convert an object to a list is by using '[]' syntax instead of list()command:"
   ]
  },
  {
   "cell_type": "code",
   "execution_count": 442,
   "metadata": {},
   "outputs": [
    {
     "data": {
      "text/plain": [
       "['string']"
      ]
     },
     "execution_count": 442,
     "metadata": {},
     "output_type": "execute_result"
    }
   ],
   "source": [
    "[\"string\"]  # <-- converts inteeger to a list"
   ]
  },
  {
   "cell_type": "markdown",
   "metadata": {},
   "source": [
    "### Special Case: String to List Conversions"
   ]
  },
  {
   "cell_type": "markdown",
   "metadata": {},
   "source": [
    "When a string or multiple strings are converted to list in one command, each letter in these strings will be a list item."
   ]
  },
  {
   "cell_type": "markdown",
   "metadata": {},
   "source": [
    "#### list()"
   ]
  },
  {
   "cell_type": "markdown",
   "metadata": {},
   "source": [
    "*Converstion to iterable object:*"
   ]
  },
  {
   "cell_type": "code",
   "execution_count": 443,
   "metadata": {},
   "outputs": [
    {
     "data": {
      "text/plain": [
       "['1', '2', 'a', 'b', 'c', 'T', 'w', 'o', ' ', 'w', 'o', 'r', 'd', 's', '.']"
      ]
     },
     "execution_count": 443,
     "metadata": {},
     "output_type": "execute_result"
    }
   ],
   "source": [
    "list(\"1\" \"2\" \"abc\" \"Two words.\")"
   ]
  },
  {
   "cell_type": "markdown",
   "metadata": {},
   "source": [
    "#### []"
   ]
  },
  {
   "cell_type": "markdown",
   "metadata": {},
   "source": [
    "*Conversion to a list*:"
   ]
  },
  {
   "cell_type": "code",
   "execution_count": 220,
   "metadata": {},
   "outputs": [
    {
     "name": "stdout",
     "output_type": "stream",
     "text": [
      "['12abcTwo words.']\n",
      "['1', '2', 'abc', 'Two words.']\n"
     ]
    }
   ],
   "source": [
    "print([\"1\" \"2\" \"abc\" \"Two words.\"])\n",
    "print([\"1\", \"2\", \"abc\", \"Two words.\"])"
   ]
  },
  {
   "cell_type": "markdown",
   "metadata": {},
   "source": [
    "#### .split()"
   ]
  },
  {
   "cell_type": "markdown",
   "metadata": {},
   "source": [
    "Split method can be used to convert a string to a list, while using a separator character. (This is the basis of CSV files [see more in 'Working with Files' section])."
   ]
  },
  {
   "cell_type": "markdown",
   "metadata": {},
   "source": [
    "*Tokenizing in a list:*"
   ]
  },
  {
   "cell_type": "code",
   "execution_count": 221,
   "metadata": {},
   "outputs": [
    {
     "data": {
      "text/plain": [
       "['1', '2', 'abc', 'Two', 'words.']"
      ]
     },
     "execution_count": 221,
     "metadata": {},
     "output_type": "execute_result"
    }
   ],
   "source": [
    "(\"1 2 abc Two words.\").split(\" \")"
   ]
  },
  {
   "cell_type": "markdown",
   "metadata": {},
   "source": [
    "### Converting Strings to Commands\n",
    "**eval()**"
   ]
  },
  {
   "cell_type": "markdown",
   "metadata": {},
   "source": [
    "Use scenario: Using eval to iteratively construct commands from strings\n",
    "<br>[TODO] Revise: Unexplained code, and insignificant use case."
   ]
  },
  {
   "cell_type": "code",
   "execution_count": 222,
   "metadata": {},
   "outputs": [
    {
     "name": "stdout",
     "output_type": "stream",
     "text": [
      "my_dataset[1], my_dataset[2], my_dataset[3], my_dataset[4], my_dataset[5], \n",
      "[([123, 1995],), ([441, 1996],), ([123, 1995],), ([123, 1995],), ([123, 1995],)]\n"
     ]
    }
   ],
   "source": [
    "my_dataset            = [[\"id\", \"year\"],[123, 1995],[441,1996], [123, 1995], [123, 1995], [123, 1995], [123, 1995]]\n",
    "dataset_name       = \"my_dataset\"\n",
    "\n",
    "indexes_list       = [1, 2, 3, 4, 5]\n",
    "\n",
    "parameters_string = \"\"\n",
    "\n",
    "for i, index_value in enumerate(indexes_list):\n",
    "    parameters_string = parameters_string + dataset_name + \"[\" + str(index_value) + \"], \"\n",
    "print(parameters_string)\n",
    "\n",
    "transposed_table = list(zip(eval(parameters_string)))\n",
    "print(transposed_table)"
   ]
  },
  {
   "cell_type": "markdown",
   "metadata": {},
   "source": [
    "# SYNTACTIC OPERATORS AND METHODS"
   ]
  },
  {
   "cell_type": "markdown",
   "metadata": {},
   "source": [
    "## Logic Operators"
   ]
  },
  {
   "cell_type": "markdown",
   "metadata": {},
   "source": [
    "- and\n",
    "- or"
   ]
  },
  {
   "cell_type": "markdown",
   "metadata": {},
   "source": [
    "## Comparison Operators"
   ]
  },
  {
   "cell_type": "markdown",
   "metadata": {},
   "source": [
    "- == or 'is'\n",
    "- != or 'is not'\n",
    "- '>' \n",
    "- '<'"
   ]
  },
  {
   "cell_type": "code",
   "execution_count": 223,
   "metadata": {},
   "outputs": [
    {
     "data": {
      "text/plain": [
       "True"
      ]
     },
     "execution_count": 223,
     "metadata": {},
     "output_type": "execute_result"
    }
   ],
   "source": [
    "1 == 1"
   ]
  },
  {
   "cell_type": "code",
   "execution_count": 224,
   "metadata": {},
   "outputs": [
    {
     "data": {
      "text/plain": [
       "True"
      ]
     },
     "execution_count": 224,
     "metadata": {},
     "output_type": "execute_result"
    }
   ],
   "source": [
    "1 is 1"
   ]
  },
  {
   "cell_type": "code",
   "execution_count": 225,
   "metadata": {},
   "outputs": [
    {
     "data": {
      "text/plain": [
       "False"
      ]
     },
     "execution_count": 225,
     "metadata": {},
     "output_type": "execute_result"
    }
   ],
   "source": [
    "1 != 1"
   ]
  },
  {
   "cell_type": "code",
   "execution_count": 226,
   "metadata": {},
   "outputs": [
    {
     "data": {
      "text/plain": [
       "False"
      ]
     },
     "execution_count": 226,
     "metadata": {},
     "output_type": "execute_result"
    }
   ],
   "source": [
    "1 is not 1"
   ]
  },
  {
   "cell_type": "markdown",
   "metadata": {},
   "source": [
    "## Search and Query Operators"
   ]
  },
  {
   "cell_type": "markdown",
   "metadata": {},
   "source": [
    "- in\n",
    "- type()"
   ]
  },
  {
   "cell_type": "markdown",
   "metadata": {},
   "source": [
    "'in':"
   ]
  },
  {
   "cell_type": "code",
   "execution_count": 227,
   "metadata": {},
   "outputs": [
    {
     "data": {
      "text/plain": [
       "True"
      ]
     },
     "execution_count": 227,
     "metadata": {},
     "output_type": "execute_result"
    }
   ],
   "source": [
    "a = [1, 2]\n",
    "\n",
    "1 in a"
   ]
  },
  {
   "cell_type": "markdown",
   "metadata": {},
   "source": [
    "## Special Values"
   ]
  },
  {
   "cell_type": "markdown",
   "metadata": {},
   "source": [
    "- True\n",
    "- False\n",
    "- None"
   ]
  },
  {
   "cell_type": "markdown",
   "metadata": {},
   "source": [
    "### None"
   ]
  },
  {
   "cell_type": "code",
   "execution_count": 228,
   "metadata": {},
   "outputs": [
    {
     "name": "stdout",
     "output_type": "stream",
     "text": [
      "0\n",
      "None\n"
     ]
    }
   ],
   "source": [
    "x = 0\n",
    "print(x)\n",
    "\n",
    "x = None\n",
    "print(x)"
   ]
  },
  {
   "cell_type": "markdown",
   "metadata": {},
   "source": [
    "Usage scenario:"
   ]
  },
  {
   "cell_type": "code",
   "execution_count": 229,
   "metadata": {},
   "outputs": [
    {
     "name": "stdout",
     "output_type": "stream",
     "text": [
      "max_value (buggy): 0\n",
      "max_value (fixed): -50\n"
     ]
    }
   ],
   "source": [
    "# For positive numbers, this would have returned the maximum value.\n",
    "# But for negative numbers, it does not work, as '0' is the greatest number.\n",
    "# Initializing max_value with '0' is problematic.\n",
    "# Something else should ve assigned as a value.\n",
    "values = [-50, -80, -100]\n",
    "max_value = 0\n",
    "for i in values:\n",
    "    if i > max_value:\n",
    "        max_value = i\n",
    "print(\"max_value (buggy): \" + str(max_value))\n",
    "\n",
    "\n",
    "max_value = None\n",
    "for i in values:\n",
    "    if max_value is None or i > max_value: # This change does the trick.\n",
    "        max_value = i\n",
    "print(\"max_value (fixed): \" + str(max_value))"
   ]
  },
  {
   "cell_type": "markdown",
   "metadata": {},
   "source": [
    "**Note:** In the above example, 'is' used instead of '==' (which serves the same purpose). Using == would not change things in this example, but using 'is' with 'None' is the recommended practice, and may prevent problems that can arise."
   ]
  },
  {
   "cell_type": "markdown",
   "metadata": {},
   "source": [
    "## Special Methods"
   ]
  },
  {
   "cell_type": "markdown",
   "metadata": {},
   "source": [
    "### 'pass'"
   ]
  },
  {
   "cell_type": "markdown",
   "metadata": {},
   "source": [
    "# FUNCTIONS"
   ]
  },
  {
   "cell_type": "code",
   "execution_count": 230,
   "metadata": {
    "collapsed": true
   },
   "outputs": [],
   "source": [
    "def function_name(argument1, argument2=True): # argument 2 has a default value\n",
    "    \"function body here\"\n",
    "    return(argument1)"
   ]
  },
  {
   "cell_type": "markdown",
   "metadata": {},
   "source": [
    "# OBJECTS, CLASSES, AND METHODS"
   ]
  },
  {
   "cell_type": "markdown",
   "metadata": {},
   "source": [
    "- **Class**: Template for constructing objects. Classes have default values.\n",
    "- **Objects**: Entities with their own properties and behaviors. An instance of a class.\n",
    "- **Properties**: Attributes of objects.  "
   ]
  },
  {
   "cell_type": "markdown",
   "metadata": {},
   "source": [
    "## Constructing a Class and Setting its Properties"
   ]
  },
  {
   "cell_type": "code",
   "execution_count": 231,
   "metadata": {},
   "outputs": [
    {
     "name": "stdout",
     "output_type": "stream",
     "text": [
      "black\n"
     ]
    }
   ],
   "source": [
    "class Car():                   # Class names begin with capital letters.\n",
    "    def __init__(self):        # '__init__' is a method. It allows us to specify the code that will be ran each time an instance/object of this class is created. \n",
    "                               # 'self' is an argument of the __init__ method. It is simply a placeholder that addresses the future object/instance—e.g., 'my_car'.\n",
    "        self.color = \"black\"   # Each of these lines are 'properties' of an object.\n",
    "        self.make = \"honda\"    # Read as 'my_car.black', 'my_car.make', etc... —as 'self' refers to the future instance/object, which will be 'my_car'\n",
    "        self.model = \"accord\"  # If a vale is initially specified, it is interpreted as a default property of this class, and is assigned to each instance unless overriden by another value at the time of instantiation of that object.\n",
    "\n",
    "my_car = Car()        # This initiates and assigns default properties of the 'Car' class to the new instance/object 'my_car'.\n",
    "\n",
    "print(my_car.color)   # Dot notation can be used to address to properties of a class. \n",
    "                      # Note that even though properties and methods of a class both use dot notatio, parantheses are not used in the end when calling properties of a class, but they are used when calling methods of class."
   ]
  },
  {
   "cell_type": "markdown",
   "metadata": {},
   "source": [
    "## Using Initial Arguments as Class Properties"
   ]
  },
  {
   "cell_type": "markdown",
   "metadata": {},
   "source": [
    "Classes can also have custom arguments that can be passed on as class properties at the time of instantiation of new objects."
   ]
  },
  {
   "cell_type": "code",
   "execution_count": 232,
   "metadata": {},
   "outputs": [
    {
     "name": "stdout",
     "output_type": "stream",
     "text": [
      "John\n",
      "231\n"
     ]
    }
   ],
   "source": [
    "class Student():\n",
    "    def __init__(self, name, number): # <-- Initial arguments\n",
    "        self.name = name\n",
    "        self.number = number\n",
    "\n",
    "student_1 = Student(\"John\", 231)\n",
    "print(student_1.name)\n",
    "print(student_1.number)"
   ]
  },
  {
   "cell_type": "markdown",
   "metadata": {},
   "source": [
    "## Creating Variables within Classes and Calling Them from Outside"
   ]
  },
  {
   "cell_type": "code",
   "execution_count": 233,
   "metadata": {},
   "outputs": [
    {
     "name": "stdout",
     "output_type": "stream",
     "text": [
      "5\n",
      "value\n"
     ]
    }
   ],
   "source": [
    "class My_class():\n",
    "    def __init__(self):\n",
    "        self.property1 = \"value\"\n",
    "        \n",
    "    x = 5 # This is a variable that is initialized within the class environment.\n",
    "    \n",
    "my_instance = My_class()\n",
    "\n",
    "print(my_instance.x)  # X can be called the same way a class property is called.\n",
    "print(my_instance.property1)"
   ]
  },
  {
   "cell_type": "markdown",
   "metadata": {},
   "source": [
    "## Adding Attributes to a Class at Runtime"
   ]
  },
  {
   "cell_type": "markdown",
   "metadata": {},
   "source": [
    "- It is also possible to add attributes to a class dynamically at runtime. \n",
    "- However, it seems like the an arguments of an external function cannot be replaced with class parameters such as 'self'."
   ]
  },
  {
   "cell_type": "markdown",
   "metadata": {},
   "source": [
    "#### Adding an External Property"
   ]
  },
  {
   "cell_type": "code",
   "execution_count": 234,
   "metadata": {},
   "outputs": [
    {
     "name": "stdout",
     "output_type": "stream",
     "text": [
      "another value\n"
     ]
    }
   ],
   "source": [
    "class My_class():\n",
    "    def __init__(self):\n",
    "        self.attribute1 = \"value\"\n",
    "\n",
    "my_instance = My_class()\n",
    "\n",
    "# Add an external variable as class property at runtime\n",
    "my_instance.attibute2 = \"another value\"\n",
    "print(my_instance.attibute2)"
   ]
  },
  {
   "cell_type": "markdown",
   "metadata": {},
   "source": [
    "#### Adding an External Function"
   ]
  },
  {
   "cell_type": "markdown",
   "metadata": {},
   "source": [
    "***As a static externally added function***:"
   ]
  },
  {
   "cell_type": "code",
   "execution_count": 235,
   "metadata": {},
   "outputs": [
    {
     "name": "stdout",
     "output_type": "stream",
     "text": [
      "x\n"
     ]
    }
   ],
   "source": [
    "my_instance.special_print = print(\"x\")\n",
    "my_instance.special_print"
   ]
  },
  {
   "cell_type": "markdown",
   "metadata": {},
   "source": [
    "***Externally added function as a dynamic function that accepts arguments?***"
   ]
  },
  {
   "cell_type": "code",
   "execution_count": 236,
   "metadata": {},
   "outputs": [
    {
     "name": "stdout",
     "output_type": "stream",
     "text": [
      "\n",
      "No, unfortunately, functions added from external scopes don't accept arguments.\n"
     ]
    }
   ],
   "source": [
    "my_instance.special_print = print()\n",
    "try:\n",
    "    my_instance.special_print()  # <- These parentheses are not accepted\n",
    "except:\n",
    "    print(\"No, unfortunately, functions added from external scopes don't accept arguments.\")"
   ]
  },
  {
   "cell_type": "markdown",
   "metadata": {},
   "source": [
    "***A slightly dynamic externally-added function***:"
   ]
  },
  {
   "cell_type": "code",
   "execution_count": 237,
   "metadata": {},
   "outputs": [
    {
     "data": {
      "text/plain": [
       "5"
      ]
     },
     "execution_count": 237,
     "metadata": {},
     "output_type": "execute_result"
    }
   ],
   "source": [
    "class My_class(object):\n",
    "     pass\n",
    "\n",
    "my_instance = My_class()\n",
    "my_instance.my_var = 3\n",
    "My_class.my_func = property(lambda self: self.my_var + 2)  # <-- This function uses 'self' variable to address to class...\n",
    "my_instance.my_func                                        # ...attributes. It seems that this is as dynamic as it gets...\n",
    "                                                           # ...for externally added functions"
   ]
  },
  {
   "cell_type": "markdown",
   "metadata": {},
   "source": [
    "## Iterating over Class Instances and Their Properties at Runtime"
   ]
  },
  {
   "cell_type": "markdown",
   "metadata": {},
   "source": [
    "***Class registry to hold all instances created in a class:***"
   ]
  },
  {
   "cell_type": "code",
   "execution_count": 238,
   "metadata": {
    "scrolled": true
   },
   "outputs": [
    {
     "name": "stdout",
     "output_type": "stream",
     "text": [
      "<__main__.Person object at 0x0000020DF918F390> John\n",
      "<__main__.Person object at 0x0000020DF918F320> Erik\n"
     ]
    }
   ],
   "source": [
    "class Person(object):\n",
    "    _instance_registry = []  # variable to hold all instances that will be creted in this class.\n",
    "\n",
    "    def __init__(self, name): \n",
    "        self._instance_registry.append(self)  # add all instances to the _instance_registry upon creation\n",
    "        self.name = name\n",
    "\n",
    "john = Person(\"John\")\n",
    "erik = Person(\"Erik\")\n",
    "        \n",
    "for p in Person._instance_registry:\n",
    "    print (p, p.name) #print each instance and their names"
   ]
  },
  {
   "cell_type": "markdown",
   "metadata": {},
   "source": [
    "***Class registry for instance properties, and querying these like lists:***"
   ]
  },
  {
   "cell_type": "code",
   "execution_count": 239,
   "metadata": {},
   "outputs": [
    {
     "name": "stdout",
     "output_type": "stream",
     "text": [
      "John\n",
      "Erik\n",
      "\n",
      "Name found\n"
     ]
    }
   ],
   "source": [
    "class Person(object):\n",
    "    _name_registry = []  # variable to hold all names that will be creted in this class.\n",
    "\n",
    "    def __init__(self, name): \n",
    "        self.name = name\n",
    "        self._name_registry.append(name)  # add all instances to the _instance_registry upon creation\n",
    "\n",
    "john = Person(\"John\")\n",
    "erik = Person(\"Erik\")\n",
    "\n",
    "for p in Person._name_registry:\n",
    "    print (p) #print each instance and their names\n",
    "\n",
    "# Registry allows performing list search operations in classes.\n",
    "if \"John\" in Person._name_registry:\n",
    "    print (\"\\nName found\")\n"
   ]
  },
  {
   "cell_type": "markdown",
   "metadata": {},
   "source": [
    "Further reading:\n",
    "https://stackoverflow.com/questions/739882/iterating-over-object-instances-of-a-given-class-in-python"
   ]
  },
  {
   "cell_type": "code",
   "execution_count": 240,
   "metadata": {},
   "outputs": [
    {
     "name": "stdout",
     "output_type": "stream",
     "text": [
      "John\n",
      "Erik\n",
      "\n",
      "Name found\n"
     ]
    },
    {
     "data": {
      "text/plain": [
       "'myvalue'"
      ]
     },
     "execution_count": 240,
     "metadata": {},
     "output_type": "execute_result"
    }
   ],
   "source": [
    "class Person(object):\n",
    "    _name_registry = []  # variable to hold all names that will be creted in this class.\n",
    "\n",
    "    def __init__(self, name): \n",
    "        self.name = name\n",
    "        self._name_registry.append(name)  # add all instances to the _instance_registry upon creation\n",
    "    \n",
    "    def add(self, attr, val):\n",
    "        self.attr = val\n",
    "         \n",
    "\n",
    "john = Person(\"John\")\n",
    "erik = Person(\"Erik\")\n",
    "\n",
    "for p in Person._name_registry:\n",
    "    print (p) #print each instance and their names\n",
    "\n",
    "# Registry allows performing list search operations in classes.\n",
    "if \"John\" in Person._name_registry:\n",
    "    print (\"\\nName found\")\n",
    "\n",
    "john.add(\"myatribute\", \"myvalue\")\n",
    "john.attr\n"
   ]
  },
  {
   "cell_type": "markdown",
   "metadata": {},
   "source": [
    "## Methods"
   ]
  },
  {
   "cell_type": "markdown",
   "metadata": {},
   "source": [
    "Methods are very similar to functions, and we define them with the same syntax. ****The only difference is that methods are \"attached\" to instances, while functions aren't***. We can use methods to run custom code that interacts with those instances.\n",
    "\n",
    "To use a method:\n",
    "\n",
    "- Define it in the code for the class.\n",
    "- Call it on an instance of that class."
   ]
  },
  {
   "cell_type": "markdown",
   "metadata": {},
   "source": [
    "### Methods without Arguments"
   ]
  },
  {
   "cell_type": "code",
   "execution_count": 241,
   "metadata": {},
   "outputs": [
    {
     "name": "stdout",
     "output_type": "stream",
     "text": [
      "John X 242\n"
     ]
    }
   ],
   "source": [
    "## new class\n",
    "class Student():                    \n",
    "    def __init__(self, name, surname, number):\n",
    "        self.name = name\n",
    "        self.surname = surname\n",
    "        self.number = number\n",
    "\n",
    "    ## New method—note that it is withing the class!\n",
    "    def print_details(self):    \n",
    "        print(self.name, self.surname, self.number)\n",
    "\n",
    "# The print_details method can only be called by objects that belong to the same class\n",
    "# print_name(\"John\") would return an error for instance—as print_name is not a function, but a method.\n",
    "# \"John\".print_name() would also not work, as 'print_name' method can only interact with members of its own class.\n",
    "\n",
    "## Calling the new method\n",
    "# First, create an instance of the object that wants to call the method—i.e., make it a member of the class.\n",
    "john = Student(\"John\", \"X\", 242)\n",
    "# Now, the variable/object 'john' is the instance of the class 'Student', and it can use the methods available in this class.\n",
    "john.print_details()"
   ]
  },
  {
   "cell_type": "markdown",
   "metadata": {},
   "source": [
    "### Methods with Arguments"
   ]
  },
  {
   "cell_type": "markdown",
   "metadata": {},
   "source": [
    "Note that the 'year' argument in .count_wins_in_year method is not an object property, and not referenced anywhere except within the method itself."
   ]
  },
  {
   "cell_type": "code",
   "execution_count": 445,
   "metadata": {},
   "outputs": [
    {
     "name": "stdout",
     "output_type": "stream",
     "text": [
      "12\n"
     ]
    }
   ],
   "source": [
    "import csv\n",
    "class Team():\n",
    "    def __init__(self, name):\n",
    "        self.name = name\n",
    "        f = open(\"test_data//nfl.csv\", 'r')\n",
    "        csvreader = csv.reader(f)\n",
    "        self.nfl = list(csvreader)\n",
    "\n",
    "    def count_wins_in_year(self, year):\n",
    "        count = 0\n",
    "        for i in self.nfl:\n",
    "            if (i[2] == self.name) & (i[0] == year):\n",
    "                count = count + 1\n",
    "        return count\n",
    "\n",
    "niners = Team(\"San Francisco 49ers\")\n",
    "niners_wins_2013 = niners.count_wins_in_year(\"2013\")\n",
    "print(niners_wins_2013)"
   ]
  },
  {
   "cell_type": "markdown",
   "metadata": {},
   "source": [
    "## Objects"
   ]
  },
  {
   "cell_type": "markdown",
   "metadata": {},
   "source": [
    "Objects are varariables that are different than lists or other primitives:\n",
    "\n"
   ]
  },
  {
   "cell_type": "code",
   "execution_count": 446,
   "metadata": {},
   "outputs": [
    {
     "name": "stdout",
     "output_type": "stream",
     "text": [
      "### 1\n",
      "<__main__.Student object at 0x0000020DF9ABC550>\n",
      "### 2\n",
      "[<__main__.Student object at 0x0000020DF9ABC550>, <__main__.Student object at 0x0000020DF9ABC6A0>, <__main__.Student object at 0x0000020DF9ABC6D8>]\n"
     ]
    }
   ],
   "source": [
    "class Student():\n",
    "    def __init__(self, name, number):\n",
    "        self.name = name\n",
    "        self.number = number\n",
    "\n",
    "student_1 = Student(\"John\", 231)\n",
    "print(\"### 1\")\n",
    "print(student_1)\n",
    "student_2 = Student(\"Sven\", 532)\n",
    "student_3 = Student(\"Erik\", 242)\n",
    "\n",
    "student_list = [student_1, student_2, student_3]\n",
    "\n",
    "print(\"### 2\")\n",
    "print(student_list)"
   ]
  },
  {
   "cell_type": "markdown",
   "metadata": {},
   "source": [
    "Objects can be indexed with integers, but cannot be iterated over:"
   ]
  },
  {
   "cell_type": "code",
   "execution_count": 244,
   "metadata": {},
   "outputs": [
    {
     "name": "stdout",
     "output_type": "stream",
     "text": [
      "### 1: Print first object\n",
      "<__main__.Student object at 0x0000020DF9180C18>\n",
      "### 2: Print name of first and second object\n",
      "John\n",
      "Sven\n"
     ]
    }
   ],
   "source": [
    "# Objects can be indexed (regardless of what the error message below says)\n",
    "print(\"### 1: Print first object\")\n",
    "print(student_list[0])\n",
    "\n",
    "print(\"### 2: Print name of first and second object\")\n",
    "print(student_list[0].name)  \n",
    "print(student_list[1].name)\n",
    "\n",
    "# But they cannot be iterated over \n",
    "# This would give an error:\n",
    "#for i in student_list:\n",
    "#    print(i[0].name)"
   ]
  },
  {
   "cell_type": "markdown",
   "metadata": {},
   "source": [
    "Objects can have properties and methods. These properties and methods are defined within the class.\n",
    "\n",
    "Properties can simply be primitives, or be more sophisticated variables such as functions and datasets."
   ]
  },
  {
   "cell_type": "code",
   "execution_count": 452,
   "metadata": {},
   "outputs": [
    {
     "name": "stdout",
     "output_type": "stream",
     "text": [
      "### Data\n",
      "[['a about after almost along alternating an and anguish around at back ball became best but buy came cold come crop crazy curled day days decided decided eat even ever everyone farmer farmer find finest for found freezing farmer gave go going great grow growing guidance had hard he heat him his if immediately in into it journey julius juliuss keep knew last long magic managed many much months named never night noble noon of on once one out people persevered potatoes probably praises raining reggie roadside sang searing secret seek seen set shouldnt sign sky sleep so soaked started stopped store storekeeper that the there this to told travelled trees tried try umbrella underneath undeterred village was were who whole wondered world']]\n",
      "### Name\n",
      "John\n",
      "### Number\n",
      "234\n"
     ]
    }
   ],
   "source": [
    "class Student():\n",
    "    def __init__(self, name, number):\n",
    "        self.school = \"VU\"     # This is a simple property with a default value.\n",
    "        self.name = name       # This is a simple property\n",
    "        self.number = number\n",
    "        import csv                                        # A function can be ran upon initialization.\n",
    "        self.data = list(csv.reader(open(\"test_data//my_data.csv\"))) # This property holds a data set.\n",
    "    \n",
    "    def print_name(self): # This is a method\n",
    "        print(self.name)\n",
    "\n",
    "john = Student(\"John\", 234)\n",
    "\n",
    "print(\"### Data\")\n",
    "print(john.data)\n",
    "\n",
    "print(\"### Name\")\n",
    "print(john.name)\n",
    "\n",
    "print(\"### Number\")\n",
    "print(john.number)"
   ]
  },
  {
   "cell_type": "markdown",
   "metadata": {},
   "source": [
    "### More on __init__(self)'"
   ]
  },
  {
   "cell_type": "markdown",
   "metadata": {},
   "source": [
    "__init__ is a method that is called when an instance of a class is being created. It simply allows us to specify what properties will be assigned to the new instance/object, and what code will be ran while instance is being created.\n",
    "\n",
    "'self' is a parameter of the 'init' method. 'Self' refers to the current instance being created (i.e., a new instance of the 'Car' class, which is 'my_car')."
   ]
  },
  {
   "cell_type": "markdown",
   "metadata": {},
   "source": [
    "In the example below, the Python interpreter automatically calls __init__, with self and \"Tampa Bay Buccaneers\" as its arguments. In this example, self is really just a reference to bucs, so when we set self.name inside the __init__ method, we are really setting bucs.name. If we created a new team named my_team, we'd be setting my_team.name within the __init__ method. However, we don't need to worry about the instance's name when we are defining a method, since we can always access it using self."
   ]
  },
  {
   "cell_type": "code",
   "execution_count": 456,
   "metadata": {
    "collapsed": true
   },
   "outputs": [],
   "source": [
    "class Team():\n",
    "    def __init__(self, name):\n",
    "        self.name = name # will be interpreted in 3 lines as:\n",
    "      # bucs.name = \"Tampa Bay Bucaneers\"\n",
    "    def print_name(self): # This is a method\n",
    "        print(self.name)\n",
    "        \n",
    "bucs = Team(\"Tampa Bay Buccaneers\")"
   ]
  },
  {
   "cell_type": "markdown",
   "metadata": {},
   "source": [
    "### Instance vs. Automatic Methods"
   ]
  },
  {
   "cell_type": "code",
   "execution_count": 457,
   "metadata": {},
   "outputs": [
    {
     "name": "stdout",
     "output_type": "stream",
     "text": [
      "Tampa Bay Buccaneers\n"
     ]
    }
   ],
   "source": [
    "bucs = Team(\"Tampa Bay Buccaneers\") ## Creates an instance of the Team class and auto-calls `__init__`, based on the class definition.\n",
    "bucs.print_name() ## Calls the method ***on the instance***."
   ]
  },
  {
   "cell_type": "markdown",
   "metadata": {},
   "source": [
    "## Instances "
   ]
  },
  {
   "cell_type": "markdown",
   "metadata": {},
   "source": [
    "#### 'as'\n",
    "\n",
    "Captures an instance of a class."
   ]
  },
  {
   "cell_type": "code",
   "execution_count": 458,
   "metadata": {},
   "outputs": [
    {
     "name": "stdout",
     "output_type": "stream",
     "text": [
      "• Type of Exception is a class (i.e., a 'type' in itself, in this context):\n",
      "<class 'type'>\n",
      "\n",
      " • Type of exc is 'ValueError', which is an instance of Exception class (note that 'Exception' class can have instances that has another type):\n",
      "<class 'ValueError'>\n",
      "\n",
      "\n",
      "invalid literal for int() with base 10: ''\n"
     ]
    }
   ],
   "source": [
    "try:\n",
    "    int(\"\")\n",
    "except Exception as exc:\n",
    "    \n",
    "    # Demonstration:\n",
    "    print(\"• Type of Exception is a class (i.e., a 'type' in itself, in this context):\")\n",
    "    print(type(Exception))\n",
    "    print(\"\\n • Type of exc is 'ValueError', which is an instance of Exception class (note that 'Exception' class can have instances that has another type):\")\n",
    "    print(type(exc))\n",
    "    print(\"\\n\")\n",
    "    \n",
    "    # Actual code block:\n",
    "    print(str(exc))"
   ]
  },
  {
   "cell_type": "markdown",
   "metadata": {},
   "source": [
    "## Sub- and Superclasses, Inheritance, Overriding and Overloading\n"
   ]
  },
  {
   "cell_type": "markdown",
   "metadata": {},
   "source": [
    "### Sub- and Superclasses"
   ]
  },
  {
   "cell_type": "markdown",
   "metadata": {},
   "source": [
    "***Create a subclass with multiple superclasses and initialize \\_\\_init\\_\\_ method of the superclasses:***"
   ]
  },
  {
   "cell_type": "code",
   "execution_count": 459,
   "metadata": {
    "collapsed": true
   },
   "outputs": [],
   "source": [
    "# class subclass(superclass_1, superclass_2):\n",
    "#   def __init__(self, param):\n",
    "#       superclass_1.__init__(self)\n",
    "#       superclass_2.__init__(self, param)"
   ]
  },
  {
   "cell_type": "markdown",
   "metadata": {},
   "source": [
    "### Overriding Methods"
   ]
  },
  {
   "cell_type": "markdown",
   "metadata": {},
   "source": [
    "Overriding can be thought of as ***'If a str class ever calls me, do not use its internal \\_\\_str\\_\\_() method, but use my \\_\\_str\\_\\_() method!'***\n",
    "\n",
    "***As an important note***: In order to override another class' attribute, a class does not need to be a subclass of it. In the below examples, for instance, Person class overrides the \\_\\_str\\_\\_() method of the str class, but Person is not a subclass of str.\n",
    "\n",
    "A more formal definition of method overriding: \n",
    "\n",
    "\"Method overriding allows a subclass to provide a different implementation of a method that is already defined by its superclass or by one of its superclasses. The implementation in the subclass overrides the implementation of the superclass by providing a method with the same name, same parameters or signature, and same return type as the method of the parent class.\"\n",
    "(Source: https://www.python-course.eu/python3_inheritance.php)"
   ]
  },
  {
   "cell_type": "markdown",
   "metadata": {},
   "source": [
    "#### A Method Override Example: Person & Employee (With Step-by-step Annotation)"
   ]
  },
  {
   "cell_type": "markdown",
   "metadata": {},
   "source": [
    "***Create a superclass and subclass with overriding methods:***"
   ]
  },
  {
   "cell_type": "code",
   "execution_count": 250,
   "metadata": {},
   "outputs": [
    {
     "data": {
      "text/plain": [
       "'Homer Simpson, 1007'"
      ]
     },
     "execution_count": 250,
     "metadata": {},
     "output_type": "execute_result"
    }
   ],
   "source": [
    "# Example taken from: https://www.python-course.eu/python3_inheritance.php\n",
    "\n",
    "class Person:\n",
    "\n",
    "    def __init__(self, first, last, age):\n",
    "        self.firstname = first\n",
    "        self.lastname = last\n",
    "        self.age = age\n",
    "        \n",
    "    # override the str.__str__() method.\n",
    "    def __str__(self):\n",
    "        # when this object is called as a string (e.g., by print() or str()), return this:\n",
    "        return self.firstname + \" \" + self.lastname + \", \" + str(self.age)\n",
    "\n",
    "    def constructName(self):\n",
    "        return self.firstname + ' ' + self.lastname\n",
    "    \n",
    "class Employee(Person):\n",
    "    \n",
    "    # __init__() method of Employee class overrides any other __init__() method (e.g., from Person class) that may \n",
    "    # call the Employee object.\n",
    "    \n",
    "    # when __init__() method is called (or when simply instantiating this class)...\n",
    "    def __init__(self, first, last, age, staffnum):\n",
    "        \n",
    "        # initialize the superclass with the required parameters\n",
    "        # and by doing so, IMPORT the superclass Person's now-initialized ATTRIBUTES and METHODS\n",
    "        # after this is done, first, last, and age attributes can also be called from an Employee class instance.\n",
    "        super().__init__(first, last, age)\n",
    "        \n",
    "        # on top of the attributes imported from the Person superclass, add this attribute\n",
    "        self.staffnumber = staffnum\n",
    "\n",
    "    # also override __str__() method of the base 'str' class and 'Person' classes (by creating a method named as '__str__()' which is \n",
    "    # the name of the methods in str and Person classed that store the string representation of the object)\n",
    "    def __str__(self):\n",
    "        # when this object is called as a string (e.g., by print() or str()), return this:\n",
    "        return super().__str__() + \", \" +  self.staffnumber\n",
    "    \n",
    "    def getEmployee(self):\n",
    "        # when this method is called, self.Name will be returned for Employee class, even though .constructName is a \n",
    "        # method of the Person class—an method that is initialized and imported when previously called by \n",
    "        # Employee.__init__() method)!\n",
    "        return self.constructName() + \", \" +  self.staffnumber\n",
    "    \n",
    "my_person   = Person(\"Marge\", \"Simpson\", 36)\n",
    "my_employee = Employee(\"Homer\", \"Simpson\", 28, \"1007\")\n",
    "\n",
    "my_employee.getEmployee()"
   ]
  },
  {
   "cell_type": "markdown",
   "metadata": {},
   "source": [
    "***Call object as string to execute its \\_\\_str\\_\\_() method:***"
   ]
  },
  {
   "cell_type": "markdown",
   "metadata": {},
   "source": [
    "When the object is called as a string, its \\_\\_str\\_\\_() method is executed."
   ]
  },
  {
   "cell_type": "code",
   "execution_count": 251,
   "metadata": {},
   "outputs": [
    {
     "name": "stdout",
     "output_type": "stream",
     "text": [
      "Marge Simpson, 36\n",
      "Homer Simpson, 28, 1007\n"
     ]
    }
   ],
   "source": [
    "print(my_person)\n",
    "print(my_employee)"
   ]
  },
  {
   "cell_type": "markdown",
   "metadata": {},
   "source": [
    "***Call object as object:***"
   ]
  },
  {
   "cell_type": "markdown",
   "metadata": {},
   "source": [
    "When the object is NOT called a string, however, its \\_\\_str\\_\\_() method is not initialized. Instead, the object itself returns:"
   ]
  },
  {
   "cell_type": "code",
   "execution_count": 252,
   "metadata": {},
   "outputs": [
    {
     "data": {
      "text/plain": [
       "<__main__.Person at 0x20df91ac2b0>"
      ]
     },
     "execution_count": 252,
     "metadata": {},
     "output_type": "execute_result"
    }
   ],
   "source": [
    "my_person"
   ]
  },
  {
   "cell_type": "code",
   "execution_count": 253,
   "metadata": {},
   "outputs": [
    {
     "data": {
      "text/plain": [
       "<__main__.Employee at 0x20df91ac2e8>"
      ]
     },
     "execution_count": 253,
     "metadata": {},
     "output_type": "execute_result"
    }
   ],
   "source": [
    "my_employee"
   ]
  },
  {
   "cell_type": "markdown",
   "metadata": {},
   "source": [
    "***Manually call \\_\\_str\\_\\_() method of object:***"
   ]
  },
  {
   "cell_type": "markdown",
   "metadata": {},
   "source": [
    "The string representation of the object can also be requested by manually triggering its \\_\\_str\\_\\_() method."
   ]
  },
  {
   "cell_type": "code",
   "execution_count": 254,
   "metadata": {},
   "outputs": [
    {
     "data": {
      "text/plain": [
       "'Marge Simpson, 36'"
      ]
     },
     "execution_count": 254,
     "metadata": {},
     "output_type": "execute_result"
    }
   ],
   "source": [
    "my_person.__str__()"
   ]
  },
  {
   "cell_type": "code",
   "execution_count": 255,
   "metadata": {},
   "outputs": [
    {
     "data": {
      "text/plain": [
       "'Homer Simpson, 28, 1007'"
      ]
     },
     "execution_count": 255,
     "metadata": {},
     "output_type": "execute_result"
    }
   ],
   "source": [
    "my_employee.__str__()"
   ]
  },
  {
   "cell_type": "markdown",
   "metadata": {},
   "source": [
    "***Manually call atrributes of object:***"
   ]
  },
  {
   "cell_type": "code",
   "execution_count": 256,
   "metadata": {},
   "outputs": [
    {
     "data": {
      "text/plain": [
       "'Marge'"
      ]
     },
     "execution_count": 256,
     "metadata": {},
     "output_type": "execute_result"
    }
   ],
   "source": [
    "my_person.firstname"
   ]
  },
  {
   "cell_type": "code",
   "execution_count": 257,
   "metadata": {},
   "outputs": [
    {
     "data": {
      "text/plain": [
       "'Simpson'"
      ]
     },
     "execution_count": 257,
     "metadata": {},
     "output_type": "execute_result"
    }
   ],
   "source": [
    "my_person.lastname"
   ]
  },
  {
   "cell_type": "markdown",
   "metadata": {},
   "source": [
    "#### Method Overriding with an Example: __str__() method\n"
   ]
  },
  {
   "cell_type": "markdown",
   "metadata": {},
   "source": [
    "***Create a string in shortand and formal ways:***"
   ]
  },
  {
   "cell_type": "markdown",
   "metadata": {},
   "source": [
    "Although a string is generally created and called like this:"
   ]
  },
  {
   "cell_type": "code",
   "execution_count": 258,
   "metadata": {},
   "outputs": [
    {
     "data": {
      "text/plain": [
       "'my text'"
      ]
     },
     "execution_count": 258,
     "metadata": {},
     "output_type": "execute_result"
    }
   ],
   "source": [
    "my_string = 'my text'\n",
    "my_string"
   ]
  },
  {
   "cell_type": "markdown",
   "metadata": {},
   "source": [
    "...it can also be created and called like this:"
   ]
  },
  {
   "cell_type": "code",
   "execution_count": 259,
   "metadata": {},
   "outputs": [
    {
     "data": {
      "text/plain": [
       "'my text'"
      ]
     },
     "execution_count": 259,
     "metadata": {},
     "output_type": "execute_result"
    }
   ],
   "source": [
    "my_string = str('my text')\n",
    "my_string.__str__()"
   ]
  },
  {
   "cell_type": "markdown",
   "metadata": {},
   "source": [
    "Therefore, what 'my_string' command does, is essentially to call my_string.__str__(), (i.e., the .__str__() method of 'mys_tring', which is a 'str' class object.). my_string.__str__() means: \"return the string representation of this str object\". when 'my_string' is called directly, it also does the same thing, but this is not the case in other object types; instead of returning the value of and attribute inside them (e.g., a string), they return an object such as <preprocessor.csv_tools.CSV_File object at 0x0000019A11BE8C18>.\n",
    "\n",
    "This can be changed, however, by using a __str__() method inside a class, and thereby specifying what the string representation of an instance would be. (This is overriding the __str__() method of the str class.)\n",
    "\n",
    "NOTE: **In order to override another class' attribute, a class does not need to be a subclass of it.**\n"
   ]
  },
  {
   "cell_type": "markdown",
   "metadata": {},
   "source": [
    "***Override a method of a base class:***"
   ]
  },
  {
   "cell_type": "markdown",
   "metadata": {},
   "source": [
    "Override the \\_\\_string\\_\\_()  method of the base Python class 'str', when an instance of Person object is called as a string (e.g., with str() or print(), this Person.\\_\\_str\\_\\_() will be executed, instead of str.\\_\\_str\\_\\_() from Python's base package):\n"
   ]
  },
  {
   "cell_type": "code",
   "execution_count": 260,
   "metadata": {
    "collapsed": true
   },
   "outputs": [],
   "source": [
    "class Person:\n",
    "    def __init__(self, first_name, last_name):\n",
    "        self.first_name = first_name\n",
    "        self.last_name = last_name\n",
    "    def __str__(self):\n",
    "        return self.first_name + ' ' + self.last_name"
   ]
  },
  {
   "cell_type": "markdown",
   "metadata": {},
   "source": [
    "When called directly, object does not return a string:"
   ]
  },
  {
   "cell_type": "code",
   "execution_count": 261,
   "metadata": {},
   "outputs": [
    {
     "data": {
      "text/plain": [
       "<__main__.Person at 0x20df918f748>"
      ]
     },
     "execution_count": 261,
     "metadata": {},
     "output_type": "execute_result"
    }
   ],
   "source": [
    "person_1 = Person('John', 'Doe')\n",
    "person_1"
   ]
  },
  {
   "cell_type": "markdown",
   "metadata": {},
   "source": [
    "But when called ***as a string*** —that is, by a method that attempts to treat it like a string— the object does return a string (this is because those 'string-expecting' calls are directed to \n",
    "person\\_1._\\_str\\_\\_() method, instead of person\\_1 object directly):"
   ]
  },
  {
   "cell_type": "code",
   "execution_count": 262,
   "metadata": {},
   "outputs": [
    {
     "data": {
      "text/plain": [
       "'John Doe'"
      ]
     },
     "execution_count": 262,
     "metadata": {},
     "output_type": "execute_result"
    }
   ],
   "source": [
    "str(person_1)"
   ]
  },
  {
   "cell_type": "code",
   "execution_count": 263,
   "metadata": {},
   "outputs": [
    {
     "name": "stdout",
     "output_type": "stream",
     "text": [
      "John Doe\n"
     ]
    }
   ],
   "source": [
    "print(person_1)"
   ]
  },
  {
   "cell_type": "markdown",
   "metadata": {},
   "source": [
    "***Make class a subclass of a base class***"
   ]
  },
  {
   "cell_type": "markdown",
   "metadata": {},
   "source": [
    "Another way to return a string when a class instance is called, could be by making the class a subclass of str class:\n"
   ]
  },
  {
   "cell_type": "code",
   "execution_count": 264,
   "metadata": {},
   "outputs": [
    {
     "data": {
      "text/plain": [
       "'John'"
      ]
     },
     "execution_count": 264,
     "metadata": {},
     "output_type": "execute_result"
    }
   ],
   "source": [
    "class Person(str):\n",
    "    def __init__(self, first_name):\n",
    "        self.first_name = first_name\n",
    "        str().__init__(self)\n",
    "person_1 = Person('John')\n",
    "person_1"
   ]
  },
  {
   "cell_type": "markdown",
   "metadata": {},
   "source": [
    "However, this would limit the initialization of the class, as it would now has to take exactly same number of parameters with the base str class:"
   ]
  },
  {
   "cell_type": "code",
   "execution_count": 265,
   "metadata": {},
   "outputs": [
    {
     "name": "stdout",
     "output_type": "stream",
     "text": [
      "Error as expected: decoding str is not supported\n"
     ]
    }
   ],
   "source": [
    "class Person(str):\n",
    "    def __init__(self, first_name, last_name):\n",
    "        self.first_name = first_name\n",
    "        self.last_name = last_name\n",
    "        str().__init__(self)\n",
    "\n",
    "try:        \n",
    "    person_1 = Person('John', 'Doe')\n",
    "except Exception as exception_message:\n",
    "    print('Error as expected: ' + str(exception_message))"
   ]
  },
  {
   "cell_type": "markdown",
   "metadata": {},
   "source": [
    "### Overloading"
   ]
  },
  {
   "cell_type": "markdown",
   "metadata": {},
   "source": [
    "Overloading is the ability to define the same method, with the same name but with a different number of arguments and types. It's the ability of one function to perform different tasks, depending on the number of parameters or the types of the parameters. \n",
    "\n",
    "JCL: e.g., if a method does different things for string and list inputs, this is likely called overloading."
   ]
  },
  {
   "cell_type": "markdown",
   "metadata": {},
   "source": [
    "## Chaining Methods (Fluent Interfaces/Patterns) "
   ]
  },
  {
   "cell_type": "markdown",
   "metadata": {},
   "source": [
    "This is a one way to construct and call methods: "
   ]
  },
  {
   "cell_type": "code",
   "execution_count": 578,
   "metadata": {},
   "outputs": [
    {
     "data": {
      "text/plain": [
       "'    Road Not Travelled - Robert Frost'"
      ]
     },
     "execution_count": 578,
     "metadata": {},
     "output_type": "execute_result"
    }
   ],
   "source": [
    "class Poem(object):\n",
    "    def __init__(self, content):\n",
    "        self.content = content\n",
    "\n",
    "    def indent(self, spaces):\n",
    "        self.content = \" \" * spaces + self.content\n",
    "        \n",
    "    def suffix(self, content):\n",
    "        self.content = self.content + \" - \" + content\n",
    "        \n",
    "my_poem = Poem(\"Road Not Travelled\")\n",
    "my_poem.indent(4)\n",
    "my_poem.suffix(\"Robert Frost\")\n",
    "my_poem.content"
   ]
  },
  {
   "cell_type": "markdown",
   "metadata": {},
   "source": [
    "The above method does not allow chaining because its methods return nothing (Python's default behavior):"
   ]
  },
  {
   "cell_type": "code",
   "execution_count": 579,
   "metadata": {},
   "outputs": [
    {
     "name": "stdout",
     "output_type": "stream",
     "text": [
      "'NoneType' object has no attribute 'suffix'\n"
     ]
    }
   ],
   "source": [
    "try:\n",
    "    Poem(\"Road Not Travelled\").indent(4).suffix(\"Robert Frost\").content\n",
    "except AttributeError as error_message:\n",
    "    print(error_message)"
   ]
  },
  {
   "cell_type": "markdown",
   "metadata": {},
   "source": [
    "Returning `self` from methods is one way to implement chain methods (fluent interface)."
   ]
  },
  {
   "cell_type": "code",
   "execution_count": 580,
   "metadata": {},
   "outputs": [
    {
     "data": {
      "text/plain": [
       "'    Road Not Travelled - Robert Frost'"
      ]
     },
     "execution_count": 580,
     "metadata": {},
     "output_type": "execute_result"
    }
   ],
   "source": [
    "class Poem(object):\n",
    "    def __init__(self, content):\n",
    "        self.content = content\n",
    "\n",
    "    def indent(self, spaces):\n",
    "        self.content = \" \" * spaces + self.content\n",
    "        return self\n",
    "\n",
    "    def suffix(self, content):\n",
    "        self.content = self.content + \" - \" + content\n",
    "        return self\n",
    "\n",
    "Poem(\"Road Not Travelled\").indent(4).suffix(\"Robert Frost\").content"
   ]
  },
  {
   "cell_type": "markdown",
   "metadata": {},
   "source": [
    "### Sources for Classes and Inheritance: \n",
    "- https://www.python-course.eu/python3_inheritance.php\n"
   ]
  },
  {
   "cell_type": "markdown",
   "metadata": {},
   "source": [
    "### Examples for Working with Classes and Inheritance:\n",
    "- preprocessor.string_tools.File_Path\n"
   ]
  },
  {
   "cell_type": "markdown",
   "metadata": {},
   "source": [
    "# MODULES AND PACKAGES"
   ]
  },
  {
   "cell_type": "markdown",
   "metadata": {},
   "source": [
    "Hierarchy of nested strutures in Python:\n",
    "\n",
    "1. **Package**: Python folder (with an \"__ init _ _\".py file in it) <br>\n",
    "2. **Module**: Python file (can contain functions or classes)<br>\n",
    "3. **Class**:  A dynamic way to group functions and variables <br>\n",
    "4. **Function**: A way to group commands <br>\n",
    "5. **Command and Variable**"
   ]
  },
  {
   "cell_type": "markdown",
   "metadata": {},
   "source": [
    "Gist of section:\n",
    "   \n",
    "\n",
    "- Dot notation is used both in import function and variable assignments, but import function can only *directly* import packages and modules using dot notation (e.g., with *import my_package* or *import my_package.my_module*) , and NOT variables, functions, or classes. The latter elements can be either imported with 'from' operator (albeit after dot notation in import function; e.g., *from my_package.my_module import my_function*), or assigned to variables using dot notation AFTER (so, not during import) the modules they belong to are imported (e.g., *my_module.my_function*).   \n",
    "\n",
    "\n",
    "- Use paths relative to an entity that is one level higher than the packages in directory structure, and do this no matter on which directory level an 'import' function is used in a package (i.e., everything is relative to top level).\n",
    "\n",
    "\n",
    "- Send to iPython console of IDE's (e.g., Alt + Shift + E in PyCharm) may not work well with commands like import if due to difference in directory level a command is called from in a file, and the working directory   \n",
    "\n",
    "\n",
    "- In --init--.py files, explicitly import modules (also sub-packages if they are not going to be imported separately later)"
   ]
  },
  {
   "cell_type": "markdown",
   "metadata": {},
   "source": [
    "## Working with Directories and Import Function"
   ]
  },
  {
   "cell_type": "markdown",
   "metadata": {},
   "source": [
    "The current working directory looks like this and it will be used throughout this section:"
   ]
  },
  {
   "attachments": {
    "image.png": {
     "image/png": "[encoded data removed]"
    }
   },
   "cell_type": "markdown",
   "metadata": {},
   "source": [
    "![image.png](attachment:image.png)"
   ]
  },
  {
   "cell_type": "markdown",
   "metadata": {},
   "source": [
    "- Addressing to nested structures (i.e., folders/packages, files/modules) during Python imports should be made in the following fashion:<br> \n",
    "\n",
    "\n",
    "    folder/subfolder/file.py or rather package/sub_package/module.py becomes:<br>\n",
    "    folder.subfolder.file    or rather package.sub_package/module"
   ]
  },
  {
   "cell_type": "markdown",
   "metadata": {},
   "source": [
    "- Python searches for packages and modules ***only*** in three places:\n",
    "    1. Own directory of the .py script file that called the module or package\n",
    "    2. The 'PYTHONPATH'\n",
    "    3. The installation-dependent default directory (e.g., Anaconda's python directory, or PyCharm's current project directory)\n",
    "\n",
    "\n",
    "- These three directories are added by default to **sys.path** variable.\n",
    "\n",
    "\n",
    "- The current ***'working directory' is not the same with 'import directory'***. Working directory can be changed with setwd command, but import directory cannot."
   ]
  },
  {
   "cell_type": "markdown",
   "metadata": {},
   "source": [
    "#### Import a path to sys.path variable"
   ]
  },
  {
   "cell_type": "markdown",
   "metadata": {},
   "source": [
    "The way to import a file that is not on sys.path varialble is to insert the location of the file to sys.path variable as following:"
   ]
  },
  {
   "cell_type": "markdown",
   "metadata": {
    "collapsed": true
   },
   "source": [
    "inside my_file.py:<br>\n",
    "import sys<br>\n",
    "sys.path.insert(0, '/path/to/file/B') # inserting at position 0 guarantees that the name of the file/module will take<br> priority in case there is another file/module in the path with the same name<br>\n",
    "<br>\n",
    "outside my_file.py:<br>\n",
    "import my_file<br>"
   ]
  },
  {
   "cell_type": "markdown",
   "metadata": {},
   "source": [
    "### The Relative Paths Issue\n",
    "While a package (or one of its modules) is being imported by the current file, the --init--.py file of the package (and its subdirectories) are inserted to the current file. I.e., the contents of the --init--.py files are NOT ran from the directory where they exist, but they are ran from the directory of the file that called them. This is why:\n",
    "\n",
    "1 - Path names in --init--.py's import functions must be relative to file which used the import command.<br>\n",
    "2 - \"Send to terminal\" functions in IDEs may not work (as terminal's working directory and file's directory may be different.)\n",
    "\n",
    "These items are explained further below:"
   ]
  },
  {
   "cell_type": "markdown",
   "metadata": {},
   "source": [
    "#### **1. All paths used in import functions must be relative to the file from which the first import command is originating from**<br>\n",
    "When addressing nested structures (which is always the case one way or the other with packages and modules), the perspective of the file that is addressing the package (i.e., origin_of_import_command file) should be taken. Because this file would be outside the package, the relative path names in the package must always start from the beginning of the package (i.e., be relative to the directory that is one level higher than the package). For instance, in this directory structure:\n",
    "\n",
    "-origin_of_import_command.py<br>\n",
    "--package<br>\n",
    "----subpackage<br>\n",
    "-------init.py <br>\n",
    "-------module_2<br>\n",
    "----init.py <br>\n",
    "----module_1<br>\n",
    "\n",
    "module 1 and 2 should be addressed this way:<br>\n",
    "- import package.module_1<br>\n",
    "- import package.subpackage.module_2<br>\n",
    "\n",
    "and not this way:<br>\n",
    "- import module_1<br>\n",
    "- import module_2<br>\n",
    "\n",
    "(Tha latter way could work in some places and not in others (e.g., it works in PyCharm but does not in Jupyter), therefore it should not be used.)\n",
    "\n",
    "This is especially true for import functions used in --init--.py files of packages (e.g., the latter way in the above example may want to be used by the --init--.py files of both packages, as they are relative to the package [and not to the origin_of_import_command.py])."
   ]
  },
  {
   "cell_type": "markdown",
   "metadata": {},
   "source": [
    "#### 2. Send to 'iPython Terminal' may not Work well for Commands that has Relative Paths\n",
    "When a code segment is transferred to iPhthon terminal and ran (Shift + Alt + E), this command takes the project root directory that PyCharm set as the place to look for modules, and not the (sub-)directory of the file that the command that is now in the terminal came from. This is not the case when the file is run directly —if a file is ran (Shift + F10) in this case the place to look for modules is the (sub-)folder of the file where the command came from."
   ]
  },
  {
   "cell_type": "markdown",
   "metadata": {},
   "source": [
    "### --init--.py files"
   ]
  },
  {
   "cell_type": "markdown",
   "metadata": {},
   "source": [
    "- If a folder contains an --init--.py file, this folder will be seen by Python as a package. \n",
    "- --init--.py files are generally left empty. However, PyCharm does not seem to accept this (while Jupyter seems to be OK with it). Therefore, for compatability purposes, it is likely to be a good idea to explicitly import modules and subpackages in --init--.py\n",
    "    \n"
   ]
  },
  {
   "cell_type": "markdown",
   "metadata": {},
   "source": [
    "#### Manually importing modules and subpackages of a package with --init--.py\n",
    "- Seems to be a requirement in PyCharm\n",
    "- Import functions in --init--.py files should use relative paths that are compatible with usage from one directory level upper than the package folder (see \"The Relative Paths Issue\" section for an explanation why).\n",
    "- In the example directory, the two --init--.py files contain these:"
   ]
  },
  {
   "cell_type": "markdown",
   "metadata": {},
   "source": [
    "test_package's --init--.py:"
   ]
  },
  {
   "cell_type": "code",
   "execution_count": 276,
   "metadata": {
    "collapsed": true
   },
   "outputs": [],
   "source": [
    "import test_package.print_hello_function_container\n",
    "import test_package.print_hello_class_container\n",
    "import test_package.print_hello_direct # note that  the paths should include root (i.e., package name)\n",
    "                                       # a path without the root package name does not always work (e.g., it works inPyCharm, but not in Jupyter)\n",
    "\n",
    "# If the subpackage will not be imported later with a separate import command, it can also be included in initial import \n",
    "# import package_within_package "
   ]
  },
  {
   "cell_type": "markdown",
   "metadata": {},
   "source": [
    "package_within_package's --init--.py:"
   ]
  },
  {
   "cell_type": "code",
   "execution_count": 277,
   "metadata": {
    "collapsed": true
   },
   "outputs": [],
   "source": [
    "import test_package.package_within_package.print_bye_function_container\n",
    "import test_package.package_within_package.print_bye_class_container\n",
    "import test_package.package_within_package.print_bye_direct"
   ]
  },
  {
   "cell_type": "markdown",
   "metadata": {},
   "source": [
    "#### Other Elements that can be Added to an --init--.py file"
   ]
  },
  {
   "cell_type": "markdown",
   "metadata": {},
   "source": [
    "- **all = []**: --init--.py files can also contain a statement such as \"--all-- = [print_hello_direct, print_hello_function_container]\", which would modify the --all-- variable (which is set to include all files/modules in the package folder by default) to only specific files, and thereby exclude loading of other files/modules. This could be useful if the excluded modules are used as internal  modules.\n",
    "\n",
    "\n",
    "- Alternatively, an --init--.py file can contain **commands to be ran on initialization** of the package.\n"
   ]
  },
  {
   "cell_type": "markdown",
   "metadata": {},
   "source": [
    "### Import Function ###\n",
    "**import** (no parantheses required)\n"
   ]
  },
  {
   "cell_type": "markdown",
   "metadata": {},
   "source": [
    "Only packages and modules can be imported and not variables, functions or classes. The latter elements can, however, be assigned to variables after import (see examples below). "
   ]
  },
  {
   "cell_type": "markdown",
   "metadata": {},
   "source": [
    "***Import a package***"
   ]
  },
  {
   "cell_type": "code",
   "execution_count": 278,
   "metadata": {
    "collapsed": true
   },
   "outputs": [],
   "source": [
    "import test_package"
   ]
  },
  {
   "cell_type": "markdown",
   "metadata": {},
   "source": [
    "***Import a package within a package***"
   ]
  },
  {
   "cell_type": "code",
   "execution_count": 279,
   "metadata": {
    "collapsed": true
   },
   "outputs": [],
   "source": [
    "import test_package.package_within_package"
   ]
  },
  {
   "cell_type": "code",
   "execution_count": 280,
   "metadata": {
    "collapsed": true
   },
   "outputs": [],
   "source": [
    "from test_package import package_within_package"
   ]
  },
  {
   "cell_type": "markdown",
   "metadata": {},
   "source": [
    "***Import a module of a package***"
   ]
  },
  {
   "cell_type": "code",
   "execution_count": 281,
   "metadata": {
    "collapsed": true
   },
   "outputs": [],
   "source": [
    "import test_package.print_hello_function_container"
   ]
  },
  {
   "cell_type": "code",
   "execution_count": 282,
   "metadata": {
    "collapsed": true
   },
   "outputs": [],
   "source": [
    "from test_package import print_hello_function_container"
   ]
  },
  {
   "cell_type": "markdown",
   "metadata": {},
   "source": [
    "***Import a function of a module***"
   ]
  },
  {
   "cell_type": "markdown",
   "metadata": {},
   "source": [
    "A function cannot be directly imported with dot notation:"
   ]
  },
  {
   "cell_type": "code",
   "execution_count": 283,
   "metadata": {},
   "outputs": [
    {
     "name": "stdout",
     "output_type": "stream",
     "text": [
      "A function cannot be imported directly with dot notation\n"
     ]
    }
   ],
   "source": [
    "try:\n",
    "    import test_package.print_hello_function_container.print_hello_function\n",
    "except:\n",
    "    print(\"A function cannot be imported directly with dot notation\")"
   ]
  },
  {
   "cell_type": "markdown",
   "metadata": {},
   "source": [
    "The correct way to import a function is to first import the module that the function belongs to, and then call the function from this now-imported module (***Style 1***):"
   ]
  },
  {
   "cell_type": "code",
   "execution_count": 284,
   "metadata": {},
   "outputs": [
    {
     "name": "stdout",
     "output_type": "stream",
     "text": [
      "hello\n",
      "hello\n"
     ]
    }
   ],
   "source": [
    "# Call function after import without variable assignment\n",
    "import test_package.print_hello_function_container #import module\n",
    "test_package.print_hello_function_container.print_hello_function() # call function from the imported copy of library\n",
    "# Note that line 2 is not adressing any files outside the namespace; it addresses a varible in the now-imported module, \n",
    "# ... which is in the current namespace.  \n",
    "\n",
    "\n",
    "# OR, assign the function to a variable first, and then call it\n",
    "\n",
    "import test_package.print_hello_function_container\n",
    "print_hello = test_package.print_hello_function_container.print_hello_function\n",
    "print_hello()"
   ]
  },
  {
   "cell_type": "markdown",
   "metadata": {},
   "source": [
    "An easier way to accomplish the same thing with ***Style 2*** can be:"
   ]
  },
  {
   "cell_type": "code",
   "execution_count": 285,
   "metadata": {},
   "outputs": [
    {
     "name": "stdout",
     "output_type": "stream",
     "text": [
      "hello\n",
      "hello\n"
     ]
    }
   ],
   "source": [
    "from test_package.print_hello_function_container import print_hello_function as print_hello\n",
    "print_hello()\n",
    "\n",
    "\n",
    "# TO IMPORT A FUNCTION WITH ITS ORIGINAL NAME:\n",
    "from test_package.print_hello_function_container import print_hello_function\n",
    "print_hello_function()\n",
    "\n",
    "\n",
    "\n",
    "# print_hello = from test_package.print_hello_function_container import print_hello_function\n",
    "# print_hello = import test_package.print_hello_function_container\n",
    "# The commented lines above give an \"Invalid syntax\" errors. \n",
    "# ... This is because impor statements (in any of their forms with operators including 'from') cannot be assigned to variables in a single command, and the \n",
    "# The correct way to assign on one line is to use 'as' operator\n"
   ]
  },
  {
   "cell_type": "markdown",
   "metadata": {},
   "source": [
    "***Import a class, instantiate it, call a property and method*** "
   ]
  },
  {
   "cell_type": "markdown",
   "metadata": {},
   "source": [
    "Style 1:"
   ]
  },
  {
   "cell_type": "code",
   "execution_count": 286,
   "metadata": {},
   "outputs": [
    {
     "name": "stdout",
     "output_type": "stream",
     "text": [
      "Name\n",
      "hello\n"
     ]
    }
   ],
   "source": [
    "import test_package.print_hello_class_container                          # Import module that the class is in\n",
    "classified = test_package.print_hello_class_container.Print_hello_class  # Extract the class from the module and assign it to a variable\n",
    "print_hello_instance = classified()                                      # Instantiate the class\n",
    "print(print_hello_instance.name)                                         # Print a property of the instance\n",
    "print_hello_instance.print_hello_method_within_class()                   # Call a method of the instance"
   ]
  },
  {
   "cell_type": "markdown",
   "metadata": {},
   "source": [
    "Style 2:"
   ]
  },
  {
   "cell_type": "code",
   "execution_count": 287,
   "metadata": {},
   "outputs": [
    {
     "name": "stdout",
     "output_type": "stream",
     "text": [
      "Name\n",
      "hello\n"
     ]
    }
   ],
   "source": [
    "from test_package.print_hello_class_container import Print_hello_class # Import the class\n",
    "print_hello_instance = Print_hello_class()                             # Instantiate the class\n",
    "print(print_hello_instance.name)                                       # Print a property of the instance\n",
    "print_hello_instance.print_hello_method_within_class()                 # Call a method of the instance "
   ]
  },
  {
   "cell_type": "markdown",
   "metadata": {},
   "source": [
    "***Import a command***"
   ]
  },
  {
   "cell_type": "code",
   "execution_count": 288,
   "metadata": {
    "collapsed": true
   },
   "outputs": [],
   "source": [
    "import test_package.print_hello_direct"
   ]
  },
  {
   "cell_type": "markdown",
   "metadata": {},
   "source": [
    "- The content of print_hello_direct.py is: <br>\n",
    "    print(\"hello\")\n",
    "  \n",
    "  \n",
    "- In PyCharm, importing this file automatically prints \"hello\" to a console. This does not happen in Jupyter. \n",
    "\n",
    "- It is likely that if a command in an imported file is not wrapped in a function or class statement, it will be ran directly. This may, however, depend on security settings of the current environemnt."
   ]
  },
  {
   "cell_type": "markdown",
   "metadata": {},
   "source": [
    "***Import a subpackage*** (i.e., a package within package)"
   ]
  },
  {
   "cell_type": "code",
   "execution_count": 479,
   "metadata": {
    "collapsed": true
   },
   "outputs": [],
   "source": [
    "import test_package.package_within_package"
   ]
  },
  {
   "cell_type": "markdown",
   "metadata": {},
   "source": [
    "***Import all modules, functions, or classes***"
   ]
  },
  {
   "cell_type": "markdown",
   "metadata": {},
   "source": [
    "Below method can be used for this purpose, but it is considered messy because does not make explicit what is being imported, and thus, it is frowned upon."
   ]
  },
  {
   "cell_type": "code",
   "execution_count": 480,
   "metadata": {
    "collapsed": true
   },
   "outputs": [],
   "source": [
    "from test_package import *"
   ]
  },
  {
   "cell_type": "code",
   "execution_count": 481,
   "metadata": {
    "collapsed": true
   },
   "outputs": [],
   "source": [
    "from test_package.print_hello_function_container import * "
   ]
  },
  {
   "cell_type": "markdown",
   "metadata": {},
   "source": [
    "### Additional Notes on Directories and PyCharm"
   ]
  },
  {
   "cell_type": "markdown",
   "metadata": {},
   "source": [
    "- PyCharm adds a project's root directory to sys.path variable (and it does this per PyCharm session, not per open project)\n",
    "\n",
    "    - When **more than one project** is open in PyCharm, this adds to sys.path only one of the projects, and this may lead to issues. Try to close all other projects and restart PyCharm in case of import()-related problems. \n"
   ]
  },
  {
   "cell_type": "markdown",
   "metadata": {},
   "source": [
    "## Type-1 Import: Module"
   ]
  },
  {
   "cell_type": "code",
   "execution_count": 482,
   "metadata": {},
   "outputs": [
    {
     "name": "stdout",
     "output_type": "stream",
     "text": [
      "hello\n"
     ]
    }
   ],
   "source": [
    "import test_package\n",
    "\n",
    "test_package.print_hello_function_container.print_hello_function()"
   ]
  },
  {
   "cell_type": "code",
   "execution_count": 483,
   "metadata": {
    "scrolled": true
   },
   "outputs": [
    {
     "data": {
      "text/plain": [
       "<test_package.print_hello_class_container.Print_hello_class at 0x20df9b28cf8>"
      ]
     },
     "execution_count": 483,
     "metadata": {},
     "output_type": "execute_result"
    }
   ],
   "source": [
    "import test_package.print_hello_class_container\n",
    "\n",
    "# Create an intance of the class\n",
    "my_instance = test_package.print_hello_class_container.Print_hello_class()\n",
    "my_instance"
   ]
  },
  {
   "cell_type": "code",
   "execution_count": 484,
   "metadata": {},
   "outputs": [
    {
     "name": "stdout",
     "output_type": "stream",
     "text": [
      "hello\n"
     ]
    }
   ],
   "source": [
    "import test_package.print_hello_function_container\n",
    "\n",
    "test_package.print_hello_function_container.print_hello_function()"
   ]
  },
  {
   "cell_type": "code",
   "execution_count": 485,
   "metadata": {},
   "outputs": [
    {
     "name": "stdout",
     "output_type": "stream",
     "text": [
      "Functions cannot be imported directly\n"
     ]
    }
   ],
   "source": [
    "try:\n",
    "    import test_package.print_hello_function_container.print_hello_function\n",
    "except: \n",
    "    print(\"Functions cannot be imported directly\")"
   ]
  },
  {
   "cell_type": "code",
   "execution_count": 486,
   "metadata": {
    "collapsed": true
   },
   "outputs": [],
   "source": [
    "import test_package.print_hello_direct"
   ]
  },
  {
   "cell_type": "markdown",
   "metadata": {},
   "source": [
    "## Type-2 Import: Function or Class"
   ]
  },
  {
   "cell_type": "markdown",
   "metadata": {},
   "source": [
    "Modules can contain functions or classes. In either case, individual functions or classses within the module should be called when using type 2 imports"
   ]
  },
  {
   "cell_type": "markdown",
   "metadata": {},
   "source": [
    "Import function with its own name:"
   ]
  },
  {
   "cell_type": "code",
   "execution_count": 487,
   "metadata": {},
   "outputs": [
    {
     "name": "stdout",
     "output_type": "stream",
     "text": [
      "hello\n"
     ]
    }
   ],
   "source": [
    "from test_package.print_hello_function_container import print_hello_function\n",
    "\n",
    "print_hello_function()"
   ]
  },
  {
   "cell_type": "markdown",
   "metadata": {},
   "source": [
    "Import module with alias:"
   ]
  },
  {
   "cell_type": "markdown",
   "metadata": {},
   "source": [
    "from test_package.print_hello_function_container import print_hello_function as print_hello\n",
    "\n",
    "print_hello()"
   ]
  },
  {
   "cell_type": "markdown",
   "metadata": {},
   "source": [
    "# FOR LOOPS"
   ]
  },
  {
   "cell_type": "markdown",
   "metadata": {},
   "source": [
    "## Simple For Loop"
   ]
  },
  {
   "cell_type": "code",
   "execution_count": 298,
   "metadata": {},
   "outputs": [
    {
     "name": "stdout",
     "output_type": "stream",
     "text": [
      "a\n",
      "b\n",
      "1\n",
      "2\n"
     ]
    }
   ],
   "source": [
    "my_list = [\"a\", \"b\", \"1\", \"2\"]\n",
    "\n",
    "for my_element in my_list:\n",
    "    print(my_element)"
   ]
  },
  {
   "cell_type": "markdown",
   "metadata": {},
   "source": [
    "***Usage scenario - Modify a column and update dataset:***"
   ]
  },
  {
   "cell_type": "code",
   "execution_count": 299,
   "metadata": {},
   "outputs": [
    {
     "name": "stdout",
     "output_type": "stream",
     "text": [
      "[['A', 1], ['B', 2]]\n"
     ]
    }
   ],
   "source": [
    "data = [\n",
    "    [\"a\", 1],\n",
    "    [\"b\", 2]\n",
    "]\n",
    "\n",
    "for row in data:\n",
    "    row[0] = row[0].upper()\n",
    "print(data)"
   ]
  },
  {
   "cell_type": "markdown",
   "metadata": {},
   "source": [
    "***Usage scenario - Extract column:***"
   ]
  },
  {
   "cell_type": "code",
   "execution_count": 300,
   "metadata": {},
   "outputs": [
    {
     "name": "stdout",
     "output_type": "stream",
     "text": [
      "['a', 'b']\n"
     ]
    }
   ],
   "source": [
    "data = [\n",
    "    [\"a\", 1],\n",
    "    [\"b\", 2]\n",
    "]\n",
    "\n",
    "extracted_column = []\n",
    "for row in data:\n",
    "    extracted_column.append(row[0])\n",
    "print(extracted_column)"
   ]
  },
  {
   "cell_type": "markdown",
   "metadata": {},
   "source": [
    "## Iterating Over Multiple Lists Simulaneously"
   ]
  },
  {
   "cell_type": "markdown",
   "metadata": {},
   "source": [
    "### enumerate()"
   ]
  },
  {
   "cell_type": "markdown",
   "metadata": {},
   "source": [
    "**Usage:**<br>\n",
    "enumerate(LIST_OR_DICTIONARY)"
   ]
  },
  {
   "cell_type": "markdown",
   "metadata": {},
   "source": [
    "- 'enumerate' cretes a list of integers, whose items are simply the index positions of the inputed list.\n",
    "\n",
    "- When put in a for loop, the inputted list and the the enumerated list are iterated simulataneously.\n",
    "\n",
    "- This is likely the same thing as iterating over a range."
   ]
  },
  {
   "cell_type": "markdown",
   "metadata": {},
   "source": [
    "***Iterate over one list:***"
   ]
  },
  {
   "cell_type": "code",
   "execution_count": 301,
   "metadata": {
    "scrolled": true
   },
   "outputs": [
    {
     "name": "stdout",
     "output_type": "stream",
     "text": [
      "0 Dog\n",
      "1 Tiger\n",
      "2 SuperLion\n",
      "3 Cow\n",
      "4 Panda\n"
     ]
    }
   ],
   "source": [
    "animals = [\"Dog\", \"Tiger\", \"SuperLion\", \"Cow\", \"Panda\"]\n",
    "\n",
    "for i, animal in enumerate(animals):\n",
    "    print(i, animal)"
   ]
  },
  {
   "cell_type": "markdown",
   "metadata": {},
   "source": [
    "***Iterate over two lists***:"
   ]
  },
  {
   "cell_type": "code",
   "execution_count": 302,
   "metadata": {},
   "outputs": [
    {
     "name": "stdout",
     "output_type": "stream",
     "text": [
      "Dog\n",
      "1\n",
      "Tiger\n",
      "5\n",
      "SuperLion\n",
      "10\n",
      "Cow\n",
      "10\n",
      "Panda\n",
      "1\n"
     ]
    }
   ],
   "source": [
    "animals = [\"Dog\", \"Tiger\", \"SuperLion\", \"Cow\", \"Panda\"]\n",
    "viciousness = [1, 5, 10, 10, 1]\n",
    "\n",
    "for i, animal in enumerate(animals):\n",
    "    print(animal)\n",
    "    print(viciousness[i])"
   ]
  },
  {
   "cell_type": "markdown",
   "metadata": {},
   "source": [
    "***Iterate over a dictionary:***"
   ]
  },
  {
   "cell_type": "code",
   "execution_count": 303,
   "metadata": {
    "scrolled": true
   },
   "outputs": [
    {
     "ename": "NameError",
     "evalue": "name 'animal_conts' is not defined",
     "output_type": "error",
     "traceback": [
      "\u001b[0;31m---------------------------------------------------------------------------\u001b[0m",
      "\u001b[0;31mNameError\u001b[0m                                 Traceback (most recent call last)",
      "\u001b[0;32m<ipython-input-303-3ad59fdad051>\u001b[0m in \u001b[0;36m<module>\u001b[0;34m()\u001b[0m\n\u001b[1;32m      1\u001b[0m \u001b[0manimal_counts\u001b[0m \u001b[1;33m=\u001b[0m \u001b[1;33m{\u001b[0m\u001b[1;34m\"Dog\"\u001b[0m\u001b[1;33m:\u001b[0m \u001b[1;36m4\u001b[0m\u001b[1;33m,\u001b[0m \u001b[1;34m\"Tiger\"\u001b[0m\u001b[1;33m:\u001b[0m \u001b[1;36m1\u001b[0m\u001b[1;33m,\u001b[0m \u001b[1;34m\"SuperLion\"\u001b[0m\u001b[1;33m:\u001b[0m \u001b[1;36m0\u001b[0m\u001b[1;33m,\u001b[0m \u001b[1;34m\"Cow\"\u001b[0m\u001b[1;33m:\u001b[0m \u001b[1;36m2\u001b[0m\u001b[1;33m,\u001b[0m \u001b[1;34m\"Panda\"\u001b[0m\u001b[1;33m:\u001b[0m\u001b[1;36m1\u001b[0m\u001b[1;33m}\u001b[0m\u001b[1;33m\u001b[0m\u001b[0m\n\u001b[1;32m      2\u001b[0m \u001b[1;33m\u001b[0m\u001b[0m\n\u001b[0;32m----> 3\u001b[0;31m \u001b[1;32mfor\u001b[0m \u001b[0mi\u001b[0m\u001b[1;33m,\u001b[0m \u001b[0mkey\u001b[0m \u001b[1;32min\u001b[0m \u001b[0menumerate\u001b[0m\u001b[1;33m(\u001b[0m\u001b[0manimal_conts\u001b[0m\u001b[1;33m)\u001b[0m\u001b[1;33m:\u001b[0m\u001b[1;33m\u001b[0m\u001b[0m\n\u001b[0m\u001b[1;32m      4\u001b[0m     \u001b[0mprint\u001b[0m\u001b[1;33m(\u001b[0m\u001b[0mi\u001b[0m\u001b[1;33m,\u001b[0m \u001b[0mkey\u001b[0m\u001b[1;33m,\u001b[0m \u001b[0manimal_counts\u001b[0m\u001b[1;33m[\u001b[0m\u001b[0mkey\u001b[0m\u001b[1;33m]\u001b[0m\u001b[1;33m)\u001b[0m\u001b[1;33m\u001b[0m\u001b[0m\n",
      "\u001b[0;31mNameError\u001b[0m: name 'animal_conts' is not defined"
     ]
    }
   ],
   "source": [
    "animal_counts = {\"Dog\": 4, \"Tiger\": 1, \"SuperLion\": 0, \"Cow\": 2, \"Panda\":1}\n",
    "\n",
    "for i, key in enumerate(animal_conts):\n",
    "    print(i, key, animal_counts[key])"
   ]
  },
  {
   "cell_type": "markdown",
   "metadata": {},
   "source": [
    "### range()"
   ]
  },
  {
   "cell_type": "code",
   "execution_count": 304,
   "metadata": {},
   "outputs": [
    {
     "name": "stdout",
     "output_type": "stream",
     "text": [
      "0\n",
      "Dog\n",
      "1\n",
      "Tiger\n",
      "2\n",
      "SuperLion\n",
      "3\n",
      "Cow\n",
      "4\n",
      "Panda\n"
     ]
    }
   ],
   "source": [
    "animals = [\"Dog\", \"Tiger\", \"SuperLion\", \"Cow\", \"Panda\"]\n",
    "\n",
    "for i in range(0,5):\n",
    "    print(i)\n",
    "    print(animals[i])"
   ]
  },
  {
   "cell_type": "markdown",
   "metadata": {},
   "source": [
    "#### range() in combination with len():"
   ]
  },
  {
   "cell_type": "code",
   "execution_count": 305,
   "metadata": {},
   "outputs": [
    {
     "name": "stdout",
     "output_type": "stream",
     "text": [
      "0\n",
      "Dog\n",
      "1\n",
      "Tiger\n",
      "2\n",
      "SuperLion\n",
      "3\n",
      "Cow\n",
      "4\n",
      "Panda\n"
     ]
    }
   ],
   "source": [
    "animals = [\"Dog\", \"Tiger\", \"SuperLion\", \"Cow\", \"Panda\"]\n",
    "\n",
    "for i in range(0,len(animals)):\n",
    "    print(i)\n",
    "    print(animals[i])"
   ]
  },
  {
   "cell_type": "markdown",
   "metadata": {},
   "source": [
    "The index ('i') can be used to iterate over multiple lists.\n",
    "The same thing can also be achieved with the range function."
   ]
  },
  {
   "cell_type": "markdown",
   "metadata": {},
   "source": [
    "## zip()"
   ]
  },
  {
   "cell_type": "markdown",
   "metadata": {},
   "source": [
    "***Iterate over multiple lists:***"
   ]
  },
  {
   "cell_type": "code",
   "execution_count": 306,
   "metadata": {},
   "outputs": [
    {
     "name": "stdout",
     "output_type": "stream",
     "text": [
      "1\n",
      "10\n",
      "100\n",
      "2\n",
      "20\n",
      "200\n",
      "3\n",
      "30\n",
      "300\n"
     ]
    }
   ],
   "source": [
    "a = [1,2,3]\n",
    "b = [10,20,30]\n",
    "c = [100,200,300]\n",
    "\n",
    "for m,n,o in zip(a,b,c): \n",
    "    print(m)\n",
    "    print(n)\n",
    "    print(o)"
   ]
  },
  {
   "cell_type": "markdown",
   "metadata": {},
   "source": [
    "***Usage scenario - calculate row totals:***"
   ]
  },
  {
   "cell_type": "code",
   "execution_count": 307,
   "metadata": {},
   "outputs": [
    {
     "name": "stdout",
     "output_type": "stream",
     "text": [
      "[111, 222, 333]\n"
     ]
    }
   ],
   "source": [
    "a = [1,2,3]\n",
    "b = [10,20,30]\n",
    "c = [100,200,300]\n",
    "\n",
    "row_totals = []\n",
    "for m,n,o in zip(a,b,c): \n",
    "    row_totals.append(m + n + o)\n",
    "print(row_totals)"
   ]
  },
  {
   "cell_type": "markdown",
   "metadata": {},
   "source": [
    "## Using Templates to Represent Structures of Input Variables "
   ]
  },
  {
   "cell_type": "markdown",
   "metadata": {},
   "source": [
    "Note the symbolic representation of x and y in statements below. These are simply placeholders corresponding to each element in the structure of the target variable (in this case, a dictionary). In this case, 'x' and 'y' represent the structure of the dictionary."
   ]
  },
  {
   "cell_type": "code",
   "execution_count": 308,
   "metadata": {},
   "outputs": [
    {
     "name": "stdout",
     "output_type": "stream",
     "text": [
      "a\n",
      "b\n"
     ]
    }
   ],
   "source": [
    "dictionary = {\"a\":1, \"b\":2}\n",
    "\n",
    "for x, y in dictionary.items(): #.items method is necessary to enumerate elements of a dictionary \n",
    "    print(x)"
   ]
  },
  {
   "cell_type": "markdown",
   "metadata": {},
   "source": [
    "Find expression at the beginning of target string (^...):"
   ]
  },
  {
   "cell_type": "markdown",
   "metadata": {},
   "source": [
    "\n",
    "Placeholders can be used to represent more complex structures as well."
   ]
  },
  {
   "cell_type": "code",
   "execution_count": 309,
   "metadata": {},
   "outputs": [
    {
     "name": "stdout",
     "output_type": "stream",
     "text": [
      "1\n",
      "2\n"
     ]
    }
   ],
   "source": [
    "my_list = [[\"a\", \"A\", 1], [\"b\", \"B\", 2]]\n",
    "\n",
    "for x, y, z in my_list:\n",
    "    print(z)"
   ]
  },
  {
   "cell_type": "code",
   "execution_count": 310,
   "metadata": {},
   "outputs": [
    {
     "name": "stdout",
     "output_type": "stream",
     "text": [
      "A\n",
      "B\n"
     ]
    }
   ],
   "source": [
    "for arbitrarily, named, placeholders in my_list:\n",
    "    print(named)"
   ]
  },
  {
   "cell_type": "markdown",
   "metadata": {},
   "source": [
    "## List Comprehensions for For Loops and Control Flows"
   ]
  },
  {
   "cell_type": "markdown",
   "metadata": {},
   "source": [
    "For loops can be compacted by writing them in a list."
   ]
  },
  {
   "cell_type": "markdown",
   "metadata": {},
   "source": [
    "List comprehensions follow the following template:\n",
    "\n",
    "***result = [transformation | iteration | filter]***\n",
    "- transformation: code block\n",
    "- iteraton: for loop\n",
    "- filter: if statement"
   ]
  },
  {
   "cell_type": "markdown",
   "metadata": {},
   "source": [
    "Explanatory example:"
   ]
  },
  {
   "cell_type": "code",
   "execution_count": 311,
   "metadata": {},
   "outputs": [
    {
     "name": "stdout",
     "output_type": "stream",
     "text": [
      "animal_lengths (traditional expression)           : [3, 5, 9, 3, 5]\n",
      "animal_lengths (comprehended expression)          : [3, 5, 9, 3, 5]\n",
      "animal_lengths (even more comprehended expression): [3, 5, 9, 3, 5]\n"
     ]
    }
   ],
   "source": [
    "animals = [\"Dog\", \"Tiger\", \"SuperLion\", \"Cow\", \"Panda\"]\n",
    "\n",
    "# Traditional for loop (takes 3 lines)\n",
    "# List lengths of strings in the animals list:\n",
    "animal_lengths = []\n",
    "for item in animals:\n",
    "    animal_lengths.append(len(item))\n",
    "print(\"animal_lengths (traditional expression)           : \" + str(animal_lengths))\n",
    "\n",
    "# POSSIBLE USAGE\n",
    "# The same for loop can be written in a more compact form using list comprehension (takes 1 line):\n",
    "# In this example, the code follows this structure:\n",
    "# [result]\n",
    "# [command | iteration] (this usage is not recommended over the one below)\n",
    "animal_lengths = []\n",
    "[animal_lengths.append(len(item)) for item in animals]\n",
    "print(\"animal_lengths (comprehended expression)          : \" + str(animal_lengths))\n",
    "    \n",
    "# CORRECT USAGE\n",
    "# The way comprehensions work is slightly different than normal code blocks.\n",
    "# If a comprehension is assigned to a variable, it will append all values returned from a for loop in it\n",
    "# So, the code above can be further shortened as following:\n",
    "# result = [transform | iteration]\n",
    "animal_lengths = [ len(item) for item in animals ]\n",
    "print(\"animal_lengths (even more comprehended expression): \" + str(animal_lengths))"
   ]
  },
  {
   "cell_type": "markdown",
   "metadata": {},
   "source": [
    "In comparison to for loops, this is what happens in a comprehended list (notice that two code fragments below are identical in their results; however, an important difference between them is the 'append' method. .append is intrinsic to list comprehensions and is not needed to be explicitly written; results of each iteration in a for loop will be returned as a list from a list comprehension.):"
   ]
  },
  {
   "cell_type": "markdown",
   "metadata": {},
   "source": [
    "![_auto_0](attachment:_auto_0)"
   ]
  },
  {
   "cell_type": "markdown",
   "metadata": {},
   "source": [
    "#### Use case for list comprehensions: Extract columns from data"
   ]
  },
  {
   "cell_type": "code",
   "execution_count": 312,
   "metadata": {},
   "outputs": [
    {
     "name": "stdout",
     "output_type": "stream",
     "text": [
      "scores_column: [103, 99, 86]\n",
      "teams_column: ['blue', 'red', 'green']\n",
      "years_column: [2015, 2015, 2015]\n"
     ]
    }
   ],
   "source": [
    "data = [\n",
    "    [\"score\", \"team\", \"year\"], \n",
    "    [103, \"blue\", 2015], \n",
    "    [99, \"red\", 2015],\n",
    "    [86, \"green\", 2015]\n",
    "]\n",
    "\n",
    "# Extract columns in data\n",
    "scores_column = [row[0] for row in data[1:len(data)]]\n",
    "teams_column = [row[1] for row in data[1:len(data)]]\n",
    "years_column = [row[2] for row in data[1:len(data)]]\n",
    "\n",
    "print(\"scores_column: \" + str(scores_column))\n",
    "print(\"teams_column: \" + str(teams_column))\n",
    "print(\"years_column: \" + str(years_column))"
   ]
  },
  {
   "cell_type": "markdown",
   "metadata": {},
   "source": [
    "## Itertools"
   ]
  },
  {
   "cell_type": "markdown",
   "metadata": {},
   "source": [
    "Also see: Itertools module\n",
    "https://docs.python.org/2/library/itertools.html"
   ]
  },
  {
   "cell_type": "markdown",
   "metadata": {},
   "source": [
    "# CONTROL FLOW"
   ]
  },
  {
   "cell_type": "markdown",
   "metadata": {},
   "source": [
    "### If-Else Block"
   ]
  },
  {
   "cell_type": "code",
   "execution_count": 313,
   "metadata": {},
   "outputs": [
    {
     "name": "stdout",
     "output_type": "stream",
     "text": [
      "a is bigger\n"
     ]
    }
   ],
   "source": [
    "a = 5\n",
    "b = 0\n",
    "\n",
    "if (a < b):\n",
    "    print(\"a is smaller\")\n",
    "else:\n",
    "    print(\"a is bigger\")"
   ]
  },
  {
   "cell_type": "markdown",
   "metadata": {},
   "source": [
    "## Try-Except Block: Exception Handling"
   ]
  },
  {
   "cell_type": "markdown",
   "metadata": {},
   "source": [
    "***Catch error and print custom error message:***"
   ]
  },
  {
   "cell_type": "code",
   "execution_count": 314,
   "metadata": {},
   "outputs": [
    {
     "name": "stdout",
     "output_type": "stream",
     "text": [
      "Error converting to float.\n"
     ]
    }
   ],
   "source": [
    "try:\n",
    "    float(\"hello\")\n",
    "except Exception: # 'Exception' statement states that the followng code is of 'Exception' class. The code runs without this statement as well though.\n",
    "    print(\"Error converting to float.\")"
   ]
  },
  {
   "cell_type": "markdown",
   "metadata": {},
   "source": [
    "***Catch and print error message:***"
   ]
  },
  {
   "cell_type": "code",
   "execution_count": 315,
   "metadata": {},
   "outputs": [
    {
     "name": "stdout",
     "output_type": "stream",
     "text": [
      "This is the error message that returned: division by zero\n"
     ]
    }
   ],
   "source": [
    "try:        \n",
    "    1/0\n",
    "except Exception as exception_message:\n",
    "    print('This is the error message that returned: ' + str(exception_message))"
   ]
  },
  {
   "cell_type": "markdown",
   "metadata": {},
   "source": [
    "## pass"
   ]
  },
  {
   "cell_type": "markdown",
   "metadata": {},
   "source": [
    "Does nothing. Use when this is the desired behavior."
   ]
  },
  {
   "cell_type": "code",
   "execution_count": 316,
   "metadata": {
    "collapsed": true
   },
   "outputs": [],
   "source": [
    "try:\n",
    "    int('')\n",
    "except Exception:\n",
    "    pass"
   ]
  },
  {
   "cell_type": "markdown",
   "metadata": {},
   "source": [
    "# TUPLES"
   ]
  },
  {
   "cell_type": "markdown",
   "metadata": {},
   "source": [
    "- Tuples are indivisible (i.e., unindexed) lists."
   ]
  },
  {
   "cell_type": "code",
   "execution_count": 317,
   "metadata": {},
   "outputs": [
    {
     "name": "stdout",
     "output_type": "stream",
     "text": [
      "(1, 2)\n",
      "('a', 'b')\n",
      "<class 'tuple'> <class 'tuple'>\n"
     ]
    }
   ],
   "source": [
    "a = (1, 2)\n",
    "b = (\"a\", \"b\")\n",
    "\n",
    "print(a)\n",
    "print(b)\n",
    "\n",
    "print(type(a), type(b))"
   ]
  },
  {
   "cell_type": "markdown",
   "metadata": {},
   "source": [
    "# LISTS"
   ]
  },
  {
   "cell_type": "markdown",
   "metadata": {},
   "source": [
    "Lists...\n",
    "- Can have duplicate values\n",
    "- Are ordered (each value has an index value)\n",
    "\n",
    "*This is a list*:"
   ]
  },
  {
   "cell_type": "code",
   "execution_count": 318,
   "metadata": {},
   "outputs": [
    {
     "data": {
      "text/plain": [
       "['Dog', 'Cat', 'Hippo', 'Dog']"
      ]
     },
     "execution_count": 318,
     "metadata": {},
     "output_type": "execute_result"
    }
   ],
   "source": [
    "[\"Dog\", \"Cat\", \"Hippo\", \"Dog\"]"
   ]
  },
  {
   "cell_type": "markdown",
   "metadata": {},
   "source": [
    "Lists can be created this way:"
   ]
  },
  {
   "cell_type": "code",
   "execution_count": 319,
   "metadata": {},
   "outputs": [
    {
     "name": "stdout",
     "output_type": "stream",
     "text": [
      "['Dog', 'Cat', 'Hippo', 'Dog']\n"
     ]
    }
   ],
   "source": [
    "my_animals = [\"Dog\", \"Cat\", \"Hippo\", \"Dog\"]\n",
    "print(my_animals)"
   ]
  },
  {
   "cell_type": "markdown",
   "metadata": {},
   "source": [
    "## Insert item at given index position\n",
    "**.insert()**"
   ]
  },
  {
   "cell_type": "markdown",
   "metadata": {},
   "source": [
    "Usage:<br>\n",
    "LIST.insert(OBJECT, INDEX)"
   ]
  },
  {
   "cell_type": "code",
   "execution_count": 320,
   "metadata": {},
   "outputs": [
    {
     "name": "stdout",
     "output_type": "stream",
     "text": [
      "[1, 'insert', 2, 3]\n"
     ]
    }
   ],
   "source": [
    "my_list = [1, 2, 3]\n",
    "\n",
    "my_list.insert(1, \"insert\")\n",
    "print(my_list)"
   ]
  },
  {
   "cell_type": "markdown",
   "metadata": {},
   "source": [
    "## Concatenate values from multiple lists into a list of tuples\n",
    "**list(zip())**"
   ]
  },
  {
   "cell_type": "code",
   "execution_count": 321,
   "metadata": {},
   "outputs": [
    {
     "name": "stdout",
     "output_type": "stream",
     "text": [
      "[(1, 4), (2, 5), (3, 6)]\n"
     ]
    }
   ],
   "source": [
    "list_1 = [1, 2, 3]\n",
    "list_2 = [4, 5, 6]\n",
    "\n",
    "zipped_list = list(zip(list_1, list_2))\n",
    "print(zipped_list)"
   ]
  },
  {
   "cell_type": "markdown",
   "metadata": {},
   "source": [
    "# SETS"
   ]
  },
  {
   "cell_type": "code",
   "execution_count": 322,
   "metadata": {},
   "outputs": [
    {
     "data": {
      "text/plain": [
       "['Dog', 'Cat', 'Hippo', 'Dog']"
      ]
     },
     "execution_count": 322,
     "metadata": {},
     "output_type": "execute_result"
    }
   ],
   "source": [
    "my_animals = list([\"Dog\", \"Cat\", \"Hippo\", \"Dog\"])\n",
    "my_animals"
   ]
  },
  {
   "cell_type": "markdown",
   "metadata": {},
   "source": [
    "Sets... \n",
    "- Cannot have duplicate values. \n",
    " (If a duplicate item is attempted to be added, it is ignored.)\n",
    "- Are unordered.\n",
    " (Not indexed)\n",
    "\n",
    "*This is a set*:"
   ]
  },
  {
   "cell_type": "code",
   "execution_count": 323,
   "metadata": {},
   "outputs": [
    {
     "data": {
      "text/plain": [
       "['Dog', 'Cat', 'Hippo']"
      ]
     },
     "execution_count": 323,
     "metadata": {},
     "output_type": "execute_result"
    }
   ],
   "source": [
    "[\"Dog\", \"Cat\", \"Hippo\"]"
   ]
  },
  {
   "cell_type": "markdown",
   "metadata": {},
   "source": [
    "## set()"
   ]
  },
  {
   "cell_type": "markdown",
   "metadata": {},
   "source": [
    "\n",
    "- creates sets \n",
    "- accepts lists as input\n",
    "\n",
    "Note the curly brackets in the output below. Curly braces means that there is no indexing."
   ]
  },
  {
   "cell_type": "code",
   "execution_count": 324,
   "metadata": {},
   "outputs": [
    {
     "name": "stdout",
     "output_type": "stream",
     "text": [
      "{'Dog', 'Cat', 'Hippo'}\n"
     ]
    }
   ],
   "source": [
    "unique_animals = set([\"Dog\", \"Cat\", \"Hippo\", \"Dog\", \"Cat\", \"Dog\", \"Dog\", \"Cat\"])\n",
    "print(unique_animals)"
   ]
  },
  {
   "cell_type": "markdown",
   "metadata": {},
   "source": [
    "## add()"
   ]
  },
  {
   "cell_type": "code",
   "execution_count": 325,
   "metadata": {
    "collapsed": true
   },
   "outputs": [],
   "source": [
    "unique_animals.add(\"Tiger\")"
   ]
  },
  {
   "cell_type": "markdown",
   "metadata": {},
   "source": [
    "## remove()"
   ]
  },
  {
   "cell_type": "code",
   "execution_count": 326,
   "metadata": {
    "collapsed": true
   },
   "outputs": [],
   "source": [
    "unique_animals.remove(\"Dog\")"
   ]
  },
  {
   "cell_type": "markdown",
   "metadata": {},
   "source": [
    "# DICTIONARIES"
   ]
  },
  {
   "cell_type": "markdown",
   "metadata": {},
   "source": [
    "Create a dictonary:"
   ]
  },
  {
   "cell_type": "code",
   "execution_count": 327,
   "metadata": {
    "collapsed": true
   },
   "outputs": [],
   "source": [
    "# Ergonomic notation:\n",
    "fruits = {\n",
    "    \"apple\": 2,\n",
    "    \"orange\": 5,\n",
    "    \"melon\": 10\n",
    "}\n",
    "\n",
    "# Compact notation:\n",
    "fruits = {\"apple\": 2, \"orange\": 5, \"melon\": 10}"
   ]
  },
  {
   "cell_type": "markdown",
   "metadata": {},
   "source": [
    "Add item to or change a value in dictionary:"
   ]
  },
  {
   "cell_type": "code",
   "execution_count": 328,
   "metadata": {},
   "outputs": [
    {
     "name": "stdout",
     "output_type": "stream",
     "text": [
      "{'a': 1, 'b': 2, 'c': 5}\n"
     ]
    }
   ],
   "source": [
    "dictionary[\"c\"]=5\n",
    "print(dictionary)"
   ]
  },
  {
   "cell_type": "code",
   "execution_count": 329,
   "metadata": {},
   "outputs": [
    {
     "name": "stdout",
     "output_type": "stream",
     "text": [
      "{'a': '...', 'b': 2, 'c': 5}\n"
     ]
    }
   ],
   "source": [
    "dictionary[\"a\"]=\"...\"\n",
    "print(dictionary)"
   ]
  },
  {
   "cell_type": "markdown",
   "metadata": {},
   "source": [
    "## Iterating Over Dictionaries"
   ]
  },
  {
   "cell_type": "markdown",
   "metadata": {},
   "source": [
    "### Basic Iteration for Retrieving Values (Traditional For Loop)\n",
    "**for | dict[key]**"
   ]
  },
  {
   "cell_type": "markdown",
   "metadata": {},
   "source": [
    "- For loops iterate over dictionaries using keys as index values.\n",
    "- Therefore, when referring to the current index in the loop, key value should be used (of course, the word 'key' {which is in between 'for' 'in'} can be anything in the statement below [e.g., 'my_key', 'item', or 'i'], but its function would remain the same: it would refer to the KEY in the dictionary, and return its corresponding VALUE, just like a normal index integer does)."
   ]
  },
  {
   "cell_type": "code",
   "execution_count": 330,
   "metadata": {},
   "outputs": [
    {
     "name": "stdout",
     "output_type": "stream",
     "text": [
      "1\n",
      "2\n",
      "3\n"
     ]
    }
   ],
   "source": [
    "my_dictionary = {\"a\":1, \"b\":2, \"c\":3}\n",
    "\n",
    "for key in my_dictionary:\n",
    "    print(my_dictionary[key]) # Prints the VALUE of the currently addressed KEY in the DICTIONARY"
   ]
  },
  {
   "cell_type": "markdown",
   "metadata": {},
   "source": [
    "### Basic Iteration for Retrieving Keys\n",
    "**in | not in**"
   ]
  },
  {
   "cell_type": "code",
   "execution_count": 331,
   "metadata": {},
   "outputs": [
    {
     "name": "stdout",
     "output_type": "stream",
     "text": [
      "key 'a' is found\n",
      "key 'a' is not found\n",
      "key 'a' is not found\n"
     ]
    }
   ],
   "source": [
    "my_dictionary = {\"a\":1, \"b\":2, \"c\":3}\n",
    "\n",
    "for key in my_dictionary:\n",
    "    if \"a\" in key:\n",
    "        print(\"key 'a' is found\")\n",
    "    else:\n",
    "        print(\"key 'a' is not found\")"
   ]
  },
  {
   "cell_type": "markdown",
   "metadata": {},
   "source": [
    "### Advanced Iteration for Retrieving both Keys and Values\n",
    "**.items()**"
   ]
  },
  {
   "cell_type": "markdown",
   "metadata": {},
   "source": [
    "\n",
    "\n",
    "Print all keys and values (for loop with .items method):"
   ]
  },
  {
   "cell_type": "code",
   "execution_count": 332,
   "metadata": {},
   "outputs": [
    {
     "name": "stdout",
     "output_type": "stream",
     "text": [
      "a\n",
      "1\n",
      "b\n",
      "2\n"
     ]
    }
   ],
   "source": [
    "dictionary = {\"a\":1, \"b\":2}\n",
    "\n",
    "for key, value in dictionary.items():\n",
    "    print (key)\n",
    "    print (value)"
   ]
  },
  {
   "cell_type": "markdown",
   "metadata": {},
   "source": [
    "### Changing a Key in a Dictionary\n",
    "**indexing operator**"
   ]
  },
  {
   "cell_type": "markdown",
   "metadata": {},
   "source": [
    "- Unfortunately, a key cannot be directly changed.\n",
    "- But it can be addressed.\n",
    "- So, a workaround is to create a new key by addressing the old one.\n",
    "- And then removing the old key."
   ]
  },
  {
   "cell_type": "markdown",
   "metadata": {},
   "source": [
    "**Usage**:<br> \n",
    "  dictionary[new_key] = dictionary[old_key]<br>\n",
    "  del dictionary[old_key]"
   ]
  },
  {
   "cell_type": "code",
   "execution_count": 333,
   "metadata": {},
   "outputs": [
    {
     "name": "stdout",
     "output_type": "stream",
     "text": [
      "{'first': 1, 'second': 2, 'third': 3, 'first_number': 1}\n",
      "{'second': 2, 'third': 3, 'first_number': 1}\n"
     ]
    }
   ],
   "source": [
    "my_dictionary = { 'first':1, 'second':2, 'third':3 }\n",
    "\n",
    "my_dictionary['first_number'] = my_dictionary['first'] # Although this adds the key as the the last item of the dictonary ...\n",
    "print(my_dictionary)                                   # ... dictionaries do not have an order, so that is not a problem.\n",
    "del my_dictionary['first']\n",
    "\n",
    "print(my_dictionary)"
   ]
  },
  {
   "cell_type": "markdown",
   "metadata": {},
   "source": [
    "### Iterating a Dictionary in combination with an 'i' counter\n",
    "**.enumerate** | **dictionaries**"
   ]
  },
  {
   "cell_type": "code",
   "execution_count": 334,
   "metadata": {},
   "outputs": [
    {
     "name": "stdout",
     "output_type": "stream",
     "text": [
      "0\n",
      "first\n",
      "1\n",
      "\n",
      "1\n",
      "second\n",
      "2\n",
      "\n",
      "2\n",
      "third\n",
      "3\n",
      "\n"
     ]
    }
   ],
   "source": [
    "my_dictionary = { 'first':1, 'second':2, 'third':3 }\n",
    "\n",
    "for i, key in enumerate(my_dictionary):\n",
    "    print(i)\n",
    "    print(key)\n",
    "    print(my_dictionary[key])\n",
    "    print(\"\")"
   ]
  },
  {
   "cell_type": "markdown",
   "metadata": {},
   "source": [
    "# SCOPES"
   ]
  },
  {
   "cell_type": "markdown",
   "metadata": {},
   "source": [
    "## Inheritance Hierarchy\n",
    "This is the order environments that will be searched when a variable name is called:\n",
    "\n",
    "1. Local scope \n",
    "2. Enclosing scopes\n",
    "3. Global scope \n",
    "4. Built-in functions (i.e., is the name called a built-in function or constant or name?)"
   ]
  },
  {
   "cell_type": "markdown",
   "metadata": {},
   "source": [
    "This hierarchy means that even a built-in function can be overwritten if it is assigned a new value:\n",
    "\n"
   ]
  },
  {
   "cell_type": "code",
   "execution_count": 335,
   "metadata": {},
   "outputs": [
    {
     "name": "stdout",
     "output_type": "stream",
     "text": [
      "[1] x is 3\n",
      "[2] sum's type is 'function': <class 'builtin_function_or_method'>\n",
      "[3] sum_backup's type is 'function': <class 'builtin_function_or_method'>\n",
      "[4] sum is now 0\n",
      "[5] sum is now 'int':<class 'int'>\n",
      "[6] sum() does not work.\n",
      "[7] sum() works again:3\n"
     ]
    }
   ],
   "source": [
    "# Sum works normally\n",
    "x = sum([1,2])\n",
    "print(\"[1] x is \" + str(x))\n",
    "\n",
    "# Back up sum() before changing it\n",
    "sum_backup = sum\n",
    "print(\"[2] sum's type is 'function': \" + str(type(sum)))\n",
    "print(\"[3] sum_backup's type is 'function': \" + str(type(sum_backup))) # backup variable does indeed seem to hold thesum() function itself\n",
    "\n",
    "\n",
    "# Change built-in variable sum to an integer\n",
    "sum = 0 # sum is now not a function, but the integer '0'\n",
    "print(\"[4] sum is now \" + str(sum))  \n",
    "print(\"[5] sum is now 'int':\" + str(type(sum))) \n",
    "\n",
    "try:                                           # test what happened to sum() \n",
    "    print(sum([1,2]))\n",
    "except:\n",
    "    print(\"[6] sum() does not work.\")\n",
    "\n",
    "sum = sum_backup                               # restore sum() function\n",
    "\n",
    "try:\n",
    "    print(\"[7] sum() works again:\" + str(sum([1,2])))\n",
    "except:\n",
    "    print(\"Sum does not work.\")"
   ]
  },
  {
   "cell_type": "markdown",
   "metadata": {},
   "source": [
    "## Local Scopes"
   ]
  },
  {
   "cell_type": "markdown",
   "metadata": {},
   "source": [
    "- Local variables are **destroyed upon exiting** the environment in which they are created in.\n",
    "- <font color=red>Commans in local scopes cannot modify variables from a higher environment</font> (if asked to do so, they would create local copies of those variables, and modify only these local copies, which would be desroyed upon exit from the scope [see the example below].)."
   ]
  },
  {
   "cell_type": "code",
   "execution_count": 336,
   "metadata": {},
   "outputs": [
    {
     "name": "stdout",
     "output_type": "stream",
     "text": [
      "local_b: 1\n"
     ]
    }
   ],
   "source": [
    "b = 1\n",
    "\n",
    "# This is a function with a local variable:\n",
    "def my_function():\n",
    "    b = 10  # This is not a new value assignment to the file-level 'b'... \n",
    "            # ... but is creating a local copy of 'b' and assigning it a new value.\n",
    "            # This local copy is destroyed upon exit, therefore cannot be printed.\n",
    "            # This function does not have any effect on the file-level 'b' varibles.\n",
    "\n",
    "my_function()\n",
    "print(\"local_b: \" + str(b))\n",
    "# print(b) Does not print '1', but instead the latest assigned value of b. \n",
    "# This is because local variables are destroyed upon quitting the local environments"
   ]
  },
  {
   "cell_type": "markdown",
   "metadata": {},
   "source": [
    "## Enclosing Scopes and File Level Variables"
   ]
  },
  {
   "cell_type": "markdown",
   "metadata": {},
   "source": [
    "A file itself is an example of an enclosing *environment*. However, although higher level than all the sub-scopes within it, a file is not a global variable (e.g., there may be other files that refer to, and thus locally contain this file). A global variable should be created using 'global' keyword.\n"
   ]
  },
  {
   "cell_type": "code",
   "execution_count": 339,
   "metadata": {},
   "outputs": [
    {
     "name": "stdout",
     "output_type": "stream",
     "text": [
      "file_b: 2\n"
     ]
    }
   ],
   "source": [
    "b = 2  # a file level variable \n",
    "\n",
    "# This is a function with a local variable that is on the highest scope... \n",
    "# ... within this file:\n",
    "def my_function():\n",
    "    b = 20  # local commands cannot change variables from higher environments.\n",
    "           # This value won't be printed when b is called from the outside...\n",
    "           # ...because it only exists within the inside of the scope.\n",
    "\n",
    "my_function()\n",
    "print(\"file_b: \" + str(b))"
   ]
  },
  {
   "cell_type": "markdown",
   "metadata": {},
   "source": [
    "## Global Scope\n",
    "'global' keyword"
   ]
  },
  {
   "cell_type": "code",
   "execution_count": 340,
   "metadata": {},
   "outputs": [
    {
     "name": "stdout",
     "output_type": "stream",
     "text": [
      "global_b: 30\n"
     ]
    }
   ],
   "source": [
    "b = 3\n",
    "\n",
    "# This is a function with a global variable:\n",
    "def my_function():\n",
    "    global b # Global variables cannot be declared and initiated at the same time.\n",
    "    b = 30\n",
    "    \n",
    "my_function()\n",
    "print(\"global_b: \" + str(b))"
   ]
  },
  {
   "cell_type": "markdown",
   "metadata": {},
   "source": [
    "It is generally not recommended to use global variables because using them makes functions dependent on values."
   ]
  },
  {
   "cell_type": "markdown",
   "metadata": {},
   "source": [
    "## For Loops and Scopes"
   ]
  },
  {
   "cell_type": "markdown",
   "metadata": {},
   "source": [
    "### For Loops and If-then Environments Do not Create Isolated Envioroments"
   ]
  },
  {
   "cell_type": "markdown",
   "metadata": {},
   "source": [
    "- Unlike functions, for loops and if statements do not create new environments.\n",
    "- For loops and if statements can modify variables outside their own enclosures."
   ]
  },
  {
   "cell_type": "code",
   "execution_count": 341,
   "metadata": {},
   "outputs": [
    {
     "name": "stdout",
     "output_type": "stream",
     "text": [
      "for loop b: 40\n"
     ]
    }
   ],
   "source": [
    "# For loops don't create new environments\n",
    "b = 4\n",
    "for i in range(0, 1):\n",
    "    b = 40\n",
    "\n",
    "print(\"for loop b: \" + str(b))"
   ]
  },
  {
   "cell_type": "markdown",
   "metadata": {},
   "source": [
    "### But Temporary Variables in For Loops are Still Desroyed After Loop<a name=\"test\"></a>"
   ]
  },
  {
   "cell_type": "markdown",
   "metadata": {},
   "source": [
    "- Like functions, *temporary* variables in for loops cannot be used to implicitly assign values to variables outside the loop."
   ]
  },
  {
   "cell_type": "markdown",
   "metadata": {},
   "source": [
    "#### ***Value Reassignment to External Variables - The Correct Way*** "
   ]
  },
  {
   "cell_type": "markdown",
   "metadata": {},
   "source": [
    "The section below explains through demonstrative examples."
   ]
  },
  {
   "cell_type": "markdown",
   "metadata": {},
   "source": [
    "**Correct usage**: ***a[i]*** and ***enumerate(a)*** (Explicit value assignment by addessing to the external variable's index position by using an integer, and not a list element)."
   ]
  },
  {
   "cell_type": "code",
   "execution_count": 342,
   "metadata": {},
   "outputs": [
    {
     "name": "stdout",
     "output_type": "stream",
     "text": [
      "[0, 0]\n"
     ]
    }
   ],
   "source": [
    "a = [\"1\",\"2\"] # <-- Changes!\n",
    "for i, item in enumerate(a):\n",
    "    a[i] = 0\n",
    "print(a)"
   ]
  },
  {
   "cell_type": "markdown",
   "metadata": {},
   "source": [
    "**Common mistake**: ***item = 0***  (Implicit value assignment with tempory variable.)"
   ]
  },
  {
   "cell_type": "code",
   "execution_count": 343,
   "metadata": {},
   "outputs": [
    {
     "name": "stdout",
     "output_type": "stream",
     "text": [
      "['1', '2']\n"
     ]
    }
   ],
   "source": [
    "a = [\"1\",\"2\"]  # <-- Does not change\n",
    "for item in a:\n",
    "    item = 0\n",
    "print(a)"
   ]
  },
  {
   "cell_type": "markdown",
   "metadata": {},
   "source": [
    "**Faulty Usage**: ***item[i] = x*** (Using the temporary index vector (i) to index an element instead of the list)"
   ]
  },
  {
   "cell_type": "code",
   "execution_count": 344,
   "metadata": {},
   "outputs": [
    {
     "name": "stdout",
     "output_type": "stream",
     "text": [
      "Does not work.\n"
     ]
    }
   ],
   "source": [
    "a = [\"1\",\"2\"]  # <-- Does not change.\n",
    "try: \n",
    "    for i, item in enumerate(a):\n",
    "        item[i] = 0\n",
    "    print(a)\n",
    "except:\n",
    "    print(\"Does not work.\")"
   ]
  },
  {
   "cell_type": "markdown",
   "metadata": {},
   "source": [
    "**Faulty usage**: ***a[item]*** (Using an element of the list a as an index value)\n",
    "\n",
    "(However, see [Iterating with a Custom Order](#Iterating-with-a-Custom-Order) section for a potential use case of this style of writing a for loop.)"
   ]
  },
  {
   "cell_type": "code",
   "execution_count": 345,
   "metadata": {
    "scrolled": true
   },
   "outputs": [
    {
     "name": "stdout",
     "output_type": "stream",
     "text": [
      "[0, 0] <--Works, but only because list 'a' consists of integers.\n",
      "Does not work. Indexes must be integers.\n"
     ]
    }
   ],
   "source": [
    "# A 'lucky' case:\n",
    "# This (i.e., a[item]) is not a regular for loop style, and is faulty usage!\n",
    "a = [1, 2] # <-- Changes. But (unless specifically intended) by chance. \n",
    "for item in a:\n",
    "    a[item] = 0\n",
    "print(str(a) + \" <--Works, but only because list 'a' consists of integers.\") # <-- Works only becase the elements of this list are sequential integers, and they can be used as index positions! \n",
    "\n",
    "# A not-so-lucky case:\n",
    "try:\n",
    "    a = [\"1\",\"2\"] # <-- Does not change\n",
    "    for item in a:\n",
    "        a[item] = 0\n",
    "    print(a)\n",
    "except:\n",
    "    print(\"Does not work. Indexes must be integers.\")"
   ]
  },
  {
   "cell_type": "markdown",
   "metadata": {},
   "source": [
    "**On why the previous usage style works, and a potential use case for it**:\n",
    "\n",
    "\n",
    "What happened above (and what happens below) is that the elements of the list is being simultaneously used as:\n",
    " - List's items\n",
    " - List's own 'custom order' index values (i) -- this is possible only because they are integers, just like the temporary index values that would be created by iteration commmands like enumerate() (these temporary index values are not created in reguar for loops in Python, which simpy iterates over the ***objects*** of a list)."
   ]
  },
  {
   "cell_type": "code",
   "execution_count": 346,
   "metadata": {},
   "outputs": [
    {
     "name": "stdout",
     "output_type": "stream",
     "text": [
      "0\n",
      "1\n",
      "2\n",
      "\n",
      "\n",
      "b\n",
      "a\n",
      "c\n"
     ]
    }
   ],
   "source": [
    "# Values of a is used as both elements of the list, and index values.\n",
    "a = [1, 0, 2]\n",
    "for item in a:\n",
    "    print(a[item])\n",
    "\n",
    "print(\"\\n\")\n",
    "    \n",
    "#This can be used to create custom indexing orders:\n",
    "iteration_order = [1, 0, 2]\n",
    "a = [\"a\", \"b\", \"c\"]\n",
    "for item in iteration_order:\n",
    "    print(a[item])"
   ]
  },
  {
   "cell_type": "markdown",
   "metadata": {},
   "source": [
    "# Iterating with a Custom Order"
   ]
  },
  {
   "cell_type": "code",
   "execution_count": 347,
   "metadata": {},
   "outputs": [
    {
     "name": "stdout",
     "output_type": "stream",
     "text": [
      "b\n",
      "a\n",
      "c\n"
     ]
    }
   ],
   "source": [
    "iteration_order = [1, 0, 2]\n",
    "a = [\"a\", \"b\", \"c\"]\n",
    "for item in iteration_order:\n",
    "    print(a[item])"
   ]
  },
  {
   "cell_type": "markdown",
   "metadata": {},
   "source": []
  },
  {
   "cell_type": "markdown",
   "metadata": {},
   "source": [
    "**IMPORTANT:** This iteration style (i.e., ***a[item]***) should not be used for regular for loops, as it only works because the elements of the list is integers. The same for loops structure would break if list elements were, for instance, strings. For more information, see [For Loops and Scopes](#But-Temporary-Variables-in-For-Loops-are-Still-Desroyed-After-Loop) section.\n",
    "\n",
    "\n",
    "An example for this faulty usage (taken from the aforementioned section):"
   ]
  },
  {
   "cell_type": "code",
   "execution_count": 348,
   "metadata": {},
   "outputs": [
    {
     "name": "stdout",
     "output_type": "stream",
     "text": [
      "[0, 0] <--Works, but only because list 'a' consists of integers.\n",
      "Does not work. Indexes must be integers.\n"
     ]
    }
   ],
   "source": [
    "# A 'lucky' case:\n",
    "# This (i.e., a[item]) is not a regular for loop style, and is faulty usage!\n",
    "a = [1, 2] # <-- Changes. But (unless specifically intended) by chance. \n",
    "for item in a:\n",
    "    a[item] = 0\n",
    "print(str(a) + \" <--Works, but only because list 'a' consists of integers.\") # <-- Works only becase the elements of this list are sequential integers, and they can be used as index positions! \n",
    "\n",
    "# A not-so-lucky case:\n",
    "try:\n",
    "    a = [\"1\",\"2\"] # <-- Does not change\n",
    "    for item in a:\n",
    "        a[item] = 0\n",
    "    print(a)\n",
    "except:\n",
    "    print(\"Does not work. Indexes must be integers.\")"
   ]
  },
  {
   "cell_type": "markdown",
   "metadata": {},
   "source": [
    "# SIMPLE STRING MANIPULATION (str methods)"
   ]
  },
  {
   "cell_type": "markdown",
   "metadata": {},
   "source": [
    "## String Concatenation"
   ]
  },
  {
   "cell_type": "markdown",
   "metadata": {},
   "source": [
    "### Simple String Concetanation"
   ]
  },
  {
   "cell_type": "code",
   "execution_count": 534,
   "metadata": {},
   "outputs": [
    {
     "data": {
      "text/plain": [
       "'my string'"
      ]
     },
     "execution_count": 534,
     "metadata": {},
     "output_type": "execute_result"
    }
   ],
   "source": [
    "'my' + ' ' + 'string'"
   ]
  },
  {
   "cell_type": "markdown",
   "metadata": {
    "collapsed": true
   },
   "source": [
    "### Advanced String Concetanation with Placeholder Characters"
   ]
  },
  {
   "cell_type": "markdown",
   "metadata": {},
   "source": [
    "Single string substitution:"
   ]
  },
  {
   "cell_type": "code",
   "execution_count": 533,
   "metadata": {},
   "outputs": [
    {
     "data": {
      "text/plain": [
       "'this is a string'"
      ]
     },
     "execution_count": 533,
     "metadata": {},
     "output_type": "execute_result"
    }
   ],
   "source": [
    "\"this is a %s\" % 'string'"
   ]
  },
  {
   "cell_type": "markdown",
   "metadata": {},
   "source": [
    "Multiple string substition:"
   ]
  },
  {
   "cell_type": "code",
   "execution_count": 538,
   "metadata": {},
   "outputs": [
    {
     "data": {
      "text/plain": [
       "'this is a string'"
      ]
     },
     "execution_count": 538,
     "metadata": {},
     "output_type": "execute_result"
    }
   ],
   "source": [
    "\"%s is a %s\" % ('this', 'string')"
   ]
  },
  {
   "cell_type": "markdown",
   "metadata": {},
   "source": [
    "String and integer substitution:"
   ]
  },
  {
   "cell_type": "code",
   "execution_count": 539,
   "metadata": {},
   "outputs": [
    {
     "data": {
      "text/plain": [
       "'this is string number 1'"
      ]
     },
     "execution_count": 539,
     "metadata": {},
     "output_type": "execute_result"
    }
   ],
   "source": [
    "\"this is %s number %i\" % ('string', 1)"
   ]
  },
  {
   "cell_type": "markdown",
   "metadata": {},
   "source": [
    "## Substring Search"
   ]
  },
  {
   "cell_type": "markdown",
   "metadata": {},
   "source": [
    "### Find First Occurence\n",
    "**.find()**"
   ]
  },
  {
   "cell_type": "markdown",
   "metadata": {},
   "source": [
    "***Find a character (get index position of a character) :***"
   ]
  },
  {
   "cell_type": "code",
   "execution_count": 503,
   "metadata": {},
   "outputs": [
    {
     "data": {
      "text/plain": [
       "3"
      ]
     },
     "execution_count": 503,
     "metadata": {},
     "output_type": "execute_result"
    }
   ],
   "source": [
    "\"my string\".find('s')"
   ]
  },
  {
   "cell_type": "markdown",
   "metadata": {},
   "source": [
    "***Find multiple characters (get index position of multiple characters):***"
   ]
  },
  {
   "cell_type": "code",
   "execution_count": 504,
   "metadata": {},
   "outputs": [
    {
     "data": {
      "text/plain": [
       "7"
      ]
     },
     "execution_count": 504,
     "metadata": {},
     "output_type": "execute_result"
    }
   ],
   "source": [
    "\"my string\".find('ng')"
   ]
  },
  {
   "cell_type": "markdown",
   "metadata": {},
   "source": [
    "***Return -1 if character not found:***"
   ]
  },
  {
   "cell_type": "code",
   "execution_count": 511,
   "metadata": {},
   "outputs": [
    {
     "data": {
      "text/plain": [
       "-1"
      ]
     },
     "execution_count": 511,
     "metadata": {},
     "output_type": "execute_result"
    }
   ],
   "source": [
    "'my string my'.find('x')"
   ]
  },
  {
   "cell_type": "markdown",
   "metadata": {},
   "source": [
    "### Index\n",
    "**.index()**"
   ]
  },
  {
   "cell_type": "markdown",
   "metadata": {},
   "source": [
    ".index() works in the same way with .find() except that it returns a ValueError when the character is not found:"
   ]
  },
  {
   "cell_type": "markdown",
   "metadata": {},
   "source": [
    "***Return ValueError if character not found:***"
   ]
  },
  {
   "cell_type": "code",
   "execution_count": 515,
   "metadata": {},
   "outputs": [
    {
     "name": "stdout",
     "output_type": "stream",
     "text": [
      "substring not found\n"
     ]
    }
   ],
   "source": [
    "try:\n",
    "    'my string'.index('x')\n",
    "except Exception as error_message:\n",
    "    print(error_message)"
   ]
  },
  {
   "cell_type": "markdown",
   "metadata": {},
   "source": [
    "***Find a character (get index position of a character or characters):***"
   ]
  },
  {
   "cell_type": "markdown",
   "metadata": {},
   "source": [
    "Everything else is as they are in .find():"
   ]
  },
  {
   "cell_type": "code",
   "execution_count": 510,
   "metadata": {},
   "outputs": [
    {
     "data": {
      "text/plain": [
       "3"
      ]
     },
     "execution_count": 510,
     "metadata": {},
     "output_type": "execute_result"
    }
   ],
   "source": [
    "'my string'.index('s')"
   ]
  },
  {
   "cell_type": "code",
   "execution_count": 520,
   "metadata": {},
   "outputs": [
    {
     "data": {
      "text/plain": [
       "7"
      ]
     },
     "execution_count": 520,
     "metadata": {},
     "output_type": "execute_result"
    }
   ],
   "source": [
    "'my string my'.index('ng')"
   ]
  },
  {
   "cell_type": "markdown",
   "metadata": {},
   "source": [
    "### Find Last Occurrence (Reverse Find)\n",
    "\n",
    "**.rfind()**"
   ]
  },
  {
   "cell_type": "markdown",
   "metadata": {},
   "source": [
    "***Find last occurrence of a character:***"
   ]
  },
  {
   "cell_type": "code",
   "execution_count": 505,
   "metadata": {},
   "outputs": [
    {
     "data": {
      "text/plain": [
       "10"
      ]
     },
     "execution_count": 505,
     "metadata": {},
     "output_type": "execute_result"
    }
   ],
   "source": [
    "'my string my'.rfind('my')"
   ]
  },
  {
   "cell_type": "markdown",
   "metadata": {},
   "source": [
    "### Count Occurrences\n",
    "**.count()**"
   ]
  },
  {
   "cell_type": "code",
   "execution_count": 525,
   "metadata": {},
   "outputs": [
    {
     "data": {
      "text/plain": [
       "2"
      ]
     },
     "execution_count": 525,
     "metadata": {},
     "output_type": "execute_result"
    }
   ],
   "source": [
    "number_string = 'aaaXXaaaXXaaa'\n",
    "number_string.count('XX')"
   ]
  },
  {
   "cell_type": "markdown",
   "metadata": {},
   "source": [
    "# REGULAR EXPRESSIONS"
   ]
  },
  {
   "cell_type": "markdown",
   "metadata": {},
   "source": [
    "| \"Expression\"  | Description                        | \"\\Escape character\" | Description  |\n",
    "| :------------ | :-----------                       | :------------------ | :----------- |\n",
    "| .a            | a preceded by any letter           | .                   | Dot          |\n",
    "| ^a            | strings that start with a          | n                   | New line     |\n",
    "| a$            | strings that end with a            |                     |              |\n",
    "| [abc]def      | 'adef', 'bdef', 'cef'              |                     |              |\n",
    "| a│b           | a or b                             |                     |              |\n",
    "| [0-9]         | integers between 0 and 9           |                     |              |\n",
    "| [a-m]         | lowercase letters between a and m  |                     |              |\n",
    "| [0-9][0-9]    | any two-digit number               |                     |              |\n",
    "| [a-z][0-9]    | any letter-digit pair (e.g., 'a1') |                     |              |\n",
    "| [0-9]{4}      | any 4-digit pair                   |                     |              |\n",
    "| [a-z]{10}     | any 10-letter word                 |                     |              |\n",
    "| \\             | Escape character                   |                     |              |"
   ]
  },
  {
   "cell_type": "markdown",
   "metadata": {},
   "source": [
    "## String Search\n",
    "**re.search()**\n"
   ]
  },
  {
   "cell_type": "markdown",
   "metadata": {},
   "source": [
    "**Usage**: <br>\n",
    "re.search(\"REGEX_SEARCH_PATTERN\", \"TARGET_STRING\")\n",
    "\n",
    "- **Regex search pattern**: Search expression. Accepts regex and escape characters should be used when specifiying the search pattern.\n",
    "- **Target string**:  The target string in which the regex search will be performed.\n"
   ]
  },
  {
   "cell_type": "code",
   "execution_count": 405,
   "metadata": {
    "collapsed": true
   },
   "outputs": [],
   "source": [
    "# Prepare data\n",
    "import csv\n",
    "data_with_header = list(csv.reader(open(\"test_data//askreddit_2015.csv\", encoding=\"utf8\")))\n",
    "data = data_with_header[1:len(data_with_header)]"
   ]
  },
  {
   "cell_type": "markdown",
   "metadata": {},
   "source": [
    "### Search for Multiple Versions of a String\n",
    "**'Alternative characters' enclosure \"[ ]\"**"
   ]
  },
  {
   "cell_type": "code",
   "execution_count": 355,
   "metadata": {},
   "outputs": [
    {
     "name": "stdout",
     "output_type": "stream",
     "text": [
      "102\n"
     ]
    }
   ],
   "source": [
    "import re\n",
    "\n",
    "of_reddit_count = 0    # Number of times\n",
    "for row in data:\n",
    "    if re.search(\"of [Rr]eddit\", row[0]):\n",
    "        of_reddit_count = of_reddit_count + 1\n",
    "print(of_reddit_count)"
   ]
  },
  {
   "cell_type": "markdown",
   "metadata": {},
   "source": [
    "###  Use Escape Character to Find a Pattern Containing Special Characters\n",
    "**Escape character (\"\\\")**"
   ]
  },
  {
   "cell_type": "markdown",
   "metadata": {},
   "source": [
    "When searching for the pattern, account for capitalization and square brackets.\n",
    "In the code below, \"[\" and \"]\"are escaped with \"\\[\" and \"\\]\" expressions:"
   ]
  },
  {
   "cell_type": "code",
   "execution_count": 356,
   "metadata": {},
   "outputs": [
    {
     "name": "stdout",
     "output_type": "stream",
     "text": [
      "77\n"
     ]
    }
   ],
   "source": [
    "serious_count = 0\n",
    "for row in data:\n",
    "    if re.search(\"\\[[Ss]erious\\]\", row[0]):\n",
    "        serious_count = serious_count + 1\n",
    "print(serious_count)"
   ]
  },
  {
   "cell_type": "markdown",
   "metadata": {},
   "source": [
    "When searching for the pattern, account for capitalization, square brackets, and parantheses. In the code below, \"[\\[\\(] and [\\]\\)] \"is used to escape to brackets and parantheses:"
   ]
  },
  {
   "cell_type": "code",
   "execution_count": 357,
   "metadata": {},
   "outputs": [
    {
     "name": "stdout",
     "output_type": "stream",
     "text": [
      "80\n"
     ]
    }
   ],
   "source": [
    "serious_count = 0\n",
    "for row in data:\n",
    "    if re.search(\"[\\[\\(][Ss]erious[\\]\\)]\", row[0]):\n",
    "        serious_count = serious_count + 1\n",
    "print(serious_count)"
   ]
  },
  {
   "cell_type": "markdown",
   "metadata": {},
   "source": [
    "### Search in the Beginning / End of String\n",
    "**(^...) | (...$)**"
   ]
  },
  {
   "cell_type": "markdown",
   "metadata": {},
   "source": [
    "Find expression at the beginning of target string (^...):"
   ]
  },
  {
   "cell_type": "code",
   "execution_count": 358,
   "metadata": {},
   "outputs": [
    {
     "name": "stdout",
     "output_type": "stream",
     "text": [
      "[1] serious_start_count: 69\n"
     ]
    }
   ],
   "source": [
    "serious_start_count = 0\n",
    "for row in data:\n",
    "    if re.search(\"^[\\[\\(][Ss]erious[\\]\\)]\", row[0]):\n",
    "        serious_start_count = serious_start_count + 1\n",
    "print(\"[1] serious_start_count: \" + str(serious_start_count))"
   ]
  },
  {
   "cell_type": "markdown",
   "metadata": {},
   "source": [
    "Find expression at the end of target string (...$):"
   ]
  },
  {
   "cell_type": "code",
   "execution_count": 359,
   "metadata": {},
   "outputs": [
    {
     "name": "stdout",
     "output_type": "stream",
     "text": [
      "[2] serious_end_count: 11\n"
     ]
    }
   ],
   "source": [
    "serious_end_count = 0\n",
    "for row in data:\n",
    "    if re.search(\"[\\[\\(][Ss]erious[\\]\\)]$\", row[0]):\n",
    "        serious_end_count = serious_end_count + 1\n",
    "print(\"[2] serious_end_count: \" + str(serious_end_count))"
   ]
  },
  {
   "cell_type": "markdown",
   "metadata": {},
   "source": [
    "### Or Expression \n",
    "**(\"|\")**"
   ]
  },
  {
   "cell_type": "markdown",
   "metadata": {},
   "source": [
    "Find questions that start or end with \"[Serious]\" and its all possible variants with different capitalization and enclosure types.\n"
   ]
  },
  {
   "cell_type": "code",
   "execution_count": 360,
   "metadata": {},
   "outputs": [
    {
     "name": "stdout",
     "output_type": "stream",
     "text": [
      "[3] serious_count_final: 80\n"
     ]
    }
   ],
   "source": [
    "serious_count_final = 0\n",
    "for row in data:\n",
    "    if re.search(\"^[\\[\\(][Ss]erious[\\]\\)]|[\\[\\(][Ss]erious[\\]\\)]$\", row[0]):\n",
    "        serious_count_final = serious_count_final + 1\n",
    "print(\"[3] serious_count_final: \" + str(serious_count_final))"
   ]
  },
  {
   "cell_type": "markdown",
   "metadata": {},
   "source": [
    "### Regex Ranges and Search Templates\n",
    "**[a-z][1-9] | [a]{x}**"
   ]
  },
  {
   "cell_type": "markdown",
   "metadata": {},
   "source": [
    "*\"We can indicate that we're looking for integers in a pattern by using square brackets (\"[\" and \"]\"), along with a dash (\"-\"). For example, \"[0-9]\" will match any character that falls between 0 and 9 (all of which will be one-digit integers). Similarly, \"[a-z]\" would match any lowercase letter. We can also specify smaller ranges like \"[3-5]\" or \"[d-g]\"*. (from DQ)"
   ]
  },
  {
   "cell_type": "markdown",
   "metadata": {},
   "source": [
    "Search for 4 digit combinations that are between 1000 and 2999 (i.e., looks like years) using regex expressions:"
   ]
  },
  {
   "cell_type": "code",
   "execution_count": 361,
   "metadata": {},
   "outputs": [
    {
     "name": "stdout",
     "output_type": "stream",
     "text": [
      "[1] strings: ['War of 1812', 'There are 5280 feet to a mile', 'Happy New Year 2016!']\n",
      "[2] strings_with_year: ['War of 1812', 'Happy New Year 2016!']\n"
     ]
    }
   ],
   "source": [
    "import re\n",
    "strings = ['War of 1812', 'There are 5280 feet to a mile', 'Happy New Year 2016!']\n",
    "\n",
    "strings_with_year = []\n",
    "for string in strings:\n",
    "    if re.search(\"[1-2][0-9][0-9][0-9]\", string):\n",
    "        strings_with_year.append(string)\n",
    "\n",
    "print(\"[1] strings: \" + str(strings))        \n",
    "print(\"[2] strings_with_year: \" + str(strings_with_year))"
   ]
  },
  {
   "cell_type": "markdown",
   "metadata": {},
   "source": [
    "Alternative notation with repeat \"{ }\":"
   ]
  },
  {
   "cell_type": "code",
   "execution_count": 362,
   "metadata": {},
   "outputs": [
    {
     "name": "stdout",
     "output_type": "stream",
     "text": [
      "[1] strings_with_year: ['War of 1812', 'Happy New Year 2016!']\n"
     ]
    }
   ],
   "source": [
    "strings = ['War of 1812', 'There are 5280 feet to a mile', 'Happy New Year 2016!']\n",
    "\n",
    "strings_with_year = []\n",
    "for string in strings:\n",
    "    if re.search(\"[1-2][0-9]{3}\", string): #repeat the last statement 3 times\n",
    "        strings_with_year.append(string)\n",
    "print(\"[1] strings_with_year: \" + str(strings_with_year))"
   ]
  },
  {
   "cell_type": "markdown",
   "metadata": {},
   "source": [
    "### Find all Occurences of a String and Return it as a List\n",
    "**re.findall()**"
   ]
  },
  {
   "cell_type": "markdown",
   "metadata": {},
   "source": [
    "**Usage**: <br>\n",
    "re.findall(\"REGEX\", \"TARGET_STRING\")"
   ]
  },
  {
   "cell_type": "code",
   "execution_count": 363,
   "metadata": {},
   "outputs": [
    {
     "data": {
      "text/plain": [
       "['2015', '2016']"
      ]
     },
     "execution_count": 363,
     "metadata": {},
     "output_type": "execute_result"
    }
   ],
   "source": [
    "years_string = \"2015 was a good year, but 2016 will be better!\"\n",
    "\n",
    "re.findall(\"[1-2][0-9]{3}\", years_string)"
   ]
  },
  {
   "cell_type": "markdown",
   "metadata": {},
   "source": [
    "## String Substitution\n",
    "**re.sub()**"
   ]
  },
  {
   "cell_type": "markdown",
   "metadata": {},
   "source": [
    "**Usage**: <br>\n",
    "changed_string = re.sub(\"REGEX_SEARCH_PATTERN\", \"REPLACEMENT_STRING\", \"TARGET_STRING\")\n",
    "\n",
    "- **Regex search pattern**: Search expression, works the same way with 're.search(). ***Regex (and escape character) should be used*** when specifiying the search pattern.\n",
    "- **Replacement string**: String to be injected\n",
    "- **Target string**:  The target string in which the regex search will be performed.\n",
    "\n"
   ]
  },
  {
   "cell_type": "code",
   "execution_count": 364,
   "metadata": {},
   "outputs": [
    {
     "data": {
      "text/plain": [
       "'Hello world'"
      ]
     },
     "execution_count": 364,
     "metadata": {},
     "output_type": "execute_result"
    }
   ],
   "source": [
    "import re\n",
    "re.sub(\"Hi\", \"Hello\", \"Hi world\")"
   ]
  },
  {
   "cell_type": "markdown",
   "metadata": {},
   "source": [
    ".sub() method **does not automatically replace the input variable**; it simply returns a subsituted version of the input variable, and this output should be stored in a new variable: "
   ]
  },
  {
   "cell_type": "code",
   "execution_count": 365,
   "metadata": {},
   "outputs": [
    {
     "name": "stdout",
     "output_type": "stream",
     "text": [
      "[1] my_string is unchanged: Hi world\n",
      "[2] my_string is changed after variable assignment: Hello world\n"
     ]
    }
   ],
   "source": [
    "my_string = \"Hi world\"\n",
    "re.sub(\"Hi\", \"Hello\", my_string)\n",
    "print(\"[1] my_string is unchanged: \" + str(my_string))\n",
    "\n",
    "my_string = re.sub(\"Hi\", \"Hello\", my_string)\n",
    "print(\"[2] my_string is changed after variable assignment: \" + str(my_string))"
   ]
  },
  {
   "cell_type": "markdown",
   "metadata": {},
   "source": [
    "### Substitution with Advanced Regex Search "
   ]
  },
  {
   "cell_type": "code",
   "execution_count": 366,
   "metadata": {},
   "outputs": [
    {
     "name": "stdout",
     "output_type": "stream",
     "text": [
      "[0] string_list: ['[Hello]', '[Hello]', '[Hello]', '[Hello]']\n"
     ]
    }
   ],
   "source": [
    "string_list = [\"[hi]\", \"[Hi]\", \"[hello]\", \"[Hello]\"]\n",
    "\n",
    "string_list_new = []\n",
    "for row in string_list:\n",
    "    string_list_new.append(re.sub(\"\\[[Hh]i\\]|\\[hello\\]\", \"[Hello]\", row))\n",
    "print(\"[0] string_list: \" + str(string_list_new))"
   ]
  },
  {
   "cell_type": "markdown",
   "metadata": {},
   "source": [
    "# ENCODING\n",
    "**.encode | .decode**"
   ]
  },
  {
   "cell_type": "markdown",
   "metadata": {},
   "source": [
    "Encoding: Text to code conversion."
   ]
  },
  {
   "cell_type": "code",
   "execution_count": 367,
   "metadata": {},
   "outputs": [
    {
     "data": {
      "text/plain": [
       "b'mat\\xc3\\xa9'"
      ]
     },
     "execution_count": 367,
     "metadata": {},
     "output_type": "execute_result"
    }
   ],
   "source": [
    "\"maté\".encode(\"utf8\")"
   ]
  },
  {
   "cell_type": "markdown",
   "metadata": {},
   "source": [
    "Decoding: Code to text conversion."
   ]
  },
  {
   "cell_type": "code",
   "execution_count": 368,
   "metadata": {},
   "outputs": [
    {
     "data": {
      "text/plain": [
       "'maté'"
      ]
     },
     "execution_count": 368,
     "metadata": {},
     "output_type": "execute_result"
    }
   ],
   "source": [
    "b'mat\\xc3\\xa9'.decode('utf8')"
   ]
  },
  {
   "cell_type": "code",
   "execution_count": 369,
   "metadata": {},
   "outputs": [
    {
     "data": {
      "text/plain": [
       "4"
      ]
     },
     "execution_count": 369,
     "metadata": {},
     "output_type": "execute_result"
    }
   ],
   "source": [
    "len(\"maté\")"
   ]
  },
  {
   "cell_type": "code",
   "execution_count": 370,
   "metadata": {},
   "outputs": [
    {
     "data": {
      "text/plain": [
       "5"
      ]
     },
     "execution_count": 370,
     "metadata": {},
     "output_type": "execute_result"
    }
   ],
   "source": [
    "len(b'mat\\xc3\\xa9')"
   ]
  },
  {
   "cell_type": "code",
   "execution_count": 371,
   "metadata": {
    "scrolled": true
   },
   "outputs": [
    {
     "name": "stdout",
     "output_type": "stream",
     "text": [
      "The first statement gives an error because it is not possible to find an ascii equivalent of 'é' character\n",
      "\n",
      "mat\n"
     ]
    }
   ],
   "source": [
    "try:\n",
    "    b'mat\\xc3\\xa9'.decode('ascii')\n",
    "except Exception:\n",
    "    print (\"The first statement gives an error because it is not possible to find an ascii equivalent of 'é' character\\n\")\n",
    "\n",
    "    print(b'mat\\xc3\\xa9'.decode('ascii', errors=\"ignore\")) # don't print the trouble character.        "
   ]
  },
  {
   "cell_type": "markdown",
   "metadata": {},
   "source": [
    "### Bytes and Byte Arrays\n",
    "**bytes() | bytearray()**"
   ]
  },
  {
   "cell_type": "code",
   "execution_count": 372,
   "metadata": {},
   "outputs": [
    {
     "name": "stdout",
     "output_type": "stream",
     "text": [
      "b'mat\\xc3\\xa9'\n",
      "bytearray(b'mat\\xc3\\xa9')\n",
      "b'easy bytes creation'\n"
     ]
    }
   ],
   "source": [
    "print( bytes    (\"maté\", encoding=\"utf8\") )\n",
    "print( bytearray(\"maté\", encoding=\"utf8\") )\n",
    "\n",
    "print (b\"easy bytes creation\")"
   ]
  },
  {
   "cell_type": "markdown",
   "metadata": {},
   "source": [
    "Slices of a bytes object or bytearray are also bytes or bytearrays:"
   ]
  },
  {
   "cell_type": "code",
   "execution_count": 373,
   "metadata": {},
   "outputs": [
    {
     "name": "stdout",
     "output_type": "stream",
     "text": [
      "b'mat\\xc3\\xa9'\n",
      "b'ma'\n",
      "b'\\xc3\\xa9'\n",
      "\n",
      "bytearray(b'm')\n",
      "bytearray(b'\\xc3\\xa9')\n"
     ]
    }
   ],
   "source": [
    "print( bytes    (\"maté\", encoding=\"utf8\")      )\n",
    "print( bytes    (\"maté\", encoding=\"utf8\")[:2]  )\n",
    "print( bytes    (\"maté\", encoding=\"utf8\")[3:5] )\n",
    "\n",
    "print(\"\")\n",
    "\n",
    "print( bytearray(\"maté\", encoding=\"utf8\")[:1]  )\n",
    "print( bytearray(\"maté\", encoding=\"utf8\")[3:5] )"
   ]
  },
  {
   "cell_type": "markdown",
   "metadata": {},
   "source": [
    "When sliced addressed individually, bytes and bytearray objects return bytes or bytearrays when a range of values is addressed (e.g., via slicing as in previous example). \n",
    "\n",
    "When addressed individually, however, they return integers."
   ]
  },
  {
   "cell_type": "code",
   "execution_count": 374,
   "metadata": {},
   "outputs": [
    {
     "name": "stdout",
     "output_type": "stream",
     "text": [
      "109\n",
      "169\n",
      "<class 'int'>\n",
      "\n",
      "109\n",
      "<class 'int'>\n"
     ]
    }
   ],
   "source": [
    "print( bytes       (\"maté\", encoding=\"utf8\")[0] )  # returns an integer\n",
    "print( bytes       (\"maté\", encoding=\"utf8\")[4] )  # returns an integer\n",
    "print( type (bytes (\"maté\", encoding=\"utf8\")[0]) )\n",
    "\n",
    "print(\"\")\n",
    "\n",
    "print( bytearray(\"maté\", encoding=\"utf8\")[0] )        # returns an integer\n",
    "print( type (bytearray(\"maté\", encoding=\"utf8\")[0]) )"
   ]
  },
  {
   "cell_type": "markdown",
   "metadata": {},
   "source": [
    "## String and Integer Methods on Bytes and Byte Arrays"
   ]
  },
  {
   "cell_type": "markdown",
   "metadata": {},
   "source": [
    "Applying a string method to bytes object:"
   ]
  },
  {
   "cell_type": "code",
   "execution_count": 375,
   "metadata": {},
   "outputs": [
    {
     "name": "stdout",
     "output_type": "stream",
     "text": [
      "b'mat\\xc3\\xa9'\n",
      "<class 'bytes'> \n",
      "\n",
      "b'MAT\\xc3\\xa9'\n",
      "<class 'bytes'>\n"
     ]
    }
   ],
   "source": [
    "x = \"maté\".encode(\"utf8\", errors=\"ignore\") # this is an implicit way to create a byte object (it is created automatically due to presence of \"é\")\n",
    "print(x)                                   # one can also write   b\"maté\"  (with the 'u' prefix for 'bytes').\n",
    "print(type(x), \"\\n\")\n",
    "\n",
    "print(x.upper()) # string method applies to bytes type object.\n",
    "print(type(x))"
   ]
  },
  {
   "cell_type": "markdown",
   "metadata": {},
   "source": [
    "Applying regex to bytes object:"
   ]
  },
  {
   "cell_type": "code",
   "execution_count": 376,
   "metadata": {},
   "outputs": [
    {
     "name": "stdout",
     "output_type": "stream",
     "text": [
      "<class 'bytes'> [0]\n",
      "\n",
      "Try section did not work.\n",
      "\n",
      "B\n",
      "<class 'str'> [1]\n",
      "\n",
      "até\n",
      "<class 'str'> [2]\n"
     ]
    }
   ],
   "source": [
    "import re\n",
    "\n",
    "x = \"maté\".encode(\"utf8\", errors=\"ignore\")\n",
    "print(type(x), \"[0]\\n\")\n",
    "\n",
    "try:\n",
    "    y = re.sub(\"m\",\"\", x) # causes error because of the 'é' character involved. This character needs to taken care of.\n",
    "\n",
    "except Exception:\n",
    "    print(\"Try section did not work.\\n\")\n",
    "    # Error from the first try due to character encoding problem: 'cannot use a string pattern on a bytes-like object.' \"\n",
    "    \n",
    "    print(y) # SHOULD HAVE PRINTED 'mate', not 'ate'. WHY?\n",
    "    print (type(y), \"[1]\\n\") # THIS SHOWS y AS STRING, WHY?\n",
    "\n",
    "    y = re.sub(\"m\",\"\", x.decode(\"utf\")) \n",
    "    print(y)\n",
    "    print (type(y), \"[2]\")"
   ]
  },
  {
   "cell_type": "markdown",
   "metadata": {},
   "source": [
    "Additional reading on encoding:\n",
    "https://www.safaribooksonline.com/library/view/fluent-python/9781491946237/ch04.html"
   ]
  },
  {
   "cell_type": "markdown",
   "metadata": {},
   "source": [
    "# WORKING WITH TIME"
   ]
  },
  {
   "cell_type": "markdown",
   "metadata": {},
   "source": [
    "## 'time' Module"
   ]
  },
  {
   "cell_type": "markdown",
   "metadata": {},
   "source": [
    "### Unix Timestamps\n",
    "**time.time()**"
   ]
  },
  {
   "cell_type": "markdown",
   "metadata": {},
   "source": [
    "A Unix timestamp is a floating point value with no explicit mention of day, month, or year. This value represents the number of seconds that have passed since the \"epoch\", or the first second of the year 1970. So, a timestamp of 0.0 would represent the epoch, and a timestamp of 60.0 would represent one minute after the epoch. We can represent any date after 1970 this way."
   ]
  },
  {
   "cell_type": "code",
   "execution_count": 377,
   "metadata": {},
   "outputs": [
    {
     "name": "stdout",
     "output_type": "stream",
     "text": [
      "1515521151.9000075\n"
     ]
    }
   ],
   "source": [
    "import time\n",
    "\n",
    "current_time = time.time() # returns numbr of seconds passed since 1970 (current Unix time stamp)\n",
    "print(current_time)"
   ]
  },
  {
   "cell_type": "markdown",
   "metadata": {},
   "source": [
    "### Structured Time\n",
    "**time.gmtime() |time.gmtime().year**  "
   ]
  },
  {
   "cell_type": "code",
   "execution_count": 378,
   "metadata": {},
   "outputs": [
    {
     "data": {
      "text/plain": [
       "time.struct_time(tm_year=2018, tm_mon=1, tm_mday=9, tm_hour=18, tm_min=5, tm_sec=52, tm_wday=1, tm_yday=9, tm_isdst=0)"
      ]
     },
     "execution_count": 378,
     "metadata": {},
     "output_type": "execute_result"
    }
   ],
   "source": [
    "time.gmtime()"
   ]
  },
  {
   "cell_type": "code",
   "execution_count": 379,
   "metadata": {},
   "outputs": [
    {
     "data": {
      "text/plain": [
       "2018"
      ]
     },
     "execution_count": 379,
     "metadata": {},
     "output_type": "execute_result"
    }
   ],
   "source": [
    "time.gmtime().tm_year"
   ]
  },
  {
   "cell_type": "markdown",
   "metadata": {},
   "source": [
    "## 'datetime' Module"
   ]
  },
  {
   "cell_type": "markdown",
   "metadata": {},
   "source": [
    "### Datetime Object Creation and Queries\n",
    "**datetime.datetime()**"
   ]
  },
  {
   "cell_type": "markdown",
   "metadata": {},
   "source": [
    "**Usage**: <br>\n",
    "- **Creation**:<br>\n",
    "datetime.datetime(year = INT, month = INT, ...)\n",
    "\n",
    "\n",
    "- **Query**:<br>\n",
    "datetime.datetime(year = INT, month = INT, ...).ATTR"
   ]
  },
  {
   "cell_type": "markdown",
   "metadata": {},
   "source": [
    "Attributes of 'datetime.datetime' objects:\n",
    "- year\n",
    "- month\n",
    "- day\n",
    "- hour\n",
    "- minute\n",
    "- second\n",
    "- microsecond"
   ]
  },
  {
   "cell_type": "markdown",
   "metadata": {},
   "source": [
    "***Create datetime object with specific date:***"
   ]
  },
  {
   "cell_type": "code",
   "execution_count": 380,
   "metadata": {},
   "outputs": [
    {
     "data": {
      "text/plain": [
       "datetime.datetime(2010, 3, 3, 0, 0)"
      ]
     },
     "execution_count": 380,
     "metadata": {},
     "output_type": "execute_result"
    }
   ],
   "source": [
    "import datetime \n",
    "datetime.datetime(year = 2010, month = 3, day=3)"
   ]
  },
  {
   "cell_type": "code",
   "execution_count": 381,
   "metadata": {},
   "outputs": [
    {
     "data": {
      "text/plain": [
       "[['first', datetime.datetime(2010, 3, 3, 0, 0)],\n",
       " ['second', datetime.datetime(2011, 6, 12, 0, 0)],\n",
       " ['third', datetime.datetime(2011, 4, 30, 0, 0)]]"
      ]
     },
     "execution_count": 381,
     "metadata": {},
     "output_type": "execute_result"
    }
   ],
   "source": [
    "data = [\n",
    "    [\"first\", datetime.datetime(year = 2010, month = 3, day=3)],\n",
    "    [\"second\", datetime.datetime(year = 2011, month = 6, day=12)],\n",
    "    [\"third\", datetime.datetime(year = 2011, month = 4, day=30)]\n",
    "]\n",
    "\n",
    "data"
   ]
  },
  {
   "cell_type": "markdown",
   "metadata": {},
   "source": [
    "***Extract day from a specific date:***"
   ]
  },
  {
   "cell_type": "code",
   "execution_count": 382,
   "metadata": {},
   "outputs": [
    {
     "data": {
      "text/plain": [
       "3"
      ]
     },
     "execution_count": 382,
     "metadata": {},
     "output_type": "execute_result"
    }
   ],
   "source": [
    "datetime.datetime(year = 2010, month = 3, day=3).day"
   ]
  },
  {
   "cell_type": "markdown",
   "metadata": {},
   "source": [
    "***Select cases in dataset:<br>***"
   ]
  },
  {
   "cell_type": "code",
   "execution_count": 383,
   "metadata": {},
   "outputs": [
    {
     "name": "stdout",
     "output_type": "stream",
     "text": [
      "[1] data:\n",
      "[['first', datetime.datetime(2010, 3, 3, 0, 0)], ['second', datetime.datetime(2011, 6, 12, 0, 0)], ['third', datetime.datetime(2011, 4, 30, 0, 0)]]\n",
      "\n",
      "[2] data[0][1]:\n",
      "2010-03-03 00:00:00\n",
      "\n",
      "[1] march_count: 1\n"
     ]
    }
   ],
   "source": [
    "print(\"[1] data:\\n\" + str(data) + \"\\n\")\n",
    "print(\"[2] data[0][1]:\\n\" + str(data[0][1]) + \"\\n\")\n",
    "\n",
    "march_count = 0\n",
    "for row in data:\n",
    "    if row[1].month == 3:\n",
    "        march_count += 1\n",
    "print(\"[1] march_count: \" + str(march_count))"
   ]
  },
  {
   "cell_type": "markdown",
   "metadata": {},
   "source": [
    "***Get current date-time***:"
   ]
  },
  {
   "cell_type": "code",
   "execution_count": 384,
   "metadata": {},
   "outputs": [
    {
     "data": {
      "text/plain": [
       "datetime.datetime(2018, 1, 9, 19, 5, 57, 732398)"
      ]
     },
     "execution_count": 384,
     "metadata": {},
     "output_type": "execute_result"
    }
   ],
   "source": [
    "import datetime\n",
    "datetime.datetime.now()"
   ]
  },
  {
   "cell_type": "markdown",
   "metadata": {},
   "source": [
    "***Get current year***:"
   ]
  },
  {
   "cell_type": "code",
   "execution_count": 385,
   "metadata": {},
   "outputs": [
    {
     "data": {
      "text/plain": [
       "2018"
      ]
     },
     "execution_count": 385,
     "metadata": {},
     "output_type": "execute_result"
    }
   ],
   "source": [
    "datetime.datetime.now().year"
   ]
  },
  {
   "cell_type": "markdown",
   "metadata": {},
   "source": [
    "### Calculating Time Differences with 'timedelta' Class\n",
    "**datetime.timedelta()**"
   ]
  },
  {
   "cell_type": "markdown",
   "metadata": {},
   "source": [
    "For calculating differences between dates."
   ]
  },
  {
   "cell_type": "markdown",
   "metadata": {},
   "source": [
    "**Usage**:\n",
    "    - **Creation**: <br> \n",
    "    DIFF_VAR = datetime.timedelta(years=INT, months=INT, days=INT, ...)\n",
    "    - **Calculaton**: <br>\n",
    "    CALCULATED_TIME = DATETIME_OBJ +- DIFF_VAR "
   ]
  },
  {
   "cell_type": "markdown",
   "metadata": {},
   "source": [
    "Attributes of datetime.timedelta() class:\n",
    "- years [?]\n",
    "- months [?]\n",
    "- weeks\n",
    "- days\n",
    "- hours\n",
    "- minutes\n",
    "- seconds\n",
    "- milliseconds\n",
    "- microseconds"
   ]
  },
  {
   "cell_type": "markdown",
   "metadata": {},
   "source": [
    "***Find difference between today and another date:***"
   ]
  },
  {
   "cell_type": "code",
   "execution_count": 386,
   "metadata": {},
   "outputs": [
    {
     "name": "stdout",
     "output_type": "stream",
     "text": [
      "2018-02-15 19:06:01.068562\n"
     ]
    }
   ],
   "source": [
    "import datetime\n",
    "\n",
    "today = datetime.datetime.now()\n",
    "diff = datetime.timedelta(weeks = 5, days = 2)\n",
    "result = today + diff\n",
    "\n",
    "print(result)"
   ]
  },
  {
   "cell_type": "markdown",
   "metadata": {},
   "source": [
    "### Building Strings that Express Dates with 'strftime' Class\n",
    "datetime.datetime.strftime()"
   ]
  },
  {
   "cell_type": "markdown",
   "metadata": {},
   "source": [
    "**Meaning:**<br>\n",
    "strftime: STRing-Format-Time\n",
    "\n",
    "**Usage:**<br>\n",
    "DATETIME_OBJECT.strftime(STRING_TEMPLATE)"
   ]
  },
  {
   "cell_type": "markdown",
   "metadata": {},
   "source": [
    "***Transform datetime object to custom formatted string:***"
   ]
  },
  {
   "cell_type": "code",
   "execution_count": 387,
   "metadata": {},
   "outputs": [
    {
     "data": {
      "text/plain": [
       "'12:00AM on Thursday December 31, 2015'"
      ]
     },
     "execution_count": 387,
     "metadata": {},
     "output_type": "execute_result"
    }
   ],
   "source": [
    "import datetime\n",
    "datetime.datetime(2015, 12, 31, 0, 0).strftime(\"%I:%M%p on %A %B %d, %Y\")"
   ]
  },
  {
   "cell_type": "markdown",
   "metadata": {},
   "source": [
    "Full list of string arguments for datetime: <br> https://docs.python.org/3/library/datetime.html#strftime-and-strptime-behavior"
   ]
  },
  {
   "cell_type": "markdown",
   "metadata": {},
   "source": [
    "***Shorten long microseconds:***"
   ]
  },
  {
   "cell_type": "code",
   "execution_count": 388,
   "metadata": {},
   "outputs": [
    {
     "name": "stdout",
     "output_type": "stream",
     "text": [
      "long 999999\n",
      "short 999\n"
     ]
    }
   ],
   "source": [
    "long_microseconds = datetime.datetime(2015, 12, 31, 23, 59, 12, 999999).strftime(\"%f\")\n",
    "print(\"long\", long_microseconds)\n",
    "\n",
    "short_microseconds = datetime.datetime(2015, 12, 31, 23, 59, 12, 999999).strftime(\"%f\")[:-3]\n",
    "print(\"short\", short_microseconds)"
   ]
  },
  {
   "cell_type": "markdown",
   "metadata": {},
   "source": [
    "### Parsing a 'datetime' Object from a String\n",
    "**datetime.datetime.strptime()**"
   ]
  },
  {
   "cell_type": "markdown",
   "metadata": {},
   "source": [
    "**Meaning:**<br>\n",
    "strptime: STRing-Parse-TIME"
   ]
  },
  {
   "cell_type": "markdown",
   "metadata": {},
   "source": [
    "**Usage:**<br>\n",
    "     datetime.datetime.strptime(\"STRING\", \"TEMPLATE\")"
   ]
  },
  {
   "cell_type": "code",
   "execution_count": 389,
   "metadata": {},
   "outputs": [
    {
     "data": {
      "text/plain": [
       "datetime.datetime(2010, 3, 3, 0, 0)"
      ]
     },
     "execution_count": 389,
     "metadata": {},
     "output_type": "execute_result"
    }
   ],
   "source": [
    "datetime.datetime.strptime(\"Mar 03, 2010\", \"%b %d, %Y\")"
   ]
  },
  {
   "cell_type": "markdown",
   "metadata": {},
   "source": [
    "### Conversion from Unix Timestamp to 'datetime' Object \n",
    "**datetime.datetime.fromtimestamp()**"
   ]
  },
  {
   "cell_type": "markdown",
   "metadata": {},
   "source": [
    "**Usage:**<br>\n",
    "datetime.datetime.fromtimestamp(FLOAT_UNIX_TIME_STAMP)"
   ]
  },
  {
   "cell_type": "code",
   "execution_count": 390,
   "metadata": {},
   "outputs": [
    {
     "data": {
      "text/plain": [
       "datetime.datetime(2015, 6, 2, 4, 48, 34)"
      ]
     },
     "execution_count": 390,
     "metadata": {},
     "output_type": "execute_result"
    }
   ],
   "source": [
    "datetime.datetime.fromtimestamp(1433213314.0)"
   ]
  },
  {
   "cell_type": "code",
   "execution_count": 460,
   "metadata": {},
   "outputs": [
    {
     "name": "stdout",
     "output_type": "stream",
     "text": [
      "[1] an example time stamp in the 'data' is: 1433213314.0\n",
      "\n",
      "[2] an example time stamp in the updated data is: 2015-06-02 04:48:34\n",
      "\n",
      "[3] updated data is: \n",
      "[['What\\'s your internet \"white whale\", something you\\'ve been searching for years to find with no luck?', '11510', datetime.datetime(2015, 6, 2, 4, 48, 34), '1', '26195'], [\"What's your favorite video that is 10 seconds or less?\", '8656', datetime.datetime(2015, 6, 13, 16, 25, 17), '4', '8479']]\n",
      "...\n",
      "\n"
     ]
    }
   ],
   "source": [
    "import csv\n",
    "import datetime\n",
    "data = list(csv.reader(open(\"test_data//askreddit_2015.csv\", encoding=\"utf8\")))\n",
    "\n",
    "data = data[1:len(data)]\n",
    "print(\"[1] an example time stamp in the 'data' is: \" + str(data[0][2]) + \"\\n\")\n",
    "\n",
    "\n",
    "for row in data:\n",
    "    row[2] = float(row[2])\n",
    "    row[2] = datetime.datetime.fromtimestamp(row[2])\n",
    "\n",
    "print(\"[2] an example time stamp in the updated data is: \" + str(data[0][2]) + \"\\n\")\n",
    "print(\"[3] updated data is: \\n\" + str(data[0:2]) + \"\\n\" + \"...\" + \"\\n\")"
   ]
  },
  {
   "cell_type": "markdown",
   "metadata": {},
   "source": [
    "# NUMPY "
   ]
  },
  {
   "cell_type": "markdown",
   "metadata": {},
   "source": [
    "## Importing Data into a numpy Array\n"
   ]
  },
  {
   "cell_type": "markdown",
   "metadata": {},
   "source": [
    "- A numpy array can only contain one type of variable (e.g., str or int)\n",
    "- While creating arrays, numpy assumes that data consists of floating point values (float). Thus, it shoul be specified what the data type (dtype) is.\n",
    "    - There are codes for this:\n",
    "        - 'Float64'   : 64-bit floating-point number\n",
    "        - 'uint32'    : 32-bit unsigned integer \n",
    "        - 'U75'       : 75 byte unicode data type\n",
    "        - (str, 35)   : 35-character string\n",
    "        - ('U', 10)   : 10-character unicode string"
   ]
  },
  {
   "cell_type": "code",
   "execution_count": 463,
   "metadata": {
    "collapsed": true
   },
   "outputs": [],
   "source": [
    "import numpy\n",
    "\n",
    "my_data = numpy.genfromtxt(\"test_data//world_alcohol.csv\", delimiter = \",\" , dtype=\"U75\", skip_header=1)"
   ]
  },
  {
   "cell_type": "code",
   "execution_count": 464,
   "metadata": {
    "scrolled": false
   },
   "outputs": [
    {
     "name": "stdout",
     "output_type": "stream",
     "text": [
      "[['1986' 'Western Pacific' 'Viet Nam' 'Wine' '0']\n",
      " ['1986' 'Americas' 'Uruguay' 'Other' '0.5']\n",
      " ['1985' 'Africa' \"Cte d'Ivoire\" 'Wine' '1.62']\n",
      " ..., \n",
      " ['1986' 'Europe' 'Switzerland' 'Spirits' '2.54']\n",
      " ['1987' 'Western Pacific' 'Papua New Guinea' 'Other' '0']\n",
      " ['1986' 'Africa' 'Swaziland' 'Other' '5.15']]\n"
     ]
    }
   ],
   "source": [
    "print(my_data)"
   ]
  },
  {
   "cell_type": "markdown",
   "metadata": {},
   "source": [
    "## Creating numpy Arrays"
   ]
  },
  {
   "cell_type": "code",
   "execution_count": 465,
   "metadata": {
    "scrolled": true
   },
   "outputs": [
    {
     "name": "stdout",
     "output_type": "stream",
     "text": [
      "[10 20 30]\n",
      "\n",
      "[[ 1  2  3]\n",
      " [10 20 30]]\n"
     ]
    }
   ],
   "source": [
    "my_vector = numpy.array([10, 20, 30])\n",
    "my_matrix = numpy.array([[1, 2, 3], [10, 20, 30]])\n",
    "\n",
    "print(my_vector)\n",
    "print(\"\")\n",
    "print(my_matrix)"
   ]
  },
  {
   "cell_type": "markdown",
   "metadata": {},
   "source": [
    "## Queries on a numpy Array"
   ]
  },
  {
   "cell_type": "markdown",
   "metadata": {},
   "source": [
    "### Array Dimensions\n",
    "**.shape**"
   ]
  },
  {
   "cell_type": "code",
   "execution_count": 466,
   "metadata": {},
   "outputs": [
    {
     "name": "stdout",
     "output_type": "stream",
     "text": [
      "(3,)\n",
      "(2, 3)\n"
     ]
    }
   ],
   "source": [
    "my_vector = numpy.array([10, 20, 30])\n",
    "my_matrix = numpy.array([[1, 2, 3], [10, 20, 30]])\n",
    "\n",
    "print(my_vector.shape)\n",
    "print(my_matrix.shape)"
   ]
  },
  {
   "cell_type": "markdown",
   "metadata": {},
   "source": [
    "### Array Type\n",
    "**.dtype**"
   ]
  },
  {
   "cell_type": "code",
   "execution_count": 467,
   "metadata": {},
   "outputs": [
    {
     "data": {
      "text/plain": [
       "dtype('int32')"
      ]
     },
     "execution_count": 467,
     "metadata": {},
     "output_type": "execute_result"
    }
   ],
   "source": [
    "my_matrix.dtype"
   ]
  },
  {
   "cell_type": "markdown",
   "metadata": {},
   "source": [
    "## Indexing and Slicing numpy Arrays\n",
    "**[x,y] | [:, y] | [a:b,x:y] | [:,x:y]**"
   ]
  },
  {
   "cell_type": "markdown",
   "metadata": {},
   "source": [
    "See [Indexing with numpy](#indexing-with-numpy) section."
   ]
  },
  {
   "cell_type": "markdown",
   "metadata": {},
   "source": [
    "# Docstrings"
   ]
  },
  {
   "cell_type": "markdown",
   "metadata": {},
   "source": [
    "A good and compehensive docstring usage example from https://thomas-cokelaer.info/tutorials/sphinx/docstring_python.html "
   ]
  },
  {
   "cell_type": "code",
   "execution_count": 468,
   "metadata": {},
   "outputs": [
    {
     "name": "stdout",
     "output_type": "stream",
     "text": [
      "**********************************************************************\n",
      "File \"__main__\", line 104, in __main__.MainClass1.function1\n",
      "Failed example:\n",
      "    import template\n",
      "Exception raised:\n",
      "    Traceback (most recent call last):\n",
      "      File \"C:\\ProgramData\\Anaconda3\\lib\\doctest.py\", line 1330, in __run\n",
      "        compileflags, 1), test.globs)\n",
      "      File \"<doctest __main__.MainClass1.function1[0]>\", line 1, in <module>\n",
      "        import template\n",
      "    ModuleNotFoundError: No module named 'template'\n",
      "**********************************************************************\n",
      "File \"__main__\", line 105, in __main__.MainClass1.function1\n",
      "Failed example:\n",
      "    a = template.MainClass1()\n",
      "Exception raised:\n",
      "    Traceback (most recent call last):\n",
      "      File \"C:\\ProgramData\\Anaconda3\\lib\\doctest.py\", line 1330, in __run\n",
      "        compileflags, 1), test.globs)\n",
      "      File \"<doctest __main__.MainClass1.function1[1]>\", line 1, in <module>\n",
      "        a = template.MainClass1()\n",
      "    NameError: name 'template' is not defined\n",
      "**********************************************************************\n",
      "File \"__main__\", line 106, in __main__.MainClass1.function1\n",
      "Failed example:\n",
      "    a.function1(1,1,1)\n",
      "Exception raised:\n",
      "    Traceback (most recent call last):\n",
      "      File \"C:\\ProgramData\\Anaconda3\\lib\\doctest.py\", line 1330, in __run\n",
      "        compileflags, 1), test.globs)\n",
      "      File \"<doctest __main__.MainClass1.function1[2]>\", line 1, in <module>\n",
      "        a.function1(1,1,1)\n",
      "    AttributeError: 'list' object has no attribute 'function1'\n",
      "**********************************************************************\n",
      "1 items had failures:\n",
      "   3 of   3 in __main__.MainClass1.function1\n",
      "***Test Failed*** 3 failures.\n"
     ]
    }
   ],
   "source": [
    "\"\"\"This module illustrates how to write your docstring in OpenAlea\n",
    "and other projects related to OpenAlea.\"\"\"\n",
    "\n",
    "__license__ = \"Cecill-C\"\n",
    "__revision__ = \" $Id: actor.py 1586 2009-01-30 15:56:25Z cokelaer $ \"\n",
    "__docformat__ = 'reStructuredText'\n",
    "\n",
    "\n",
    "class MainClass1(object):\n",
    "    \"\"\"This class docstring shows how to use sphinx and rst syntax\n",
    "\n",
    "    The first line is brief explanation, which may be completed with \n",
    "    a longer one. For instance to discuss about its methods. The only\n",
    "    method here is :func:`function1`'s. The main idea is to document\n",
    "    the class and methods's arguments with \n",
    "\n",
    "    - **parameters**, **types**, **return** and **return types**::\n",
    "\n",
    "          :param arg1: description\n",
    "          :param arg2: description\n",
    "          :type arg1: type description\n",
    "          :type arg1: type description\n",
    "          :return: return description\n",
    "          :rtype: the return type description\n",
    "\n",
    "    - and to provide sections such as **Example** using the double commas syntax::\n",
    "\n",
    "          :Example:\n",
    "\n",
    "          followed by a blank line !\n",
    "\n",
    "      which appears as follow:\n",
    "\n",
    "      :Example:\n",
    "\n",
    "      followed by a blank line\n",
    "\n",
    "    - Finally special sections such as **See Also**, **Warnings**, **Notes**\n",
    "      use the sphinx syntax (*paragraph directives*)::\n",
    "\n",
    "          .. seealso:: blabla\n",
    "          .. warnings also:: blabla\n",
    "          .. note:: blabla\n",
    "          .. todo:: blabla\n",
    "\n",
    "    .. note::\n",
    "        There are many other Info fields but they may be redundant:\n",
    "            * param, parameter, arg, argument, key, keyword: Description of a\n",
    "              parameter.\n",
    "            * type: Type of a parameter.\n",
    "            * raises, raise, except, exception: That (and when) a specific\n",
    "              exception is raised.\n",
    "            * var, ivar, cvar: Description of a variable.\n",
    "            * returns, return: Description of the return value.\n",
    "            * rtype: Return type.\n",
    "\n",
    "    .. note::\n",
    "        There are many other directives such as versionadded, versionchanged,\n",
    "        rubric, centered, ... See the sphinx documentation for more details.\n",
    "\n",
    "    Here below is the results of the :func:`function1` docstring.\n",
    "\n",
    "    \"\"\"\n",
    "\n",
    "    def function1(self, arg1, arg2, arg3):\n",
    "        \"\"\"returns (arg1 / arg2) + arg3\n",
    "\n",
    "        This is a longer explanation, which may include math with latex syntax\n",
    "        :math:`\\\\alpha`.\n",
    "        Then, you need to provide optional subsection in this order (just to be\n",
    "        consistent and have a uniform documentation. Nothing prevent you to\n",
    "        switch the order):\n",
    "\n",
    "          - parameters using ``:param <name>: <description>``\n",
    "          - type of the parameters ``:type <name>: <description>``\n",
    "          - returns using ``:returns: <description>``\n",
    "          - examples (doctest)\n",
    "          - seealso using ``.. seealso:: text``\n",
    "          - notes using ``.. note:: text``\n",
    "          - warning using ``.. warning:: text``\n",
    "          - todo ``.. todo:: text``\n",
    "\n",
    "        **Advantages**:\n",
    "         - Uses sphinx markups, which will certainly be improved in future\n",
    "           version\n",
    "         - Nice HTML output with the See Also, Note, Warnings directives\n",
    "\n",
    "\n",
    "        **Drawbacks**:\n",
    "         - Just looking at the docstring, the parameter, type and  return\n",
    "           sections do not appear nicely\n",
    "\n",
    "        :param arg1: the first value\n",
    "        :param arg2: the first value\n",
    "        :param arg3: the first value\n",
    "        :type arg1: int, float,...\n",
    "        :type arg2: int, float,...\n",
    "        :type arg3: int, float,...\n",
    "        :returns: arg1/arg2 +arg3\n",
    "        :rtype: int, float\n",
    "\n",
    "        :Example:\n",
    "\n",
    "        >>> import template\n",
    "        >>> a = template.MainClass1()\n",
    "        >>> a.function1(1,1,1)\n",
    "        2\n",
    "\n",
    "        .. note:: can be useful to emphasize\n",
    "            important feature\n",
    "        .. seealso:: :class:`MainClass2`\n",
    "        .. warning:: arg2 must be non-zero.\n",
    "        .. todo:: check that arg2 is non zero.\n",
    "        \"\"\"\n",
    "        return arg1/arg2 + arg3\n",
    "\n",
    "\n",
    "\n",
    "\n",
    "if __name__ == \"__main__\":\n",
    "    import doctest\n",
    "    doctest.testmod()"
   ]
  },
  {
   "cell_type": "markdown",
   "metadata": {},
   "source": [
    "# pyCharm "
   ]
  },
  {
   "cell_type": "markdown",
   "metadata": {},
   "source": [
    "- ALT+SHIFT+E (Run in console)\n",
    "- CTRL+Lclick a variable or function to go to its first relevant occurence (if element clicked is placed later than the original), or see all cases where a variable is used (if element clicked is the first occurence)\n",
    "- Set multiple cursors in the editor area: Alt + Mouse Click. Note that on some systems you also have to use Shift with the shortcuts mentioned.\n",
    "- Select/unselect the next occurrence: Alt + J / Shift + Alt + J \n",
    "- Select all occurrences: Shift + Ctrl + Alt + J \n",
    "- Live templates\n",
    "- Installing packages: Project interpreter\n",
    "\n",
    "- ALT + Enter: Apply suggested fix"
   ]
  },
  {
   "cell_type": "markdown",
   "metadata": {},
   "source": [
    "# TO BE ADDED"
   ]
  },
  {
   "cell_type": "code",
   "execution_count": 184,
   "metadata": {
    "collapsed": true
   },
   "outputs": [
    {
     "ename": "SyntaxError",
     "evalue": "invalid syntax (<ipython-input-184-65a4d5a0d340>, line 1)",
     "output_type": "error",
     "traceback": [
      "\u001b[0;36m  File \u001b[0;32m\"<ipython-input-184-65a4d5a0d340>\"\u001b[0;36m, line \u001b[0;32m1\u001b[0m\n\u001b[0;31m    ----\u001b[0m\n\u001b[0m        ^\u001b[0m\n\u001b[0;31mSyntaxError\u001b[0m\u001b[0;31m:\u001b[0m invalid syntax\n"
     ]
    }
   ],
   "source": [
    "----\n",
    "NaN \n",
    "float(\"NaN\")\n",
    "decimal(\"NaN\")\n",
    "\n",
    "\n",
    "NaT\n",
    "import pandas\n",
    "pandas.NaT\n",
    "\n",
    "float(\"NaN\") == float(\"NaN\")\n",
    "import pandas\n",
    "pandas.NaT == pandas.NaT\n",
    "----"
   ]
  },
  {
   "cell_type": "code",
   "execution_count": 185,
   "metadata": {
    "collapsed": true
   },
   "outputs": [
    {
     "ename": "SyntaxError",
     "evalue": "unexpected EOF while parsing (<ipython-input-185-a8b08ca65b2f>, line 1)",
     "output_type": "error",
     "traceback": [
      "\u001b[0;36m  File \u001b[0;32m\"<ipython-input-185-a8b08ca65b2f>\"\u001b[0;36m, line \u001b[0;32m1\u001b[0m\n\u001b[0;31m    for i, each_bed_plan, each_bed_time in zip(range(0, len(bed_times)), bed_plans, bed_times):\u001b[0m\n\u001b[0m                                                                                               ^\u001b[0m\n\u001b[0;31mSyntaxError\u001b[0m\u001b[0;31m:\u001b[0m unexpected EOF while parsing\n"
     ]
    }
   ],
   "source": [
    "for i, each_bed_plan, each_bed_time in zip(range(0, len(bed_times)), bed_plans, bed_times):"
   ]
  }
 ],
 "metadata": {
  "kernelspec": {
   "display_name": "Python 3",
   "language": "python",
   "name": "python3"
  },
  "language_info": {
   "codemirror_mode": {
    "name": "ipython",
    "version": 3
   },
   "file_extension": ".py",
   "mimetype": "text/x-python",
   "name": "python",
   "nbconvert_exporter": "python",
   "pygments_lexer": "ipython3",
   "version": "3.6.1"
  }
 },
 "nbformat": 4,
 "nbformat_minor": 1
}
